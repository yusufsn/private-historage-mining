{
 "cells": [
  {
   "cell_type": "markdown",
   "metadata": {},
   "source": [
    "# Finding versions from website"
   ]
  },
  {
   "cell_type": "code",
   "execution_count": 2,
   "metadata": {
    "collapsed": true
   },
   "outputs": [],
   "source": [
    "import sys, os, re, csv, subprocess, operator\n",
    "import pandas as pd\n",
    "from urllib.request import urlopen\n",
    "import urllib.request\n",
    "from pprint import pprint\n",
    "from bs4 import BeautifulSoup"
   ]
  },
  {
   "cell_type": "markdown",
   "metadata": {},
   "source": [
    "# Defining repository"
   ]
  },
  {
   "cell_type": "code",
   "execution_count": 3,
   "metadata": {},
   "outputs": [],
   "source": [
    "userhome = os.path.expanduser(\"~\")\n",
    "repository = userhome + r\"/historage-mining/historage/hbase/\""
   ]
  },
  {
   "cell_type": "markdown",
   "metadata": {},
   "source": [
    "# Load textfile contains bug-links"
   ]
  },
  {
   "cell_type": "code",
   "execution_count": 4,
   "metadata": {},
   "outputs": [
    {
     "name": "stdout",
     "output_type": "stream",
     "text": [
      "Found 6 bug_links\n"
     ]
    }
   ],
   "source": [
    "txt_file = open(\"bug_links.txt\", \"r\")\n",
    "bug_links = txt_file.read().split('\\n')\n",
    "print (\"Found \" + str(len(bug_links)) + \" bug_links\")"
   ]
  },
  {
   "cell_type": "code",
   "execution_count": 5,
   "metadata": {},
   "outputs": [
    {
     "data": {
      "text/plain": [
       "['HBASE-9426',\n",
       " 'HBASE-5209',\n",
       " 'HBASE-15467',\n",
       " 'HBASE-13686',\n",
       " 'HBASE-10598',\n",
       " 'HBASE-10569']"
      ]
     },
     "execution_count": 5,
     "metadata": {},
     "output_type": "execute_result"
    }
   ],
   "source": [
    "bug_links"
   ]
  },
  {
   "cell_type": "markdown",
   "metadata": {},
   "source": [
    "# Finding affected versions by bug links"
   ]
  },
  {
   "cell_type": "code",
   "execution_count": 6,
   "metadata": {},
   "outputs": [
    {
     "name": "stdout",
     "output_type": "stream",
     "text": [
      "Extracting: HBASE-10569\n",
      "Extraction has been completed.\n"
     ]
    }
   ],
   "source": [
    "affected_version = []\n",
    "for a,b in enumerate(bug_links):\n",
    "    link = \"https://issues.apache.org/jira/browse/\" + bug_links[a]\n",
    "    sys.stdout.write(\"\\rExtracting: \" + bug_links[a])\n",
    "    sys.stdout.flush()\n",
    "    page = urllib.request.urlopen(link)\n",
    "    soup = BeautifulSoup(page, 'html.parser')\n",
    "    aff_version = soup.find('span', attrs={'id':'versions-val'}).text.replace(\"\\n\",'').replace(\" \",'').split(\",\")\n",
    "    aff_version = sorted(aff_version)\n",
    "    aff_version.insert(0, bug_links[a])\n",
    "    affected_version.append(aff_version)\n",
    "\n",
    "print(\"\\nExtraction has been completed.\")"
   ]
  },
  {
   "cell_type": "code",
   "execution_count": 7,
   "metadata": {},
   "outputs": [
    {
     "name": "stdout",
     "output_type": "stream",
     "text": [
      "['HBASE-9426', '0.94.11', '0.95.2']\n",
      "['HBASE-5209', '0.90.5', '0.92.0', '0.94.0']\n",
      "['HBASE-15467', '2.0.0']\n",
      "['HBASE-13686', '1.1.0', '2.0.0']\n",
      "['HBASE-10598', '0.94.16']\n",
      "['HBASE-10569', 'None']\n"
     ]
    }
   ],
   "source": [
    "for itemaff in affected_version:\n",
    "    print (itemaff)"
   ]
  },
  {
   "cell_type": "code",
   "execution_count": 8,
   "metadata": {},
   "outputs": [
    {
     "name": "stdout",
     "output_type": "stream",
     "text": [
      "['HBASE-9426', '0.94.11']\n",
      "['HBASE-5209', '0.90.5']\n",
      "['HBASE-15467', '2.0.0']\n",
      "['HBASE-13686', '1.1.0']\n",
      "['HBASE-10598', '0.94.16']\n",
      "['HBASE-10569', 'None']\n"
     ]
    }
   ],
   "source": [
    "#Finding the earliest version affected by the bug\n",
    "earliest_version = []\n",
    "for num, affver in enumerate(affected_version):\n",
    "    earliest_version.append(affver[:2])\n",
    "\n",
    "for early in earliest_version:\n",
    "    print (early)"
   ]
  },
  {
   "cell_type": "markdown",
   "metadata": {},
   "source": [
    "# Defining the function for git command "
   ]
  },
  {
   "cell_type": "code",
   "execution_count": 9,
   "metadata": {
    "collapsed": true
   },
   "outputs": [],
   "source": [
    "def execute_command(cmd, work_dir):\n",
    "    #Executes a shell command in a subprocess, waiting until it has completed.\n",
    "    pipe = subprocess.Popen(cmd, shell=True, cwd=work_dir, stdout=subprocess.PIPE, stderr=subprocess.PIPE)\n",
    "    (out, error) = pipe.communicate()\n",
    "    return out, error\n",
    "    pipe.wait()"
   ]
  },
  {
   "cell_type": "markdown",
   "metadata": {},
   "source": [
    "# Finding the versions related with earliest version"
   ]
  },
  {
   "cell_type": "code",
   "execution_count": 10,
   "metadata": {},
   "outputs": [
    {
     "name": "stdout",
     "output_type": "stream",
     "text": [
      "['HBASE-9426', '0.94.11', '0.94.11RC0', '0.94.11mvn', '0.94.11mvn2']\n",
      "['HBASE-5209', '0.90.5', '0.90.5RC0', '0.90.5mvn', '0.90.5mvn2']\n",
      "['HBASE-15467', '2.0.0-alpha-1RC0', '2.0.0-alpha-2RC0', '2.0.0-alpha-3RC0', '2.0.0-alpha-3RC0.2', '2.0.0-alpha4RC0', '2.0.0-beta-1-RC0', '2.0.0-beta-1-RC0.2', '2.0.0-beta-1-RC1', '2.0.0-beta-1-RC1.2', '2.0.0-beta-1-RC1.3', '2.0.0-beta-1-RC1.4', '2.0.0-beta-1-RC1.5', '2.0.0-beta-1-RC1.6', '2.0.0-beta-1-RC1.7']\n",
      "['HBASE-13686', '1.1.0', '1.1.0-SNAPSHOT-testing', '1.1.0.1', '1.1.0.1RC0', '1.1.0RC0', '1.1.0RC1', '1.1.0RC2']\n",
      "['HBASE-10598', '0.94.16', '0.94.16RC0', '0.94.16mvn', '0.94.16mvn2']\n",
      "['HBASE-10569', 'None']\n"
     ]
    }
   ],
   "source": [
    "related_version = []\n",
    "for n, item in enumerate(earliest_version):\n",
    "    if item[1] != \"None\":\n",
    "        git_cmd = 'git tag -l \"' + item[1] + '*\"'\n",
    "        temp = str(execute_command(git_cmd, repository)).replace(\"b'\",'').replace(\"(\",'').replace(\")\",'').split(\"\\\\n\")\n",
    "        del temp[len(temp)-1]\n",
    "    else:\n",
    "        temp = ['None']\n",
    "    temp.insert(0, item[0])\n",
    "    related_version.append(temp)\n",
    "\n",
    "for xx in related_version:\n",
    "    print (xx)"
   ]
  },
  {
   "cell_type": "markdown",
   "metadata": {},
   "source": [
    "# Finding the date release for affected version"
   ]
  },
  {
   "cell_type": "code",
   "execution_count": 17,
   "metadata": {},
   "outputs": [
    {
     "name": "stdout",
     "output_type": "stream",
     "text": [
      "['HBASE-9426', '0.94.11RC0', '2013-08-13', '23:48:11', '+0000']\n",
      "['HBASE-9426', '0.94.11', '2013-08-20', '23:34:48', '+0000']\n",
      "['HBASE-9426', '0.94.11mvn', '2013-08-20', '23:50:17', '+0000']\n",
      "['HBASE-9426', '0.94.11mvn2', '2013-08-20', '23:50:15', '+0000']\n",
      "['HBASE-5209', '0.90.5RC0', '2011-12-09', '20:01:31', '+0000']\n",
      "['HBASE-5209', '0.90.5', '2011-12-23', '04:12:21', '+0000']\n",
      "['HBASE-5209', '0.90.5mvn', '2012-01-03', '17:25:49', '+0000']\n",
      "['HBASE-5209', '0.90.5mvn2', '2012-01-03', '17:25:46', '+0000']\n",
      "['HBASE-15467', '2.0.0-alpha-1RC0', '2017-06-07', '14:29:19', '-0500']\n",
      "['HBASE-15467', '2.0.0-alpha-2RC0', '2017-08-02', '22:54:21', '-0700']\n",
      "['HBASE-15467', '2.0.0-alpha-3RC0', '2017-09-14', '17:20:59', '-0700']\n",
      "['HBASE-15467', '2.0.0-alpha-3RC0.2', '2017-09-15', '16:35:21', '+0800']\n",
      "['HBASE-15467', '2.0.0-alpha4RC0', '2017-10-31', '10:08:53', '-0700']\n",
      "['HBASE-15467', '2.0.0-beta-1-RC0', '2017-12-28', '22:44:06', '+0200']\n",
      "['HBASE-15467', '2.0.0-beta-1-RC0.2', '2017-12-29', '08:27:08', '-0800']\n",
      "['HBASE-15467', '2.0.0-beta-1-RC1.2', '2017-12-29', '08:27:08', '-0800']\n",
      "['HBASE-15467', '2.0.0-beta-1-RC1', '2018-01-05', '08:31:07', '-0600']\n",
      "['HBASE-15467', '2.0.0-beta-1-RC1.3', '2018-01-05', '18:13:54', '-0500']\n",
      "['HBASE-15467', '2.0.0-beta-1-RC1.4', '2018-01-06', '08:51:19', '-0600']\n",
      "['HBASE-15467', '2.0.0-beta-1-RC1.5', '2018-01-08', '16:18:30', '+0800']\n",
      "['HBASE-15467', '2.0.0-beta-1-RC1.6', '2018-01-11', '15:03:20', '-0800']\n",
      "['HBASE-15467', '2.0.0-beta-1-RC1.7', '2018-01-12', '13:39:32', '-0800']\n",
      "['HBASE-13686', '1.1.0-SNAPSHOT-testing', '2015-04-29', '12:32:45', '-0700']\n",
      "['HBASE-13686', '1.1.0RC0', '2015-04-29', '14:35:27', '-0700']\n",
      "['HBASE-13686', '1.1.0', '2015-05-11', '18:33:44', '-0700']\n",
      "['HBASE-13686', '1.1.0RC1', '2015-05-11', '21:11:11', '-0700']\n",
      "['HBASE-13686', '1.1.0RC2', '2015-05-11', '18:33:44', '-0700']\n",
      "['HBASE-13686', '1.1.0.1', '2015-05-17', '12:01:30', '-0700']\n",
      "['HBASE-13686', '1.1.0.1RC0', '2015-05-17', '12:01:30', '-0700']\n",
      "['HBASE-10598', '0.94.16RC0', '2014-01-10', '20:06:26', '+0000']\n",
      "['HBASE-10598', '0.94.16', '2014-01-20', '21:55:46', '+0000']\n",
      "['HBASE-10598', '0.94.16mvn', '2014-01-21', '01:23:45', '+0000']\n",
      "['HBASE-10598', '0.94.16mvn2', '2014-01-21', '01:23:43', '+0000']\n",
      "['HBASE-10569', 'None']\n"
     ]
    }
   ],
   "source": [
    "date_release = []\n",
    "for n, item in enumerate(related_version):\n",
    "    if item[1] != \"None\":\n",
    "        for m in range(1, len(item)):\n",
    "            git_cmd = \"git log -1 --format=%ai \" + item[m]\n",
    "            temp = str(execute_command(git_cmd, repository)).replace(\"b'\",'').replace(\"(\",'').replace(\")\",'').split(\"\\\\n\")\n",
    "            del temp[len(temp)-1]\n",
    "            temp = temp[0].split(\" \")\n",
    "            temp.insert(0,item[0])\n",
    "            temp.insert(1,item[m])\n",
    "            date_release.append(temp)\n",
    "            date_release = sorted(date_release, key=operator.itemgetter(0, 2))\n",
    "    else:\n",
    "        date_release.append(item)\n",
    "\n",
    "date_release = sorted(date_release, key=operator.itemgetter(0), reverse=True) \n",
    "\n",
    "for jj in date_release:\n",
    "    print (jj)"
   ]
  },
  {
   "cell_type": "code",
   "execution_count": null,
   "metadata": {},
   "outputs": [],
   "source": [
    "#save in csv file\n",
    "with open('/Users/YusufNugroho/historage-mining/Analyze/analyze_hbase/step_3/affected_version/affected_version.csv','w') as csvfile:\n",
    "    writers = csv.writer(csvfile)\n",
    "    writers.writerow(['bug_id','affected_version','date_release','time_release','tz'])\n",
    "    for item in date_release:\n",
    "        writers.writerow(item)"
   ]
  },
  {
   "cell_type": "code",
   "execution_count": null,
   "metadata": {},
   "outputs": [],
   "source": [
    "df = pd.read_csv('/Users/YusufNugroho/historage-mining/Analyze/analyze_hbase/step_3/affected_version/affected_version.csv')\n",
    "df.head()"
   ]
  },
  {
   "cell_type": "code",
   "execution_count": null,
   "metadata": {},
   "outputs": [],
   "source": [
    "earliest_vers = df.groupby('bug_id', as_index=False).first()\n",
    "earliest_vers = earliest_vers.sort_values('bug_id', ascending=False)\n",
    "earliest_vers.to_csv('/Users/YusufNugroho/historage-mining/Analyze/analyze_hbase/step_3/affected_version/earliest_version.csv')\n",
    "earliest_vers"
   ]
  },
  {
   "cell_type": "markdown",
   "metadata": {},
   "source": [
    "# Finding fix versions of bug links"
   ]
  },
  {
   "cell_type": "code",
   "execution_count": null,
   "metadata": {},
   "outputs": [],
   "source": [
    "fixed_version = []\n",
    "for a,b in enumerate(bug_links):\n",
    "    link = \"https://issues.apache.org/jira/browse/\" + bug_links[a]\n",
    "    sys.stdout.write(\"\\rExtracting: \" + bug_links[a])\n",
    "    sys.stdout.flush()\n",
    "    page = urllib.request.urlopen(link)\n",
    "    soup = BeautifulSoup(page, 'html.parser')\n",
    "    fix_version = soup.find('span', attrs={'id':'fixVersions-field'}).text.replace(\"\\n\",'').replace(\" \",'').split(\",\")\n",
    "    fix_version = sorted(fix_version)\n",
    "    fix_version.insert(0, bug_links[a])\n",
    "    fixed_version.append(fix_version)\n",
    "\n",
    "print(\"\\nExtraction has been completed.\")"
   ]
  },
  {
   "cell_type": "code",
   "execution_count": null,
   "metadata": {},
   "outputs": [],
   "source": [
    "for itemfix in fixed_version:\n",
    "    print (itemfix)"
   ]
  },
  {
   "cell_type": "code",
   "execution_count": null,
   "metadata": {
    "collapsed": true
   },
   "outputs": [],
   "source": []
  }
 ],
 "metadata": {
  "kernelspec": {
   "display_name": "Python 3",
   "language": "python",
   "name": "python3"
  }
 },
 "nbformat": 4,
 "nbformat_minor": 2
}
