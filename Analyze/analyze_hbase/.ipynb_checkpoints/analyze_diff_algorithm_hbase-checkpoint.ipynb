{
 "cells": [
  {
   "cell_type": "code",
   "execution_count": 1,
   "metadata": {
    "collapsed": true
   },
   "outputs": [],
   "source": [
    "import os, glob, json, csv, subprocess, sys, re\n",
    "from git import *\n",
    "from subprocess import Popen, PIPE\n",
    "from os import path\n",
    "import pandas as pd\n",
    "import matplotlib.pyplot as plt\n",
    "import numpy as np\n",
    "import plotly.graph_objs as go\n",
    "import plotly.plotly as ply\n",
    "import plotly\n",
    "from plotly.offline import plot, init_notebook_mode, iplot\n",
    "\n",
    "%matplotlib inline"
   ]
  },
  {
   "cell_type": "markdown",
   "metadata": {},
   "source": [
    "# Defining repository"
   ]
  },
  {
   "cell_type": "code",
   "execution_count": 2,
   "metadata": {
    "collapsed": true
   },
   "outputs": [],
   "source": [
    "userhome = os.path.expanduser('~')\n",
    "repository = os.path.dirname(userhome + r'/historage-mining/historage/hbase/')"
   ]
  },
  {
   "cell_type": "markdown",
   "metadata": {},
   "source": [
    "# Define function to apply git command"
   ]
  },
  {
   "cell_type": "code",
   "execution_count": 3,
   "metadata": {
    "collapsed": true
   },
   "outputs": [],
   "source": [
    "def execute_command(cmd, work_dir):\n",
    "    \"\"\"Executes a shell command in a subprocess, waiting until it has completed.\n",
    " \n",
    "    :param cmd: Command to execute.\n",
    "    :param work_dir: Working directory path.\n",
    "    \"\"\"\n",
    "    pipe = subprocess.Popen(cmd, shell=True, cwd=work_dir, stdout=subprocess.PIPE, stderr=subprocess.PIPE)\n",
    "    (out, error) = pipe.communicate()\n",
    "    return out, error\n",
    "    pipe.wait()"
   ]
  },
  {
   "cell_type": "code",
   "execution_count": 4,
   "metadata": {
    "collapsed": true
   },
   "outputs": [],
   "source": [
    "def execute_shell_command(id1, id2, cmd, work_dir):\n",
    "    \"\"\"Executes a shell command in a subprocess, waiting until it has completed.\n",
    " \n",
    "    :param cmd: Command to execute.\n",
    "    :param work_dir: Working directory path.\n",
    "    \"\"\"\n",
    "    pipe = subprocess.Popen(cmd, shell=True, cwd=work_dir, stdout=subprocess.PIPE, stderr=subprocess.PIPE)\n",
    "    (out, error) = pipe.communicate()\n",
    "    return id1, id2, out, error\n",
    "    pipe.wait()"
   ]
  },
  {
   "cell_type": "markdown",
   "metadata": {},
   "source": [
    "# Listing all files in repository and save it in textfile"
   ]
  },
  {
   "cell_type": "code",
   "execution_count": 5,
   "metadata": {
    "collapsed": true
   },
   "outputs": [],
   "source": [
    "listfile = []\n",
    "for filename in glob.iglob(userhome + r'/historage-mining/historage/hbase/**/*.*', recursive=True):\n",
    "    listfile.append(filename)"
   ]
  },
  {
   "cell_type": "code",
   "execution_count": 6,
   "metadata": {},
   "outputs": [
    {
     "name": "stdout",
     "output_type": "stream",
     "text": [
      "File file_list.txt has been created\n",
      "Number of files found: 4407 files\n"
     ]
    }
   ],
   "source": [
    "with open (\"file_list.txt\", mode=\"wt\", encoding=\"utf-8\") as mytxt:\n",
    "    mytxt.write('\\n'.join(listfile))\n",
    "print (\"File file_list.txt has been created\")\n",
    "print (\"Number of files found: %i\" % (len(listfile)) + \" files\")"
   ]
  },
  {
   "cell_type": "markdown",
   "metadata": {},
   "source": [
    "# Extracting Commit ID"
   ]
  },
  {
   "cell_type": "code",
   "execution_count": 7,
   "metadata": {
    "collapsed": true
   },
   "outputs": [],
   "source": [
    "command = \"git log --pretty='%H'\"\n",
    "com_ID = str(execute_command(command, repository)).replace(\"b'\",'').replace(\"'\",'').replace('\\\\n',' ').replace(\"(\",'').replace(\")\",'').replace(\",\",'').split(' ')"
   ]
  },
  {
   "cell_type": "markdown",
   "metadata": {},
   "source": [
    "# Applying git diff -w --diff-algorithm=histogram --stat commitID_1 commitID2 "
   ]
  },
  {
   "cell_type": "code",
   "execution_count": 61,
   "metadata": {},
   "outputs": [
    {
     "name": "stdout",
     "output_type": "stream",
     "text": [
      "Applying diff between commits = 14893 out of 14893"
     ]
    }
   ],
   "source": [
    "diffhist = []\n",
    "for i in range(0, len(com_ID)-3):\n",
    "    sys.stdout.write('\\rApplying diff between commits = %i' % (i+1) + ' out of %i' % (len(com_ID)-3))\n",
    "    sys.stdout.flush()\n",
    "    diff_cmd = \"git diff -w --diff-algorithm=histogram --stat \" + com_ID[i+1] + \" \" + com_ID[i]\n",
    "    tmp = (str(execute_shell_command(com_ID[i+1], com_ID[i], diff_cmd, repository)).replace(\"(\",'').replace(\"+\",'').\n",
    "           replace(\"-\",'').replace(\"\\\\n\",'').replace(\"b'\",'').replace(\"(+)\",'').replace(\"(-)\",'').replace(\")\",'').\n",
    "           replace(\"|\",'').replace(\" => \",'=>').replace(\"... \",'...').replace(\"...> \",'...>').\n",
    "           replace(\"...=> \",'...=>').replace(\" Code \",\"Code\"))\n",
    "    tmp = re.sub(\"([a-z])\" and \"([ ])\", r\"\\1,\", tmp)\n",
    "    tmp2 = (str(tmp).replace(\"\\'\",'').replace(\", \",'').replace(\",files\",'files').replace(\",changed\",\"changed\").\n",
    "                    replace(\",file\",'files').replace(\",insertions\",'insertions').\n",
    "                    replace(\",insertion\",'insertions').replace(\",deletions,\",'deletions').\n",
    "                    replace(\",deletion,\",'deletions').replace(\" \",''))\n",
    "    diffhist.append(str(tmp2))\n",
    "    \n",
    "diffresult = []\n",
    "for item in diffhist:\n",
    "    if item == ', ':\n",
    "        del item\n",
    "    else:\n",
    "        diffresult.append(item)\n",
    "\n",
    "#diffresult"
   ]
  },
  {
   "cell_type": "code",
   "execution_count": 62,
   "metadata": {
    "collapsed": true
   },
   "outputs": [],
   "source": [
    "diffres = []\n",
    "for x in range(0,len(diffresult)-1):\n",
    "    line = diffresult[x]\n",
    "    if \"changed\" not in diffresult[x]:\n",
    "        pass\n",
    "    else:\n",
    "        if \"deletions\" not in diffresult[x]:\n",
    "            diffres.append(line + '0 deletions')\n",
    "        else:\n",
    "            if \"insertions\" not in diffresult[x]:\n",
    "                index = line.find('changed,')\n",
    "                diffres.append(line[:index+8] + '0 insertions' + line[index+7:])\n",
    "            else:\n",
    "                diffres.append(diffresult[x])"
   ]
  },
  {
   "cell_type": "code",
   "execution_count": 63,
   "metadata": {
    "collapsed": true,
    "scrolled": false
   },
   "outputs": [],
   "source": [
    "kl = []\n",
    "res = []\n",
    "for x in range(0, len(diffres)-1):\n",
    "    kl = diffres[x].split(',')\n",
    "    #del kl[len(kl)-1]\n",
    "    res.append(kl)\n",
    "#for it in res:\n",
    "#    print(it)"
   ]
  },
  {
   "cell_type": "code",
   "execution_count": 64,
   "metadata": {
    "collapsed": true
   },
   "outputs": [],
   "source": [
    "temp1hist = []\n",
    "for b in range(0,len(res)-1):\n",
    "    temp2 = []\n",
    "    for c in range(0,len(res[b])-3):\n",
    "        temp2.append(res[b][c])\n",
    "    temp1hist.append(temp2)\n",
    "#temp1hist"
   ]
  },
  {
   "cell_type": "raw",
   "metadata": {},
   "source": [
    "for dd in range(0, len(temp1hist)-1):\n",
    "    indices = [i for i, x in enumerate(temp1hist[dd]) if x == \"=>\"]\n",
    "    for i in indices: #this will add one index upper and one index lower of elem \"=>\" with elem\n",
    "        temp1hist[dd][i-1] = temp1hist[dd][i-1]+ temp1hist[dd][i] + temp1hist[dd][i+1] \n",
    "    for elem in temp1hist[dd]:\n",
    "        if elem == \"=>\":\n",
    "            del temp1hist[dd][temp1hist[dd].index(\"=>\")+1]\n",
    "            del temp1hist[dd][temp1hist[dd].index(\"=>\")]\n",
    "#temp1hist"
   ]
  },
  {
   "cell_type": "code",
   "execution_count": 65,
   "metadata": {
    "collapsed": true
   },
   "outputs": [],
   "source": [
    "with open('diffhistogram.csv', 'w') as csvfile:\n",
    "    header = ['commitID_1', 'commitID_2', 'filename', '#line_changed']\n",
    "    writers = csv.writer(csvfile, delimiter=',')\n",
    "    writers.writerow(header)\n",
    "    for cmp in range(0,len(temp1hist)-1):\n",
    "        x = 2\n",
    "        y = 4\n",
    "        if len(temp1hist[cmp])<=4:\n",
    "            writers.writerow(temp1hist[cmp])\n",
    "        else:\n",
    "            s = (len(temp1hist[cmp])-2)/2\n",
    "            for g in range(1, int(s)):\n",
    "                v = []\n",
    "                for col1 in range(0,2):\n",
    "                    v.append(temp1hist[cmp][col1])\n",
    "                for col2 in range(x,y):\n",
    "                    if re.findall(r'\\d+',temp1hist[cmp][col2]) == True:\n",
    "                        v.append(re.findall(r'\\d+',temp1hist[cmp][col2]))\n",
    "                    else:\n",
    "                        v.append(temp1hist[cmp][col2])\n",
    "                x = x + 2\n",
    "                y = y + 2\n",
    "                writers.writerow(v)"
   ]
  },
  {
   "cell_type": "code",
   "execution_count": 66,
   "metadata": {},
   "outputs": [
    {
     "data": {
      "text/html": [
       "<div>\n",
       "<style>\n",
       "    .dataframe thead tr:only-child th {\n",
       "        text-align: right;\n",
       "    }\n",
       "\n",
       "    .dataframe thead th {\n",
       "        text-align: left;\n",
       "    }\n",
       "\n",
       "    .dataframe tbody tr th {\n",
       "        vertical-align: top;\n",
       "    }\n",
       "</style>\n",
       "<table border=\"1\" class=\"dataframe\">\n",
       "  <thead>\n",
       "    <tr style=\"text-align: right;\">\n",
       "      <th></th>\n",
       "      <th>commitID_1</th>\n",
       "      <th>commitID_2</th>\n",
       "      <th>filename</th>\n",
       "      <th>#line_changed</th>\n",
       "    </tr>\n",
       "  </thead>\n",
       "  <tbody>\n",
       "    <tr>\n",
       "      <th>0</th>\n",
       "      <td>f3ff55a2b4bb7a8b4980fdbb5b1f7a8d033631f3</td>\n",
       "      <td>f3bb9b9613beaefbee0a53be1fb66b94fde1ce19</td>\n",
       "      <td>.../hadoop/hbase/client/ConnectionUtils.java</td>\n",
       "      <td>2</td>\n",
       "    </tr>\n",
       "    <tr>\n",
       "      <th>1</th>\n",
       "      <td>f3ff55a2b4bb7a8b4980fdbb5b1f7a8d033631f3</td>\n",
       "      <td>f3bb9b9613beaefbee0a53be1fb66b94fde1ce19</td>\n",
       "      <td>.../org/apache/hadoop/hbase/client/Mutation.java</td>\n",
       "      <td>2</td>\n",
       "    </tr>\n",
       "    <tr>\n",
       "      <th>2</th>\n",
       "      <td>f3ff55a2b4bb7a8b4980fdbb5b1f7a8d033631f3</td>\n",
       "      <td>f3bb9b9613beaefbee0a53be1fb66b94fde1ce19</td>\n",
       "      <td>.../org/apache/hadoop/hbase/client/Result.java</td>\n",
       "      <td>2</td>\n",
       "    </tr>\n",
       "    <tr>\n",
       "      <th>3</th>\n",
       "      <td>f3ff55a2b4bb7a8b4980fdbb5b1f7a8d033631f3</td>\n",
       "      <td>f3bb9b9613beaefbee0a53be1fb66b94fde1ce19</td>\n",
       "      <td>.../apache/hadoop/hbase/ByteBufferKeyValue.java</td>\n",
       "      <td>2</td>\n",
       "    </tr>\n",
       "    <tr>\n",
       "      <th>4</th>\n",
       "      <td>f3ff55a2b4bb7a8b4980fdbb5b1f7a8d033631f3</td>\n",
       "      <td>f3bb9b9613beaefbee0a53be1fb66b94fde1ce19</td>\n",
       "      <td>.../java/org/apache/hadoop/hbase/CellUtil.java</td>\n",
       "      <td>2</td>\n",
       "    </tr>\n",
       "  </tbody>\n",
       "</table>\n",
       "</div>"
      ],
      "text/plain": [
       "                                 commitID_1  \\\n",
       "0  f3ff55a2b4bb7a8b4980fdbb5b1f7a8d033631f3   \n",
       "1  f3ff55a2b4bb7a8b4980fdbb5b1f7a8d033631f3   \n",
       "2  f3ff55a2b4bb7a8b4980fdbb5b1f7a8d033631f3   \n",
       "3  f3ff55a2b4bb7a8b4980fdbb5b1f7a8d033631f3   \n",
       "4  f3ff55a2b4bb7a8b4980fdbb5b1f7a8d033631f3   \n",
       "\n",
       "                                 commitID_2  \\\n",
       "0  f3bb9b9613beaefbee0a53be1fb66b94fde1ce19   \n",
       "1  f3bb9b9613beaefbee0a53be1fb66b94fde1ce19   \n",
       "2  f3bb9b9613beaefbee0a53be1fb66b94fde1ce19   \n",
       "3  f3bb9b9613beaefbee0a53be1fb66b94fde1ce19   \n",
       "4  f3bb9b9613beaefbee0a53be1fb66b94fde1ce19   \n",
       "\n",
       "                                           filename #line_changed  \n",
       "0      .../hadoop/hbase/client/ConnectionUtils.java             2  \n",
       "1  .../org/apache/hadoop/hbase/client/Mutation.java             2  \n",
       "2    .../org/apache/hadoop/hbase/client/Result.java             2  \n",
       "3   .../apache/hadoop/hbase/ByteBufferKeyValue.java             2  \n",
       "4    .../java/org/apache/hadoop/hbase/CellUtil.java             2  "
      ]
     },
     "execution_count": 66,
     "metadata": {},
     "output_type": "execute_result"
    }
   ],
   "source": [
    "datahist = pd.read_csv(\"diffhistogram.csv\")\n",
    "sc = datahist[header]\n",
    "sc.head()"
   ]
  },
  {
   "cell_type": "code",
   "execution_count": 67,
   "metadata": {},
   "outputs": [
    {
     "data": {
      "text/html": [
       "<div>\n",
       "<style>\n",
       "    .dataframe thead tr:only-child th {\n",
       "        text-align: right;\n",
       "    }\n",
       "\n",
       "    .dataframe thead th {\n",
       "        text-align: left;\n",
       "    }\n",
       "\n",
       "    .dataframe tbody tr th {\n",
       "        vertical-align: top;\n",
       "    }\n",
       "</style>\n",
       "<table border=\"1\" class=\"dataframe\">\n",
       "  <thead>\n",
       "    <tr style=\"text-align: right;\">\n",
       "      <th></th>\n",
       "      <th>filename</th>\n",
       "      <th>SUM #line_changed</th>\n",
       "    </tr>\n",
       "  </thead>\n",
       "  <tbody>\n",
       "    <tr>\n",
       "      <th>0</th>\n",
       "      <td>.../hbase/protobuf/generated/MasterProtos.java</td>\n",
       "      <td>446784.0</td>\n",
       "    </tr>\n",
       "    <tr>\n",
       "      <th>1</th>\n",
       "      <td>.../shaded/protobuf/generated/MasterProtos.java</td>\n",
       "      <td>365418.0</td>\n",
       "    </tr>\n",
       "    <tr>\n",
       "      <th>2</th>\n",
       "      <td>.../hbase/protobuf/generated/ClientProtos.java</td>\n",
       "      <td>317592.0</td>\n",
       "    </tr>\n",
       "    <tr>\n",
       "      <th>3</th>\n",
       "      <td>.../hadoop/hbase/thrift/generated/Hbase.java</td>\n",
       "      <td>275128.0</td>\n",
       "    </tr>\n",
       "    <tr>\n",
       "      <th>4</th>\n",
       "      <td>.../hbase/thrift2/generated/THBaseService.java</td>\n",
       "      <td>252425.0</td>\n",
       "    </tr>\n",
       "  </tbody>\n",
       "</table>\n",
       "</div>"
      ],
      "text/plain": [
       "                                          filename  SUM #line_changed\n",
       "0   .../hbase/protobuf/generated/MasterProtos.java           446784.0\n",
       "1  .../shaded/protobuf/generated/MasterProtos.java           365418.0\n",
       "2   .../hbase/protobuf/generated/ClientProtos.java           317592.0\n",
       "3     .../hadoop/hbase/thrift/generated/Hbase.java           275128.0\n",
       "4   .../hbase/thrift2/generated/THBaseService.java           252425.0"
      ]
     },
     "execution_count": 67,
     "metadata": {},
     "output_type": "execute_result"
    }
   ],
   "source": [
    "dfhist = pd.read_csv('diffhistogram.csv')\n",
    "dfhist = (pd.to_numeric(dfhist['#line_changed'], errors='coerce')\n",
    "       .groupby(dfhist['filename'])\n",
    "       .sum()\n",
    "       .to_frame()\n",
    "       .add_prefix('SUM ')\n",
    "       .reset_index())\n",
    "\n",
    "col = ['filename','SUM #line_changed']\n",
    "dfhist = dfhist.dropna(subset=['SUM #line_changed'])\n",
    "dfhist = dfhist.sort_values('SUM #line_changed', ascending=False)\n",
    "\n",
    "dfhist[col].to_csv('diffhistogramfilechanged.csv')\n",
    "out = pd.read_csv('diffhistogramfilechanged.csv')\n",
    "saved = out[col]\n",
    "saved.head()"
   ]
  },
  {
   "cell_type": "code",
   "execution_count": 68,
   "metadata": {},
   "outputs": [
    {
     "data": {
      "text/html": [
       "<script>requirejs.config({paths: { 'plotly': ['https://cdn.plot.ly/plotly-latest.min']},});if(!window.Plotly) {{require(['plotly'],function(plotly) {window.Plotly=plotly;});}}</script>"
      ],
      "text/vnd.plotly.v1+html": [
       "<script>requirejs.config({paths: { 'plotly': ['https://cdn.plot.ly/plotly-latest.min']},});if(!window.Plotly) {{require(['plotly'],function(plotly) {window.Plotly=plotly;});}}</script>"
      ]
     },
     "metadata": {},
     "output_type": "display_data"
    },
    {
     "data": {
      "application/vnd.plotly.v1+json": {
       "data": [
        {
         "name": "--diff-algorithm=histogram",
         "type": "bar",
         "x": [
          ".../hbase/protobuf/generated/MasterProtos.java",
          ".../shaded/protobuf/generated/MasterProtos.java",
          ".../hbase/protobuf/generated/ClientProtos.java",
          ".../hadoop/hbase/thrift/generated/Hbase.java",
          ".../hbase/thrift2/generated/THBaseService.java",
          ".../hbase/protobuf/generated/HBaseProtos.java",
          ".../hbase/protobuf/generated/QuotaProtos.java",
          ".../protobuf/generated/MasterProcedureProtos.java",
          ".../protobuf/generated/ClusterStatusProtos.java",
          ".../hbase/protobuf/generated/AdminProtos.java"
         ],
         "y": [
          446784,
          365418,
          317592,
          275128,
          252425,
          249506,
          241684,
          225088,
          216928,
          172440
         ]
        },
        {
         "name": "--diff-algorithm=histogram",
         "type": "scatter",
         "x": [
          ".../hbase/protobuf/generated/MasterProtos.java",
          ".../shaded/protobuf/generated/MasterProtos.java",
          ".../hbase/protobuf/generated/ClientProtos.java",
          ".../hadoop/hbase/thrift/generated/Hbase.java",
          ".../hbase/thrift2/generated/THBaseService.java",
          ".../hbase/protobuf/generated/HBaseProtos.java",
          ".../hbase/protobuf/generated/QuotaProtos.java",
          ".../protobuf/generated/MasterProcedureProtos.java",
          ".../protobuf/generated/ClusterStatusProtos.java",
          ".../hbase/protobuf/generated/AdminProtos.java"
         ],
         "y": [
          446784,
          365418,
          317592,
          275128,
          252425,
          249506,
          241684,
          225088,
          216928,
          172440
         ]
        }
       ],
       "layout": {
        "barmode": "group"
       }
      },
      "text/html": [
       "<div id=\"57568d9a-d51b-4d94-be01-f2b1ff821ea1\" style=\"height: 525px; width: 100%;\" class=\"plotly-graph-div\"></div><script type=\"text/javascript\">require([\"plotly\"], function(Plotly) { window.PLOTLYENV=window.PLOTLYENV || {};window.PLOTLYENV.BASE_URL=\"https://plot.ly\";Plotly.newPlot(\"57568d9a-d51b-4d94-be01-f2b1ff821ea1\", [{\"type\": \"bar\", \"x\": [\".../hbase/protobuf/generated/MasterProtos.java\", \".../shaded/protobuf/generated/MasterProtos.java\", \".../hbase/protobuf/generated/ClientProtos.java\", \".../hadoop/hbase/thrift/generated/Hbase.java\", \".../hbase/thrift2/generated/THBaseService.java\", \".../hbase/protobuf/generated/HBaseProtos.java\", \".../hbase/protobuf/generated/QuotaProtos.java\", \".../protobuf/generated/MasterProcedureProtos.java\", \".../protobuf/generated/ClusterStatusProtos.java\", \".../hbase/protobuf/generated/AdminProtos.java\"], \"y\": [446784.0, 365418.0, 317592.0, 275128.0, 252425.0, 249506.0, 241684.0, 225088.0, 216928.0, 172440.0], \"name\": \"--diff-algorithm=histogram\"}, {\"type\": \"scatter\", \"x\": [\".../hbase/protobuf/generated/MasterProtos.java\", \".../shaded/protobuf/generated/MasterProtos.java\", \".../hbase/protobuf/generated/ClientProtos.java\", \".../hadoop/hbase/thrift/generated/Hbase.java\", \".../hbase/thrift2/generated/THBaseService.java\", \".../hbase/protobuf/generated/HBaseProtos.java\", \".../hbase/protobuf/generated/QuotaProtos.java\", \".../protobuf/generated/MasterProcedureProtos.java\", \".../protobuf/generated/ClusterStatusProtos.java\", \".../hbase/protobuf/generated/AdminProtos.java\"], \"y\": [446784.0, 365418.0, 317592.0, 275128.0, 252425.0, 249506.0, 241684.0, 225088.0, 216928.0, 172440.0], \"name\": \"--diff-algorithm=histogram\"}], {\"barmode\": \"group\"}, {\"showLink\": false, \"linkText\": \"Export to plot.ly\"})});</script>"
      ],
      "text/vnd.plotly.v1+html": [
       "<div id=\"57568d9a-d51b-4d94-be01-f2b1ff821ea1\" style=\"height: 525px; width: 100%;\" class=\"plotly-graph-div\"></div><script type=\"text/javascript\">require([\"plotly\"], function(Plotly) { window.PLOTLYENV=window.PLOTLYENV || {};window.PLOTLYENV.BASE_URL=\"https://plot.ly\";Plotly.newPlot(\"57568d9a-d51b-4d94-be01-f2b1ff821ea1\", [{\"type\": \"bar\", \"x\": [\".../hbase/protobuf/generated/MasterProtos.java\", \".../shaded/protobuf/generated/MasterProtos.java\", \".../hbase/protobuf/generated/ClientProtos.java\", \".../hadoop/hbase/thrift/generated/Hbase.java\", \".../hbase/thrift2/generated/THBaseService.java\", \".../hbase/protobuf/generated/HBaseProtos.java\", \".../hbase/protobuf/generated/QuotaProtos.java\", \".../protobuf/generated/MasterProcedureProtos.java\", \".../protobuf/generated/ClusterStatusProtos.java\", \".../hbase/protobuf/generated/AdminProtos.java\"], \"y\": [446784.0, 365418.0, 317592.0, 275128.0, 252425.0, 249506.0, 241684.0, 225088.0, 216928.0, 172440.0], \"name\": \"--diff-algorithm=histogram\"}, {\"type\": \"scatter\", \"x\": [\".../hbase/protobuf/generated/MasterProtos.java\", \".../shaded/protobuf/generated/MasterProtos.java\", \".../hbase/protobuf/generated/ClientProtos.java\", \".../hadoop/hbase/thrift/generated/Hbase.java\", \".../hbase/thrift2/generated/THBaseService.java\", \".../hbase/protobuf/generated/HBaseProtos.java\", \".../hbase/protobuf/generated/QuotaProtos.java\", \".../protobuf/generated/MasterProcedureProtos.java\", \".../protobuf/generated/ClusterStatusProtos.java\", \".../hbase/protobuf/generated/AdminProtos.java\"], \"y\": [446784.0, 365418.0, 317592.0, 275128.0, 252425.0, 249506.0, 241684.0, 225088.0, 216928.0, 172440.0], \"name\": \"--diff-algorithm=histogram\"}], {\"barmode\": \"group\"}, {\"showLink\": false, \"linkText\": \"Export to plot.ly\"})});</script>"
      ]
     },
     "metadata": {},
     "output_type": "display_data"
    }
   ],
   "source": [
    "trace1 = go.Bar(\n",
    "    x=dfhist['filename'][:10],\n",
    "    y=dfhist['SUM #line_changed'][:10],\n",
    "    name='--diff-algorithm=histogram'\n",
    ")\n",
    "\n",
    "trace2 = go.Scatter(\n",
    "    x=dfhist['filename'][:10],\n",
    "    y=dfhist['SUM #line_changed'][:10],\n",
    "    name='--diff-algorithm=histogram')\n",
    "\n",
    "dt = [trace1, trace2]\n",
    "layout = go.Layout(\n",
    "    barmode='group'\n",
    ")\n",
    "\n",
    "init_notebook_mode(connected=True)\n",
    "fig = go.Figure(data=dt, layout=layout)\n",
    "iplot(fig, show_link=False)"
   ]
  },
  {
   "cell_type": "markdown",
   "metadata": {},
   "source": [
    "# Applying git diff -w --diff-algorithm=myers --stat commitID_1 commitID2 "
   ]
  },
  {
   "cell_type": "code",
   "execution_count": 16,
   "metadata": {},
   "outputs": [
    {
     "name": "stdout",
     "output_type": "stream",
     "text": [
      "Applying diff between commits = 14893 out of 14893"
     ]
    }
   ],
   "source": [
    "diffmyers = []\n",
    "for i in range(0, len(com_ID)-3):\n",
    "    sys.stdout.write('\\rApplying diff between commits = %i' % (i+1) + ' out of %i' % (len(com_ID)-3))\n",
    "    sys.stdout.flush()\n",
    "    diff_cmd = \"git diff -w --diff-algorithm=myers --stat \" + com_ID[i+1] + \" \" + com_ID[i]\n",
    "    tmp = (str(execute_shell_command(com_ID[i+1], com_ID[i], diff_cmd, repository)).replace(\"(\",'').replace(\"+\",'').\n",
    "           replace(\"-\",'').replace(\"\\\\n\",'').replace(\"b'\",'').replace(\"(+)\",'').replace(\"(-)\",'').replace(\")\",'').\n",
    "           replace(\"|\",'').replace(\" => \",'=>').replace(\"... \",'...').replace(\"...> \",'...>').\n",
    "           replace(\"...=> \",'...=>').replace(\" Code \",\"Code\"))\n",
    "    tmp = re.sub(\"([a-z])\" and \"([ ])\", r\"\\1,\", tmp)\n",
    "    tmp2 = (str(tmp).replace(\"\\'\",'').replace(\", \",'').replace(\",files\",'files').replace(\",changed\",\"changed\").\n",
    "                    replace(\",file\",'files').replace(\",insertions\",'insertions').\n",
    "                    replace(\",insertion\",'insertions').replace(\",deletions,\",'deletions').\n",
    "                    replace(\",deletion,\",'deletions').replace(\" \",''))\n",
    "    diffmyers.append(str(tmp2))\n",
    "    \n",
    "diffmyersresult = []\n",
    "for item in diffmyers:\n",
    "    if item == ', ':\n",
    "        del item\n",
    "    else:\n",
    "        diffmyersresult.append(item)\n",
    "\n",
    "#diffmyersresult"
   ]
  },
  {
   "cell_type": "code",
   "execution_count": 17,
   "metadata": {
    "collapsed": true
   },
   "outputs": [],
   "source": [
    "diffmyersres = []\n",
    "for x in range(0,len(diffmyersresult)-1):\n",
    "    line = diffmyersresult[x]\n",
    "    if \"changed\" not in diffmyersresult[x]:\n",
    "        pass\n",
    "    else:\n",
    "        if \"deletions\" not in diffmyersresult[x]:\n",
    "            diffmyersres.append(line + '0 deletions')\n",
    "        else:\n",
    "            if \"insertions\" not in diffmyersresult[x]:\n",
    "                index = line.find('changed,')\n",
    "                diffmyersres.append(line[:index+8] + '0 insertions' + line[index+7:])\n",
    "            else:\n",
    "                diffmyersres.append(diffmyersresult[x])"
   ]
  },
  {
   "cell_type": "code",
   "execution_count": 18,
   "metadata": {
    "collapsed": true
   },
   "outputs": [],
   "source": [
    "klmyers = []\n",
    "resmyers = []\n",
    "for x in range(0, len(diffmyersres)-1):\n",
    "    kl = diffmyersres[x].split(',')\n",
    "    resmyers.append(kl)\n",
    "#for it in resmyers:\n",
    "#    print(it)"
   ]
  },
  {
   "cell_type": "code",
   "execution_count": 19,
   "metadata": {
    "collapsed": true
   },
   "outputs": [],
   "source": [
    "temp1myers = []\n",
    "for b in range(0,len(resmyers)-1):\n",
    "    temp2myers = []\n",
    "    for c in range(0,len(resmyers[b])-3):\n",
    "        temp2myers.append(resmyers[b][c])\n",
    "    temp1myers.append(temp2myers)\n",
    "#temp1myers"
   ]
  },
  {
   "cell_type": "code",
   "execution_count": 20,
   "metadata": {
    "collapsed": true
   },
   "outputs": [],
   "source": [
    "with open('diffmyers.csv', 'w') as csvfile:\n",
    "    header = ['commitID_1', 'commitID_2', 'filename', '#line_changed']\n",
    "    writers = csv.writer(csvfile, delimiter=',')\n",
    "    writers.writerow(header)\n",
    "    for cmp in range(0,len(temp1myers)-1):\n",
    "        x = 2\n",
    "        y = 4\n",
    "        if len(temp1myers[cmp])<=4:\n",
    "            writers.writerow(temp1myers[cmp])\n",
    "        else:\n",
    "            s = (len(temp1myers[cmp])-2)/2\n",
    "            for g in range(1, int(s)):\n",
    "                v = []\n",
    "                for col1 in range(0,2):\n",
    "                    v.append(temp1myers[cmp][col1])\n",
    "                for col2 in range(x,y):\n",
    "                    if re.findall(r'\\d+',temp1myers[cmp][col2]) == True:\n",
    "                        v.append(re.findall(r'\\d+',temp1myers[cmp][col2]))\n",
    "                    else:\n",
    "                        v.append(temp1myers[cmp][col2])\n",
    "                x = x + 2\n",
    "                y = y + 2\n",
    "                writers.writerow(v)"
   ]
  },
  {
   "cell_type": "code",
   "execution_count": 21,
   "metadata": {},
   "outputs": [
    {
     "data": {
      "text/html": [
       "<div>\n",
       "<style>\n",
       "    .dataframe thead tr:only-child th {\n",
       "        text-align: right;\n",
       "    }\n",
       "\n",
       "    .dataframe thead th {\n",
       "        text-align: left;\n",
       "    }\n",
       "\n",
       "    .dataframe tbody tr th {\n",
       "        vertical-align: top;\n",
       "    }\n",
       "</style>\n",
       "<table border=\"1\" class=\"dataframe\">\n",
       "  <thead>\n",
       "    <tr style=\"text-align: right;\">\n",
       "      <th></th>\n",
       "      <th>commitID_1</th>\n",
       "      <th>commitID_2</th>\n",
       "      <th>filename</th>\n",
       "      <th>#line_changed</th>\n",
       "    </tr>\n",
       "  </thead>\n",
       "  <tbody>\n",
       "    <tr>\n",
       "      <th>0</th>\n",
       "      <td>f3ff55a2b4bb7a8b4980fdbb5b1f7a8d033631f3</td>\n",
       "      <td>f3bb9b9613beaefbee0a53be1fb66b94fde1ce19</td>\n",
       "      <td>.../hadoop/hbase/client/ConnectionUtils.java</td>\n",
       "      <td>2</td>\n",
       "    </tr>\n",
       "    <tr>\n",
       "      <th>1</th>\n",
       "      <td>f3ff55a2b4bb7a8b4980fdbb5b1f7a8d033631f3</td>\n",
       "      <td>f3bb9b9613beaefbee0a53be1fb66b94fde1ce19</td>\n",
       "      <td>.../org/apache/hadoop/hbase/client/Mutation.java</td>\n",
       "      <td>2</td>\n",
       "    </tr>\n",
       "    <tr>\n",
       "      <th>2</th>\n",
       "      <td>f3ff55a2b4bb7a8b4980fdbb5b1f7a8d033631f3</td>\n",
       "      <td>f3bb9b9613beaefbee0a53be1fb66b94fde1ce19</td>\n",
       "      <td>.../org/apache/hadoop/hbase/client/Result.java</td>\n",
       "      <td>2</td>\n",
       "    </tr>\n",
       "    <tr>\n",
       "      <th>3</th>\n",
       "      <td>f3ff55a2b4bb7a8b4980fdbb5b1f7a8d033631f3</td>\n",
       "      <td>f3bb9b9613beaefbee0a53be1fb66b94fde1ce19</td>\n",
       "      <td>.../apache/hadoop/hbase/ByteBufferKeyValue.java</td>\n",
       "      <td>2</td>\n",
       "    </tr>\n",
       "    <tr>\n",
       "      <th>4</th>\n",
       "      <td>f3ff55a2b4bb7a8b4980fdbb5b1f7a8d033631f3</td>\n",
       "      <td>f3bb9b9613beaefbee0a53be1fb66b94fde1ce19</td>\n",
       "      <td>.../java/org/apache/hadoop/hbase/CellUtil.java</td>\n",
       "      <td>2</td>\n",
       "    </tr>\n",
       "  </tbody>\n",
       "</table>\n",
       "</div>"
      ],
      "text/plain": [
       "                                 commitID_1  \\\n",
       "0  f3ff55a2b4bb7a8b4980fdbb5b1f7a8d033631f3   \n",
       "1  f3ff55a2b4bb7a8b4980fdbb5b1f7a8d033631f3   \n",
       "2  f3ff55a2b4bb7a8b4980fdbb5b1f7a8d033631f3   \n",
       "3  f3ff55a2b4bb7a8b4980fdbb5b1f7a8d033631f3   \n",
       "4  f3ff55a2b4bb7a8b4980fdbb5b1f7a8d033631f3   \n",
       "\n",
       "                                 commitID_2  \\\n",
       "0  f3bb9b9613beaefbee0a53be1fb66b94fde1ce19   \n",
       "1  f3bb9b9613beaefbee0a53be1fb66b94fde1ce19   \n",
       "2  f3bb9b9613beaefbee0a53be1fb66b94fde1ce19   \n",
       "3  f3bb9b9613beaefbee0a53be1fb66b94fde1ce19   \n",
       "4  f3bb9b9613beaefbee0a53be1fb66b94fde1ce19   \n",
       "\n",
       "                                           filename #line_changed  \n",
       "0      .../hadoop/hbase/client/ConnectionUtils.java             2  \n",
       "1  .../org/apache/hadoop/hbase/client/Mutation.java             2  \n",
       "2    .../org/apache/hadoop/hbase/client/Result.java             2  \n",
       "3   .../apache/hadoop/hbase/ByteBufferKeyValue.java             2  \n",
       "4    .../java/org/apache/hadoop/hbase/CellUtil.java             2  "
      ]
     },
     "execution_count": 21,
     "metadata": {},
     "output_type": "execute_result"
    }
   ],
   "source": [
    "datamyers = pd.read_csv(\"diffmyers.csv\")\n",
    "sc = datamyers[header]\n",
    "sc.head()"
   ]
  },
  {
   "cell_type": "code",
   "execution_count": 38,
   "metadata": {},
   "outputs": [
    {
     "data": {
      "text/html": [
       "<div>\n",
       "<style>\n",
       "    .dataframe thead tr:only-child th {\n",
       "        text-align: right;\n",
       "    }\n",
       "\n",
       "    .dataframe thead th {\n",
       "        text-align: left;\n",
       "    }\n",
       "\n",
       "    .dataframe tbody tr th {\n",
       "        vertical-align: top;\n",
       "    }\n",
       "</style>\n",
       "<table border=\"1\" class=\"dataframe\">\n",
       "  <thead>\n",
       "    <tr style=\"text-align: right;\">\n",
       "      <th></th>\n",
       "      <th>filename</th>\n",
       "      <th>SUM #line_changed</th>\n",
       "    </tr>\n",
       "  </thead>\n",
       "  <tbody>\n",
       "    <tr>\n",
       "      <th>0</th>\n",
       "      <td>.../hbase/protobuf/generated/MasterProtos.java</td>\n",
       "      <td>582362.0</td>\n",
       "    </tr>\n",
       "    <tr>\n",
       "      <th>1</th>\n",
       "      <td>.../hbase/protobuf/generated/ClientProtos.java</td>\n",
       "      <td>380722.0</td>\n",
       "    </tr>\n",
       "    <tr>\n",
       "      <th>2</th>\n",
       "      <td>.../shaded/protobuf/generated/MasterProtos.java</td>\n",
       "      <td>374934.0</td>\n",
       "    </tr>\n",
       "    <tr>\n",
       "      <th>3</th>\n",
       "      <td>.../protobuf/generated/ClusterStatusProtos.java</td>\n",
       "      <td>334148.0</td>\n",
       "    </tr>\n",
       "    <tr>\n",
       "      <th>4</th>\n",
       "      <td>.../hbase/protobuf/generated/HBaseProtos.java</td>\n",
       "      <td>290266.0</td>\n",
       "    </tr>\n",
       "  </tbody>\n",
       "</table>\n",
       "</div>"
      ],
      "text/plain": [
       "                                          filename  SUM #line_changed\n",
       "0   .../hbase/protobuf/generated/MasterProtos.java           582362.0\n",
       "1   .../hbase/protobuf/generated/ClientProtos.java           380722.0\n",
       "2  .../shaded/protobuf/generated/MasterProtos.java           374934.0\n",
       "3  .../protobuf/generated/ClusterStatusProtos.java           334148.0\n",
       "4    .../hbase/protobuf/generated/HBaseProtos.java           290266.0"
      ]
     },
     "execution_count": 38,
     "metadata": {},
     "output_type": "execute_result"
    }
   ],
   "source": [
    "dfmyers = pd.read_csv('diffmyers.csv')\n",
    "dfmyers = (pd.to_numeric(dfmyers['#line_changed'], errors='coerce')\n",
    "       .groupby(dfmyers['filename'])\n",
    "       .sum()\n",
    "       .to_frame()\n",
    "       .add_prefix('SUM ')\n",
    "       .reset_index())\n",
    "\n",
    "col = ['filename','SUM #line_changed']\n",
    "dfmyers = dfmyers.dropna(subset=['SUM #line_changed'])\n",
    "dfmyers = dfmyers.sort_values('SUM #line_changed', ascending=False)\n",
    "\n",
    "dfmyers[col].to_csv('diffmyersfilechanged.csv')\n",
    "out = pd.read_csv('diffmyersfilechanged.csv')\n",
    "saved = out[col]\n",
    "saved.head()"
   ]
  },
  {
   "cell_type": "code",
   "execution_count": 43,
   "metadata": {},
   "outputs": [
    {
     "data": {
      "text/html": [
       "<script>requirejs.config({paths: { 'plotly': ['https://cdn.plot.ly/plotly-latest.min']},});if(!window.Plotly) {{require(['plotly'],function(plotly) {window.Plotly=plotly;});}}</script>"
      ],
      "text/vnd.plotly.v1+html": [
       "<script>requirejs.config({paths: { 'plotly': ['https://cdn.plot.ly/plotly-latest.min']},});if(!window.Plotly) {{require(['plotly'],function(plotly) {window.Plotly=plotly;});}}</script>"
      ]
     },
     "metadata": {},
     "output_type": "display_data"
    },
    {
     "data": {
      "application/vnd.plotly.v1+json": {
       "data": [
        {
         "name": "--diff-algorithm=myers",
         "type": "bar",
         "x": [
          ".../hbase/protobuf/generated/MasterProtos.java",
          ".../hbase/protobuf/generated/ClientProtos.java",
          ".../shaded/protobuf/generated/MasterProtos.java",
          ".../protobuf/generated/ClusterStatusProtos.java",
          ".../hbase/protobuf/generated/HBaseProtos.java",
          ".../hadoop/hbase/thrift/generated/Hbase.java",
          ".../hbase/thrift2/generated/THBaseService.java",
          ".../hbase/protobuf/generated/QuotaProtos.java",
          ".../protobuf/generated/MasterProcedureProtos.java",
          ".../hbase/protobuf/generated/AdminProtos.java"
         ],
         "y": [
          582362,
          380722,
          374934,
          334148,
          290266,
          283020,
          252811,
          241814,
          238036,
          179906
         ]
        },
        {
         "name": "--diff-algorithm=myers",
         "type": "scatter",
         "x": [
          ".../hbase/protobuf/generated/MasterProtos.java",
          ".../hbase/protobuf/generated/ClientProtos.java",
          ".../shaded/protobuf/generated/MasterProtos.java",
          ".../protobuf/generated/ClusterStatusProtos.java",
          ".../hbase/protobuf/generated/HBaseProtos.java",
          ".../hadoop/hbase/thrift/generated/Hbase.java",
          ".../hbase/thrift2/generated/THBaseService.java",
          ".../hbase/protobuf/generated/QuotaProtos.java",
          ".../protobuf/generated/MasterProcedureProtos.java",
          ".../hbase/protobuf/generated/AdminProtos.java"
         ],
         "y": [
          582362,
          380722,
          374934,
          334148,
          290266,
          283020,
          252811,
          241814,
          238036,
          179906
         ]
        }
       ],
       "layout": {
        "barmode": "group"
       }
      },
      "text/html": [
       "<div id=\"94ee63e4-2c13-44e8-8478-67bd44f94dac\" style=\"height: 525px; width: 100%;\" class=\"plotly-graph-div\"></div><script type=\"text/javascript\">require([\"plotly\"], function(Plotly) { window.PLOTLYENV=window.PLOTLYENV || {};window.PLOTLYENV.BASE_URL=\"https://plot.ly\";Plotly.newPlot(\"94ee63e4-2c13-44e8-8478-67bd44f94dac\", [{\"type\": \"bar\", \"x\": [\".../hbase/protobuf/generated/MasterProtos.java\", \".../hbase/protobuf/generated/ClientProtos.java\", \".../shaded/protobuf/generated/MasterProtos.java\", \".../protobuf/generated/ClusterStatusProtos.java\", \".../hbase/protobuf/generated/HBaseProtos.java\", \".../hadoop/hbase/thrift/generated/Hbase.java\", \".../hbase/thrift2/generated/THBaseService.java\", \".../hbase/protobuf/generated/QuotaProtos.java\", \".../protobuf/generated/MasterProcedureProtos.java\", \".../hbase/protobuf/generated/AdminProtos.java\"], \"y\": [582362.0, 380722.0, 374934.0, 334148.0, 290266.0, 283020.0, 252811.0, 241814.0, 238036.0, 179906.0], \"name\": \"--diff-algorithm=myers\"}, {\"type\": \"scatter\", \"x\": [\".../hbase/protobuf/generated/MasterProtos.java\", \".../hbase/protobuf/generated/ClientProtos.java\", \".../shaded/protobuf/generated/MasterProtos.java\", \".../protobuf/generated/ClusterStatusProtos.java\", \".../hbase/protobuf/generated/HBaseProtos.java\", \".../hadoop/hbase/thrift/generated/Hbase.java\", \".../hbase/thrift2/generated/THBaseService.java\", \".../hbase/protobuf/generated/QuotaProtos.java\", \".../protobuf/generated/MasterProcedureProtos.java\", \".../hbase/protobuf/generated/AdminProtos.java\"], \"y\": [582362.0, 380722.0, 374934.0, 334148.0, 290266.0, 283020.0, 252811.0, 241814.0, 238036.0, 179906.0], \"name\": \"--diff-algorithm=myers\"}], {\"barmode\": \"group\"}, {\"showLink\": false, \"linkText\": \"Export to plot.ly\"})});</script>"
      ],
      "text/vnd.plotly.v1+html": [
       "<div id=\"94ee63e4-2c13-44e8-8478-67bd44f94dac\" style=\"height: 525px; width: 100%;\" class=\"plotly-graph-div\"></div><script type=\"text/javascript\">require([\"plotly\"], function(Plotly) { window.PLOTLYENV=window.PLOTLYENV || {};window.PLOTLYENV.BASE_URL=\"https://plot.ly\";Plotly.newPlot(\"94ee63e4-2c13-44e8-8478-67bd44f94dac\", [{\"type\": \"bar\", \"x\": [\".../hbase/protobuf/generated/MasterProtos.java\", \".../hbase/protobuf/generated/ClientProtos.java\", \".../shaded/protobuf/generated/MasterProtos.java\", \".../protobuf/generated/ClusterStatusProtos.java\", \".../hbase/protobuf/generated/HBaseProtos.java\", \".../hadoop/hbase/thrift/generated/Hbase.java\", \".../hbase/thrift2/generated/THBaseService.java\", \".../hbase/protobuf/generated/QuotaProtos.java\", \".../protobuf/generated/MasterProcedureProtos.java\", \".../hbase/protobuf/generated/AdminProtos.java\"], \"y\": [582362.0, 380722.0, 374934.0, 334148.0, 290266.0, 283020.0, 252811.0, 241814.0, 238036.0, 179906.0], \"name\": \"--diff-algorithm=myers\"}, {\"type\": \"scatter\", \"x\": [\".../hbase/protobuf/generated/MasterProtos.java\", \".../hbase/protobuf/generated/ClientProtos.java\", \".../shaded/protobuf/generated/MasterProtos.java\", \".../protobuf/generated/ClusterStatusProtos.java\", \".../hbase/protobuf/generated/HBaseProtos.java\", \".../hadoop/hbase/thrift/generated/Hbase.java\", \".../hbase/thrift2/generated/THBaseService.java\", \".../hbase/protobuf/generated/QuotaProtos.java\", \".../protobuf/generated/MasterProcedureProtos.java\", \".../hbase/protobuf/generated/AdminProtos.java\"], \"y\": [582362.0, 380722.0, 374934.0, 334148.0, 290266.0, 283020.0, 252811.0, 241814.0, 238036.0, 179906.0], \"name\": \"--diff-algorithm=myers\"}], {\"barmode\": \"group\"}, {\"showLink\": false, \"linkText\": \"Export to plot.ly\"})});</script>"
      ]
     },
     "metadata": {},
     "output_type": "display_data"
    }
   ],
   "source": [
    "trace3 = go.Bar(\n",
    "    x=dfmyers['filename'][:10],\n",
    "    y=dfmyers['SUM #line_changed'][:10],\n",
    "    name='--diff-algorithm=myers'\n",
    ")\n",
    "\n",
    "trace4 = go.Scatter(\n",
    "    x=dfmyers['filename'][:10],\n",
    "    y=dfmyers['SUM #line_changed'][:10],\n",
    "    name='--diff-algorithm=myers')\n",
    "\n",
    "dt = [trace3, trace4]\n",
    "layout = go.Layout(\n",
    "    barmode='group'\n",
    ")\n",
    "\n",
    "init_notebook_mode(connected=True)\n",
    "fig = go.Figure(data=dt, layout=layout)\n",
    "iplot(fig, show_link=False)"
   ]
  },
  {
   "cell_type": "markdown",
   "metadata": {},
   "source": [
    "# Applying git diff -w --diff-algorithm=patience --stat commitID_1 commitID2"
   ]
  },
  {
   "cell_type": "code",
   "execution_count": 44,
   "metadata": {},
   "outputs": [
    {
     "name": "stdout",
     "output_type": "stream",
     "text": [
      "Applying diff between commits = 14893 out of 14893"
     ]
    }
   ],
   "source": [
    "diffpatience = []\n",
    "for i in range(0, len(com_ID)-3):\n",
    "    sys.stdout.write('\\rApplying diff between commits = %i' % (i+1) + ' out of %i' % (len(com_ID)-3))\n",
    "    sys.stdout.flush()\n",
    "    diff_cmd = \"git diff -w --diff-algorithm=patience --stat \" + com_ID[i+1] + \" \" + com_ID[i]\n",
    "    tmp = (str(execute_shell_command(com_ID[i+1], com_ID[i], diff_cmd, repository)).replace(\"(\",'').replace(\"+\",'').\n",
    "           replace(\"-\",'').replace(\"\\\\n\",'').replace(\"b'\",'').replace(\"(+)\",'').replace(\"(-)\",'').replace(\")\",'').\n",
    "           replace(\"|\",'').replace(\" => \",'=>').replace(\"... \",'...').replace(\"...> \",'...>').\n",
    "           replace(\"...=> \",'...=>').replace(\" Code \",\"Code\"))\n",
    "    tmp = re.sub(\"([a-z])\" and \"([ ])\", r\"\\1,\", tmp)\n",
    "    tmp2 = (str(tmp).replace(\"\\'\",'').replace(\", \",'').replace(\",files\",'files').replace(\",changed\",\"changed\").\n",
    "                    replace(\",file\",'files').replace(\",insertions\",'insertions').\n",
    "                    replace(\",insertion\",'insertions').replace(\",deletions,\",'deletions').\n",
    "                    replace(\",deletion,\",'deletions').replace(\" \",''))\n",
    "    diffpatience.append(str(tmp2))\n",
    "    \n",
    "diffpatienceresult = []\n",
    "for item in diffpatience:\n",
    "    if item == ', ':\n",
    "        del item\n",
    "    else:\n",
    "        diffpatienceresult.append(item)"
   ]
  },
  {
   "cell_type": "code",
   "execution_count": 69,
   "metadata": {
    "collapsed": true
   },
   "outputs": [],
   "source": [
    "diffpatiencesres = []\n",
    "for x in range(0,len(diffpatienceresult)-1):\n",
    "    line = diffpatienceresult[x]\n",
    "    if \"changed\" not in diffpatienceresult[x]:\n",
    "        pass\n",
    "    else:\n",
    "        if \"deletions\" not in diffpatienceresult[x]:\n",
    "            diffpatiencesres.append(line + '0 deletions')\n",
    "        else:\n",
    "            if \"insertions\" not in diffpatienceresult[x]:\n",
    "                index = line.find('changed,')\n",
    "                diffpatiencesres.append(line[:index+8] + '0 insertions' + line[index+7:])\n",
    "            else:\n",
    "                diffpatiencesres.append(diffpatienceresult[x])"
   ]
  },
  {
   "cell_type": "code",
   "execution_count": 70,
   "metadata": {
    "collapsed": true
   },
   "outputs": [],
   "source": [
    "klpatience = []\n",
    "respatience = []\n",
    "for x in range(0, len(diffpatiencesres)-1):\n",
    "    klpatience = diffpatiencesres[x].split(',')\n",
    "    respatience.append(klpatience)"
   ]
  },
  {
   "cell_type": "code",
   "execution_count": 71,
   "metadata": {
    "collapsed": true
   },
   "outputs": [],
   "source": [
    "temp1patience = []\n",
    "for b in range(0,len(respatience)-1):\n",
    "    temp2patience = []\n",
    "    for c in range(0,len(respatience[b])-3):\n",
    "        temp2patience.append(respatience[b][c])\n",
    "    temp1patience.append(temp2patience)"
   ]
  },
  {
   "cell_type": "code",
   "execution_count": 72,
   "metadata": {
    "collapsed": true
   },
   "outputs": [],
   "source": [
    "with open('diffpatience.csv', 'w') as csvfile:\n",
    "    header = ['commitID_1', 'commitID_2', 'filename', '#line_changed']\n",
    "    writers = csv.writer(csvfile, delimiter=',')\n",
    "    writers.writerow(header)\n",
    "    for cmp in range(0,len(temp1patience)-1):\n",
    "        x = 2\n",
    "        y = 4\n",
    "        if len(temp1patience[cmp])<=4:\n",
    "            writers.writerow(temp1patience[cmp])\n",
    "        else:\n",
    "            s = (len(temp1patience[cmp])-2)/2\n",
    "            for g in range(1, int(s)):\n",
    "                v = []\n",
    "                for col1 in range(0,2):\n",
    "                    v.append(temp1patience[cmp][col1])\n",
    "                for col2 in range(x,y):\n",
    "                    if re.findall(r'\\d+',temp1patience[cmp][col2]) == True:\n",
    "                        v.append(re.findall(r'\\d+',temp1patience[cmp][col2]))\n",
    "                    else:\n",
    "                        v.append(temp1patience[cmp][col2])\n",
    "                x = x + 2\n",
    "                y = y + 2\n",
    "                writers.writerow(v)"
   ]
  },
  {
   "cell_type": "code",
   "execution_count": 73,
   "metadata": {},
   "outputs": [
    {
     "data": {
      "text/html": [
       "<div>\n",
       "<style>\n",
       "    .dataframe thead tr:only-child th {\n",
       "        text-align: right;\n",
       "    }\n",
       "\n",
       "    .dataframe thead th {\n",
       "        text-align: left;\n",
       "    }\n",
       "\n",
       "    .dataframe tbody tr th {\n",
       "        vertical-align: top;\n",
       "    }\n",
       "</style>\n",
       "<table border=\"1\" class=\"dataframe\">\n",
       "  <thead>\n",
       "    <tr style=\"text-align: right;\">\n",
       "      <th></th>\n",
       "      <th>commitID_1</th>\n",
       "      <th>commitID_2</th>\n",
       "      <th>filename</th>\n",
       "      <th>#line_changed</th>\n",
       "    </tr>\n",
       "  </thead>\n",
       "  <tbody>\n",
       "    <tr>\n",
       "      <th>0</th>\n",
       "      <td>f3ff55a2b4bb7a8b4980fdbb5b1f7a8d033631f3</td>\n",
       "      <td>f3bb9b9613beaefbee0a53be1fb66b94fde1ce19</td>\n",
       "      <td>.../hadoop/hbase/client/ConnectionUtils.java</td>\n",
       "      <td>2</td>\n",
       "    </tr>\n",
       "    <tr>\n",
       "      <th>1</th>\n",
       "      <td>f3ff55a2b4bb7a8b4980fdbb5b1f7a8d033631f3</td>\n",
       "      <td>f3bb9b9613beaefbee0a53be1fb66b94fde1ce19</td>\n",
       "      <td>.../org/apache/hadoop/hbase/client/Mutation.java</td>\n",
       "      <td>2</td>\n",
       "    </tr>\n",
       "    <tr>\n",
       "      <th>2</th>\n",
       "      <td>f3ff55a2b4bb7a8b4980fdbb5b1f7a8d033631f3</td>\n",
       "      <td>f3bb9b9613beaefbee0a53be1fb66b94fde1ce19</td>\n",
       "      <td>.../org/apache/hadoop/hbase/client/Result.java</td>\n",
       "      <td>2</td>\n",
       "    </tr>\n",
       "    <tr>\n",
       "      <th>3</th>\n",
       "      <td>f3ff55a2b4bb7a8b4980fdbb5b1f7a8d033631f3</td>\n",
       "      <td>f3bb9b9613beaefbee0a53be1fb66b94fde1ce19</td>\n",
       "      <td>.../apache/hadoop/hbase/ByteBufferKeyValue.java</td>\n",
       "      <td>2</td>\n",
       "    </tr>\n",
       "    <tr>\n",
       "      <th>4</th>\n",
       "      <td>f3ff55a2b4bb7a8b4980fdbb5b1f7a8d033631f3</td>\n",
       "      <td>f3bb9b9613beaefbee0a53be1fb66b94fde1ce19</td>\n",
       "      <td>.../java/org/apache/hadoop/hbase/CellUtil.java</td>\n",
       "      <td>2</td>\n",
       "    </tr>\n",
       "  </tbody>\n",
       "</table>\n",
       "</div>"
      ],
      "text/plain": [
       "                                 commitID_1  \\\n",
       "0  f3ff55a2b4bb7a8b4980fdbb5b1f7a8d033631f3   \n",
       "1  f3ff55a2b4bb7a8b4980fdbb5b1f7a8d033631f3   \n",
       "2  f3ff55a2b4bb7a8b4980fdbb5b1f7a8d033631f3   \n",
       "3  f3ff55a2b4bb7a8b4980fdbb5b1f7a8d033631f3   \n",
       "4  f3ff55a2b4bb7a8b4980fdbb5b1f7a8d033631f3   \n",
       "\n",
       "                                 commitID_2  \\\n",
       "0  f3bb9b9613beaefbee0a53be1fb66b94fde1ce19   \n",
       "1  f3bb9b9613beaefbee0a53be1fb66b94fde1ce19   \n",
       "2  f3bb9b9613beaefbee0a53be1fb66b94fde1ce19   \n",
       "3  f3bb9b9613beaefbee0a53be1fb66b94fde1ce19   \n",
       "4  f3bb9b9613beaefbee0a53be1fb66b94fde1ce19   \n",
       "\n",
       "                                           filename #line_changed  \n",
       "0      .../hadoop/hbase/client/ConnectionUtils.java             2  \n",
       "1  .../org/apache/hadoop/hbase/client/Mutation.java             2  \n",
       "2    .../org/apache/hadoop/hbase/client/Result.java             2  \n",
       "3   .../apache/hadoop/hbase/ByteBufferKeyValue.java             2  \n",
       "4    .../java/org/apache/hadoop/hbase/CellUtil.java             2  "
      ]
     },
     "execution_count": 73,
     "metadata": {},
     "output_type": "execute_result"
    }
   ],
   "source": [
    "datapatience = pd.read_csv(\"diffpatience.csv\")\n",
    "sc = datapatience[header]\n",
    "sc.head()"
   ]
  },
  {
   "cell_type": "code",
   "execution_count": 74,
   "metadata": {},
   "outputs": [
    {
     "data": {
      "text/html": [
       "<div>\n",
       "<style>\n",
       "    .dataframe thead tr:only-child th {\n",
       "        text-align: right;\n",
       "    }\n",
       "\n",
       "    .dataframe thead th {\n",
       "        text-align: left;\n",
       "    }\n",
       "\n",
       "    .dataframe tbody tr th {\n",
       "        vertical-align: top;\n",
       "    }\n",
       "</style>\n",
       "<table border=\"1\" class=\"dataframe\">\n",
       "  <thead>\n",
       "    <tr style=\"text-align: right;\">\n",
       "      <th></th>\n",
       "      <th>filename</th>\n",
       "      <th>SUM #line_changed</th>\n",
       "    </tr>\n",
       "  </thead>\n",
       "  <tbody>\n",
       "    <tr>\n",
       "      <th>0</th>\n",
       "      <td>.../hbase/protobuf/generated/MasterProtos.java</td>\n",
       "      <td>446796.0</td>\n",
       "    </tr>\n",
       "    <tr>\n",
       "      <th>1</th>\n",
       "      <td>.../shaded/protobuf/generated/MasterProtos.java</td>\n",
       "      <td>365442.0</td>\n",
       "    </tr>\n",
       "    <tr>\n",
       "      <th>2</th>\n",
       "      <td>.../hbase/protobuf/generated/ClientProtos.java</td>\n",
       "      <td>313424.0</td>\n",
       "    </tr>\n",
       "    <tr>\n",
       "      <th>3</th>\n",
       "      <td>.../hadoop/hbase/thrift/generated/Hbase.java</td>\n",
       "      <td>274816.0</td>\n",
       "    </tr>\n",
       "    <tr>\n",
       "      <th>4</th>\n",
       "      <td>.../hbase/thrift2/generated/THBaseService.java</td>\n",
       "      <td>252425.0</td>\n",
       "    </tr>\n",
       "  </tbody>\n",
       "</table>\n",
       "</div>"
      ],
      "text/plain": [
       "                                          filename  SUM #line_changed\n",
       "0   .../hbase/protobuf/generated/MasterProtos.java           446796.0\n",
       "1  .../shaded/protobuf/generated/MasterProtos.java           365442.0\n",
       "2   .../hbase/protobuf/generated/ClientProtos.java           313424.0\n",
       "3     .../hadoop/hbase/thrift/generated/Hbase.java           274816.0\n",
       "4   .../hbase/thrift2/generated/THBaseService.java           252425.0"
      ]
     },
     "execution_count": 74,
     "metadata": {},
     "output_type": "execute_result"
    }
   ],
   "source": [
    "dfpatience = pd.read_csv('diffpatience.csv')\n",
    "dfpatience = (pd.to_numeric(dfpatience['#line_changed'], errors='coerce')\n",
    "       .groupby(dfpatience['filename'])\n",
    "       .sum()\n",
    "       .to_frame()\n",
    "       .add_prefix('SUM ')\n",
    "       .reset_index())\n",
    "\n",
    "col = ['filename','SUM #line_changed']\n",
    "dfpatience = dfpatience.dropna(subset=['SUM #line_changed'])\n",
    "dfpatience = dfpatience.sort_values('SUM #line_changed', ascending=False)\n",
    "\n",
    "dfpatience[col].to_csv('diffpatiencefilechanged.csv')\n",
    "out = pd.read_csv('diffpatiencefilechanged.csv')\n",
    "saved = out[col]\n",
    "saved.head()"
   ]
  },
  {
   "cell_type": "code",
   "execution_count": 79,
   "metadata": {},
   "outputs": [
    {
     "data": {
      "text/html": [
       "<script>requirejs.config({paths: { 'plotly': ['https://cdn.plot.ly/plotly-latest.min']},});if(!window.Plotly) {{require(['plotly'],function(plotly) {window.Plotly=plotly;});}}</script>"
      ],
      "text/vnd.plotly.v1+html": [
       "<script>requirejs.config({paths: { 'plotly': ['https://cdn.plot.ly/plotly-latest.min']},});if(!window.Plotly) {{require(['plotly'],function(plotly) {window.Plotly=plotly;});}}</script>"
      ]
     },
     "metadata": {},
     "output_type": "display_data"
    },
    {
     "data": {
      "application/vnd.plotly.v1+json": {
       "data": [
        {
         "name": "--diff-algorithm=patience",
         "type": "bar",
         "x": [
          ".../hbase/protobuf/generated/MasterProtos.java",
          ".../shaded/protobuf/generated/MasterProtos.java",
          ".../hbase/protobuf/generated/ClientProtos.java",
          ".../hadoop/hbase/thrift/generated/Hbase.java",
          ".../hbase/thrift2/generated/THBaseService.java",
          ".../hbase/protobuf/generated/HBaseProtos.java",
          ".../hbase/protobuf/generated/QuotaProtos.java",
          ".../protobuf/generated/MasterProcedureProtos.java",
          ".../protobuf/generated/ClusterStatusProtos.java",
          ".../hbase/protobuf/generated/AdminProtos.java"
         ],
         "y": [
          446796,
          365442,
          313424,
          274816,
          252425,
          249312,
          241684,
          225104,
          216900,
          172162
         ]
        },
        {
         "name": "--diff-algorithm=patience",
         "type": "scatter",
         "x": [
          ".../hbase/protobuf/generated/MasterProtos.java",
          ".../shaded/protobuf/generated/MasterProtos.java",
          ".../hbase/protobuf/generated/ClientProtos.java",
          ".../hadoop/hbase/thrift/generated/Hbase.java",
          ".../hbase/thrift2/generated/THBaseService.java",
          ".../hbase/protobuf/generated/HBaseProtos.java",
          ".../hbase/protobuf/generated/QuotaProtos.java",
          ".../protobuf/generated/MasterProcedureProtos.java",
          ".../protobuf/generated/ClusterStatusProtos.java",
          ".../hbase/protobuf/generated/AdminProtos.java"
         ],
         "y": [
          446796,
          365442,
          313424,
          274816,
          252425,
          249312,
          241684,
          225104,
          216900,
          172162
         ]
        }
       ],
       "layout": {
        "barmode": "group"
       }
      },
      "text/html": [
       "<div id=\"6820cf36-2e2c-4bd5-b05c-021ed7844fa4\" style=\"height: 525px; width: 100%;\" class=\"plotly-graph-div\"></div><script type=\"text/javascript\">require([\"plotly\"], function(Plotly) { window.PLOTLYENV=window.PLOTLYENV || {};window.PLOTLYENV.BASE_URL=\"https://plot.ly\";Plotly.newPlot(\"6820cf36-2e2c-4bd5-b05c-021ed7844fa4\", [{\"type\": \"bar\", \"x\": [\".../hbase/protobuf/generated/MasterProtos.java\", \".../shaded/protobuf/generated/MasterProtos.java\", \".../hbase/protobuf/generated/ClientProtos.java\", \".../hadoop/hbase/thrift/generated/Hbase.java\", \".../hbase/thrift2/generated/THBaseService.java\", \".../hbase/protobuf/generated/HBaseProtos.java\", \".../hbase/protobuf/generated/QuotaProtos.java\", \".../protobuf/generated/MasterProcedureProtos.java\", \".../protobuf/generated/ClusterStatusProtos.java\", \".../hbase/protobuf/generated/AdminProtos.java\"], \"y\": [446796.0, 365442.0, 313424.0, 274816.0, 252425.0, 249312.0, 241684.0, 225104.0, 216900.0, 172162.0], \"name\": \"--diff-algorithm=patience\"}, {\"type\": \"scatter\", \"x\": [\".../hbase/protobuf/generated/MasterProtos.java\", \".../shaded/protobuf/generated/MasterProtos.java\", \".../hbase/protobuf/generated/ClientProtos.java\", \".../hadoop/hbase/thrift/generated/Hbase.java\", \".../hbase/thrift2/generated/THBaseService.java\", \".../hbase/protobuf/generated/HBaseProtos.java\", \".../hbase/protobuf/generated/QuotaProtos.java\", \".../protobuf/generated/MasterProcedureProtos.java\", \".../protobuf/generated/ClusterStatusProtos.java\", \".../hbase/protobuf/generated/AdminProtos.java\"], \"y\": [446796.0, 365442.0, 313424.0, 274816.0, 252425.0, 249312.0, 241684.0, 225104.0, 216900.0, 172162.0], \"name\": \"--diff-algorithm=patience\"}], {\"barmode\": \"group\"}, {\"showLink\": false, \"linkText\": \"Export to plot.ly\"})});</script>"
      ],
      "text/vnd.plotly.v1+html": [
       "<div id=\"6820cf36-2e2c-4bd5-b05c-021ed7844fa4\" style=\"height: 525px; width: 100%;\" class=\"plotly-graph-div\"></div><script type=\"text/javascript\">require([\"plotly\"], function(Plotly) { window.PLOTLYENV=window.PLOTLYENV || {};window.PLOTLYENV.BASE_URL=\"https://plot.ly\";Plotly.newPlot(\"6820cf36-2e2c-4bd5-b05c-021ed7844fa4\", [{\"type\": \"bar\", \"x\": [\".../hbase/protobuf/generated/MasterProtos.java\", \".../shaded/protobuf/generated/MasterProtos.java\", \".../hbase/protobuf/generated/ClientProtos.java\", \".../hadoop/hbase/thrift/generated/Hbase.java\", \".../hbase/thrift2/generated/THBaseService.java\", \".../hbase/protobuf/generated/HBaseProtos.java\", \".../hbase/protobuf/generated/QuotaProtos.java\", \".../protobuf/generated/MasterProcedureProtos.java\", \".../protobuf/generated/ClusterStatusProtos.java\", \".../hbase/protobuf/generated/AdminProtos.java\"], \"y\": [446796.0, 365442.0, 313424.0, 274816.0, 252425.0, 249312.0, 241684.0, 225104.0, 216900.0, 172162.0], \"name\": \"--diff-algorithm=patience\"}, {\"type\": \"scatter\", \"x\": [\".../hbase/protobuf/generated/MasterProtos.java\", \".../shaded/protobuf/generated/MasterProtos.java\", \".../hbase/protobuf/generated/ClientProtos.java\", \".../hadoop/hbase/thrift/generated/Hbase.java\", \".../hbase/thrift2/generated/THBaseService.java\", \".../hbase/protobuf/generated/HBaseProtos.java\", \".../hbase/protobuf/generated/QuotaProtos.java\", \".../protobuf/generated/MasterProcedureProtos.java\", \".../protobuf/generated/ClusterStatusProtos.java\", \".../hbase/protobuf/generated/AdminProtos.java\"], \"y\": [446796.0, 365442.0, 313424.0, 274816.0, 252425.0, 249312.0, 241684.0, 225104.0, 216900.0, 172162.0], \"name\": \"--diff-algorithm=patience\"}], {\"barmode\": \"group\"}, {\"showLink\": false, \"linkText\": \"Export to plot.ly\"})});</script>"
      ]
     },
     "metadata": {},
     "output_type": "display_data"
    }
   ],
   "source": [
    "trace5 = go.Bar(\n",
    "    x=dfpatience['filename'][:10],\n",
    "    y=dfpatience['SUM #line_changed'][:10],\n",
    "    name='--diff-algorithm=patience'\n",
    ")\n",
    "\n",
    "trace6 = go.Scatter(\n",
    "    x=dfpatience['filename'][:10],\n",
    "    y=dfpatience['SUM #line_changed'][:10],\n",
    "    name='--diff-algorithm=patience')\n",
    "\n",
    "dt = [trace5, trace6]\n",
    "layout = go.Layout(\n",
    "    barmode='group'\n",
    ")\n",
    "\n",
    "init_notebook_mode(connected=True)\n",
    "fig = go.Figure(data=dt, layout=layout)\n",
    "iplot(fig, show_link=False)"
   ]
  },
  {
   "cell_type": "markdown",
   "metadata": {},
   "source": [
    "# Applying git diff -w --diff-algorithm=minimal --stat commitID_1 commitID2"
   ]
  },
  {
   "cell_type": "code",
   "execution_count": 80,
   "metadata": {},
   "outputs": [
    {
     "name": "stdout",
     "output_type": "stream",
     "text": [
      "Applying diff between commits = 14893 out of 14893"
     ]
    }
   ],
   "source": [
    "diffminimal = []\n",
    "for i in range(0, len(com_ID)-3):\n",
    "    sys.stdout.write('\\rApplying diff between commits = %i' % (i+1) + ' out of %i' % (len(com_ID)-3))\n",
    "    sys.stdout.flush()\n",
    "    diff_cmd = \"git diff -w --diff-algorithm=minimal --stat \" + com_ID[i+1] + \" \" + com_ID[i]\n",
    "    tmp = (str(execute_shell_command(com_ID[i+1], com_ID[i], diff_cmd, repository)).replace(\"(\",'').replace(\"+\",'').\n",
    "           replace(\"-\",'').replace(\"\\\\n\",'').replace(\"b'\",'').replace(\"(+)\",'').replace(\"(-)\",'').replace(\")\",'').\n",
    "           replace(\"|\",'').replace(\" => \",'=>').replace(\"... \",'...').replace(\"...> \",'...>').\n",
    "           replace(\"...=> \",'...=>').replace(\" Code \",\"Code\"))\n",
    "    tmp = re.sub(\"([a-z])\" and \"([ ])\", r\"\\1,\", tmp)\n",
    "    tmp2 = (str(tmp).replace(\"\\'\",'').replace(\", \",'').replace(\",files\",'files').replace(\",changed\",\"changed\").\n",
    "                    replace(\",file\",'files').replace(\",insertions\",'insertions').\n",
    "                    replace(\",insertion\",'insertions').replace(\",deletions,\",'deletions').\n",
    "                    replace(\",deletion,\",'deletions').replace(\" \",''))\n",
    "    diffminimal.append(str(tmp2))\n",
    "    \n",
    "diffminresult = []\n",
    "for item in diffminimal:\n",
    "    if item == ', ':\n",
    "        del item\n",
    "    else:\n",
    "        diffminresult.append(item)"
   ]
  },
  {
   "cell_type": "code",
   "execution_count": 81,
   "metadata": {
    "collapsed": true
   },
   "outputs": [],
   "source": [
    "diffminsres = []\n",
    "for x in range(0,len(diffminresult)-1):\n",
    "    line = diffminresult[x]\n",
    "    if \"changed\" not in diffminresult[x]:\n",
    "        pass\n",
    "    else:\n",
    "        if \"deletions\" not in diffminresult[x]:\n",
    "            diffminsres.append(line + '0 deletions')\n",
    "        else:\n",
    "            if \"insertions\" not in diffminresult[x]:\n",
    "                index = line.find('changed,')\n",
    "                diffminsres.append(line[:index+8] + '0 insertions' + line[index+7:])\n",
    "            else:\n",
    "                diffminsres.append(diffminresult[x])"
   ]
  },
  {
   "cell_type": "code",
   "execution_count": 82,
   "metadata": {
    "collapsed": true
   },
   "outputs": [],
   "source": [
    "klminimal = []\n",
    "resminimal = []\n",
    "for x in range(0, len(diffminsres)-1):\n",
    "    klminimal = diffminsres[x].split(',')\n",
    "    resminimal.append(klminimal)"
   ]
  },
  {
   "cell_type": "code",
   "execution_count": 83,
   "metadata": {
    "collapsed": true
   },
   "outputs": [],
   "source": [
    "temp1min = []\n",
    "for b in range(0,len(resminimal)-1):\n",
    "    temp2min = []\n",
    "    for c in range(0,len(resminimal[b])-3):\n",
    "        temp2min.append(resminimal[b][c])\n",
    "    temp1min.append(temp2min)"
   ]
  },
  {
   "cell_type": "code",
   "execution_count": 84,
   "metadata": {
    "collapsed": true
   },
   "outputs": [],
   "source": [
    "with open('diffminimal.csv', 'w') as csvfile:\n",
    "    header = ['commitID_1', 'commitID_2', 'filename', '#line_changed']\n",
    "    writers = csv.writer(csvfile, delimiter=',')\n",
    "    writers.writerow(header)\n",
    "    for cmp in range(0,len(temp1min)-1):\n",
    "        x = 2\n",
    "        y = 4\n",
    "        if len(temp1min[cmp])<=4:\n",
    "            writers.writerow(temp1min[cmp])\n",
    "        else:\n",
    "            s = (len(temp1min[cmp])-2)/2\n",
    "            for g in range(1, int(s)):\n",
    "                v = []\n",
    "                for col1 in range(0,2):\n",
    "                    v.append(temp1min[cmp][col1])\n",
    "                for col2 in range(x,y):\n",
    "                    if re.findall(r'\\d+',temp1min[cmp][col2]) == True:\n",
    "                        v.append(re.findall(r'\\d+',temp1min[cmp][col2]))\n",
    "                    else:\n",
    "                        v.append(temp1min[cmp][col2])\n",
    "                x = x + 2\n",
    "                y = y + 2\n",
    "                writers.writerow(v)"
   ]
  },
  {
   "cell_type": "code",
   "execution_count": 85,
   "metadata": {},
   "outputs": [
    {
     "data": {
      "text/html": [
       "<div>\n",
       "<style>\n",
       "    .dataframe thead tr:only-child th {\n",
       "        text-align: right;\n",
       "    }\n",
       "\n",
       "    .dataframe thead th {\n",
       "        text-align: left;\n",
       "    }\n",
       "\n",
       "    .dataframe tbody tr th {\n",
       "        vertical-align: top;\n",
       "    }\n",
       "</style>\n",
       "<table border=\"1\" class=\"dataframe\">\n",
       "  <thead>\n",
       "    <tr style=\"text-align: right;\">\n",
       "      <th></th>\n",
       "      <th>commitID_1</th>\n",
       "      <th>commitID_2</th>\n",
       "      <th>filename</th>\n",
       "      <th>#line_changed</th>\n",
       "    </tr>\n",
       "  </thead>\n",
       "  <tbody>\n",
       "    <tr>\n",
       "      <th>0</th>\n",
       "      <td>f3ff55a2b4bb7a8b4980fdbb5b1f7a8d033631f3</td>\n",
       "      <td>f3bb9b9613beaefbee0a53be1fb66b94fde1ce19</td>\n",
       "      <td>.../hadoop/hbase/client/ConnectionUtils.java</td>\n",
       "      <td>2</td>\n",
       "    </tr>\n",
       "    <tr>\n",
       "      <th>1</th>\n",
       "      <td>f3ff55a2b4bb7a8b4980fdbb5b1f7a8d033631f3</td>\n",
       "      <td>f3bb9b9613beaefbee0a53be1fb66b94fde1ce19</td>\n",
       "      <td>.../org/apache/hadoop/hbase/client/Mutation.java</td>\n",
       "      <td>2</td>\n",
       "    </tr>\n",
       "    <tr>\n",
       "      <th>2</th>\n",
       "      <td>f3ff55a2b4bb7a8b4980fdbb5b1f7a8d033631f3</td>\n",
       "      <td>f3bb9b9613beaefbee0a53be1fb66b94fde1ce19</td>\n",
       "      <td>.../org/apache/hadoop/hbase/client/Result.java</td>\n",
       "      <td>2</td>\n",
       "    </tr>\n",
       "    <tr>\n",
       "      <th>3</th>\n",
       "      <td>f3ff55a2b4bb7a8b4980fdbb5b1f7a8d033631f3</td>\n",
       "      <td>f3bb9b9613beaefbee0a53be1fb66b94fde1ce19</td>\n",
       "      <td>.../apache/hadoop/hbase/ByteBufferKeyValue.java</td>\n",
       "      <td>2</td>\n",
       "    </tr>\n",
       "    <tr>\n",
       "      <th>4</th>\n",
       "      <td>f3ff55a2b4bb7a8b4980fdbb5b1f7a8d033631f3</td>\n",
       "      <td>f3bb9b9613beaefbee0a53be1fb66b94fde1ce19</td>\n",
       "      <td>.../java/org/apache/hadoop/hbase/CellUtil.java</td>\n",
       "      <td>2</td>\n",
       "    </tr>\n",
       "  </tbody>\n",
       "</table>\n",
       "</div>"
      ],
      "text/plain": [
       "                                 commitID_1  \\\n",
       "0  f3ff55a2b4bb7a8b4980fdbb5b1f7a8d033631f3   \n",
       "1  f3ff55a2b4bb7a8b4980fdbb5b1f7a8d033631f3   \n",
       "2  f3ff55a2b4bb7a8b4980fdbb5b1f7a8d033631f3   \n",
       "3  f3ff55a2b4bb7a8b4980fdbb5b1f7a8d033631f3   \n",
       "4  f3ff55a2b4bb7a8b4980fdbb5b1f7a8d033631f3   \n",
       "\n",
       "                                 commitID_2  \\\n",
       "0  f3bb9b9613beaefbee0a53be1fb66b94fde1ce19   \n",
       "1  f3bb9b9613beaefbee0a53be1fb66b94fde1ce19   \n",
       "2  f3bb9b9613beaefbee0a53be1fb66b94fde1ce19   \n",
       "3  f3bb9b9613beaefbee0a53be1fb66b94fde1ce19   \n",
       "4  f3bb9b9613beaefbee0a53be1fb66b94fde1ce19   \n",
       "\n",
       "                                           filename #line_changed  \n",
       "0      .../hadoop/hbase/client/ConnectionUtils.java             2  \n",
       "1  .../org/apache/hadoop/hbase/client/Mutation.java             2  \n",
       "2    .../org/apache/hadoop/hbase/client/Result.java             2  \n",
       "3   .../apache/hadoop/hbase/ByteBufferKeyValue.java             2  \n",
       "4    .../java/org/apache/hadoop/hbase/CellUtil.java             2  "
      ]
     },
     "execution_count": 85,
     "metadata": {},
     "output_type": "execute_result"
    }
   ],
   "source": [
    "dataminimal = pd.read_csv(\"diffminimal.csv\")\n",
    "sc = dataminimal[header]\n",
    "sc.head()"
   ]
  },
  {
   "cell_type": "code",
   "execution_count": 86,
   "metadata": {},
   "outputs": [
    {
     "data": {
      "text/html": [
       "<div>\n",
       "<style>\n",
       "    .dataframe thead tr:only-child th {\n",
       "        text-align: right;\n",
       "    }\n",
       "\n",
       "    .dataframe thead th {\n",
       "        text-align: left;\n",
       "    }\n",
       "\n",
       "    .dataframe tbody tr th {\n",
       "        vertical-align: top;\n",
       "    }\n",
       "</style>\n",
       "<table border=\"1\" class=\"dataframe\">\n",
       "  <thead>\n",
       "    <tr style=\"text-align: right;\">\n",
       "      <th></th>\n",
       "      <th>filename</th>\n",
       "      <th>SUM #line_changed</th>\n",
       "    </tr>\n",
       "  </thead>\n",
       "  <tbody>\n",
       "    <tr>\n",
       "      <th>0</th>\n",
       "      <td>.../hbase/protobuf/generated/MasterProtos.java</td>\n",
       "      <td>446760.0</td>\n",
       "    </tr>\n",
       "    <tr>\n",
       "      <th>1</th>\n",
       "      <td>.../shaded/protobuf/generated/MasterProtos.java</td>\n",
       "      <td>365406.0</td>\n",
       "    </tr>\n",
       "    <tr>\n",
       "      <th>2</th>\n",
       "      <td>.../hbase/protobuf/generated/ClientProtos.java</td>\n",
       "      <td>312192.0</td>\n",
       "    </tr>\n",
       "    <tr>\n",
       "      <th>3</th>\n",
       "      <td>.../hadoop/hbase/thrift/generated/Hbase.java</td>\n",
       "      <td>274488.0</td>\n",
       "    </tr>\n",
       "    <tr>\n",
       "      <th>4</th>\n",
       "      <td>.../hbase/thrift2/generated/THBaseService.java</td>\n",
       "      <td>252391.0</td>\n",
       "    </tr>\n",
       "  </tbody>\n",
       "</table>\n",
       "</div>"
      ],
      "text/plain": [
       "                                          filename  SUM #line_changed\n",
       "0   .../hbase/protobuf/generated/MasterProtos.java           446760.0\n",
       "1  .../shaded/protobuf/generated/MasterProtos.java           365406.0\n",
       "2   .../hbase/protobuf/generated/ClientProtos.java           312192.0\n",
       "3     .../hadoop/hbase/thrift/generated/Hbase.java           274488.0\n",
       "4   .../hbase/thrift2/generated/THBaseService.java           252391.0"
      ]
     },
     "execution_count": 86,
     "metadata": {},
     "output_type": "execute_result"
    }
   ],
   "source": [
    "dfminimal = pd.read_csv('diffminimal.csv')\n",
    "dfminimal = (pd.to_numeric(dfminimal['#line_changed'], errors='coerce')\n",
    "       .groupby(dfminimal['filename'])\n",
    "       .sum()\n",
    "       .to_frame()\n",
    "       .add_prefix('SUM ')\n",
    "       .reset_index())\n",
    "\n",
    "col = ['filename','SUM #line_changed']\n",
    "dfminimal = dfminimal.dropna(subset=['SUM #line_changed'])\n",
    "dfminimal = dfminimal.sort_values('SUM #line_changed', ascending=False)\n",
    "\n",
    "dfminimal[col].to_csv('diffminimalfilechanged.csv')\n",
    "out = pd.read_csv('diffminimalfilechanged.csv')\n",
    "saved = out[col]\n",
    "saved.head()"
   ]
  },
  {
   "cell_type": "code",
   "execution_count": 87,
   "metadata": {},
   "outputs": [
    {
     "data": {
      "text/html": [
       "<script>requirejs.config({paths: { 'plotly': ['https://cdn.plot.ly/plotly-latest.min']},});if(!window.Plotly) {{require(['plotly'],function(plotly) {window.Plotly=plotly;});}}</script>"
      ],
      "text/vnd.plotly.v1+html": [
       "<script>requirejs.config({paths: { 'plotly': ['https://cdn.plot.ly/plotly-latest.min']},});if(!window.Plotly) {{require(['plotly'],function(plotly) {window.Plotly=plotly;});}}</script>"
      ]
     },
     "metadata": {},
     "output_type": "display_data"
    },
    {
     "data": {
      "application/vnd.plotly.v1+json": {
       "data": [
        {
         "name": "--diff-algorithm=minimal",
         "type": "bar",
         "x": [
          ".../hbase/protobuf/generated/MasterProtos.java",
          ".../shaded/protobuf/generated/MasterProtos.java",
          ".../hbase/protobuf/generated/ClientProtos.java",
          ".../hadoop/hbase/thrift/generated/Hbase.java",
          ".../hbase/thrift2/generated/THBaseService.java",
          ".../hbase/protobuf/generated/HBaseProtos.java",
          ".../hbase/protobuf/generated/QuotaProtos.java",
          ".../protobuf/generated/MasterProcedureProtos.java",
          ".../protobuf/generated/ClusterStatusProtos.java",
          ".../hbase/protobuf/generated/AdminProtos.java"
         ],
         "y": [
          446760,
          365406,
          312192,
          274488,
          252391,
          249090,
          241684,
          224998,
          216900,
          172168
         ]
        },
        {
         "name": "--diff-algorithm=minimal",
         "type": "scatter",
         "x": [
          ".../hbase/protobuf/generated/MasterProtos.java",
          ".../shaded/protobuf/generated/MasterProtos.java",
          ".../hbase/protobuf/generated/ClientProtos.java",
          ".../hadoop/hbase/thrift/generated/Hbase.java",
          ".../hbase/thrift2/generated/THBaseService.java",
          ".../hbase/protobuf/generated/HBaseProtos.java",
          ".../hbase/protobuf/generated/QuotaProtos.java",
          ".../protobuf/generated/MasterProcedureProtos.java",
          ".../protobuf/generated/ClusterStatusProtos.java",
          ".../hbase/protobuf/generated/AdminProtos.java"
         ],
         "y": [
          446760,
          365406,
          312192,
          274488,
          252391,
          249090,
          241684,
          224998,
          216900,
          172168
         ]
        }
       ],
       "layout": {
        "barmode": "group"
       }
      },
      "text/html": [
       "<div id=\"4ca71019-c76d-4058-ade3-850b953c8076\" style=\"height: 525px; width: 100%;\" class=\"plotly-graph-div\"></div><script type=\"text/javascript\">require([\"plotly\"], function(Plotly) { window.PLOTLYENV=window.PLOTLYENV || {};window.PLOTLYENV.BASE_URL=\"https://plot.ly\";Plotly.newPlot(\"4ca71019-c76d-4058-ade3-850b953c8076\", [{\"type\": \"bar\", \"x\": [\".../hbase/protobuf/generated/MasterProtos.java\", \".../shaded/protobuf/generated/MasterProtos.java\", \".../hbase/protobuf/generated/ClientProtos.java\", \".../hadoop/hbase/thrift/generated/Hbase.java\", \".../hbase/thrift2/generated/THBaseService.java\", \".../hbase/protobuf/generated/HBaseProtos.java\", \".../hbase/protobuf/generated/QuotaProtos.java\", \".../protobuf/generated/MasterProcedureProtos.java\", \".../protobuf/generated/ClusterStatusProtos.java\", \".../hbase/protobuf/generated/AdminProtos.java\"], \"y\": [446760.0, 365406.0, 312192.0, 274488.0, 252391.0, 249090.0, 241684.0, 224998.0, 216900.0, 172168.0], \"name\": \"--diff-algorithm=minimal\"}, {\"type\": \"scatter\", \"x\": [\".../hbase/protobuf/generated/MasterProtos.java\", \".../shaded/protobuf/generated/MasterProtos.java\", \".../hbase/protobuf/generated/ClientProtos.java\", \".../hadoop/hbase/thrift/generated/Hbase.java\", \".../hbase/thrift2/generated/THBaseService.java\", \".../hbase/protobuf/generated/HBaseProtos.java\", \".../hbase/protobuf/generated/QuotaProtos.java\", \".../protobuf/generated/MasterProcedureProtos.java\", \".../protobuf/generated/ClusterStatusProtos.java\", \".../hbase/protobuf/generated/AdminProtos.java\"], \"y\": [446760.0, 365406.0, 312192.0, 274488.0, 252391.0, 249090.0, 241684.0, 224998.0, 216900.0, 172168.0], \"name\": \"--diff-algorithm=minimal\"}], {\"barmode\": \"group\"}, {\"showLink\": false, \"linkText\": \"Export to plot.ly\"})});</script>"
      ],
      "text/vnd.plotly.v1+html": [
       "<div id=\"4ca71019-c76d-4058-ade3-850b953c8076\" style=\"height: 525px; width: 100%;\" class=\"plotly-graph-div\"></div><script type=\"text/javascript\">require([\"plotly\"], function(Plotly) { window.PLOTLYENV=window.PLOTLYENV || {};window.PLOTLYENV.BASE_URL=\"https://plot.ly\";Plotly.newPlot(\"4ca71019-c76d-4058-ade3-850b953c8076\", [{\"type\": \"bar\", \"x\": [\".../hbase/protobuf/generated/MasterProtos.java\", \".../shaded/protobuf/generated/MasterProtos.java\", \".../hbase/protobuf/generated/ClientProtos.java\", \".../hadoop/hbase/thrift/generated/Hbase.java\", \".../hbase/thrift2/generated/THBaseService.java\", \".../hbase/protobuf/generated/HBaseProtos.java\", \".../hbase/protobuf/generated/QuotaProtos.java\", \".../protobuf/generated/MasterProcedureProtos.java\", \".../protobuf/generated/ClusterStatusProtos.java\", \".../hbase/protobuf/generated/AdminProtos.java\"], \"y\": [446760.0, 365406.0, 312192.0, 274488.0, 252391.0, 249090.0, 241684.0, 224998.0, 216900.0, 172168.0], \"name\": \"--diff-algorithm=minimal\"}, {\"type\": \"scatter\", \"x\": [\".../hbase/protobuf/generated/MasterProtos.java\", \".../shaded/protobuf/generated/MasterProtos.java\", \".../hbase/protobuf/generated/ClientProtos.java\", \".../hadoop/hbase/thrift/generated/Hbase.java\", \".../hbase/thrift2/generated/THBaseService.java\", \".../hbase/protobuf/generated/HBaseProtos.java\", \".../hbase/protobuf/generated/QuotaProtos.java\", \".../protobuf/generated/MasterProcedureProtos.java\", \".../protobuf/generated/ClusterStatusProtos.java\", \".../hbase/protobuf/generated/AdminProtos.java\"], \"y\": [446760.0, 365406.0, 312192.0, 274488.0, 252391.0, 249090.0, 241684.0, 224998.0, 216900.0, 172168.0], \"name\": \"--diff-algorithm=minimal\"}], {\"barmode\": \"group\"}, {\"showLink\": false, \"linkText\": \"Export to plot.ly\"})});</script>"
      ]
     },
     "metadata": {},
     "output_type": "display_data"
    }
   ],
   "source": [
    "trace7 = go.Bar(\n",
    "    x=dfminimal['filename'][:10],\n",
    "    y=dfminimal['SUM #line_changed'][:10],\n",
    "    name='--diff-algorithm=minimal'\n",
    ")\n",
    "\n",
    "trace8 = go.Scatter(\n",
    "    x=dfminimal['filename'][:10],\n",
    "    y=dfminimal['SUM #line_changed'][:10],\n",
    "    name='--diff-algorithm=minimal')\n",
    "\n",
    "dt = [trace7, trace8]\n",
    "layout = go.Layout(\n",
    "    barmode='group'\n",
    ")\n",
    "\n",
    "init_notebook_mode(connected=True)\n",
    "fig = go.Figure(data=dt, layout=layout)\n",
    "iplot(fig, show_link=False)"
   ]
  },
  {
   "cell_type": "code",
   "execution_count": null,
   "metadata": {
    "collapsed": true
   },
   "outputs": [],
   "source": [
    "dtcombine = [trace1, trace3, trace5, trace7]\n",
    "layout = go.Layout(\n",
    "    barmode='group'\n",
    ")\n",
    "\n",
    "init_notebook_mode(connected=True)\n",
    "fig = go.Figure(data=dtcombine, layout=layout)\n",
    "iplot(fig, show_link=False)"
   ]
  }
 ],
 "metadata": {
  "kernelspec": {
   "display_name": "Python 3",
   "language": "python",
   "name": "python3"
  },
  "language_info": {
   "codemirror_mode": {
    "name": "ipython",
    "version": 3
   },
   "file_extension": ".py",
   "mimetype": "text/x-python",
   "name": "python",
   "nbconvert_exporter": "python",
   "pygments_lexer": "ipython3",
   "version": "3.6.3"
  }
 },
 "nbformat": 4,
 "nbformat_minor": 2
}
