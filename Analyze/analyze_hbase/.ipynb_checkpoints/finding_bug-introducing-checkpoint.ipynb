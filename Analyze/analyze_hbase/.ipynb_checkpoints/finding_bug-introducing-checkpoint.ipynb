{
 "cells": [
  {
   "cell_type": "code",
   "execution_count": null,
   "metadata": {},
   "outputs": [],
   "source": [
    "import os, glob, json, csv, subprocess, sys, re\n",
    "from git import *\n",
    "from subprocess import Popen, PIPE\n",
    "from os import path\n",
    "import pandas as pd\n",
    "import plotly.graph_objs as go\n",
    "import plotly\n",
    "from plotly.offline import plot, init_notebook_mode, iplot\n",
    "import itertools\n",
    "\n",
    "%matplotlib inline"
   ]
  },
  {
   "cell_type": "markdown",
   "metadata": {},
   "source": [
    "# Defining repository"
   ]
  },
  {
   "cell_type": "code",
   "execution_count": null,
   "metadata": {
    "collapsed": true
   },
   "outputs": [],
   "source": [
    "userhome = os.path.expanduser('~')"
   ]
  },
  {
   "cell_type": "code",
   "execution_count": null,
   "metadata": {
    "collapsed": true
   },
   "outputs": [],
   "source": [
    "repository = userhome + r'/historage-mining/historage/hbase/'"
   ]
  },
  {
   "cell_type": "markdown",
   "metadata": {},
   "source": [
    "# Defining git command function"
   ]
  },
  {
   "cell_type": "code",
   "execution_count": null,
   "metadata": {
    "collapsed": true
   },
   "outputs": [],
   "source": [
    "def execute_command(cmd, work_dir):\n",
    "    \"\"\"Executes a shell command in a subprocess, waiting until it has completed.\n",
    " \n",
    "    :param cmd: Command to execute.\n",
    "    :param work_dir: Working directory path.\n",
    "    \"\"\"\n",
    "    pipe = subprocess.Popen(cmd, shell=True, cwd=work_dir, stdout=subprocess.PIPE, stderr=subprocess.PIPE)\n",
    "    (out, error) = pipe.communicate()\n",
    "    return out, error\n",
    "    pipe.wait()"
   ]
  },
  {
   "cell_type": "code",
   "execution_count": null,
   "metadata": {
    "collapsed": true
   },
   "outputs": [],
   "source": [
    "def execute_shell_command(buglink, id1, id2, cmd, work_dir):\n",
    "    \"\"\"Executes a shell command in a subprocess, waiting until it has completed.\n",
    " \n",
    "    :param cmd: Command to execute.\n",
    "    :param work_dir: Working directory path.\n",
    "    \"\"\"\n",
    "    pipe = subprocess.Popen(cmd, shell=True, cwd=work_dir, stdout=subprocess.PIPE, stderr=subprocess.PIPE)\n",
    "    (out, error) = pipe.communicate()\n",
    "    return buglink, id1, id2, out, error\n",
    "    pipe.wait()"
   ]
  },
  {
   "cell_type": "markdown",
   "metadata": {},
   "source": [
    "# Finding log messages containing bug link"
   ]
  },
  {
   "cell_type": "code",
   "execution_count": null,
   "metadata": {},
   "outputs": [],
   "source": [
    "git_cmd = \"git log --grep='bug' --oneline\"\n",
    "com_log = (str(execute_command(git_cmd, repository)).replace(\"b'\",'').replace('(','',1).split(\"\\\\n\"))[:-1]\n",
    "\n",
    "com_log"
   ]
  },
  {
   "cell_type": "code",
   "execution_count": null,
   "metadata": {},
   "outputs": [],
   "source": [
    "commit = []\n",
    "for xx in range(0,len(com_log)):\n",
    "    tmp = []\n",
    "    comm = com_log[xx].split()\n",
    "    word = ' '.join(comm[1:])\n",
    "    tmp.extend([comm[0],word])\n",
    "    commit.append(tmp)\n",
    "\n",
    "for item in commit:\n",
    "    print (item)"
   ]
  },
  {
   "cell_type": "code",
   "execution_count": null,
   "metadata": {},
   "outputs": [],
   "source": [
    "#commitbugs = []\n",
    "bug_links = []\n",
    "\n",
    "for xx in range(0,len(com_log)):\n",
    "    tmp = []\n",
    "    comm = com_log[xx].split()\n",
    "    splitres = (str(comm[int(len(comm)/2):]))\n",
    "    letter = re.findall(r\"[HBASE]+[-][0-9]+\", splitres)\n",
    "    if letter != []:\n",
    "        bug_links.extend(letter)\n",
    "        #word = ' '.join(comm[1:len(comm)])\n",
    "        #tmp.extend([comm[0],word])\n",
    "        #commitbugs.append(tmp)\n",
    "    else:\n",
    "        pass\n",
    "\n",
    "bug_links = sorted(bug_links, reverse=True)"
   ]
  },
  {
   "cell_type": "code",
   "execution_count": null,
   "metadata": {},
   "outputs": [],
   "source": [
    "with open (\"bug_links.txt\", mode=\"wt\", encoding=\"utf-8\") as myfile:\n",
    "    myfile.write('\\n'.join(bug_links))\n",
    "print (\"File bug_links.txt has been created\")"
   ]
  },
  {
   "cell_type": "markdown",
   "metadata": {},
   "source": [
    "git log --oneline | grep 13686"
   ]
  },
  {
   "cell_type": "code",
   "execution_count": null,
   "metadata": {},
   "outputs": [],
   "source": [
    "com_log = []\n",
    "for no, bug_link in enumerate(bug_links):\n",
    "    git_cmd = \"git log --grep='\" + bug_link + \"' --oneline\"\n",
    "    temp = (str(execute_command(git_cmd, repository)).replace(\"b'\",'').replace('(','',1).split(\"\\\\n\"))[:-1]\n",
    "\n",
    "    com_log.append(temp)\n",
    "\n",
    "for item in com_log:\n",
    "    print(item)"
   ]
  },
  {
   "cell_type": "code",
   "execution_count": null,
   "metadata": {},
   "outputs": [],
   "source": [
    "commits = []\n",
    "for x in range(0,len(com_log)):\n",
    "    com = []\n",
    "    com.append(bug_links[x])\n",
    "    for z in range(0,len(com_log[x])):\n",
    "        temp = str(com_log[x][z].split()[0:1]).replace(\"['\",'').replace(\"']\",'')\n",
    "        com.append(temp)\n",
    "    commits.append(com)\n",
    "commits"
   ]
  },
  {
   "cell_type": "markdown",
   "metadata": {},
   "source": [
    "#git log --pretty=%P -n1 145d25dfc2\n",
    "#git diff d69299dfdc44a09c7ac2a6a2c4bfffae4a49a327 145d25dfc2\n",
    "#git diff --name-status d69299dfdc44a09c7ac2a6a2c4bfffae4a49a327 145d25dfc2"
   ]
  },
  {
   "cell_type": "code",
   "execution_count": null,
   "metadata": {},
   "outputs": [],
   "source": [
    "commitid = []\n",
    "for x, y in enumerate(commits):\n",
    "    commitid.append(commits[x][2:])\n",
    "    \n",
    "commitid"
   ]
  },
  {
   "cell_type": "markdown",
   "metadata": {},
   "source": [
    "# Finding parenthash"
   ]
  },
  {
   "cell_type": "code",
   "execution_count": null,
   "metadata": {},
   "outputs": [],
   "source": [
    "parenthash = []\n",
    "for v, w in enumerate(commitid):\n",
    "    bl = []\n",
    "    bl.append(bug_links[v])\n",
    "    for x, y in enumerate(commitid[v]):\n",
    "        bl.append(commitid[v][x])\n",
    "        git_cmd = \"git log --pretty=%P -n1 \" + commitid[v][x]\n",
    "        temp = (str(execute_command(git_cmd, repository)).replace(\"b'\",'').replace('(','',1).split(\"\\\\n\"))[:-1]\n",
    "        bl.append(temp[0])\n",
    "    parenthash.append(bl)\n",
    "    \n",
    "parenthash"
   ]
  },
  {
   "cell_type": "code",
   "execution_count": null,
   "metadata": {},
   "outputs": [],
   "source": [
    "len(parenthash[5])"
   ]
  },
  {
   "cell_type": "code",
   "execution_count": null,
   "metadata": {},
   "outputs": [],
   "source": [
    "with open(\"parenthash.csv\", 'w') as parent:\n",
    "    header = ['bug_link','commitID','parenthash']\n",
    "    writers = csv.writer(parent, delimiter=',')\n",
    "    writers.writerow(header)\n",
    "    for k in range(0,len(parenthash)):\n",
    "        if len(parenthash[k]) <= 3:\n",
    "            writers.writerow(parenthash[k])\n",
    "        else:\n",
    "            x = 1\n",
    "            y = 2\n",
    "            while y <= len(parenthash[k]):\n",
    "                temp = []\n",
    "                temp.append(parenthash[k][0])\n",
    "                for col2 in (x,y):\n",
    "                    temp.append(parenthash[k][col2])\n",
    "                writers.writerow(temp)\n",
    "                x = x + 2\n",
    "                y = y + 2"
   ]
  },
  {
   "cell_type": "markdown",
   "metadata": {},
   "source": [
    "# Applying git diff without any algorithms"
   ]
  },
  {
   "cell_type": "code",
   "execution_count": null,
   "metadata": {},
   "outputs": [],
   "source": [
    "diffs = []\n",
    "for v in range(0,len(parenthash)):\n",
    "    p1 = 2\n",
    "    p2 = 1\n",
    "    diff = []\n",
    "    while p1 < len(parenthash[v]):\n",
    "        diff_cmd = \"git diff \" + parenthash[v][p1] + \" \" + parenthash[v][p2] + \" --stat\"\n",
    "        tmp = (str(execute_shell_command(parenthash[v][0],parenthash[v][p1] , parenthash[v][p2], diff_cmd, repository)).replace(\"(\",'').\n",
    "               replace(\"+\",'').replace(\"-\",'').replace(\"\\\\n\",'').replace(\"b'\",'').replace(\"(+)\",'').replace(\"(-)\",'').\n",
    "               replace(\")\",'').replace(\"|\",'').replace(\" => \",'=>').replace(\"... \",'...').replace(\"...> \",'...>').\n",
    "               replace(\"...=> \",'...=>').replace(\" Code \",\"Code\"))\n",
    "        tmp = re.sub(\"([a-z])\" and \"([ ])\", r\"\\1,\", tmp)\n",
    "        tmp2 = (str(tmp).replace(\"\\'\",'').replace(\", \",'').replace(\",files\",'files').replace(\",changed\",\"changed\").\n",
    "                replace(\",file\",'files').replace(\",insertions\",'insertions').replace(\",insertion\",'insertions').\n",
    "                replace(\",deletions,\",'deletions').replace(\",deletion,\",'deletions').replace(\" \",'').\n",
    "                replace(\"HBASE\",'HBASE-'))\n",
    "        diff.append(str(tmp2))\n",
    "        p1 = p1 + 2\n",
    "        p2 = p2 + 2\n",
    "    diffs.append(diff)\n",
    "    \n",
    "diffresult = []\n",
    "for item in diffs:\n",
    "    if item == ', ':\n",
    "        del item\n",
    "    else:\n",
    "        diffresult.append(item)\n",
    "#diffresult[5]"
   ]
  },
  {
   "cell_type": "code",
   "execution_count": null,
   "metadata": {},
   "outputs": [],
   "source": [
    "diffres = []\n",
    "for x in range(0,len(diffresult)):\n",
    "    for y in range(0,len(diffresult[x])):\n",
    "        line = diffresult[x][y]\n",
    "        if \"changed\" not in diffresult[x][y]:\n",
    "            pass\n",
    "        else:\n",
    "            if \"deletions\" not in diffresult[x][y]:\n",
    "                diffres.append(line + '0 deletions')\n",
    "            else:\n",
    "                if \"insertions\" not in diffresult[x][y]:\n",
    "                    index = line.find('changed,')\n",
    "                    diffres.append(line[:index+8] + '0 insertions' + line[index+7:])\n",
    "                else:\n",
    "                    diffres.append(diffresult[x][y])\n",
    "#diffres"
   ]
  },
  {
   "cell_type": "code",
   "execution_count": null,
   "metadata": {},
   "outputs": [],
   "source": [
    "kl = []\n",
    "res = []\n",
    "for v in range(0,len(diffres)):\n",
    "    kl = diffres[v].split(',')\n",
    "    res.append(kl)\n",
    "    del res[v][-3:]\n",
    "#res"
   ]
  },
  {
   "cell_type": "code",
   "execution_count": null,
   "metadata": {
    "collapsed": true
   },
   "outputs": [],
   "source": [
    "with open('diff-bugs.csv', 'w') as csvfile:\n",
    "    header = ['bug_ref','commitID_1', 'commitID_2', 'filename', '#line_changed']\n",
    "    writers = csv.writer(csvfile, delimiter=',')\n",
    "    writers.writerow(header)\n",
    "    for m in range(0,len(res)):\n",
    "        x = 3\n",
    "        y = 5\n",
    "        if len(res[m])<=5:\n",
    "            writers.writerow(res[m])\n",
    "        else:\n",
    "            s = (len(res[m]))/2\n",
    "            for g in range(1, int(s)):\n",
    "                v = []\n",
    "                for col1 in range(0,3):\n",
    "                    v.append(res[m][col1])\n",
    "                for col2 in range(x,y):\n",
    "                    if re.findall(r'\\d+',res[m][col2]) == True:\n",
    "                        v.append(re.findall(r'\\d+',res[m][col2]))\n",
    "                    else:\n",
    "                        v.append(res[m][col2])\n",
    "                x = x + 2\n",
    "                y = y + 2\n",
    "                writers.writerow(v)"
   ]
  },
  {
   "cell_type": "markdown",
   "metadata": {},
   "source": [
    "# Applying git diff -w"
   ]
  },
  {
   "cell_type": "code",
   "execution_count": null,
   "metadata": {},
   "outputs": [],
   "source": [
    "diffsw = []\n",
    "for v in range(0,len(parenthash)):\n",
    "    p1 = 2\n",
    "    p2 = 1\n",
    "    diff = []\n",
    "    while p1 < len(parenthash[v]):\n",
    "        diff_cmd = \"git diff -w \" + parenthash[v][p1] + \" \" + parenthash[v][p2] + \" --stat\"\n",
    "        tmp = (str(execute_shell_command(parenthash[v][0],parenthash[v][p1] , parenthash[v][p2], diff_cmd, repository)).replace(\"(\",'').\n",
    "               replace(\"+\",'').replace(\"-\",'').replace(\"\\\\n\",'').replace(\"b'\",'').replace(\"(+)\",'').replace(\"(-)\",'').\n",
    "               replace(\")\",'').replace(\"|\",'').replace(\" => \",'=>').replace(\"... \",'...').replace(\"...> \",'...>').\n",
    "               replace(\"...=> \",'...=>').replace(\" Code \",\"Code\"))\n",
    "        tmp = re.sub(\"([a-z])\" and \"([ ])\", r\"\\1,\", tmp)\n",
    "        tmp2 = (str(tmp).replace(\"\\'\",'').replace(\", \",'').replace(\",files\",'files').replace(\",changed\",\"changed\").\n",
    "                replace(\",file\",'files').replace(\",insertions\",'insertions').replace(\",insertion\",'insertions').\n",
    "                replace(\",deletions,\",'deletions').replace(\",deletion,\",'deletions').replace(\" \",'').\n",
    "                replace(\"HBASE\",'HBASE-'))\n",
    "        diff.append(str(tmp2))\n",
    "        p1 = p1 + 2\n",
    "        p2 = p2 + 2\n",
    "    diffsw.append(diff)\n",
    "    \n",
    "diffwresult = []\n",
    "for item in diffsw:\n",
    "    if item == ', ':\n",
    "        del item\n",
    "    else:\n",
    "        diffwresult.append(item)\n",
    "#diffwresult[0]"
   ]
  },
  {
   "cell_type": "code",
   "execution_count": null,
   "metadata": {
    "collapsed": true
   },
   "outputs": [],
   "source": [
    "diffwres = []\n",
    "for x in range(0,len(diffwresult)):\n",
    "    for y in range(0,len(diffwresult[x])):\n",
    "        line = diffwresult[x][y]\n",
    "        if \"changed\" not in diffwresult[x][y]:\n",
    "            pass\n",
    "        else:\n",
    "            if \"deletions\" not in diffwresult[x][y]:\n",
    "                diffwres.append(line + '0 deletions')\n",
    "            else:\n",
    "                if \"insertions\" not in diffwresult[x][y]:\n",
    "                    index = line.find('changed,')\n",
    "                    diffwres.append(line[:index+8] + '0 insertions' + line[index+7:])\n",
    "                else:\n",
    "                    diffwres.append(diffwresult[x][y])"
   ]
  },
  {
   "cell_type": "code",
   "execution_count": null,
   "metadata": {},
   "outputs": [],
   "source": [
    "klw = []\n",
    "resw = []\n",
    "for x in range(0, len(diffwres)):\n",
    "    klw = diffwres[x].split(',')\n",
    "    resw.append(klw)\n",
    "    del resw[x][-3:]\n",
    "#resw"
   ]
  },
  {
   "cell_type": "code",
   "execution_count": null,
   "metadata": {
    "collapsed": true
   },
   "outputs": [],
   "source": [
    "with open('diffw-bugs.csv', 'w') as csvfile:\n",
    "    header = ['bug_ref','commitID_1', 'commitID_2', 'filename', '#line_changed']\n",
    "    writers = csv.writer(csvfile, delimiter=',')\n",
    "    writers.writerow(header)\n",
    "    for m in range(0,len(resw)):\n",
    "        x = 3\n",
    "        y = 5\n",
    "        if len(resw[m])<=5:\n",
    "            writers.writerow(resw[m])\n",
    "        else:\n",
    "            s = (len(resw[m]))/2\n",
    "            for g in range(1, int(s)):\n",
    "                v = []\n",
    "                for col1 in range(0,3):\n",
    "                    v.append(resw[m][col1])\n",
    "                for col2 in range(x,y):\n",
    "                    if re.findall(r'\\d+',resw[m][col2]) == True:\n",
    "                        v.append(re.findall(r'\\d+',resw[m][col2]))\n",
    "                    else:\n",
    "                        v.append(resw[m][col2])\n",
    "                x = x + 2\n",
    "                y = y + 2\n",
    "                writers.writerow(v)"
   ]
  },
  {
   "cell_type": "markdown",
   "metadata": {},
   "source": [
    "# Applying git diff -w --diff-algorithm=myers"
   ]
  },
  {
   "cell_type": "code",
   "execution_count": null,
   "metadata": {
    "collapsed": true
   },
   "outputs": [],
   "source": [
    "diffmyers = []\n",
    "for v in range(0,len(parenthash)):\n",
    "    p1 = 2\n",
    "    p2 = 1\n",
    "    diff = []\n",
    "    while p1 < len(parenthash[v]):\n",
    "        diff_cmd = \"git diff -w --diff-algorithm=myers \" + parenthash[v][p1] + \" \" + parenthash[v][p2] + \" --stat\"\n",
    "        tmp = (str(execute_shell_command(parenthash[v][0],parenthash[v][p1] , parenthash[v][p2], diff_cmd, repository)).replace(\"(\",'').\n",
    "               replace(\"+\",'').replace(\"-\",'').replace(\"\\\\n\",'').replace(\"b'\",'').replace(\"(+)\",'').replace(\"(-)\",'').\n",
    "               replace(\")\",'').replace(\"|\",'').replace(\" => \",'=>').replace(\"... \",'...').replace(\"...> \",'...>').\n",
    "               replace(\"...=> \",'...=>').replace(\" Code \",\"Code\"))\n",
    "        tmp = re.sub(\"([a-z])\" and \"([ ])\", r\"\\1,\", tmp)\n",
    "        tmp2 = (str(tmp).replace(\"\\'\",'').replace(\", \",'').replace(\",files\",'files').replace(\",changed\",\"changed\").\n",
    "                replace(\",file\",'files').replace(\",insertions\",'insertions').replace(\",insertion\",'insertions').\n",
    "                replace(\",deletions,\",'deletions').replace(\",deletion,\",'deletions').replace(\" \",'').\n",
    "                replace(\"HBASE\",'HBASE-'))\n",
    "        diff.append(str(tmp2))\n",
    "        p1 = p1 + 2\n",
    "        p2 = p2 + 2\n",
    "    diffmyers.append(diff)\n",
    "    \n",
    "diffmyersresult = []\n",
    "for item in diffmyers:\n",
    "    if item == ', ':\n",
    "        del item\n",
    "    else:\n",
    "        diffmyersresult.append(item)"
   ]
  },
  {
   "cell_type": "code",
   "execution_count": null,
   "metadata": {
    "collapsed": true
   },
   "outputs": [],
   "source": [
    "diffmyersres = []\n",
    "for x in range(0,len(diffmyersresult)):\n",
    "    for y in range(0,len(diffmyersresult[x])):\n",
    "        line = diffmyersresult[x][y]\n",
    "        if \"changed\" not in diffmyersresult[x][y]:\n",
    "            pass\n",
    "        else:\n",
    "            if \"deletions\" not in diffmyersresult[x][y]:\n",
    "                diffmyersres.append(line + '0 deletions')\n",
    "            else:\n",
    "                if \"insertions\" not in diffmyersresult[x][y]:\n",
    "                    index = line.find('changed,')\n",
    "                    diffmyersres.append(line[:index+8] + '0 insertions' + line[index+7:])\n",
    "                else:\n",
    "                    diffmyersres.append(diffmyersresult[x][y])"
   ]
  },
  {
   "cell_type": "code",
   "execution_count": null,
   "metadata": {
    "collapsed": true
   },
   "outputs": [],
   "source": [
    "klmyers = []\n",
    "resmyers = []\n",
    "for x in range(0, len(diffmyersres)):\n",
    "    klmyers = diffmyersres[x].split(',')\n",
    "    resmyers.append(klmyers)\n",
    "    del resmyers[x][-3:]"
   ]
  },
  {
   "cell_type": "code",
   "execution_count": null,
   "metadata": {
    "collapsed": true
   },
   "outputs": [],
   "source": [
    "with open('diffmyers-bugs.csv', 'w') as csvfile:\n",
    "    header = ['bug_ref','commitID_1', 'commitID_2', 'filename', '#line_changed']\n",
    "    writers = csv.writer(csvfile, delimiter=',')\n",
    "    writers.writerow(header)\n",
    "    for m in range(0,len(resmyers)):\n",
    "        x = 3\n",
    "        y = 5\n",
    "        if len(resmyers[m])<=5:\n",
    "            writers.writerow(resmyers[m])\n",
    "        else:\n",
    "            s = (len(resmyers[m]))/2\n",
    "            for g in range(1, int(s)):\n",
    "                v = []\n",
    "                for col1 in range(0,3):\n",
    "                    v.append(resmyers[m][col1])\n",
    "                for col2 in range(x,y):\n",
    "                    if re.findall(r'\\d+',resmyers[m][col2]) == True:\n",
    "                        v.append(re.findall(r'\\d+',resmyers[m][col2]))\n",
    "                    else:\n",
    "                        v.append(resmyers[m][col2])\n",
    "                x = x + 2\n",
    "                y = y + 2\n",
    "                writers.writerow(v)"
   ]
  },
  {
   "cell_type": "markdown",
   "metadata": {},
   "source": [
    "# Applying --diff-algorithm=minimal"
   ]
  },
  {
   "cell_type": "code",
   "execution_count": null,
   "metadata": {
    "collapsed": true
   },
   "outputs": [],
   "source": [
    "diffmin = []\n",
    "for v in range(0,len(parenthash)):\n",
    "    p1 = 2\n",
    "    p2 = 1\n",
    "    diff = []\n",
    "    while p1 < len(parenthash[v]):\n",
    "        diff_cmd = \"git diff -w --diff-algorithm=minimal \" + parenthash[v][p1] + \" \" + parenthash[v][p2] + \" --stat\"\n",
    "        tmp = (str(execute_shell_command(parenthash[v][0],parenthash[v][p1] , parenthash[v][p2], diff_cmd, repository)).replace(\"(\",'').\n",
    "               replace(\"+\",'').replace(\"-\",'').replace(\"\\\\n\",'').replace(\"b'\",'').replace(\"(+)\",'').replace(\"(-)\",'').\n",
    "               replace(\")\",'').replace(\"|\",'').replace(\" => \",'=>').replace(\"... \",'...').replace(\"...> \",'...>').\n",
    "               replace(\"...=> \",'...=>').replace(\" Code \",\"Code\"))\n",
    "        tmp = re.sub(\"([a-z])\" and \"([ ])\", r\"\\1,\", tmp)\n",
    "        tmp2 = (str(tmp).replace(\"\\'\",'').replace(\", \",'').replace(\",files\",'files').replace(\",changed\",\"changed\").\n",
    "                replace(\",file\",'files').replace(\",insertions\",'insertions').replace(\",insertion\",'insertions').\n",
    "                replace(\",deletions,\",'deletions').replace(\",deletion,\",'deletions').replace(\" \",'').\n",
    "                replace(\"HBASE\",'HBASE-'))\n",
    "        diff.append(str(tmp2))\n",
    "        p1 = p1 + 2\n",
    "        p2 = p2 + 2\n",
    "    diffmin.append(diff)\n",
    "    \n",
    "diffminresult = []\n",
    "for item in diffmin:\n",
    "    if item == ', ':\n",
    "        del item\n",
    "    else:\n",
    "        diffminresult.append(item)"
   ]
  },
  {
   "cell_type": "code",
   "execution_count": null,
   "metadata": {
    "collapsed": true
   },
   "outputs": [],
   "source": [
    "diffminres = []\n",
    "for x in range(0,len(diffminresult)):\n",
    "    for y in range(0,len(diffminresult[x])):\n",
    "        line = diffminresult[x][y]\n",
    "        if \"changed\" not in diffminresult[x][y]:\n",
    "            pass\n",
    "        else:\n",
    "            if \"deletions\" not in diffminresult[x][y]:\n",
    "                diffminres.append(line + '0 deletions')\n",
    "            else:\n",
    "                if \"insertions\" not in diffminresult[x][y]:\n",
    "                    index = line.find('changed,')\n",
    "                    diffminres.append(line[:index+8] + '0 insertions' + line[index+7:])\n",
    "                else:\n",
    "                    diffminres.append(diffminresult[x][y])"
   ]
  },
  {
   "cell_type": "code",
   "execution_count": null,
   "metadata": {
    "collapsed": true
   },
   "outputs": [],
   "source": [
    "klmin = []\n",
    "resmin = []\n",
    "for x in range(0, len(diffminres)):\n",
    "    klmin = diffminres[x].split(',')\n",
    "    resmin.append(klmin)\n",
    "    del resmin[x][-3:]"
   ]
  },
  {
   "cell_type": "code",
   "execution_count": null,
   "metadata": {
    "collapsed": true
   },
   "outputs": [],
   "source": [
    "with open('diffmin-bugs.csv', 'w') as csvfile:\n",
    "    header = ['bug_ref','commitID_1', 'commitID_2', 'filename', '#line_changed']\n",
    "    writers = csv.writer(csvfile, delimiter=',')\n",
    "    writers.writerow(header)\n",
    "    for m in range(0,len(resmin)):\n",
    "        x = 3\n",
    "        y = 5\n",
    "        if len(resmin[m])<=5:\n",
    "            writers.writerow(resmin[m])\n",
    "        else:\n",
    "            s = (len(resmin[m]))/2\n",
    "            for g in range(1, int(s)):\n",
    "                v = []\n",
    "                for col1 in range(0,3):\n",
    "                    v.append(resmin[m][col1])\n",
    "                for col2 in range(x,y):\n",
    "                    if re.findall(r'\\d+',resmin[m][col2]) == True:\n",
    "                        v.append(re.findall(r'\\d+',resmin[m][col2]))\n",
    "                    else:\n",
    "                        v.append(resmin[m][col2])\n",
    "                x = x + 2\n",
    "                y = y + 2\n",
    "                writers.writerow(v)"
   ]
  },
  {
   "cell_type": "markdown",
   "metadata": {},
   "source": [
    "# Applying --diff-algorithm=patience"
   ]
  },
  {
   "cell_type": "code",
   "execution_count": null,
   "metadata": {
    "collapsed": true
   },
   "outputs": [],
   "source": [
    "diffpat = []\n",
    "for v in range(0,len(parenthash)):\n",
    "    p1 = 2\n",
    "    p2 = 1\n",
    "    diff = []\n",
    "    while p1 < len(parenthash[v]):\n",
    "        diff_cmd = \"git diff -w --diff-algorithm=patience \" + parenthash[v][p1] + \" \" + parenthash[v][p2] + \" --stat\"\n",
    "        tmp = (str(execute_shell_command(parenthash[v][0],parenthash[v][p1] , parenthash[v][p2], diff_cmd, repository)).replace(\"(\",'').\n",
    "               replace(\"+\",'').replace(\"-\",'').replace(\"\\\\n\",'').replace(\"b'\",'').replace(\"(+)\",'').replace(\"(-)\",'').\n",
    "               replace(\")\",'').replace(\"|\",'').replace(\" => \",'=>').replace(\"... \",'...').replace(\"...> \",'...>').\n",
    "               replace(\"...=> \",'...=>').replace(\" Code \",\"Code\"))\n",
    "        tmp = re.sub(\"([a-z])\" and \"([ ])\", r\"\\1,\", tmp)\n",
    "        tmp2 = (str(tmp).replace(\"\\'\",'').replace(\", \",'').replace(\",files\",'files').replace(\",changed\",\"changed\").\n",
    "                replace(\",file\",'files').replace(\",insertions\",'insertions').replace(\",insertion\",'insertions').\n",
    "                replace(\",deletions,\",'deletions').replace(\",deletion,\",'deletions').replace(\" \",'').\n",
    "                replace(\"HBASE\",'HBASE-'))\n",
    "        diff.append(str(tmp2))\n",
    "        p1 = p1 + 2\n",
    "        p2 = p2 + 2\n",
    "    diffpat.append(diff)\n",
    "    \n",
    "diffpatresult = []\n",
    "for item in diffpat:\n",
    "    if item == ', ':\n",
    "        del item\n",
    "    else:\n",
    "        diffpatresult.append(item)"
   ]
  },
  {
   "cell_type": "code",
   "execution_count": null,
   "metadata": {
    "collapsed": true
   },
   "outputs": [],
   "source": [
    "diffpatres = []\n",
    "for x in range(0,len(diffpatresult)):\n",
    "    for y in range(0,len(diffpatresult[x])):\n",
    "        line = diffpatresult[x][y]\n",
    "        if \"changed\" not in diffpatresult[x][y]:\n",
    "            pass\n",
    "        else:\n",
    "            if \"deletions\" not in diffpatresult[x][y]:\n",
    "                diffpatres.append(line + '0 deletions')\n",
    "            else:\n",
    "                if \"insertions\" not in diffpatresult[x][y]:\n",
    "                    index = line.find('changed,')\n",
    "                    diffpatres.append(line[:index+8] + '0 insertions' + line[index+7:])\n",
    "                else:\n",
    "                    diffpatres.append(diffpatresult[x][y])"
   ]
  },
  {
   "cell_type": "code",
   "execution_count": null,
   "metadata": {
    "collapsed": true
   },
   "outputs": [],
   "source": [
    "klpat = []\n",
    "respat = []\n",
    "for x in range(0, len(diffpatres)):\n",
    "    klpat = diffpatres[x].split(',')\n",
    "    respat.append(klpat)\n",
    "    del respat[x][-3:]"
   ]
  },
  {
   "cell_type": "code",
   "execution_count": null,
   "metadata": {
    "collapsed": true
   },
   "outputs": [],
   "source": [
    "with open('diffpat-bugs.csv', 'w') as csvfile:\n",
    "    header = ['bug_ref','commitID_1', 'commitID_2', 'filename', '#line_changed']\n",
    "    writers = csv.writer(csvfile, delimiter=',')\n",
    "    writers.writerow(header)\n",
    "    for m in range(0,len(respat)):\n",
    "        x = 3\n",
    "        y = 5\n",
    "        if len(respat[m])<=5:\n",
    "            writers.writerow(respat[m])\n",
    "        else:\n",
    "            s = (len(respat[m]))/2\n",
    "            for g in range(1, int(s)):\n",
    "                v = []\n",
    "                for col1 in range(0,3):\n",
    "                    v.append(respat[m][col1])\n",
    "                for col2 in range(x,y):\n",
    "                    if re.findall(r'\\d+',respat[m][col2]) == True:\n",
    "                        v.append(re.findall(r'\\d+',respat[m][col2]))\n",
    "                    else:\n",
    "                        v.append(respat[m][col2])\n",
    "                x = x + 2\n",
    "                y = y + 2\n",
    "                writers.writerow(v)"
   ]
  },
  {
   "cell_type": "markdown",
   "metadata": {},
   "source": [
    "# Applying --diff-algorithm=histogram"
   ]
  },
  {
   "cell_type": "code",
   "execution_count": null,
   "metadata": {
    "collapsed": true
   },
   "outputs": [],
   "source": [
    "diffhist = []\n",
    "for v in range(0,len(parenthash)):\n",
    "    p1 = 2\n",
    "    p2 = 1\n",
    "    diff = []\n",
    "    while p1 < len(parenthash[v]):\n",
    "        diff_cmd = \"git diff -w --diff-algorithm=histogram \" + parenthash[v][p1] + \" \" + parenthash[v][p2] + \" --stat\"\n",
    "        tmp = (str(execute_shell_command(parenthash[v][0],parenthash[v][p1] , parenthash[v][p2], diff_cmd, repository)).replace(\"(\",'').\n",
    "               replace(\"+\",'').replace(\"-\",'').replace(\"\\\\n\",'').replace(\"b'\",'').replace(\"(+)\",'').replace(\"(-)\",'').\n",
    "               replace(\")\",'').replace(\"|\",'').replace(\" => \",'=>').replace(\"... \",'...').replace(\"...> \",'...>').\n",
    "               replace(\"...=> \",'...=>').replace(\" Code \",\"Code\"))\n",
    "        tmp = re.sub(\"([a-z])\" and \"([ ])\", r\"\\1,\", tmp)\n",
    "        tmp2 = (str(tmp).replace(\"\\'\",'').replace(\", \",'').replace(\",files\",'files').replace(\",changed\",\"changed\").\n",
    "                replace(\",file\",'files').replace(\",insertions\",'insertions').replace(\",insertion\",'insertions').\n",
    "                replace(\",deletions,\",'deletions').replace(\",deletion,\",'deletions').replace(\" \",'').\n",
    "                replace(\"HBASE\",'HBASE-'))\n",
    "        diff.append(str(tmp2))\n",
    "        p1 = p1 + 2\n",
    "        p2 = p2 + 2\n",
    "    diffhist.append(diff)\n",
    "    \n",
    "diffhistresult = []\n",
    "for item in diffhist:\n",
    "    if item == ', ':\n",
    "        del item\n",
    "    else:\n",
    "        diffhistresult.append(item)"
   ]
  },
  {
   "cell_type": "code",
   "execution_count": null,
   "metadata": {
    "collapsed": true
   },
   "outputs": [],
   "source": [
    "diffhistres = []\n",
    "for x in range(0,len(diffhistresult)):\n",
    "    for y in range(0,len(diffhistresult[x])):\n",
    "        line = diffhistresult[x][y]\n",
    "        if \"changed\" not in diffhistresult[x][y]:\n",
    "            pass\n",
    "        else:\n",
    "            if \"deletions\" not in diffhistresult[x][y]:\n",
    "                diffhistres.append(line + '0 deletions')\n",
    "            else:\n",
    "                if \"insertions\" not in diffpatresult[x][y]:\n",
    "                    index = line.find('changed,')\n",
    "                    diffhistres.append(line[:index+8] + '0 insertions' + line[index+7:])\n",
    "                else:\n",
    "                    diffhistres.append(diffhistresult[x][y])"
   ]
  },
  {
   "cell_type": "code",
   "execution_count": null,
   "metadata": {
    "collapsed": true
   },
   "outputs": [],
   "source": [
    "klhist = []\n",
    "reshist = []\n",
    "for x in range(0, len(diffhistres)):\n",
    "    klhist = diffhistres[x].split(',')\n",
    "    reshist.append(klhist)\n",
    "    del reshist[x][-3:]"
   ]
  },
  {
   "cell_type": "code",
   "execution_count": null,
   "metadata": {
    "collapsed": true
   },
   "outputs": [],
   "source": [
    "with open('diffhist-bugs.csv', 'w') as csvfile:\n",
    "    header = ['bug_ref','commitID_1', 'commitID_2', 'filename', '#line_changed']\n",
    "    writers = csv.writer(csvfile, delimiter=',')\n",
    "    writers.writerow(header)\n",
    "    for m in range(0,len(reshist)):\n",
    "        x = 3\n",
    "        y = 5\n",
    "        if len(reshist[m])<=5:\n",
    "            writers.writerow(reshist[m])\n",
    "        else:\n",
    "            s = (len(reshist[m]))/2\n",
    "            for g in range(1, int(s)):\n",
    "                v = []\n",
    "                for col1 in range(0,3):\n",
    "                    v.append(reshist[m][col1])\n",
    "                for col2 in range(x,y):\n",
    "                    if re.findall(r'\\d+',reshist[m][col2]) == True:\n",
    "                        v.append(re.findall(r'\\d+',reshist[m][col2]))\n",
    "                    else:\n",
    "                        v.append(reshist[m][col2])\n",
    "                x = x + 2\n",
    "                y = y + 2\n",
    "                writers.writerow(v)"
   ]
  },
  {
   "cell_type": "markdown",
   "metadata": {},
   "source": [
    "# Visualizing the number of changes in different diff using graph"
   ]
  },
  {
   "cell_type": "code",
   "execution_count": null,
   "metadata": {},
   "outputs": [],
   "source": [
    "col = ['filename','#line_changed']\n",
    "df = pd.read_csv('diff-bugs.csv')\n",
    "dfw = pd.read_csv('diffw-bugs.csv')\n",
    "dfmyers = pd.read_csv('diffmyers-bugs.csv')\n",
    "dfhist = pd.read_csv('diffhist-bugs.csv')\n",
    "dfmin = pd.read_csv('diffmin-bugs.csv')\n",
    "dfpat = pd.read_csv('diffpat-bugs.csv')\n",
    "\n",
    "df = df.sort_values('#line_changed', ascending=False)\n",
    "dfw = dfw.sort_values('#line_changed', ascending=False)\n",
    "dfmyers = dfmyers.sort_values('#line_changed', ascending=False)\n",
    "dfhist = dfhist.sort_values('#line_changed', ascending=False)\n",
    "dfmin = dfmin.sort_values('#line_changed', ascending=False)\n",
    "dfpat = dfpat.sort_values('#line_changed', ascending=False)\n",
    "\n",
    "trace = go.Bar(\n",
    "    x=df['filename'][:10],\n",
    "    y=df['#line_changed'][:10],\n",
    "    name='no diff-algorithm')\n",
    "\n",
    "tracew = go.Bar(\n",
    "    x=dfw['filename'][:10],\n",
    "    y=dfw['#line_changed'][:10],\n",
    "    name='adding -w in diff')\n",
    "\n",
    "tracemyers = go.Bar(\n",
    "    x=dfmyers['filename'][:10],\n",
    "    y=dfmyers['#line_changed'][:10],\n",
    "    name='--diff-algorithm=myers')\n",
    "\n",
    "tracehist = go.Bar(\n",
    "    x=dfhist['filename'][:10],\n",
    "    y=dfhist['#line_changed'][:10],\n",
    "    name='--diff-algorithm=histogram')\n",
    "\n",
    "tracemin = go.Bar(\n",
    "    x=dfmin['filename'][:10],\n",
    "    y=dfmin['#line_changed'][:10],\n",
    "    name='--diff-algorithm=minimal')\n",
    "\n",
    "tracepat = go.Bar(\n",
    "    x=dfpat['filename'][:10],\n",
    "    y=dfpat['#line_changed'][:10],\n",
    "    name='--diff-algorithm=patience')\n",
    "\n",
    "dt = [tracemyers, tracehist, tracemin, tracepat]\n",
    "layout = go.Layout(\n",
    "    barmode='group'\n",
    ")\n",
    "\n",
    "init_notebook_mode(connected=True)\n",
    "fig = go.Figure(data=dt, layout=layout)\n",
    "iplot(fig, show_link=False)"
   ]
  },
  {
   "cell_type": "code",
   "execution_count": null,
   "metadata": {},
   "outputs": [],
   "source": [
    "#sorting data based on filename\n",
    "dfhist = dfhist.sort_values('filename')\n",
    "dfmyers = dfmyers.sort_values('filename')\n",
    "dfmin = dfmin.sort_values('filename')\n",
    "dfpat = dfpat.sort_values('filename')"
   ]
  },
  {
   "cell_type": "code",
   "execution_count": null,
   "metadata": {},
   "outputs": [],
   "source": [
    "#Merge dataframes bug-hist and bug-myers\n",
    "datamerge1 = dfhist.merge(dfmyers, on=['bug_ref','commitID_1', 'commitID_2', 'filename'], how=\"outer\", suffixes=('-hist', '-myers'))\n",
    "#Merge dataframes bug-min and bug-pat\n",
    "datamerge2 = dfmin.merge(dfpat, on=['bug_ref','commitID_1', 'commitID_2', 'filename'], how=\"outer\", suffixes=('-min', '-pat'))\n",
    "#Merge all dataframes\n",
    "datamerge3 = datamerge1.merge(datamerge2, on=['bug_ref','commitID_1', 'commitID_2', 'filename'], how=\"outer\")\n",
    "\n",
    "#Fill NAs with 0 and sort by filename\n",
    "datamerge3.fillna(0, inplace=True)\n",
    "datamerge3 = datamerge3.sort_values(by ='#line_changed-hist').reset_index(drop=True)\n",
    "colnames = ['bug_ref','commitID_1','commitID_2','filename','#line_changed-hist','#line_changed-myers','#line_changed-min','#line_changed-pat']\n",
    "datamerge3 = datamerge3[colnames]\n",
    "\n",
    "#save to csv file\n",
    "datamerge3.to_csv('diffbugs_file.csv')"
   ]
  },
  {
   "cell_type": "code",
   "execution_count": null,
   "metadata": {
    "collapsed": true
   },
   "outputs": [],
   "source": [
    "#Remove duplicates data\n",
    "datamerge4 = datamerge3[datamerge3.iloc[:,-4:].diff(axis=1).fillna(0).any(1)]\n",
    "datamerge4 = datamerge4.sort_values('#line_changed-hist', ascending=True)\n",
    "\n",
    "#save to csv file\n",
    "datamerge4.to_csv('diffbugs_file_differentvalue.csv')"
   ]
  },
  {
   "cell_type": "code",
   "execution_count": null,
   "metadata": {},
   "outputs": [],
   "source": [
    "#Show the csv file with different value of number of line changed\n",
    "data = pd.read_csv('diffbugs_file_differentvalue.csv')\n",
    "data = datamerge4[colnames]\n",
    "data"
   ]
  },
  {
   "cell_type": "code",
   "execution_count": null,
   "metadata": {},
   "outputs": [],
   "source": [
    "tracehist = go.Bar(\n",
    "    x=data['filename'],\n",
    "    y=data['#line_changed-hist'],\n",
    "    name='--diff-algorithm=histogram')\n",
    "\n",
    "tracemyers = go.Bar(\n",
    "    x=data['filename'],\n",
    "    y=data['#line_changed-myers'],\n",
    "    name='--diff-algorithm=myers')\n",
    "\n",
    "tracemin = go.Bar(\n",
    "    x=data['filename'],\n",
    "    y=data['#line_changed-min'],\n",
    "    name='--diff-algorithm=minimal')\n",
    "\n",
    "tracepat = go.Bar(\n",
    "    x=data['filename'],\n",
    "    y=data['#line_changed-pat'],\n",
    "    name='--diff-algorithm=patience')\n",
    "\n",
    "dt = [tracemyers, tracehist, tracemin, tracepat]\n",
    "layout = go.Layout(\n",
    "    barmode='group'\n",
    ")\n",
    "\n",
    "init_notebook_mode(connected=True)\n",
    "fig = go.Figure(data=dt, layout=layout)\n",
    "iplot(fig, show_link=False)"
   ]
  },
  {
   "cell_type": "code",
   "execution_count": null,
   "metadata": {
    "collapsed": true
   },
   "outputs": [],
   "source": []
  }
 ],
 "metadata": {
  "kernelspec": {
   "display_name": "Python 3",
   "language": "python",
   "name": "python3"
  }
 },
 "nbformat": 4,
 "nbformat_minor": 2
}
