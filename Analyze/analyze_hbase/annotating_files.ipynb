{
 "cells": [
  {
   "cell_type": "markdown",
   "metadata": {},
   "source": [
    "# Importing libraries"
   ]
  },
  {
   "cell_type": "code",
   "execution_count": 1,
   "metadata": {
    "collapsed": true
   },
   "outputs": [],
   "source": [
    "import os, glob, json, csv, subprocess, sys, re\n",
    "from git import *\n",
    "from subprocess import Popen, PIPE\n",
    "from os import path\n",
    "import pandas as pd\n",
    "import itertools"
   ]
  },
  {
   "cell_type": "markdown",
   "metadata": {},
   "source": [
    "# Defining repository"
   ]
  },
  {
   "cell_type": "code",
   "execution_count": 2,
   "metadata": {
    "collapsed": true
   },
   "outputs": [],
   "source": [
    "userhome = os.path.expanduser(\"~\")\n",
    "repository = userhome + r\"/historage-mining/historage/hbase/\""
   ]
  },
  {
   "cell_type": "markdown",
   "metadata": {},
   "source": [
    "# Defining function to execute git command"
   ]
  },
  {
   "cell_type": "code",
   "execution_count": 3,
   "metadata": {
    "collapsed": true
   },
   "outputs": [],
   "source": [
    "def execute_command(cmd, work_dir):\n",
    "    #Executes a shell command in a subprocess, waiting until it has completed.\n",
    "    pipe = subprocess.Popen(cmd, shell=True, cwd=work_dir, stdout=subprocess.PIPE, stderr=subprocess.PIPE)\n",
    "    (out, error) = pipe.communicate()\n",
    "    return out, error\n",
    "    pipe.wait()"
   ]
  },
  {
   "cell_type": "markdown",
   "metadata": {},
   "source": [
    "# Finding the history of files"
   ]
  },
  {
   "cell_type": "code",
   "execution_count": 4,
   "metadata": {},
   "outputs": [
    {
     "data": {
      "text/html": [
       "<div>\n",
       "<style>\n",
       "    .dataframe thead tr:only-child th {\n",
       "        text-align: right;\n",
       "    }\n",
       "\n",
       "    .dataframe thead th {\n",
       "        text-align: left;\n",
       "    }\n",
       "\n",
       "    .dataframe tbody tr th {\n",
       "        vertical-align: top;\n",
       "    }\n",
       "</style>\n",
       "<table border=\"1\" class=\"dataframe\">\n",
       "  <thead>\n",
       "    <tr style=\"text-align: right;\">\n",
       "      <th></th>\n",
       "      <th>bug_ref</th>\n",
       "      <th>commitID_1</th>\n",
       "      <th>commitID_2</th>\n",
       "      <th>filename</th>\n",
       "      <th>#line_changed-hist</th>\n",
       "      <th>#line_changed-myers</th>\n",
       "      <th>#line_changed-min</th>\n",
       "      <th>#line_changed-pat</th>\n",
       "    </tr>\n",
       "  </thead>\n",
       "  <tbody>\n",
       "    <tr>\n",
       "      <th>0</th>\n",
       "      <td>HBASE-10569</td>\n",
       "      <td>0e5d21e96ae24e8c658a1b74843b72bddcb7435</td>\n",
       "      <td>7716a3ca94</td>\n",
       "      <td>/Users/YusufNugroho/historage-mining/historage...</td>\n",
       "      <td>31</td>\n",
       "      <td>29</td>\n",
       "      <td>29</td>\n",
       "      <td>31</td>\n",
       "    </tr>\n",
       "    <tr>\n",
       "      <th>1</th>\n",
       "      <td>HBASE-13686</td>\n",
       "      <td>587b0b4f20bdc0415b6541023e611b69c87dba15</td>\n",
       "      <td>9f43a3bea6</td>\n",
       "      <td>/Users/YusufNugroho/historage-mining/historage...</td>\n",
       "      <td>103</td>\n",
       "      <td>97</td>\n",
       "      <td>97</td>\n",
       "      <td>99</td>\n",
       "    </tr>\n",
       "    <tr>\n",
       "      <th>2</th>\n",
       "      <td>HBASE-13686</td>\n",
       "      <td>587b0b4f20bdc0415b6541023e611b69c87dba15</td>\n",
       "      <td>9f43a3bea6</td>\n",
       "      <td>/Users/YusufNugroho/historage-mining/historage...</td>\n",
       "      <td>114</td>\n",
       "      <td>108</td>\n",
       "      <td>108</td>\n",
       "      <td>108</td>\n",
       "    </tr>\n",
       "    <tr>\n",
       "      <th>3</th>\n",
       "      <td>HBASE-10569</td>\n",
       "      <td>0e5d21e96ae24e8c658a1b74843b72bddcb7435</td>\n",
       "      <td>7716a3ca94</td>\n",
       "      <td>/Users/YusufNugroho/historage-mining/historage...</td>\n",
       "      <td>1993</td>\n",
       "      <td>1977</td>\n",
       "      <td>1969</td>\n",
       "      <td>1985</td>\n",
       "    </tr>\n",
       "    <tr>\n",
       "      <th>4</th>\n",
       "      <td>HBASE-10569</td>\n",
       "      <td>0e5d21e96ae24e8c658a1b74843b72bddcb7435</td>\n",
       "      <td>7716a3ca94</td>\n",
       "      <td>/Users/YusufNugroho/historage-mining/historage...</td>\n",
       "      <td>2285</td>\n",
       "      <td>2425</td>\n",
       "      <td>2285</td>\n",
       "      <td>2285</td>\n",
       "    </tr>\n",
       "  </tbody>\n",
       "</table>\n",
       "</div>"
      ],
      "text/plain": [
       "       bug_ref                                commitID_1  commitID_2  \\\n",
       "0  HBASE-10569   0e5d21e96ae24e8c658a1b74843b72bddcb7435  7716a3ca94   \n",
       "1  HBASE-13686  587b0b4f20bdc0415b6541023e611b69c87dba15  9f43a3bea6   \n",
       "2  HBASE-13686  587b0b4f20bdc0415b6541023e611b69c87dba15  9f43a3bea6   \n",
       "3  HBASE-10569   0e5d21e96ae24e8c658a1b74843b72bddcb7435  7716a3ca94   \n",
       "4  HBASE-10569   0e5d21e96ae24e8c658a1b74843b72bddcb7435  7716a3ca94   \n",
       "\n",
       "                                            filename  #line_changed-hist  \\\n",
       "0  /Users/YusufNugroho/historage-mining/historage...                  31   \n",
       "1  /Users/YusufNugroho/historage-mining/historage...                 103   \n",
       "2  /Users/YusufNugroho/historage-mining/historage...                 114   \n",
       "3  /Users/YusufNugroho/historage-mining/historage...                1993   \n",
       "4  /Users/YusufNugroho/historage-mining/historage...                2285   \n",
       "\n",
       "   #line_changed-myers  #line_changed-min  #line_changed-pat  \n",
       "0                   29                 29                 31  \n",
       "1                   97                 97                 99  \n",
       "2                  108                108                108  \n",
       "3                 1977               1969               1985  \n",
       "4                 2425               2285               2285  "
      ]
     },
     "execution_count": 4,
     "metadata": {},
     "output_type": "execute_result"
    }
   ],
   "source": [
    "colnames = ['bug_ref','commitID_1','commitID_2','filename','#line_changed-hist','#line_changed-myers','#line_changed-min','#line_changed-pat']\n",
    "#Show the csv file with different value of number of line changed\n",
    "data = pd.read_csv('diffbugs_file_differentvalue_withfilepath.csv')\n",
    "data = data[colnames]\n",
    "data"
   ]
  },
  {
   "cell_type": "code",
   "execution_count": 5,
   "metadata": {},
   "outputs": [
    {
     "data": {
      "text/plain": [
       "['ActiveMasterManager.java',\n",
       " 'RateLimiter.java',\n",
       " 'TestRateLimiter.java',\n",
       " 'HMaster.java',\n",
       " 'HRegionServer.java']"
      ]
     },
     "execution_count": 5,
     "metadata": {},
     "output_type": "execute_result"
    }
   ],
   "source": [
    "filename = []\n",
    "for jj in range(0,len(data)):\n",
    "    filename.append(((data.iloc[jj][3].split('/'))[-1:])[0])\n",
    "filename"
   ]
  },
  {
   "cell_type": "markdown",
   "metadata": {},
   "source": [
    "# Applying \"git blame\" for files"
   ]
  },
  {
   "cell_type": "code",
   "execution_count": 6,
   "metadata": {
    "collapsed": true
   },
   "outputs": [],
   "source": [
    "pattern1 = re.compile(r'(?P<commit_id>[\\^]\\w+|\\w+)\\s+(?P<filename>[^\\s]+)\\s+\\((?P<committer>.*?)\\s+(?P<date>\\d{4}-\\d\\d-\\d\\d)\\s+(?P<time>\\d\\d:\\d\\d:\\d\\d).*?(?P<line_number>\\b\\d+\\b)\\)\\s(?P<code>[^`]*)')\n",
    "pattern2 = re.compile(r'(?P<commit_id>[\\^]\\w+|\\w+)\\s+\\((?P<committer>.*?)\\s+(?P<date>\\d{4}-\\d\\d-\\d\\d)\\s+(?P<time>\\d\\d:\\d\\d:\\d\\d).*?(?P<line_number>\\b\\d+\\b)\\)\\s(?P<code>[^`]*)')"
   ]
  },
  {
   "cell_type": "markdown",
   "metadata": {},
   "source": [
    "# Applying \"git blame\" for ActiveMasterManager.java"
   ]
  },
  {
   "cell_type": "code",
   "execution_count": 22,
   "metadata": {},
   "outputs": [
    {
     "name": "stdout",
     "output_type": "stream",
     "text": [
      "git blame has been executed\n"
     ]
    }
   ],
   "source": [
    "parent = data.iloc[0][1]\n",
    "file = data.iloc[0][3]\n",
    "\n",
    "#checkout parentID and applying git blame\n",
    "checkout = \"git checkout \" + parent\n",
    "blame = \"git blame \" + file\n",
    "\n",
    "execute_command(checkout, repository)\n",
    "result = (str(execute_command(blame, repository)).replace(\"b'\",''))\n",
    "result = re.split(r'(?<!\\\\)\\\\n', result)\n",
    "del result[len(result)-1]\n",
    "temp = []\n",
    "if result[0][0] == \"(\":\n",
    "    temp.append(result[0][1:])\n",
    "    \n",
    "for row in result[1:]:\n",
    "    temp.append(row)\n",
    "\n",
    "#exit from checkout\n",
    "excheck = \"git checkout master\"\n",
    "execute_command(excheck, repository)\n",
    "\n",
    "print(\"git blame has been executed\")"
   ]
  },
  {
   "cell_type": "code",
   "execution_count": 23,
   "metadata": {},
   "outputs": [],
   "source": [
    "with open('/Users/YusufNugroho/historage-mining/Analyze/analyze_hbase/step_3/blame_' + filename[0] + '.csv', 'w+', newline='') as f:\n",
    "    writer = csv.writer(f)\n",
    "    writer.writerow(['commit_id', 'filename', 'committer', 'date', 'time', 'line_number', 'code'])\n",
    "    for line in temp:\n",
    "        writer.writerow(pattern1.match(line).groups())\n",
    "        #print(pattern1.match(line).groups())"
   ]
  },
  {
   "cell_type": "code",
   "execution_count": 24,
   "metadata": {},
   "outputs": [
    {
     "data": {
      "text/html": [
       "<div>\n",
       "<style>\n",
       "    .dataframe thead tr:only-child th {\n",
       "        text-align: right;\n",
       "    }\n",
       "\n",
       "    .dataframe thead th {\n",
       "        text-align: left;\n",
       "    }\n",
       "\n",
       "    .dataframe tbody tr th {\n",
       "        vertical-align: top;\n",
       "    }\n",
       "</style>\n",
       "<table border=\"1\" class=\"dataframe\">\n",
       "  <thead>\n",
       "    <tr style=\"text-align: right;\">\n",
       "      <th></th>\n",
       "      <th>commit_id</th>\n",
       "      <th>filename</th>\n",
       "      <th>committer</th>\n",
       "      <th>date</th>\n",
       "      <th>time</th>\n",
       "      <th>line_number</th>\n",
       "      <th>code</th>\n",
       "    </tr>\n",
       "  </thead>\n",
       "  <tbody>\n",
       "    <tr>\n",
       "      <th>0</th>\n",
       "      <td>f5213095324</td>\n",
       "      <td>src/main/java/org/apache/hadoop/hbase/master/A...</td>\n",
       "      <td>Michael Stack</td>\n",
       "      <td>2010-08-31</td>\n",
       "      <td>23:51:44</td>\n",
       "      <td>1</td>\n",
       "      <td>/**</td>\n",
       "    </tr>\n",
       "    <tr>\n",
       "      <th>1</th>\n",
       "      <td>f5213095324</td>\n",
       "      <td>src/main/java/org/apache/hadoop/hbase/master/A...</td>\n",
       "      <td>Michael Stack</td>\n",
       "      <td>2010-08-31</td>\n",
       "      <td>23:51:44</td>\n",
       "      <td>2</td>\n",
       "      <td>*</td>\n",
       "    </tr>\n",
       "    <tr>\n",
       "      <th>2</th>\n",
       "      <td>f5213095324</td>\n",
       "      <td>src/main/java/org/apache/hadoop/hbase/master/A...</td>\n",
       "      <td>Michael Stack</td>\n",
       "      <td>2010-08-31</td>\n",
       "      <td>23:51:44</td>\n",
       "      <td>3</td>\n",
       "      <td>* Licensed to the Apache Software Foundation ...</td>\n",
       "    </tr>\n",
       "    <tr>\n",
       "      <th>3</th>\n",
       "      <td>f5213095324</td>\n",
       "      <td>src/main/java/org/apache/hadoop/hbase/master/A...</td>\n",
       "      <td>Michael Stack</td>\n",
       "      <td>2010-08-31</td>\n",
       "      <td>23:51:44</td>\n",
       "      <td>4</td>\n",
       "      <td>* or more contributor license agreements.  Se...</td>\n",
       "    </tr>\n",
       "    <tr>\n",
       "      <th>4</th>\n",
       "      <td>f5213095324</td>\n",
       "      <td>src/main/java/org/apache/hadoop/hbase/master/A...</td>\n",
       "      <td>Michael Stack</td>\n",
       "      <td>2010-08-31</td>\n",
       "      <td>23:51:44</td>\n",
       "      <td>5</td>\n",
       "      <td>* distributed with this work for additional i...</td>\n",
       "    </tr>\n",
       "  </tbody>\n",
       "</table>\n",
       "</div>"
      ],
      "text/plain": [
       "     commit_id                                           filename  \\\n",
       "0  f5213095324  src/main/java/org/apache/hadoop/hbase/master/A...   \n",
       "1  f5213095324  src/main/java/org/apache/hadoop/hbase/master/A...   \n",
       "2  f5213095324  src/main/java/org/apache/hadoop/hbase/master/A...   \n",
       "3  f5213095324  src/main/java/org/apache/hadoop/hbase/master/A...   \n",
       "4  f5213095324  src/main/java/org/apache/hadoop/hbase/master/A...   \n",
       "\n",
       "       committer        date      time  line_number  \\\n",
       "0  Michael Stack  2010-08-31  23:51:44            1   \n",
       "1  Michael Stack  2010-08-31  23:51:44            2   \n",
       "2  Michael Stack  2010-08-31  23:51:44            3   \n",
       "3  Michael Stack  2010-08-31  23:51:44            4   \n",
       "4  Michael Stack  2010-08-31  23:51:44            5   \n",
       "\n",
       "                                                code  \n",
       "0                                                /**  \n",
       "1                                                  *  \n",
       "2   * Licensed to the Apache Software Foundation ...  \n",
       "3   * or more contributor license agreements.  Se...  \n",
       "4   * distributed with this work for additional i...  "
      ]
     },
     "execution_count": 24,
     "metadata": {},
     "output_type": "execute_result"
    }
   ],
   "source": [
    "dfblame = pd.read_csv('/Users/YusufNugroho/historage-mining/Analyze/analyze_hbase/step_3/blame_' + filename[0] + '.csv')\n",
    "dfblame.head()"
   ]
  },
  {
   "cell_type": "markdown",
   "metadata": {},
   "source": [
    "# Applying \"git blame\" for RateLimiter.java"
   ]
  },
  {
   "cell_type": "code",
   "execution_count": 10,
   "metadata": {},
   "outputs": [
    {
     "name": "stdout",
     "output_type": "stream",
     "text": [
      "git blame has been executed\n"
     ]
    }
   ],
   "source": [
    "parent = data.iloc[1][1]\n",
    "file = data.iloc[1][3]\n",
    "\n",
    "#checkout parentID and applying git blame\n",
    "checkout = \"git checkout \" + parent\n",
    "blame = \"git blame \" + file\n",
    "\n",
    "execute_command(checkout, repository)\n",
    "result = (str(execute_command(blame, repository)).replace(\"b'\",''))\n",
    "result = re.split(r'(?<!\\\\)\\\\n', result)\n",
    "del result[len(result)-1]\n",
    "temp = []\n",
    "if result[0][0] == \"(\":\n",
    "    temp.append(result[0][1:])\n",
    "    \n",
    "for row in result[1:]:\n",
    "    temp.append(row)\n",
    "\n",
    "#exit from checkout\n",
    "excheck = \"git checkout master\"\n",
    "execute_command(excheck, repository)\n",
    "\n",
    "print(\"git blame has been executed\")"
   ]
  },
  {
   "cell_type": "code",
   "execution_count": 11,
   "metadata": {},
   "outputs": [],
   "source": [
    "with open('/Users/YusufNugroho/historage-mining/Analyze/analyze_hbase/step_3/blame_' + filename[1] + '.csv', 'w+', newline='') as f:\n",
    "    writer = csv.writer(f)\n",
    "    writer.writerow(['commit_id', 'committer', 'date', 'time', 'line_number', 'code'])\n",
    "    for line in temp:\n",
    "        writer.writerow(pattern2.match(line).groups())\n",
    "        #print (pattern2.match(line).groups())"
   ]
  },
  {
   "cell_type": "code",
   "execution_count": 12,
   "metadata": {},
   "outputs": [
    {
     "data": {
      "text/html": [
       "<div>\n",
       "<style>\n",
       "    .dataframe thead tr:only-child th {\n",
       "        text-align: right;\n",
       "    }\n",
       "\n",
       "    .dataframe thead th {\n",
       "        text-align: left;\n",
       "    }\n",
       "\n",
       "    .dataframe tbody tr th {\n",
       "        vertical-align: top;\n",
       "    }\n",
       "</style>\n",
       "<table border=\"1\" class=\"dataframe\">\n",
       "  <thead>\n",
       "    <tr style=\"text-align: right;\">\n",
       "      <th></th>\n",
       "      <th>commit_id</th>\n",
       "      <th>committer</th>\n",
       "      <th>date</th>\n",
       "      <th>time</th>\n",
       "      <th>line_number</th>\n",
       "      <th>code</th>\n",
       "    </tr>\n",
       "  </thead>\n",
       "  <tbody>\n",
       "    <tr>\n",
       "      <th>0</th>\n",
       "      <td>bd8df9ccd4d</td>\n",
       "      <td>Matteo Bertozzi</td>\n",
       "      <td>2014-09-18</td>\n",
       "      <td>01:51:15</td>\n",
       "      <td>1</td>\n",
       "      <td>/**</td>\n",
       "    </tr>\n",
       "    <tr>\n",
       "      <th>1</th>\n",
       "      <td>bd8df9ccd4d</td>\n",
       "      <td>Matteo Bertozzi</td>\n",
       "      <td>2014-09-18</td>\n",
       "      <td>01:51:15</td>\n",
       "      <td>2</td>\n",
       "      <td>* Licensed to the Apache Software Foundation ...</td>\n",
       "    </tr>\n",
       "    <tr>\n",
       "      <th>2</th>\n",
       "      <td>bd8df9ccd4d</td>\n",
       "      <td>Matteo Bertozzi</td>\n",
       "      <td>2014-09-18</td>\n",
       "      <td>01:51:15</td>\n",
       "      <td>3</td>\n",
       "      <td>* or more contributor license agreements.  Se...</td>\n",
       "    </tr>\n",
       "    <tr>\n",
       "      <th>3</th>\n",
       "      <td>bd8df9ccd4d</td>\n",
       "      <td>Matteo Bertozzi</td>\n",
       "      <td>2014-09-18</td>\n",
       "      <td>01:51:15</td>\n",
       "      <td>4</td>\n",
       "      <td>* distributed with this work for additional i...</td>\n",
       "    </tr>\n",
       "    <tr>\n",
       "      <th>4</th>\n",
       "      <td>bd8df9ccd4d</td>\n",
       "      <td>Matteo Bertozzi</td>\n",
       "      <td>2014-09-18</td>\n",
       "      <td>01:51:15</td>\n",
       "      <td>5</td>\n",
       "      <td>* regarding copyright ownership.  The ASF lic...</td>\n",
       "    </tr>\n",
       "  </tbody>\n",
       "</table>\n",
       "</div>"
      ],
      "text/plain": [
       "     commit_id        committer        date      time  line_number  \\\n",
       "0  bd8df9ccd4d  Matteo Bertozzi  2014-09-18  01:51:15            1   \n",
       "1  bd8df9ccd4d  Matteo Bertozzi  2014-09-18  01:51:15            2   \n",
       "2  bd8df9ccd4d  Matteo Bertozzi  2014-09-18  01:51:15            3   \n",
       "3  bd8df9ccd4d  Matteo Bertozzi  2014-09-18  01:51:15            4   \n",
       "4  bd8df9ccd4d  Matteo Bertozzi  2014-09-18  01:51:15            5   \n",
       "\n",
       "                                                code  \n",
       "0                                                /**  \n",
       "1   * Licensed to the Apache Software Foundation ...  \n",
       "2   * or more contributor license agreements.  Se...  \n",
       "3   * distributed with this work for additional i...  \n",
       "4   * regarding copyright ownership.  The ASF lic...  "
      ]
     },
     "execution_count": 12,
     "metadata": {},
     "output_type": "execute_result"
    }
   ],
   "source": [
    "dfblame = pd.read_csv('/Users/YusufNugroho/historage-mining/Analyze/analyze_hbase/step_3/blame_' + filename[1] + '.csv')\n",
    "dfblame.head()"
   ]
  },
  {
   "cell_type": "markdown",
   "metadata": {},
   "source": [
    "# Applying \"git blame\" for TestRateLimiter.java"
   ]
  },
  {
   "cell_type": "code",
   "execution_count": 13,
   "metadata": {},
   "outputs": [
    {
     "name": "stdout",
     "output_type": "stream",
     "text": [
      "git blame has been executed\n"
     ]
    }
   ],
   "source": [
    "parent = data.iloc[2][1]\n",
    "file = data.iloc[2][3]\n",
    "\n",
    "#checkout parentID and applying git blame\n",
    "checkout = \"git checkout \" + parent\n",
    "blame = \"git blame \" + file\n",
    "\n",
    "execute_command(checkout, repository)\n",
    "result = (str(execute_command(blame, repository)).replace(\"b'\",''))\n",
    "result = re.split(r'(?<!\\\\)\\\\n', result)\n",
    "del result[len(result)-1]\n",
    "temp = []\n",
    "if result[0][0] == \"(\":\n",
    "    temp.append(result[0][1:])\n",
    "    \n",
    "for row in result[1:]:\n",
    "    temp.append(row)\n",
    "\n",
    "#exit from checkout\n",
    "excheck = \"git checkout master\"\n",
    "execute_command(excheck, repository)\n",
    "\n",
    "print(\"git blame has been executed\")"
   ]
  },
  {
   "cell_type": "code",
   "execution_count": 14,
   "metadata": {},
   "outputs": [],
   "source": [
    "with open('/Users/YusufNugroho/historage-mining/Analyze/analyze_hbase/step_3/blame_' + filename[2] + '.csv', 'w+', newline='') as f:\n",
    "    writer = csv.writer(f)\n",
    "    writer.writerow(['commit_id', 'committer', 'date', 'time', 'line_number', 'code'])\n",
    "    for line in temp:\n",
    "        writer.writerow(pattern2.match(line).groups())"
   ]
  },
  {
   "cell_type": "code",
   "execution_count": 15,
   "metadata": {},
   "outputs": [
    {
     "data": {
      "text/html": [
       "<div>\n",
       "<style>\n",
       "    .dataframe thead tr:only-child th {\n",
       "        text-align: right;\n",
       "    }\n",
       "\n",
       "    .dataframe thead th {\n",
       "        text-align: left;\n",
       "    }\n",
       "\n",
       "    .dataframe tbody tr th {\n",
       "        vertical-align: top;\n",
       "    }\n",
       "</style>\n",
       "<table border=\"1\" class=\"dataframe\">\n",
       "  <thead>\n",
       "    <tr style=\"text-align: right;\">\n",
       "      <th></th>\n",
       "      <th>commit_id</th>\n",
       "      <th>committer</th>\n",
       "      <th>date</th>\n",
       "      <th>time</th>\n",
       "      <th>line_number</th>\n",
       "      <th>code</th>\n",
       "    </tr>\n",
       "  </thead>\n",
       "  <tbody>\n",
       "    <tr>\n",
       "      <th>0</th>\n",
       "      <td>bd8df9ccd4d</td>\n",
       "      <td>Matteo Bertozzi</td>\n",
       "      <td>2014-09-18</td>\n",
       "      <td>01:51:15</td>\n",
       "      <td>1</td>\n",
       "      <td>/**</td>\n",
       "    </tr>\n",
       "    <tr>\n",
       "      <th>1</th>\n",
       "      <td>bd8df9ccd4d</td>\n",
       "      <td>Matteo Bertozzi</td>\n",
       "      <td>2014-09-18</td>\n",
       "      <td>01:51:15</td>\n",
       "      <td>2</td>\n",
       "      <td>* Licensed to the Apache Software Foundation ...</td>\n",
       "    </tr>\n",
       "    <tr>\n",
       "      <th>2</th>\n",
       "      <td>bd8df9ccd4d</td>\n",
       "      <td>Matteo Bertozzi</td>\n",
       "      <td>2014-09-18</td>\n",
       "      <td>01:51:15</td>\n",
       "      <td>3</td>\n",
       "      <td>* or more contributor license agreements.  Se...</td>\n",
       "    </tr>\n",
       "    <tr>\n",
       "      <th>3</th>\n",
       "      <td>bd8df9ccd4d</td>\n",
       "      <td>Matteo Bertozzi</td>\n",
       "      <td>2014-09-18</td>\n",
       "      <td>01:51:15</td>\n",
       "      <td>4</td>\n",
       "      <td>* distributed with this work for additional i...</td>\n",
       "    </tr>\n",
       "    <tr>\n",
       "      <th>4</th>\n",
       "      <td>bd8df9ccd4d</td>\n",
       "      <td>Matteo Bertozzi</td>\n",
       "      <td>2014-09-18</td>\n",
       "      <td>01:51:15</td>\n",
       "      <td>5</td>\n",
       "      <td>* regarding copyright ownership.  The ASF lic...</td>\n",
       "    </tr>\n",
       "  </tbody>\n",
       "</table>\n",
       "</div>"
      ],
      "text/plain": [
       "     commit_id        committer        date      time  line_number  \\\n",
       "0  bd8df9ccd4d  Matteo Bertozzi  2014-09-18  01:51:15            1   \n",
       "1  bd8df9ccd4d  Matteo Bertozzi  2014-09-18  01:51:15            2   \n",
       "2  bd8df9ccd4d  Matteo Bertozzi  2014-09-18  01:51:15            3   \n",
       "3  bd8df9ccd4d  Matteo Bertozzi  2014-09-18  01:51:15            4   \n",
       "4  bd8df9ccd4d  Matteo Bertozzi  2014-09-18  01:51:15            5   \n",
       "\n",
       "                                                code  \n",
       "0                                                /**  \n",
       "1   * Licensed to the Apache Software Foundation ...  \n",
       "2   * or more contributor license agreements.  Se...  \n",
       "3   * distributed with this work for additional i...  \n",
       "4   * regarding copyright ownership.  The ASF lic...  "
      ]
     },
     "execution_count": 15,
     "metadata": {},
     "output_type": "execute_result"
    }
   ],
   "source": [
    "dfblame = pd.read_csv('/Users/YusufNugroho/historage-mining/Analyze/analyze_hbase/step_3/blame_' + filename[2] + '.csv')\n",
    "dfblame.head()"
   ]
  },
  {
   "cell_type": "markdown",
   "metadata": {},
   "source": [
    "# Applying \"git blame\" for HMaster.java"
   ]
  },
  {
   "cell_type": "code",
   "execution_count": 16,
   "metadata": {},
   "outputs": [
    {
     "name": "stdout",
     "output_type": "stream",
     "text": [
      "git blame has been executed\n"
     ]
    }
   ],
   "source": [
    "parent = data.iloc[3][1]\n",
    "file = data.iloc[3][3]\n",
    "\n",
    "#checkout parentID and applying git blame\n",
    "checkout = \"git checkout \" + parent\n",
    "blame = \"git blame \" + file\n",
    "\n",
    "execute_command(checkout, repository)\n",
    "result = (str(execute_command(blame, repository)).replace(\"b'\",''))\n",
    "result = re.split(r'(?<!\\\\)\\\\n', result)\n",
    "del result[len(result)-1]\n",
    "temp = []\n",
    "if result[0][0] == \"(\":\n",
    "    temp.append(result[0][1:])\n",
    "    \n",
    "for row in result[1:]:\n",
    "    temp.append(row)\n",
    "\n",
    "#exit from checkout\n",
    "excheck = \"git checkout master\"\n",
    "execute_command(excheck, repository)\n",
    "\n",
    "print(\"git blame has been executed\")"
   ]
  },
  {
   "cell_type": "code",
   "execution_count": 17,
   "metadata": {},
   "outputs": [],
   "source": [
    "with open('/Users/YusufNugroho/historage-mining/Analyze/analyze_hbase/step_3/blame_' + filename[3] + '.csv', 'w+', newline='') as f:\n",
    "    writer = csv.writer(f)\n",
    "    writer.writerow(['commit_id', 'filename', 'committer', 'date', 'time', 'line_number', 'code'])\n",
    "    for line in temp:\n",
    "        writer.writerow(pattern1.match(line).groups())\n",
    "        #print (pattern.match(line).groups())"
   ]
  },
  {
   "cell_type": "code",
   "execution_count": 18,
   "metadata": {},
   "outputs": [
    {
     "data": {
      "text/html": [
       "<div>\n",
       "<style>\n",
       "    .dataframe thead tr:only-child th {\n",
       "        text-align: right;\n",
       "    }\n",
       "\n",
       "    .dataframe thead th {\n",
       "        text-align: left;\n",
       "    }\n",
       "\n",
       "    .dataframe tbody tr th {\n",
       "        vertical-align: top;\n",
       "    }\n",
       "</style>\n",
       "<table border=\"1\" class=\"dataframe\">\n",
       "  <thead>\n",
       "    <tr style=\"text-align: right;\">\n",
       "      <th></th>\n",
       "      <th>commit_id</th>\n",
       "      <th>filename</th>\n",
       "      <th>committer</th>\n",
       "      <th>date</th>\n",
       "      <th>time</th>\n",
       "      <th>line_number</th>\n",
       "      <th>code</th>\n",
       "    </tr>\n",
       "  </thead>\n",
       "  <tbody>\n",
       "    <tr>\n",
       "      <th>0</th>\n",
       "      <td>^948d0cdec4</td>\n",
       "      <td>src/java/org/apache/hadoop/hbase/HMaster.java</td>\n",
       "      <td>Doug Cutting</td>\n",
       "      <td>2007-04-03</td>\n",
       "      <td>20:34:28</td>\n",
       "      <td>1</td>\n",
       "      <td>/**</td>\n",
       "    </tr>\n",
       "    <tr>\n",
       "      <th>1</th>\n",
       "      <td>^948d0cdec4</td>\n",
       "      <td>src/java/org/apache/hadoop/hbase/HMaster.java</td>\n",
       "      <td>Doug Cutting</td>\n",
       "      <td>2007-04-03</td>\n",
       "      <td>20:34:28</td>\n",
       "      <td>2</td>\n",
       "      <td>*</td>\n",
       "    </tr>\n",
       "    <tr>\n",
       "      <th>2</th>\n",
       "      <td>c6bf382ebe9</td>\n",
       "      <td>src/java/org/apache/hadoop/hbase/HMaster.java</td>\n",
       "      <td>Jim Kellerman</td>\n",
       "      <td>2007-07-12</td>\n",
       "      <td>22:08:25</td>\n",
       "      <td>3</td>\n",
       "      <td>* Licensed to the Apache Software Foundation ...</td>\n",
       "    </tr>\n",
       "    <tr>\n",
       "      <th>3</th>\n",
       "      <td>c6bf382ebe9</td>\n",
       "      <td>src/java/org/apache/hadoop/hbase/HMaster.java</td>\n",
       "      <td>Jim Kellerman</td>\n",
       "      <td>2007-07-12</td>\n",
       "      <td>22:08:25</td>\n",
       "      <td>4</td>\n",
       "      <td>* or more contributor license agreements.  Se...</td>\n",
       "    </tr>\n",
       "    <tr>\n",
       "      <th>4</th>\n",
       "      <td>c6bf382ebe9</td>\n",
       "      <td>src/java/org/apache/hadoop/hbase/HMaster.java</td>\n",
       "      <td>Jim Kellerman</td>\n",
       "      <td>2007-07-12</td>\n",
       "      <td>22:08:25</td>\n",
       "      <td>5</td>\n",
       "      <td>* distributed with this work for additional i...</td>\n",
       "    </tr>\n",
       "  </tbody>\n",
       "</table>\n",
       "</div>"
      ],
      "text/plain": [
       "     commit_id                                       filename      committer  \\\n",
       "0  ^948d0cdec4  src/java/org/apache/hadoop/hbase/HMaster.java   Doug Cutting   \n",
       "1  ^948d0cdec4  src/java/org/apache/hadoop/hbase/HMaster.java   Doug Cutting   \n",
       "2  c6bf382ebe9  src/java/org/apache/hadoop/hbase/HMaster.java  Jim Kellerman   \n",
       "3  c6bf382ebe9  src/java/org/apache/hadoop/hbase/HMaster.java  Jim Kellerman   \n",
       "4  c6bf382ebe9  src/java/org/apache/hadoop/hbase/HMaster.java  Jim Kellerman   \n",
       "\n",
       "         date      time  line_number  \\\n",
       "0  2007-04-03  20:34:28            1   \n",
       "1  2007-04-03  20:34:28            2   \n",
       "2  2007-07-12  22:08:25            3   \n",
       "3  2007-07-12  22:08:25            4   \n",
       "4  2007-07-12  22:08:25            5   \n",
       "\n",
       "                                                code  \n",
       "0                                                /**  \n",
       "1                                                  *  \n",
       "2   * Licensed to the Apache Software Foundation ...  \n",
       "3   * or more contributor license agreements.  Se...  \n",
       "4   * distributed with this work for additional i...  "
      ]
     },
     "execution_count": 18,
     "metadata": {},
     "output_type": "execute_result"
    }
   ],
   "source": [
    "dfblame = pd.read_csv('/Users/YusufNugroho/historage-mining/Analyze/analyze_hbase/step_3/blame_' + filename[3] + '.csv')\n",
    "dfblame.head()"
   ]
  },
  {
   "cell_type": "markdown",
   "metadata": {},
   "source": [
    "# Applying \"git blame\" for HRegionServer.java"
   ]
  },
  {
   "cell_type": "code",
   "execution_count": 19,
   "metadata": {},
   "outputs": [
    {
     "name": "stdout",
     "output_type": "stream",
     "text": [
      "git blame has been executed\n"
     ]
    }
   ],
   "source": [
    "parent = data.iloc[4][1]\n",
    "file = data.iloc[4][3]\n",
    "\n",
    "#checkout parentID and applying git blame\n",
    "checkout = \"git checkout \" + parent\n",
    "blame = \"git blame \" + file\n",
    "\n",
    "execute_command(checkout, repository)\n",
    "result = (str(execute_command(blame, repository)).replace(\"b'\",''))\n",
    "result = re.split(r'(?<!\\\\)\\\\n', result)\n",
    "del result[len(result)-1]\n",
    "temp = []\n",
    "if result[0][0] == \"(\":\n",
    "    temp.append(result[0][1:])\n",
    "    \n",
    "for row in result[1:]:\n",
    "    temp.append(row)\n",
    "\n",
    "#exit from checkout\n",
    "excheck = \"git checkout master\"\n",
    "execute_command(excheck, repository)\n",
    "\n",
    "print(\"git blame has been executed\")"
   ]
  },
  {
   "cell_type": "code",
   "execution_count": 20,
   "metadata": {
    "collapsed": true
   },
   "outputs": [],
   "source": [
    "with open('/Users/YusufNugroho/historage-mining/Analyze/analyze_hbase/step_3/blame_' + filename[4] + '.csv', 'w+', newline='') as f:\n",
    "    writer = csv.writer(f)\n",
    "    writer.writerow(['commit_id', 'filename', 'committer', 'date', 'time', 'line_number', 'code'])\n",
    "    for line in temp:\n",
    "        writer.writerow(pattern1.match(line).groups())"
   ]
  },
  {
   "cell_type": "code",
   "execution_count": 25,
   "metadata": {},
   "outputs": [
    {
     "data": {
      "text/html": [
       "<div>\n",
       "<style>\n",
       "    .dataframe thead tr:only-child th {\n",
       "        text-align: right;\n",
       "    }\n",
       "\n",
       "    .dataframe thead th {\n",
       "        text-align: left;\n",
       "    }\n",
       "\n",
       "    .dataframe tbody tr th {\n",
       "        vertical-align: top;\n",
       "    }\n",
       "</style>\n",
       "<table border=\"1\" class=\"dataframe\">\n",
       "  <thead>\n",
       "    <tr style=\"text-align: right;\">\n",
       "      <th></th>\n",
       "      <th>commit_id</th>\n",
       "      <th>filename</th>\n",
       "      <th>committer</th>\n",
       "      <th>date</th>\n",
       "      <th>time</th>\n",
       "      <th>line_number</th>\n",
       "      <th>code</th>\n",
       "    </tr>\n",
       "  </thead>\n",
       "  <tbody>\n",
       "    <tr>\n",
       "      <th>0</th>\n",
       "      <td>8763e9e92c4</td>\n",
       "      <td>src/java/org/apache/hadoop/hbase/regionserver/...</td>\n",
       "      <td>Jim Kellerman</td>\n",
       "      <td>2008-08-11</td>\n",
       "      <td>17:57:53</td>\n",
       "      <td>1</td>\n",
       "      <td>/**</td>\n",
       "    </tr>\n",
       "    <tr>\n",
       "      <th>1</th>\n",
       "      <td>8763e9e92c4</td>\n",
       "      <td>src/java/org/apache/hadoop/hbase/regionserver/...</td>\n",
       "      <td>Jim Kellerman</td>\n",
       "      <td>2008-08-11</td>\n",
       "      <td>17:57:53</td>\n",
       "      <td>2</td>\n",
       "      <td>*</td>\n",
       "    </tr>\n",
       "    <tr>\n",
       "      <th>2</th>\n",
       "      <td>8763e9e92c4</td>\n",
       "      <td>src/java/org/apache/hadoop/hbase/regionserver/...</td>\n",
       "      <td>Jim Kellerman</td>\n",
       "      <td>2008-08-11</td>\n",
       "      <td>17:57:53</td>\n",
       "      <td>3</td>\n",
       "      <td>* Licensed to the Apache Software Foundation ...</td>\n",
       "    </tr>\n",
       "    <tr>\n",
       "      <th>3</th>\n",
       "      <td>8763e9e92c4</td>\n",
       "      <td>src/java/org/apache/hadoop/hbase/regionserver/...</td>\n",
       "      <td>Jim Kellerman</td>\n",
       "      <td>2008-08-11</td>\n",
       "      <td>17:57:53</td>\n",
       "      <td>4</td>\n",
       "      <td>* or more contributor license agreements.  Se...</td>\n",
       "    </tr>\n",
       "    <tr>\n",
       "      <th>4</th>\n",
       "      <td>8763e9e92c4</td>\n",
       "      <td>src/java/org/apache/hadoop/hbase/regionserver/...</td>\n",
       "      <td>Jim Kellerman</td>\n",
       "      <td>2008-08-11</td>\n",
       "      <td>17:57:53</td>\n",
       "      <td>5</td>\n",
       "      <td>* distributed with this work for additional i...</td>\n",
       "    </tr>\n",
       "  </tbody>\n",
       "</table>\n",
       "</div>"
      ],
      "text/plain": [
       "     commit_id                                           filename  \\\n",
       "0  8763e9e92c4  src/java/org/apache/hadoop/hbase/regionserver/...   \n",
       "1  8763e9e92c4  src/java/org/apache/hadoop/hbase/regionserver/...   \n",
       "2  8763e9e92c4  src/java/org/apache/hadoop/hbase/regionserver/...   \n",
       "3  8763e9e92c4  src/java/org/apache/hadoop/hbase/regionserver/...   \n",
       "4  8763e9e92c4  src/java/org/apache/hadoop/hbase/regionserver/...   \n",
       "\n",
       "       committer        date      time  line_number  \\\n",
       "0  Jim Kellerman  2008-08-11  17:57:53            1   \n",
       "1  Jim Kellerman  2008-08-11  17:57:53            2   \n",
       "2  Jim Kellerman  2008-08-11  17:57:53            3   \n",
       "3  Jim Kellerman  2008-08-11  17:57:53            4   \n",
       "4  Jim Kellerman  2008-08-11  17:57:53            5   \n",
       "\n",
       "                                                code  \n",
       "0                                                /**  \n",
       "1                                                  *  \n",
       "2   * Licensed to the Apache Software Foundation ...  \n",
       "3   * or more contributor license agreements.  Se...  \n",
       "4   * distributed with this work for additional i...  "
      ]
     },
     "execution_count": 25,
     "metadata": {},
     "output_type": "execute_result"
    }
   ],
   "source": [
    "dfblame = pd.read_csv('/Users/YusufNugroho/historage-mining/Analyze/analyze_hbase/step_3/blame_' + filename[4] + '.csv')\n",
    "dfblame.head()"
   ]
  },
  {
   "cell_type": "code",
   "execution_count": null,
   "metadata": {
    "collapsed": true
   },
   "outputs": [],
   "source": []
  }
 ],
 "metadata": {
  "kernelspec": {
   "display_name": "Python 3",
   "language": "python",
   "name": "python3"
  },
  "language_info": {
   "codemirror_mode": {
    "name": "ipython",
    "version": 3
   },
   "file_extension": ".py",
   "mimetype": "text/x-python",
   "name": "python",
   "nbconvert_exporter": "python",
   "pygments_lexer": "ipython3",
   "version": "3.6.3"
  }
 },
 "nbformat": 4,
 "nbformat_minor": 2
}
