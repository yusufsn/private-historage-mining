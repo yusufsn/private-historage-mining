{
 "cells": [
  {
   "cell_type": "code",
   "execution_count": 1,
   "metadata": {
    "collapsed": true
   },
   "outputs": [],
   "source": [
    "import os, glob, json, csv, subprocess, sys, re\n",
    "from git import *\n",
    "from subprocess import Popen, PIPE\n",
    "from os import path\n",
    "import pandas as pd\n",
    "import matplotlib.pyplot as plt\n",
    "import numpy as np\n",
    "import plotly.graph_objs as go\n",
    "import plotly.plotly as ply\n",
    "import plotly\n",
    "from plotly.offline import plot, init_notebook_mode, iplot\n",
    "\n",
    "%matplotlib inline"
   ]
  },
  {
   "cell_type": "markdown",
   "metadata": {},
   "source": [
    "# Defining repository"
   ]
  },
  {
   "cell_type": "code",
   "execution_count": 2,
   "metadata": {
    "collapsed": true
   },
   "outputs": [],
   "source": [
    "userhome = os.path.expanduser('~')\n",
    "repository = userhome + r'/historage-mining/historage/hbase/'"
   ]
  },
  {
   "cell_type": "markdown",
   "metadata": {},
   "source": [
    "# Opening the earliest affected version"
   ]
  },
  {
   "cell_type": "code",
   "execution_count": 3,
   "metadata": {},
   "outputs": [
    {
     "data": {
      "text/html": [
       "<div>\n",
       "<style>\n",
       "    .dataframe thead tr:only-child th {\n",
       "        text-align: right;\n",
       "    }\n",
       "\n",
       "    .dataframe thead th {\n",
       "        text-align: left;\n",
       "    }\n",
       "\n",
       "    .dataframe tbody tr th {\n",
       "        vertical-align: top;\n",
       "    }\n",
       "</style>\n",
       "<table border=\"1\" class=\"dataframe\">\n",
       "  <thead>\n",
       "    <tr style=\"text-align: right;\">\n",
       "      <th></th>\n",
       "      <th>bug_id</th>\n",
       "      <th>affected_version</th>\n",
       "      <th>date_release</th>\n",
       "    </tr>\n",
       "  </thead>\n",
       "  <tbody>\n",
       "    <tr>\n",
       "      <th>0</th>\n",
       "      <td>HBASE-9426</td>\n",
       "      <td>0.94.11RC0</td>\n",
       "      <td>2013-08-13</td>\n",
       "    </tr>\n",
       "    <tr>\n",
       "      <th>1</th>\n",
       "      <td>HBASE-5209</td>\n",
       "      <td>0.90.5RC0</td>\n",
       "      <td>2011-12-09</td>\n",
       "    </tr>\n",
       "    <tr>\n",
       "      <th>2</th>\n",
       "      <td>HBASE-15467</td>\n",
       "      <td>2.0.0-alpha-1RC0</td>\n",
       "      <td>2017-06-07</td>\n",
       "    </tr>\n",
       "    <tr>\n",
       "      <th>3</th>\n",
       "      <td>HBASE-13686</td>\n",
       "      <td>1.1.0-SNAPSHOT-testing</td>\n",
       "      <td>2015-04-29</td>\n",
       "    </tr>\n",
       "    <tr>\n",
       "      <th>4</th>\n",
       "      <td>HBASE-10598</td>\n",
       "      <td>0.94.16RC0</td>\n",
       "      <td>2014-01-10</td>\n",
       "    </tr>\n",
       "    <tr>\n",
       "      <th>5</th>\n",
       "      <td>HBASE-10569</td>\n",
       "      <td>None</td>\n",
       "      <td>NaN</td>\n",
       "    </tr>\n",
       "  </tbody>\n",
       "</table>\n",
       "</div>"
      ],
      "text/plain": [
       "        bug_id        affected_version date_release\n",
       "0   HBASE-9426              0.94.11RC0   2013-08-13\n",
       "1   HBASE-5209               0.90.5RC0   2011-12-09\n",
       "2  HBASE-15467        2.0.0-alpha-1RC0   2017-06-07\n",
       "3  HBASE-13686  1.1.0-SNAPSHOT-testing   2015-04-29\n",
       "4  HBASE-10598              0.94.16RC0   2014-01-10\n",
       "5  HBASE-10569                    None          NaN"
      ]
     },
     "execution_count": 3,
     "metadata": {},
     "output_type": "execute_result"
    }
   ],
   "source": [
    "affected_version = pd.read_csv('/Users/YusufNugroho/historage-mining/Analyze/analyze_hbase/step_3/affected_version/earliest_version.csv')\n",
    "cols = ['bug_id','affected_version','date_release']\n",
    "aff = affected_version[cols]\n",
    "aff"
   ]
  },
  {
   "cell_type": "code",
   "execution_count": 4,
   "metadata": {
    "collapsed": true
   },
   "outputs": [],
   "source": [
    "#Defining main folder of the files\n",
    "directory = userhome + r'/historage-mining/Analyze/analyze_hbase/'"
   ]
  },
  {
   "cell_type": "code",
   "execution_count": 5,
   "metadata": {},
   "outputs": [
    {
     "data": {
      "text/html": [
       "<div>\n",
       "<style>\n",
       "    .dataframe thead tr:only-child th {\n",
       "        text-align: right;\n",
       "    }\n",
       "\n",
       "    .dataframe thead th {\n",
       "        text-align: left;\n",
       "    }\n",
       "\n",
       "    .dataframe tbody tr th {\n",
       "        vertical-align: top;\n",
       "    }\n",
       "</style>\n",
       "<table border=\"1\" class=\"dataframe\">\n",
       "  <thead>\n",
       "    <tr style=\"text-align: right;\">\n",
       "      <th></th>\n",
       "      <th>bug_ref</th>\n",
       "      <th>filename</th>\n",
       "      <th>affected_version</th>\n",
       "      <th>date_release</th>\n",
       "    </tr>\n",
       "  </thead>\n",
       "  <tbody>\n",
       "    <tr>\n",
       "      <th>0</th>\n",
       "      <td>HBASE-10569</td>\n",
       "      <td>/Users/YusufNugroho/historage-mining/historage...</td>\n",
       "      <td>None</td>\n",
       "      <td>NaN</td>\n",
       "    </tr>\n",
       "    <tr>\n",
       "      <th>1</th>\n",
       "      <td>HBASE-13686</td>\n",
       "      <td>/Users/YusufNugroho/historage-mining/historage...</td>\n",
       "      <td>1.1.0-SNAPSHOT-testing</td>\n",
       "      <td>2015-04-29</td>\n",
       "    </tr>\n",
       "    <tr>\n",
       "      <th>2</th>\n",
       "      <td>HBASE-13686</td>\n",
       "      <td>/Users/YusufNugroho/historage-mining/historage...</td>\n",
       "      <td>1.1.0-SNAPSHOT-testing</td>\n",
       "      <td>2015-04-29</td>\n",
       "    </tr>\n",
       "    <tr>\n",
       "      <th>3</th>\n",
       "      <td>HBASE-10569</td>\n",
       "      <td>/Users/YusufNugroho/historage-mining/historage...</td>\n",
       "      <td>None</td>\n",
       "      <td>NaN</td>\n",
       "    </tr>\n",
       "    <tr>\n",
       "      <th>4</th>\n",
       "      <td>HBASE-10569</td>\n",
       "      <td>/Users/YusufNugroho/historage-mining/historage...</td>\n",
       "      <td>None</td>\n",
       "      <td>NaN</td>\n",
       "    </tr>\n",
       "  </tbody>\n",
       "</table>\n",
       "</div>"
      ],
      "text/plain": [
       "       bug_ref                                           filename  \\\n",
       "0  HBASE-10569  /Users/YusufNugroho/historage-mining/historage...   \n",
       "1  HBASE-13686  /Users/YusufNugroho/historage-mining/historage...   \n",
       "2  HBASE-13686  /Users/YusufNugroho/historage-mining/historage...   \n",
       "3  HBASE-10569  /Users/YusufNugroho/historage-mining/historage...   \n",
       "4  HBASE-10569  /Users/YusufNugroho/historage-mining/historage...   \n",
       "\n",
       "         affected_version date_release  \n",
       "0                    None          NaN  \n",
       "1  1.1.0-SNAPSHOT-testing   2015-04-29  \n",
       "2  1.1.0-SNAPSHOT-testing   2015-04-29  \n",
       "3                    None          NaN  \n",
       "4                    None          NaN  "
      ]
     },
     "execution_count": 5,
     "metadata": {},
     "output_type": "execute_result"
    }
   ],
   "source": [
    "filedata = pd.read_csv('diffbugs_file_differentvalue_withfilepath.csv')\n",
    "filedata = filedata[['bug_ref','filename']]\n",
    "\n",
    "details = filedata.join(aff.set_index('bug_id')[['affected_version','date_release']], on='bug_ref')\n",
    "details"
   ]
  },
  {
   "cell_type": "markdown",
   "metadata": {},
   "source": [
    "# Open diff file affected by HBASE-13686 (RateLimiter & TestRateLimiter.java)"
   ]
  },
  {
   "cell_type": "code",
   "execution_count": 6,
   "metadata": {
    "collapsed": true
   },
   "outputs": [],
   "source": [
    "blamefiles = ['blame_RateLimiter.java.csv', 'blame_TestRateLimiter.java.csv']\n",
    "diff_files = [['RateLimiter.java-HBASE-13686_histogrambuglines.diff', \n",
    "               'RateLimiter.java-HBASE-13686_minimalbuglines.diff',\n",
    "               'RateLimiter.java-HBASE-13686_myersbuglines.diff',\n",
    "               'RateLimiter.java-HBASE-13686_patiencebuglines.diff'],\n",
    "              ['TestRateLimiter.java-HBASE-13686_histogrambuglines.diff',\n",
    "               'TestRateLimiter.java-HBASE-13686_minimalbuglines.diff',\n",
    "               'TestRateLimiter.java-HBASE-13686_myersbuglines.diff',\n",
    "               'TestRateLimiter.java-HBASE-13686_patiencebuglines.diff']\n",
    "             ]"
   ]
  },
  {
   "cell_type": "code",
   "execution_count": 7,
   "metadata": {},
   "outputs": [
    {
     "data": {
      "text/plain": [
       "'HBASE-13686'"
      ]
     },
     "execution_count": 7,
     "metadata": {},
     "output_type": "execute_result"
    }
   ],
   "source": [
    "bug_id = re.compile('(HBASE-[0-9]*)')\n",
    "bug_id = bug_id.findall(diff_files[0][0])\n",
    "bug_id[0]"
   ]
  },
  {
   "cell_type": "code",
   "execution_count": 8,
   "metadata": {},
   "outputs": [
    {
     "name": "stdout",
     "output_type": "stream",
     "text": [
      "RateLimiter.java-HBASE-13686_histogrambuglines.diff\n",
      "RateLimiter.java-HBASE-13686_minimalbuglines.diff\n",
      "RateLimiter.java-HBASE-13686_myersbuglines.diff\n",
      "RateLimiter.java-HBASE-13686_patiencebuglines.diff\n",
      "TestRateLimiter.java-HBASE-13686_histogrambuglines.diff\n",
      "TestRateLimiter.java-HBASE-13686_minimalbuglines.diff\n",
      "TestRateLimiter.java-HBASE-13686_myersbuglines.diff\n",
      "TestRateLimiter.java-HBASE-13686_patiencebuglines.diff\n"
     ]
    }
   ],
   "source": [
    "for m, dfiles in enumerate(diff_files):\n",
    "    for n, df in enumerate(dfiles):\n",
    "        print (df)"
   ]
  },
  {
   "cell_type": "code",
   "execution_count": 9,
   "metadata": {
    "collapsed": true
   },
   "outputs": [],
   "source": [
    "#Open csv file from result of git blame for <filename>.java\n",
    "blames = []\n",
    "for num, blame in enumerate(blamefiles):\n",
    "    fields = ['line_number', 'code', 'date']\n",
    "    blamefile = pd.read_csv(directory + r\"step_3/\" + blame)\n",
    "    blamefile = blamefile[fields]\n",
    "\n",
    "    origin_code = []\n",
    "    for n in range(0, len(blamefile)):\n",
    "        temp = [blamefile.iloc[n][0], str(blamefile.iloc[n][1]).replace('nan',''), blamefile.iloc[n][2]]\n",
    "        origin_code.append(temp)\n",
    "    \n",
    "    #Open diff_file <filename>.java-HBASE-13686_<diffalgorithm>changes.diff vs blame_<filename>\n",
    "    for m, df in enumerate(diff_files[num]):\n",
    "        diff_file = open (directory + r\"file-diff/buggylines/\" + df,'r')\n",
    "        bugline = diff_file.read().split('\\n')\n",
    "\n",
    "        if bugline[len(bugline)-1] == '':\n",
    "            for i in range(0,len(bugline)-1):\n",
    "                bugline[i] = bugline[i][1:]\n",
    "            del bugline[len(bugline)-1]\n",
    "        else:\n",
    "            for i in range(0,len(bugline)):\n",
    "                bugline[i] = bugline[i][1:]\n",
    "        \n",
    "        num = 0\n",
    "        blame_compare = []\n",
    "        org_code = [el[1] for el in origin_code]\n",
    "        for y, bugs in enumerate(bugline):\n",
    "            for x in range(num, len(origin_code)-1):\n",
    "                if bugs in org_code:\n",
    "                    codex = origin_code[x][1]\n",
    "                    if bugs == codex:\n",
    "                        temp = [origin_code[x][0], bugs, \"True\", origin_code[x][2]]\n",
    "                        blame_compare.append(temp)\n",
    "                        num = origin_code[x][0]\n",
    "                        break;\n",
    "                else:\n",
    "                    temp = ['NA', bugs, \"False\", 'NA']\n",
    "                    blame_compare.append(temp)\n",
    "                    break;\n",
    "                        \n",
    "        with open (directory + r'step_3/diff-file_blame-file_comparison/diff_' + df + '_' + blame, 'w') as csvfile:\n",
    "            writers = csv.writer(csvfile, delimiter = \",\")\n",
    "            header = ['line_number', 'buggy_code', 'does_bugline_from_originfile?', 'date_added_in_originfile']\n",
    "            writers.writerow(header)\n",
    "            for item in blame_compare:\n",
    "                writers.writerow(item)"
   ]
  },
  {
   "cell_type": "code",
   "execution_count": null,
   "metadata": {
    "collapsed": true
   },
   "outputs": [],
   "source": []
  }
 ],
 "metadata": {
  "kernelspec": {
   "display_name": "Python 3",
   "language": "python",
   "name": "python3"
  },
  "language_info": {
   "codemirror_mode": {
    "name": "ipython",
    "version": 3
   },
   "file_extension": ".py",
   "mimetype": "text/x-python",
   "name": "python",
   "nbconvert_exporter": "python",
   "pygments_lexer": "ipython3",
   "version": "3.6.3"
  }
 },
 "nbformat": 4,
 "nbformat_minor": 2
}
