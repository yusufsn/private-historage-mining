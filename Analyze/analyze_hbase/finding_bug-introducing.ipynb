{
 "cells": [
  {
   "cell_type": "code",
   "execution_count": 1,
   "metadata": {},
   "outputs": [],
   "source": [
    "import os, glob, json, csv, subprocess, sys, re\n",
    "from git import *\n",
    "from subprocess import Popen, PIPE\n",
    "from os import path\n",
    "import pandas as pd\n",
    "import plotly.graph_objs as go\n",
    "import plotly\n",
    "from plotly.offline import plot, init_notebook_mode, iplot\n",
    "import itertools\n",
    "\n",
    "%matplotlib inline"
   ]
  },
  {
   "cell_type": "markdown",
   "metadata": {},
   "source": [
    "# Defining repository"
   ]
  },
  {
   "cell_type": "code",
   "execution_count": 2,
   "metadata": {
    "collapsed": true
   },
   "outputs": [],
   "source": [
    "userhome = os.path.expanduser('~')"
   ]
  },
  {
   "cell_type": "code",
   "execution_count": 3,
   "metadata": {
    "collapsed": true
   },
   "outputs": [],
   "source": [
    "repository = userhome + r'/historage-mining/historage/hbase/'"
   ]
  },
  {
   "cell_type": "markdown",
   "metadata": {},
   "source": [
    "# Defining git command function"
   ]
  },
  {
   "cell_type": "code",
   "execution_count": 4,
   "metadata": {
    "collapsed": true
   },
   "outputs": [],
   "source": [
    "def execute_command(cmd, work_dir):\n",
    "    \"\"\"Executes a shell command in a subprocess, waiting until it has completed.\n",
    " \n",
    "    :param cmd: Command to execute.\n",
    "    :param work_dir: Working directory path.\n",
    "    \"\"\"\n",
    "    pipe = subprocess.Popen(cmd, shell=True, cwd=work_dir, stdout=subprocess.PIPE, stderr=subprocess.PIPE)\n",
    "    (out, error) = pipe.communicate()\n",
    "    return out, error\n",
    "    pipe.wait()"
   ]
  },
  {
   "cell_type": "code",
   "execution_count": 5,
   "metadata": {
    "collapsed": true
   },
   "outputs": [],
   "source": [
    "def execute_shell_command(buglink, id1, id2, cmd, work_dir):\n",
    "    \"\"\"Executes a shell command in a subprocess, waiting until it has completed.\n",
    " \n",
    "    :param cmd: Command to execute.\n",
    "    :param work_dir: Working directory path.\n",
    "    \"\"\"\n",
    "    pipe = subprocess.Popen(cmd, shell=True, cwd=work_dir, stdout=subprocess.PIPE, stderr=subprocess.PIPE)\n",
    "    (out, error) = pipe.communicate()\n",
    "    return buglink, id1, id2, out, error\n",
    "    pipe.wait()"
   ]
  },
  {
   "cell_type": "markdown",
   "metadata": {},
   "source": [
    "# Finding log messages containing bug link"
   ]
  },
  {
   "cell_type": "code",
   "execution_count": 6,
   "metadata": {},
   "outputs": [
    {
     "data": {
      "text/plain": [
       "['07e93458fe HBASE-19930: Fixing the bug, in the rare case when there is a merge into CCM and the one of the old segments has a big cell allocated on-heap and it needs to be copied to the MSLAB',\n",
       " '001f9cc5ea     HBASE-19940 TestMetaShutdownHandler flakey; ADDENDUM: yet more debug',\n",
       " '590bee78dc HBASE-19940 TestMetaShutdownHandler flakey; ADDENDUM: more debug',\n",
       " '9f2149f171 HBASE-19840 Flakey TestMetaWithReplicas; ADDENDUM Adding debug',\n",
       " 'c245bd5c03 HBASE-19837 Flakey TestRegionLoad; ADDENDUM Report more often and wait less time on change (also add some debug on TestMetaShutdown test)',\n",
       " '88d6e06a1f HBASE-19554 reenable TestDLSAsyncFSWAL/TestDLSFSHLog for debugging',\n",
       " '811afad103 HBASE-19915 Create merged/ daughter region/s with initial state CLOSED from MetaTableAccessor#splitRegion()/ mergeRegions()',\n",
       " '34c6c99041 HBASE-19811 Fix findbugs and error-prone warnings in hbase-server (branch-2) - addendum',\n",
       " 'aeffca497b HBASE-19846 Fix findbugs and error-prone warnings in hbase-rest (branch-2)',\n",
       " 'b20b45e4e8 HBASE-19845 Fix findbugs and error-prone warnings in hbase-rsgroup',\n",
       " 'd589b72382 HBASE-19847 Fix findbugs and error-prone warnings in hbase-thrift (branch-2)',\n",
       " '93a182f286 HBASE-19811 Fix findbugs and error-prone warnings in hbase-server (branch-2)',\n",
       " 'd49357f265 HBASE-19840 Flakey TestMetaWithReplicas',\n",
       " 'c60359959c HBASE-19837 Flakey TestRegionLoad',\n",
       " 'f3c563fc00 HBASE-19837 Flakey TestRegionLoad',\n",
       " '581fabe7b2 HBASE-19815 Flakey TestAssignmentManager.testAssignWithRandExec (Part Two).',\n",
       " 'c1a8dc09d6 HBASE-19810 Fix findbugs and error-prone warnings in hbase-metrics (branch-2)',\n",
       " 'c269e63a07 HBASE-19809 Fix findbugs and error-prone warnings in hbase-procedure (branch-2)',\n",
       " '4ddfecac56 HBASE-19787 Fix or disable tests broken in branch-2 so can cut beta-1',\n",
       " 'c799b0e69b HBASE-19694 The initialization order for a fresh cluster is incorrect Addendum. Adds in a missing line that helps debugging.',\n",
       " 'd8ef30c5e1 HBASE-19654 Remove misleading and chatty debug message in ReplicationLogCleaner',\n",
       " 'dc5ec061b5 HBASE-19491 Improvements to Nighly runs: Fixes findbugs tests, Exclude flaky tests from master.',\n",
       " '084e324fb9 HBASE-19554 For debug: Modify HTU.waitUntilAllRegionsAssigned to handle the case where we do not have entries for the given table',\n",
       " 'f9f869f60a HBASE-19497 Fix findbugs and error-prone warnings in hbase-common (branch-2) Signed-off-by: Apekshit Sharma <appy@apache.org>',\n",
       " '59529a78f0 HBASE-19498 Fix findbugs and error-prone warnings in hbase-client (branch-2)',\n",
       " '7092b814bd HBASE-19457 Debugging flaky TestTruncateTableProcedure',\n",
       " '033e64a8b1 HBASE-19454 Debugging TestDistributedLogSplitting#testThreeRSAbort',\n",
       " 'ddbff4fd87 HBASE-19386 Enable Arm64 unaligned support for HBase',\n",
       " 'f886716617 HBASE-19319 Fix bug in synchronizing over ProcedureEvent',\n",
       " '7cdfbde37d HBASE-16290 Dump summary of callQueue content; can help debugging',\n",
       " '41cc9a125f HBASE-18350 RSGroups are broken under AMv2',\n",
       " 'e1941aa6d1 HBASE-18960 A few bug fixes and minor improvements around batchMutate',\n",
       " '1ff90d3b4b HBASE-18929 Hbase backup command doesn\\\\xe2\\\\x80\\\\x99t show debug option to enable backup in debug mode (Amit Kabra)',\n",
       " \"91e1f834bf Amend HBASE-18830 TestCanaryTool does not check Canary monitor\\\\'s error code\",\n",
       " 'fb537fe736 HBASE-18723 [pom cleanup] Do a pass with dependency:analyze; remove unused and explicity list the dependencies we exploit',\n",
       " '75a6b36849 HBASE-18375: Fix the bug where the pool chunks from ChunkCreator are deallocated and not returned to pool, because there is no reference to them',\n",
       " '4376233e2a HBASE-18315 Eliminate the findbugs warnings for hbase-rest',\n",
       " '3574757f74 HBASE-18308 Eliminate the findbugs warnings for hbase-server',\n",
       " 'ea0062fa54 HBASE-18376 Add debug logs to hbase-personality.sh to make it possible to debug this issue.',\n",
       " 'cf636e50b9 HBASE-18365 Eliminate the findbugs warnings for hbase-common',\n",
       " 'cc4301ca08 HBASE-18268 Eliminate the findbugs warnings for hbase-client',\n",
       " '8b63eb6fc6 HBASE-18314 Eliminate the findbugs warnings for hbase-examples',\n",
       " 'f2731fc241 HBASE-18264 Update pom plugins',\n",
       " '0d4245c99e HBASE-18293 Only add the spotbugs dependency when jdk8 is active',\n",
       " '7cc458e129 HBASE-18254 ServerCrashProcedure checks and waits for meta initialized, instead should check and wait for meta loaded',\n",
       " '298454e8a7 HBASE-17954 Switched findbugs implementation to spotbugs',\n",
       " '3975bbd008 HBASE-14614 Procedure v2 - Core Assignment Manager (Matteo Bertozzi) Move to a new AssignmentManager, one that describes Assignment using a State Machine built on top of ProcedureV2 facility.',\n",
       " 'dc1065a85d HBASE-14614 Procedure v2 - Core Assignment Manager (Matteo Bertozzi) Move to a new AssignmentManager, one that describes Assignment using a State Machine built on top of ProcedureV2 facility.',\n",
       " '841bb00655 HBASE-18044 Fix bug in report-flakies.py where if counter is set outside for loop, it cannot be overwritten inside loop.',\n",
       " 'cb4fac1d18 HBASE-17765 Reviving the merge of the compacting pipeline',\n",
       " '046d4e183b Revert \"Reviving the merge of the compacting pipeline: making the limit on the number of the segments in the pipeline configurable, adding merge test, fixing bug in sizes counting\"',\n",
       " 'c77e2135db Reviving the merge of the compacting pipeline: making the limit on the number of the segments in the pipeline configurable, adding merge test, fixing bug in sizes counting',\n",
       " 'b635414e83 HBASE-15484 Correct the semantic of batch and partial - amend to fix bug and revise the JavaDoc for related APIs.',\n",
       " \"c725d4d334 HBASE-17538 HDFS.setStoragePolicy() logs errors on local fs Policy is set in a number of places each with its own \\\\'implementation\\\\'.\",\n",
       " '69ce5967fd HBASE-17373: Fixing bug in moving segments from compaction pipeline to snapshot',\n",
       " 'a5ee36d937 HBASE-17326 Fix findbugs warning in BufferedMutatorParams Fix above and the other hbase-server findbugs complaint about null-check Addendum to fix complaint out of BMParams#clone. Added CN_IDIOM_NO_SUPER_CALL handling.',\n",
       " 'c3ce02d592 HBASE-17326 Fix findbugs warning in BufferedMutatorParams Fix above and the other hbase-server findbugs complaint about null-check',\n",
       " 'bb0fc6b602 HBASE-17006 Give name to existing threads. Having thread names in logs and thread dumps greatly improve debugability. This patch is simply adding the names to the threads we spawn.',\n",
       " '281bf9a222 HBASE-17014 Added clearly marked log messages for start and shutdown of services HMaster, HRegionServer, ThriftServer, RESTServer. Also changed the log level for RPCServer responder starting log message to debug.',\n",
       " 'fe47ec81f9 HBASE-16969 RegionCoprocessorServiceExec should override the toString() for debugging (ChiaPing Tsai)',\n",
       " 'bbe88d942e HBASE-16944 Fix findbugs warning in hbase-server HRegion UL_UNRELEASED_LOCK',\n",
       " '0d40a52ee8 Revert \"Revert \"HBASE-16698 Performance issue: handlers stuck waiting for CountDownLatch inside WALKey#getWriteEntry under high writing workload; ADDENDUM. Fix findbugs\"\"',\n",
       " 'f555b5be9c Revert \"HBASE-16698 Performance issue: handlers stuck waiting for CountDownLatch inside WALKey#getWriteEntry under high writing workload; ADDENDUM. Fix findbugs\" Premature commit. Revert while discussion ongoing',\n",
       " 'e1923b7c0c HBASE-16698 Performance issue: handlers stuck waiting for CountDownLatch inside WALKey#getWriteEntry under high writing workload; ADDENDUM. Fix findbugs',\n",
       " '8c4b09dfba HBASE-16624 Fix MVCC DeSerialization bug in the HFileScannerImpl',\n",
       " '1da0a48f6b HBASE-16535 Use regex to exclude generated classes for findbugs',\n",
       " 'c11923d8aa HBASE-16456 Fix findbugs warnings in hbase-rsgroup module (Guangxu Cheng)',\n",
       " \"741d0a4511 HBASE-16430 Fix RegionServer Group\\\\'s bug when moving multiple tables (Guangxu Cheng)\",\n",
       " \"ad16676f92 Fix RegionServer Group\\\\'s bug when moving multiple tables (Guangxu Cheng)\",\n",
       " '45bb6180a3 REVERT of revert of \"HBASE-16308 Contain protobuf references Gather up the pb references into a few locations only rather than have pb references distributed all about the code base.\" This is a revert of a revert; i.e. we are adding back the change only adding back with fixes for the broken unit test; was a real issue on a test that went in just at same time as this commit; I was getting a new nonce on each retry rather than getting one for the mutation.',\n",
       " '60b79e2daa HBASE-16321 ensure no findbugs-jsr305',\n",
       " '544dc1e558 HBASE-16355 Invalid hbase-common test-jar dependency scope',\n",
       " '209b6f74c7 HBASE-16317 revert all ESAPI changes',\n",
       " '4421fdf981 HBASE-16066 Resolve RpC_REPEATED_CONDITIONAL_TEST findbugs warnings in HMaster, addendum to HBASE-15467',\n",
       " \"15c03fd1c9 HBASE-15965 - Testing by executing a command will cover the exact path users will trigger, so its better then directly calling library functions in tests. Changing the tests to use @shell.command(:<command>, args) to execute them like it\\\\'s a command coming from shell.\",\n",
       " 'eb64cd9dd1 HBASE-15917 Addendum. Fix bug in report-flakies.py where hanging tests are not being added to flaky list. (Apekshit) ADDENDUM #2!',\n",
       " '4abc602e3b HBASE-15912. REST module has 2 extent warnings in findbugs.',\n",
       " 'c47511baa7 HBASE-15828 fix extant findbug NM_SAME_SIMPLE_NAME_AS_INTERFACE in Future',\n",
       " 'ac31ceb835 HBASE-15794 Fix Findbugs instanceof always true issue in MultiServerCallable',\n",
       " 'e8b37422c3 HBASE-15720 Print row locks at the debug dump page',\n",
       " 'b3e71d4644 HBASE-15434 [findbugs] Exclude scala generated source and protobuf generated code in hbase-spark module',\n",
       " 'edc5ab5af9 HBASE-15291 Revert due to the bug Haitao discovered',\n",
       " 'bab8d1527b HBASE-15181 Addendum fixes findbugs warning (Clara Xiong)',\n",
       " '68b300173f HBASE-15122 Servlets generate XSS_REQUEST_PARAMETER_TO_SERVLET_WRITER findbugs warnings (Samir Ahmic)',\n",
       " 'a975408b7c HBASE-15253 Small bug in CellUtil.matchingRow(Cell, byte[]) (Ram)',\n",
       " 'b6328eb803 HBASE-15238 HFileReaderV2 prefetch overreaches; runs off the end of the data',\n",
       " 'd82ae42126 Revert \"HBASE-15122 Servlets generate XSS_REQUEST_PARAMETER_TO_SERVLET_WRITER findbugs warnings (Samir Ahmic)\" Revert mistaken commit.',\n",
       " 'efc7a0d347 HBASE-15122 Servlets generate XSS_REQUEST_PARAMETER_TO_SERVLET_WRITER findbugs warnings (Samir Ahmic)',\n",
       " 'f4d9597e1e  HBASE-15210 Undo aggressive load balancer logging at tens of lines per millisecond; ADDENDUM changing LOG.debug to LOG.trace -- noticed by matteo',\n",
       " '2cc48e039d HBASE-15158 HBASE-15158 Preamble 1 of 2: fix findbugs, add javadoc, change Region#getReadpoint to #getReadPoint, and some util',\n",
       " \"9955118995 HBASE-15195 Don\\\\'t run findbugs on hbase-it; it has nothing in src/main/java\",\n",
       " 'f9e69b51e1 HBASE-15148 Resolve IS2_INCONSISTENT_SYNC findbugs warning in AuthenticationTokenSecretManager (Yu Li)',\n",
       " '713c6b5b1e HBASE-15106 Procedure v2 - Procedure Queue pass Procedure for better debuggability',\n",
       " '9bf26f46d1 HBASE-15118 Fix findbugs complaint in hbase-server',\n",
       " '76bce77326 HBASE-15115 Fix findbugs complaints in hbase-client',\n",
       " 'cb17c7a97a HBASE-15117 Resolve ICAST findbugs warnings in current codes (Yu Li)',\n",
       " '83c506d9d4 HBASE-15087 Fix hbase-common findbugs complaints',\n",
       " '894ce84b83 HBASE-15027 - Findbug fix (addendum)',\n",
       " '0d72849581 HBASE-14355 Scan different TimeRange for each column family - fixing memstore bug',\n",
       " '6875e6d4d4 HBASE-14343 Fix debug message in SimpleRegionNormalizer for small regions (Lars Francke)',\n",
       " 'dd955fa417 HBASE-14547 Add more debug/trace to zk-procedure',\n",
       " '257df19cc3 HBASE-14100 Fix high priority findbugs warnings',\n",
       " '7dbb2e6977 HBASE-13930 Exclude Findbugs packages from shaded jars',\n",
       " '84a50393ee HBASE-13888 Fix refill bug from HBASE-13686 (Guanghao Zhang)',\n",
       " '9ee184b673 HBASE-13760 Cleanup Findbugs keySet iterator warnings. (Gabor Liptak)',\n",
       " '7f2b33dbbf HBASE-13071 synchronous scanner -- cache size-in-bytes bug fix',\n",
       " 'a1c94c0bdf HBASE-13677 changed RecoverableZooKeeper logs about retries from info and warn to debug',\n",
       " 'e1cb405adc HBASE-13528 A bug on selecting compaction pool (Shuaifeng Zhou)',\n",
       " 'ced0e324a1 HBASE-13262 Observe ScanResponse.moreResults in ClientScanner.',\n",
       " '69f6a2e7b4 HBASE-13334 FindBugs should create precise report for new bugs introduced (addendum)',\n",
       " '948a6a63e8 HBASE-13334 FindBugs should create precise report for new bugs introduced',\n",
       " '6e9ded51fb HBASE-13310 Fix high priority findbugs warnings',\n",
       " '9c83fa7b52 HBASE-13167 The check for balancerCutoffTime is buggy (Mikhail Antonov)',\n",
       " 'd590f87ef4 HBASE-7126 Document how to report security bugs',\n",
       " '5bd27af8b0 Fixed bug in publication script',\n",
       " 'd66f88134c HBASE-13132 Improve RemoveColumn action debug message',\n",
       " 'b9f8616177 HBASE-13138 Clean up TestMasterObserver (debug, trying to figure why fails)',\n",
       " 'd2e64032c6 HBASE-13132 Improve RemoveColumn action debug message',\n",
       " '4fb6f91cba HBASE-13123 - Minor bug in ROW bloom filter (Ram)',\n",
       " 'eea9873cef HBASE-12985 Javadoc warning and findbugs fixes to get us green again',\n",
       " '305267b8e2 HBASE-12270 A bug in the bucket cache, with cache blocks on write enabled (Liu Shaohui)',\n",
       " 'fbdaf62bf8 HBASE-12716 A bug in RegionSplitter.UniformSplit algorithm (Weichen Ye)',\n",
       " 'd436559378 HBASE-12711 Fix new findbugs warnings in hbase-thrift module (Srikanth)',\n",
       " 'ca0c1774c9 HBASE-12548. Improve debuggability of IntegrationTestTimeBoundedRequestsWithRegionReplicas',\n",
       " '5cc0714840 HBASE-12559 Addendum fixes findbugs warnings',\n",
       " '0df5ed2ca6 HBASE-12550 Check all storefiles are referenced before splitting',\n",
       " 'c5690b1be3 HBASE-12541 Add misc debug logging to hanging tests in TestHCM and TestBaseLoadBalancer',\n",
       " '42c03460e4 HBASE-12472 Improve debuggability of IntegrationTestBulkLoad',\n",
       " '9ea80f8f11 HBASE-12488 Small bug in publish_hbase_website.sh script',\n",
       " '3c1fbd2ddf HBASE-12198 Fix the bug of not updating location cache',\n",
       " 'bc4f25ff45 HBASE-12104 Some optimization and bugfix for HTableMultiplexer (Yi Deng)',\n",
       " \"43301167db HBASE-12145 Fix javadoc and findbugs so new folks aren\\\\'t freaked when they see them\",\n",
       " '78d532e5f3 HBASE-12086 Fix bug of HTableMultipliexer',\n",
       " '41ecb18c20 HBASE-11662 shell should properly handle long form --debug.',\n",
       " 'aca2462ce3 HBASE-4744 enable test that log roll fails after split start.',\n",
       " '9f96d91b2e HBASE-11261 Addendum to remove an unneeded debug message',\n",
       " '96dcd67f56 HBASE-11514 Fix findbugs warnings in blockcache',\n",
       " '6da1a485fc HBASE-11463 (findbugs) HE: Class defines equals() and uses Object.hashCode()',\n",
       " '8f6e04c446 Add some debug and echo around findbugs generations',\n",
       " '9ff90931dc HBASE-11413 [findbugs] RV: Negating the result of compareTo()/compare() (Mike Drob)',\n",
       " '4053868e72 HBASE-11203 Clean up javadoc and findbugs warnings in trunk',\n",
       " '4487333e5e HBASE-10840 Fix findbug warn induced by HBASE-10569.(Anoop)',\n",
       " \"a1a5f57bff HBASE-10656 high-scale-lib\\\\'s Counter depends on Oracle (Sun) JRE, and also has some bug\",\n",
       " 'bc9834426a HBASE-10624 Fix 2 new findbugs warnings introduced by HBASE-10598',\n",
       " 'f1ad5cb938 HBASE-10452 Fix potential bugs in exception handlers (Ding Yuan)',\n",
       " 'b3b3d0ddff HBASE-10446 Backup master gives Error 500 for debug dump',\n",
       " 'b5d161c513 HBASE-10397 Fix findbugs introduced from HBASE-9426.',\n",
       " '5123e92213 HBASE-10239. Improve determinism and debugability of TestAccessController',\n",
       " '2124f4054d HBASE-10116 Addendum: fix findbugs warning',\n",
       " 'a28881da2d HBASE-10134 Fix findbug warning in VisibilityController',\n",
       " '13e9eda3e7 HBASE-9856 Fix some findbugs Performance Warnings',\n",
       " '22f54af029 HBASE-10011 Fix some findbugs in the client - addendum: set OK_FINDBUGS_WARNINGS=89',\n",
       " '8c0078d175 HBASE-10023 Fix/Suppress all the 10 findbug warnings under hbase-common (Liang Xie)',\n",
       " '35cea57fe5 HBASE-10011 Fix some findbugs in the client',\n",
       " 'ecb4b1017c HBASE-9921 stripe compaction - findbugs and javadoc issues, some improvements',\n",
       " '45a337446e HBASE-9920 Revert: total findbugs warning is higher than 87, leading to false-positive',\n",
       " 'bf2144fe60 HBASE-9003 Remove the jamon generated classes from the findbugs analysis',\n",
       " '58ee2bbf24 HBASE-9232 Fix javadoc warning and a few findbugs items',\n",
       " '3bc9e2c95c HBASE-9158 Serious bug in cyclic replication',\n",
       " '08235fca23 HBASE-9085 Integration Tests fails because of bug in teardown phase where the cluster state is not being restored properly. (gautam)',\n",
       " 'd390841912 HBASE-8919  TestReplicationQueueFailover (and Compressed) can fail because the recovered queue             gets stuck on ClosedByInterruptException (first try, getting more debug)',\n",
       " '9ccf16db51 HBASE-8798 Fix a minor bug in shell command with clone_snapshot table error',\n",
       " '5ca140fe2f HBASE-7817: Suggested JDWP debug options in hbase-env.sh are wrong (Vasu Mariyala)',\n",
       " '7181fa35a3 HBASE-8062 Replace HBaseFsck.debugLsr() in TestFlushSnapshotFromClient with FSUtils.logFileSystemState()',\n",
       " '0bc9187d46 HBASE-8225 [replication] minor code bug when registering ReplicationLogCleaner (Jerry He)',\n",
       " '466902ffde HBASE-8101 Cleanup: findbugs and javadoc warning fixes as well as making it illegal passing null row to Put/Delete, etc.',\n",
       " '95e4f53090 HBASE-8067 TestHFileArchiving.testArchiveOnTableDelete sometimes fails -- more debug',\n",
       " '1e414a4413 HBASE-7547 Fix findbugs warnings in snapshot classes (Ted Yu)',\n",
       " 'c9b3e9b2da HBASE-7354 Snapshot Info/Debug Tool (Matteo Bertozzi)',\n",
       " '1d330c9478 HBASE-7699 Replace LOG.info() with LOG.debug() in FSUtils.listStatus()',\n",
       " 'a3f0aea354 HBASE-7682 Replace HRegion custom File-System debug, with FSUtils.logFileSystemState()',\n",
       " 'f60b8246e7 HBASE-7588 Fix two findbugs warning in MemStoreFlusher; REAPPLIED',\n",
       " 'c3e140cd14 HBASE-7588 Fix two findbugs warning in MemStoreFlusher; REVERTED',\n",
       " '3b345cd684 HBASE-7588 Fix two findbugs warning in MemStoreFlusher',\n",
       " 'b96d60d659 HBASE-7601 Fix 8 remaining EQ findbug warnings from hbase-server.',\n",
       " '28b79e1214 HBASE-7595 Fix one findbug warning in ReplicationSourceManager',\n",
       " 'bda467aeca HBASE-7587. Fix two findbugs warnings in RowResource (Jean-Marc Spaggiari)',\n",
       " '5c8c3d0a8c HBASE-7586 Fix two findbugs warnings to get our count down to the tolerated number again',\n",
       " '6b97306c1e HBASE-7512 Document the findbugs library annotation',\n",
       " '4e0af48fe4 HBASE-7508 Fix simple findbugs',\n",
       " '4409ba741c HBASE-7443 More findbugs fixes - addendum - fix compilation error',\n",
       " '92c98a76d1 HBASE-7443 More findbugs fixes',\n",
       " '9fac4877d3 HBASE-5598 Analyse and fix the findbugs reporting by QA and add invalid bugs into findbugs-excludeFilter file',\n",
       " \"094e8d4420 HBASE-3925 Make Shell\\\\'s -d and debug cmd behave the same\",\n",
       " 'f4923b98a6 HBASE-6846 BitComparator bug - ArrayIndexOutOfBoundsException (Lucian George Iordache)',\n",
       " '1725705a47 HBASE-7036 Exclude org.apache.hadoop.hbase.coprocessor.example.generated package from findbugs check (Anoop)',\n",
       " 'f065232db0 HBASE-7002 Fix all 4 findbug performance warnings (Liang Xie)',\n",
       " 'd6cca23ed3 HBASE-6918 Debugging to help figure what is different up on jenkins when TestHeapSize runs',\n",
       " '8c393a32a8 HBASE-6848 Make hbase-hadoop-compat findbugs clean',\n",
       " 'c22888d6d8 HBASE-6363 HBaseConfiguration can carry a main method that dumps XML output for debug purposes',\n",
       " 'd6ed913ce5 HBASE-6368 Upgrade Guava for critical performance bug fix',\n",
       " '621ec576eb HBASE=6164 Correct the bug in block encoding usage in bulkload',\n",
       " '62154f1a1a HBASE-6138 HadoopQA not running findbugs [Trunk] (Anoop Sam John)',\n",
       " 'da7ff6c6c4 HBASE-6004. Adding more logging to help debugging MR job (Jimmy Xiang)',\n",
       " 'c8b61833f7 HBASE-5652 [findbugs] Fix lock release on all paths (Gregory Channan)',\n",
       " 'b854d1efb1 HBASE-5654 [findbugs] Address dodgy bugs (Ashutosh Jindal)',\n",
       " 'a2c1c0cd3e [jira] [HBASE-5684] Make ProcessBasedLocalHBaseCluster run HDFS and make it more robust',\n",
       " '8575edd908 HBASE-5645 [findbugs] Fix correctness warnings (David S Wang and Uma Maheswara Rao G)',\n",
       " 'b7844d9dd0 HBASE-5653 [findbugs] Fix perf warnings (Uma Maheswara Rao G)',\n",
       " '00316a4a51 [jira] [HBASE-5744] Thrift server metrics should be long instead of int',\n",
       " 'be245101ac HBASE-5644 [findbugs] Fix null pointer warnings (Uma Maheswara Rao G)',\n",
       " '81b15f1907 HBASE-5598 [findbugs] Exclude Protobuf warnings from wire compat patches',\n",
       " '4d5ca12a0f HBASE-5642 [findbugs] Exclude Thrift and Protobuf warnings (Uma Maheswara Rao G)',\n",
       " '3fd6997380 HBASE-5596 Few minor bugs from HBASE-5209 (David S. Wang)',\n",
       " '86962028dd [jira] [HBASE-5469] Add baseline compression efficiency to DataBlockEncodingTool',\n",
       " '5856e90720 HBASE-5597 Findbugs check in test-patch.sh always fails',\n",
       " '2314945b8b HBASE-5567 test-patch.sh has logic error in findbugs check',\n",
       " '961455cd9d [jira] [HBASE-5074] Support checksums in HBase block cache',\n",
       " '85c90d9274 [jira] [HBASE-5470] Make DataBlockEncodingTool work correctly with no native compression codecs loaded',\n",
       " 'b0d4403059 HBASE-5437 HRegionThriftServer does not start because of a bug in HbaseHandlerMetricsProxy (Scott Chen)',\n",
       " '0f708f7370 HBASE-5439 Fix some performance findbugs issues (Gregory Chanan)',\n",
       " '9a0eb6f0c2 [jira] [HBASE-5072] Support Max Value for Per-Store Metrics',\n",
       " '7dbde6f932 HBASE-4761 Add Developer Debug Options to HBase Config',\n",
       " 'c9d5a838d0 HBASE-4799 Catalog Janitor logic bug causes region leackage',\n",
       " '4206b1e860 [debug] Have NSFRE messages also display the row associated with the region request.',\n",
       " '04afdf9633 HBASE-3690 Option to Exclude Bulk Import Files from Minor Compaction',\n",
       " 'e896f6d400 Upgrade nextKeyValue() error message from debug to info to highlight MR generation failures',\n",
       " 'd6601d1d17 HBASE-4713 Raise debug level to warn on ExecutionException in HConnectionManager',\n",
       " '3fab67a8b5 HBASE-4722 TestGlobalMemStoreSize has started failing; commit some extra logging to help debug whats going on up on jenkins',\n",
       " '2e6de1360a Added debug to figure why this TestRegionServerCoprocessorExceptionWithRemove is failing with ArrayIndexOutOfBoundsException though we just checked the List size is > 0',\n",
       " 'b043d60317 HBASE-4350 Fix a Bloom filter bug introduced by HFile v2 and TestMultiColumnScanner that caught it',\n",
       " '76b123052e HBASE-4350 Fix a Bloom filter bug introduced by HFile v2 and TestMultiColumnScanner that caught it',\n",
       " '077efb37ef HBASE-4310  SlabCache metrics bugfix (Li Pi)',\n",
       " \"5af490cb6b HBASE-4323  Add debug logging when AssignmentManager can\\\\'t make a plan for a region.\",\n",
       " '6fbc5260af HBASE-4310  SlabCache metrics bugfix (Li Pi)',\n",
       " 'b89393caf2 HBASE-4276  AssignmentManager debug logs should be at INFO level for META/ROOT regions.',\n",
       " 'be00c74833 HBASE-4276  AssignmentManager debug logs should be at INFO level for META/ROOT regions.',\n",
       " '954b292bbf HBASE-4292  Add a debugging dump servlet to the master and regionserver',\n",
       " '5cae3a6b66 HBASE-4138 Change debug log in ZKUtil.watchAndCheckExists()',\n",
       " '1c5e23f215 HBASE-4138 Add debug log in ZooKeeperNodeTracker.start()',\n",
       " '57672b21a8 HBASE-4193  Enhance RPC debug logging with details on call contents',\n",
       " '3314b87804 HBASE-4075 A bug in TestZKBasedOpenCloseRegion',\n",
       " 'f389865787 Add debug to failing test',\n",
       " '7e87980347 HBASE-4005 close_region bugs',\n",
       " 'c80200bded HBASE-3832 Failing TestMasterFailover.testMasterFailoverWithMockedRITOnDeadRS up on jenkins; added debug and cleared out extra regionOnline of -ROOT-',\n",
       " 'c38558e545 HBASE-3622 Deadlock in HBaseServer (JVM bug?); Add an FAQ about hanging regionservers',\n",
       " '237bc82af2 HBASE-3669 Region in PENDING_OPEN keeps being bounced between RS and master -- added some debugging',\n",
       " '856065dee8 HBASE-3636 a bug about deciding whether this key is a new key for the ROWCOL bloomfilter',\n",
       " 'f84ff410bd HBASE-3290 fix #2. Fixes bugs found with major compaction logic for threshold files & major compaction jitter generation encountered during testing.',\n",
       " 'd547429a14 HBASE-3315 Add debug output for when balancer makes bad balance',\n",
       " '0f27ee880c HBASE-3114 Test up on hudson are leaking zookeeper ensemble',\n",
       " 'ef94177cd9 Remove debugging IOE throw',\n",
       " '7c8411d06a Upping pom memory and changing zk default port to help debug; on first, no harm in letting heap grow and on second, there seems to be errant zk cluster running on hudson ... trying to see if tests generate it when run clean',\n",
       " '25ae7a7b20 HBASE-3100 stop splitting in TestMergeTable, and add debug',\n",
       " 'ff2d19229f HBASE-3074 Zookeeper test failing on hudson',\n",
       " '3745672d94 Yet more debug for baffling zk test failure up on hudson',\n",
       " '8ff999cf9a HBASE-3074 Zookeeper test failing on hudson; xtra debugging to help figure whats happening up on hudson',\n",
       " '10a84f3b88 HBASE-3039 Stuck in regionsInTransition because rebalance came in at same time as a split',\n",
       " '467a0e726d HBASE-3016  Refactor zk logging in trunk; do less and and identifier to log messages to help debugging',\n",
       " '4321ef5546 HBASE-2862 Name DFSClient for Improved Debugging',\n",
       " '97657cccd2 HBASE-2763 Cross-port HADOOP-6833 IPC parameter leak bug',\n",
       " 'c6b5f4fa0d [stargate] Fix infinite recursive loop bug',\n",
       " \"013fd99d0d HBASE-2513 hbase-2414 added bug where we\\\\'d tight-loop if no root available\",\n",
       " \"14b68ca4c0 HBASE-2513 hbase-2414 added bug where we\\\\'d tight-loop if no root available\",\n",
       " \"9acf2c8d47 HBASE-2513 hbase-2414 added bug where we\\\\'d tight-loop if no root available\",\n",
       " '59b13bfb7a HBASE-2385 Debug Message Received',\n",
       " '83258ba826 Changes to findbugs config. to make it work w/ hudson',\n",
       " '0faf605ea1 HBASE-2230 SingleColumnValueFilter has an ungaurded debug log message.',\n",
       " '443d61e41a HBASE-2180 Bad random read performance from synchronizing hfile.fddatainputstream -- putting this as improvement in CHANGES because thats what j-d wants though I think it a bug because our perf. was so bad',\n",
       " '7a8f4c08e3 HBASE-2139 findbugs task in build.xml',\n",
       " '8bc2888278 HBASE-2140 findbugs issues - 2 performance warnings as suggested by findbugs',\n",
       " '9039e79ec2 HBASE-2093 [stargate] RowSpec parse bug',\n",
       " 'e2f7f90e00 HBASE-2090 findbugs issues',\n",
       " '04155cac92 HBASE-2044  HBASE-1822 removed not-deprecated APIs HBASE-2041  Change WAL default configuration values             changes to the shell and fixing interrupt bug',\n",
       " 'f4b8135658 [HBASE-1961] EC2 scripts; fix master launch bug',\n",
       " 'cb026c7c83 HBASE 1961; remove debug statement',\n",
       " '47c7c89e49 Remove some debug',\n",
       " '93bd67d54c Reverting 1918 but keeping debug',\n",
       " '7b4b398043 Adding debug for 1918',\n",
       " '764cd0fa52 HBASE-1821  Filtering by SingleColumnValueFilter bug',\n",
       " 'b3653a6295 HBASE-1743 [debug tool] Add regionsInTransition list to ClusterStatus detailed output',\n",
       " 'b015cc7fc1 HBASE-1630 Provide sample config options to enable GC debugging',\n",
       " '619a7243d0 HBASE-1615 HBASE-1597 introduced a bug when compacting after a split',\n",
       " 'b585855217 fix addContent bug again',\n",
       " 'd6ec5ed8a2 HBASE-1504 Remove left-over debug from 1304 commit',\n",
       " '9046fc04c2 remove excessive/annoying compressor related debug logging now that the issue warranting it has been resolved',\n",
       " '094a2030f0 HBASE-1245 hfile meta block handling bugs',\n",
       " '127491e583 HBASE-1098  IllegalStateException: Cannot set a region to be closed it it was not already marked as closing; debugging patch',\n",
       " 'ceab5a2722 Remove debugging',\n",
       " \"838b238999 HBASE-927   We don\\\\'t recover if HRS hosting -ROOT-/.META. goes down - (fix bug in createTable which caused tests to fail)\",\n",
       " '05a11e7fcc HBASE-1013 Add debugging around commit log cleanup',\n",
       " '5418547132 HBASE-977 Arcane HStoreKey comparator bug',\n",
       " '16a2c45780 HBASE-881   Fixed bug when Master tries to reassign split or offline regions from a dead server',\n",
       " 'a1f8ee8ac1 HBASE-552   Bloom filter bugs (Andrzej Bialecki via Jim Kellerman)',\n",
       " 'fddd62e6c5 HBASE-697 thrift idl needs update/edit to match new 0.2 API (and to fix bugs)',\n",
       " 'e30ed932bb HBASE-697 thrift idl needs update/edit to match new 0.2 API (and to fix bugs)',\n",
       " '1fb69ec11a HBASE-830 Debugging HCM.locateRegionInMeta is painful',\n",
       " \"f328681e00 HBASE-649 API polluted with default and protected access data members and methods HBASE-650 Add String versions of get, scanner, put in HTable HBASE-656 Do not retry exceptions such as unknown scanner or illegal argument A  src/java/org/apache/hadoop/hbase/ColumnNameParseException.java A  src/java/org/apache/hadoop/hbase/LeaseException.java     Added.  Thrown instead of IllegalArgumentExceptions M  src/java/org/apache/hadoop/hbase/Leases.java     Use new LeaseException in place of IllegalArgument M  src/java/org/apache/hadoop/hbase/HStoreKey.java     Use new ColumnNameParse in place of IllegalArgument M  src/java/org/apache/hadoop/hbase/master/ServerManager.java     Log at debug if LeaseException (Not important if it happens). A  src/java/org/apache/hadoop/hbase/DoNotRetryIOException.java     An IOE that shouldn\\\\'t be retried. M  src/java/org/apache/hadoop/hbase/InvalidColumnNameException.java M  src/java/org/apache/hadoop/hbase/UnknownScannerException.java     Inherit from DoNotRetryIOException else we keep trying. M  src/java/org/apache/hadoop/hbase/util/Bytes.java     (toByteArrays): Added one to handle [] String. M  src/java/org/apache/hadoop/hbase/client/HTable.java     Make String overrides of all methods.  Made data members     private (turns out a bunch arent\\\\' even used).  Stopped it     inheriting from HConstants so we don\\\\'t have big dump of     all HConstants as first thing in javadoc. M  src/java/org/apache/hadoop/hbase/client/HConnectionManager.java     If instance of DoNotRetryIOException, let the exception out. M  src/java/org/apache/hadoop/hbase/client/HBaseAdmin.java     Make String overrides of all methods.  Stopped it     inheriting from HConstants so we don\\\\'t have big dump of     all HConstants as first thing in javadoc.\",\n",
       " \"99fc06705d HBASE-23 Fix bug introduced by my edits of JDC\\\\'s patch\",\n",
       " 'cffa3a254e HBASE-586 HRegion runs HStore memcache snapshotting -- fix it so only HStore knows about workings of memcache',\n",
       " 'bc4b9b2c1c Update CHANGES.txt - bug fix was listed in wrong section',\n",
       " 'efce1b3d09 HBASE-521   Improve client scanner interface',\n",
       " '6e225dd7f1 HBASE-469   Streamline HStore startup and compactions',\n",
       " \"65d961ae78 HBASE-536 Remove MiniDFS startup from MiniHBaseCluster -Changed MiniHBaseCluster to not start up a MiniDFS -Changed HBaseClusterTestCase to do the work of starting up a MiniDFS. -Added pre and post setup method to HBaseClusterTestCase so you can control what happen before MiniHBaseCluster is booted up -Converted AbstractMergeTestCase to be a HBaseClusterTestCase -Converted any test that used a raw MIniDFS or MiniHBaseCluster to use HBaseClusterTestCase instead -Split TestTimestamp into two tests - one for clientside (now in o.a.h.h.client) and one for serverside (o.a.h.h.regionserver) -Merged in Stack\\\\'s changes to make bin/hbase have hadoop jars first on the classpath -Updated PerformanceEvaluation (in --miniCluster mode) to start up a DFS first -Fixed a bug in BaseScanner that would have allowed NPEs to be generated\",\n",
       " \"c1f974bbee HBASE-501 Empty region server address in info:server entry and a startcode of -1 in .META. M conf/hbase-default.xml Add hbase.hbasemaster.maxregionopen property. M src/java/org/apache/hadoop/hbase/HStore.java Change way we log. Do way less. Just emit sums of edits applied and skipped rather than individual edits. M src/java/org/apache/hadoop/hbase/HRegionServer.java Make sleeper instance a local rather than data member. (reportForDuty): Take a sleeper instance. (run): Removed redundant wrap of a \\\\'for\\\\' by a \\\\'while\\\\'. (constructor): If IOE, do not offline the region. Seen to be an overreaction. M src/java/org/apache/hadoop/hbase/HLog.java Don\\\\'t output map of all files being cleaned everytime a new entry is added; instead just log new entry. Remove emission of every 10k edits. M src/java/org/apache/hadoop/hbase/HMaster.java Up default for maxregionopen. Was seeing that playing edits could take a long time (mostly because we used log every edit) but no harm in this being longer. On REPORT_CLOSE, emit region info, not just region so can see the properties (W/o, made it hard to figure who was responsible for offlining). Add logging of attempt # in shutdown processing. Add logging of state flags passed to the close region. Helps debugging. Also in close offline ONLY if we are NOT reassigning the region (jimk find). M src/java/org/apache/hadoop/hbase/util/Sleeper.java Add logging of extraordinary sleeps or calculated periods (suspicion is that we\\\\'re sleeping way longer on loaded machies and the regionserver appears hung).\",\n",
       " '7d09aec4f8 HADOOP-2598 Remove chatty debug logging from 2443 patch',\n",
       " 'fed1075104 HADOOP-2500 Unreadable region kills region servers HADOOP-2587 Splits blocked by compactions cause region to be offline for duration of compaction. Fix bug in TestCompaction in which two mini dfs clusters were being started for the same test.',\n",
       " '79b3b1c6b2 HADOOP-2004 [hbase] webapp hql formatting bugs',\n",
       " 'aeceb916fc HADOOP-1884 Remove useless debugging log messages from hbase.mapred',\n",
       " '1d19158ac5 HADOOP-1834 Scanners ignore timestamp passed on creation M src/contrib/hbase/src/test/org/apache/hadoop/hbase/HBaseTestCase.java     (addContents): Added overrides that allow specifying a timestamp. M  src/contrib/hbase/src/test/org/apache/hadoop/hbase/TestTimestamp.java     Made it so test inherits from HBaseTestCase instead of from HBaseClusterTestCase     so could add in tests that do not use cluster.     (testTimestampScanning): Added test for hadoop-1834 bug.     (testTimestamp): Refactored to remove duplicated code. M  src/contrib/hbase/src/java/org/apache/hadoop/hbase/HStore.java     (getNext): Make it respect the timestamp set on construction. M  src/contrib/hbase/src/java/org/apache/hadoop/hbase/HMemcache.java     Removed eclipse yellow flag warnings around empty parens and     auto-boxing longs.     (getNext): Make it respect the timestamp set on construction.',\n",
       " '59825ac875 HADOOP-1785 TableInputFormat.TableRecordReader.next has a bug',\n",
       " '5e3c5037b4 HADOOP-1776 Fix for sporadic compaction failures closing and moving compaction result',\n",
       " '1756a22f03 HADOOP-1746 Clean up findbugs warnings',\n",
       " 'be33a241ce HADOOP-1644 [hbase] Compactions should not block updates',\n",
       " \"790e3d767e HADOOP-1662 Make region splits faster Splits are now near-instantaneous.  On split, daughter splits create \\\\'references\\\\' to store files up in the parent region using new \\\\'HalfMapFile\\\\' class to proxy accesses against the top-half or bottom-half of backing MapFile.  Parent region is deleted after all references in daughter regions have been let go.\",\n",
       " '2bbcc5a122 HADOOP-1528 HClient for multiple tables (phase 1)',\n",
       " '5f850fcee4 HADOOP-1516 HClient fails to readjust when ROOT or META redeployed on new region server',\n",
       " \"8c14bab2c4 HADOOP-1581 HBASE: Un-openable tablename bug Change format of region names from TABLENAME_STARTROW_ENDROW-RANDOMID to TABLENAME,STARTROW,ENDROW-RANDOMID. Makes it so lone table name will sort before any region of said table. M src/contrib/hbase/src/test/hbase-site.xml   (hbase.client.retries.number): Removed. Wasdefault value for this property.   (hbase.master.meta.thread.rescanfrequency, hbase.server.thread.wakefrequency,    hbase.regionserver.handler.count): Add values that are less than   default so unit tests are even more responsive (and finished quicker). M src/contrib/hbase/src/test/org/apache/hadoop/hbase/TestToString.java   Change test so it expects region info name that has \\\\',\\\\' delimiters   rather than \\\\'_\\\\' delimiters. M src/contrib/hbase/src/test/org/apache/hadoop/hbase/TestTable.java   Rename testTable as testCreateTable.   (testTableNameClash): Test for this issue. M src/contrib/hbase/src/java/org/apache/hadoop/hbase/HRegionInfo.java   Change format of region names so delimiter is \\\\',\\\\' rather than \\\\'_\\\\'.\",\n",
       " \"14dd64dace HADOOP-1574 Concurrent creates of a table named \\\\'X\\\\' all succeed M src/contrib/hbase/src/test/org/apache/hadoop/hbase/TestTable.java     (testTable): Add checking of actual exceptions thrown and     assertions that we are getting right behavior.  Add a test     that has ten clients concurrently trying to create same table. M src/contrib/hbase/src/java/org/apache/hadoop/hbase/HClient.java     javadoc edit. Fix debug message that could give impression     table was found when it wasn\\\\'t. M src/contrib/hbase/src/java/org/apache/hadoop/hbase/HTableDescriptor.java     Added comment on table nameing. M src/contrib/hbase/src/java/org/apache/hadoop/hbase/HMaster.java     (createTable): Refactored. Bulk moved to a private override.     Changed how check for existance is done. M rc/contrib/hbase/src/java/org/apache/hadoop/hbase/HRegionInfo.java     (getTableNameFromRegionName): Utility method added. A src/contrib/hbase/src/java/org/apache/hadoop/hbase/TableExistsException.java     Added.\",\n",
       " '19099c98b1 HADOOP-1420, HADOOP-1423. Findbugs changes, remove reference to removed class HLocking that broke main build.']"
      ]
     },
     "execution_count": 6,
     "metadata": {},
     "output_type": "execute_result"
    }
   ],
   "source": [
    "git_cmd = \"git log --grep='bug' --oneline\"\n",
    "com_log = (str(execute_command(git_cmd, repository)).replace(\"b'\",'').replace('(','',1).split(\"\\\\n\"))[:-1]\n",
    "\n",
    "com_log"
   ]
  },
  {
   "cell_type": "code",
   "execution_count": 7,
   "metadata": {},
   "outputs": [
    {
     "name": "stdout",
     "output_type": "stream",
     "text": [
      "['07e93458fe', 'HBASE-19930: Fixing the bug, in the rare case when there is a merge into CCM and the one of the old segments has a big cell allocated on-heap and it needs to be copied to the MSLAB']\n",
      "['001f9cc5ea', 'HBASE-19940 TestMetaShutdownHandler flakey; ADDENDUM: yet more debug']\n",
      "['590bee78dc', 'HBASE-19940 TestMetaShutdownHandler flakey; ADDENDUM: more debug']\n",
      "['9f2149f171', 'HBASE-19840 Flakey TestMetaWithReplicas; ADDENDUM Adding debug']\n",
      "['c245bd5c03', 'HBASE-19837 Flakey TestRegionLoad; ADDENDUM Report more often and wait less time on change (also add some debug on TestMetaShutdown test)']\n",
      "['88d6e06a1f', 'HBASE-19554 reenable TestDLSAsyncFSWAL/TestDLSFSHLog for debugging']\n",
      "['811afad103', 'HBASE-19915 Create merged/ daughter region/s with initial state CLOSED from MetaTableAccessor#splitRegion()/ mergeRegions()']\n",
      "['34c6c99041', 'HBASE-19811 Fix findbugs and error-prone warnings in hbase-server (branch-2) - addendum']\n",
      "['aeffca497b', 'HBASE-19846 Fix findbugs and error-prone warnings in hbase-rest (branch-2)']\n",
      "['b20b45e4e8', 'HBASE-19845 Fix findbugs and error-prone warnings in hbase-rsgroup']\n",
      "['d589b72382', 'HBASE-19847 Fix findbugs and error-prone warnings in hbase-thrift (branch-2)']\n",
      "['93a182f286', 'HBASE-19811 Fix findbugs and error-prone warnings in hbase-server (branch-2)']\n",
      "['d49357f265', 'HBASE-19840 Flakey TestMetaWithReplicas']\n",
      "['c60359959c', 'HBASE-19837 Flakey TestRegionLoad']\n",
      "['f3c563fc00', 'HBASE-19837 Flakey TestRegionLoad']\n",
      "['581fabe7b2', 'HBASE-19815 Flakey TestAssignmentManager.testAssignWithRandExec (Part Two).']\n",
      "['c1a8dc09d6', 'HBASE-19810 Fix findbugs and error-prone warnings in hbase-metrics (branch-2)']\n",
      "['c269e63a07', 'HBASE-19809 Fix findbugs and error-prone warnings in hbase-procedure (branch-2)']\n",
      "['4ddfecac56', 'HBASE-19787 Fix or disable tests broken in branch-2 so can cut beta-1']\n",
      "['c799b0e69b', 'HBASE-19694 The initialization order for a fresh cluster is incorrect Addendum. Adds in a missing line that helps debugging.']\n",
      "['d8ef30c5e1', 'HBASE-19654 Remove misleading and chatty debug message in ReplicationLogCleaner']\n",
      "['dc5ec061b5', 'HBASE-19491 Improvements to Nighly runs: Fixes findbugs tests, Exclude flaky tests from master.']\n",
      "['084e324fb9', 'HBASE-19554 For debug: Modify HTU.waitUntilAllRegionsAssigned to handle the case where we do not have entries for the given table']\n",
      "['f9f869f60a', 'HBASE-19497 Fix findbugs and error-prone warnings in hbase-common (branch-2) Signed-off-by: Apekshit Sharma <appy@apache.org>']\n",
      "['59529a78f0', 'HBASE-19498 Fix findbugs and error-prone warnings in hbase-client (branch-2)']\n",
      "['7092b814bd', 'HBASE-19457 Debugging flaky TestTruncateTableProcedure']\n",
      "['033e64a8b1', 'HBASE-19454 Debugging TestDistributedLogSplitting#testThreeRSAbort']\n",
      "['ddbff4fd87', 'HBASE-19386 Enable Arm64 unaligned support for HBase']\n",
      "['f886716617', 'HBASE-19319 Fix bug in synchronizing over ProcedureEvent']\n",
      "['7cdfbde37d', 'HBASE-16290 Dump summary of callQueue content; can help debugging']\n",
      "['41cc9a125f', 'HBASE-18350 RSGroups are broken under AMv2']\n",
      "['e1941aa6d1', 'HBASE-18960 A few bug fixes and minor improvements around batchMutate']\n",
      "['1ff90d3b4b', 'HBASE-18929 Hbase backup command doesn\\\\xe2\\\\x80\\\\x99t show debug option to enable backup in debug mode (Amit Kabra)']\n",
      "['91e1f834bf', \"Amend HBASE-18830 TestCanaryTool does not check Canary monitor\\\\'s error code\"]\n",
      "['fb537fe736', 'HBASE-18723 [pom cleanup] Do a pass with dependency:analyze; remove unused and explicity list the dependencies we exploit']\n",
      "['75a6b36849', 'HBASE-18375: Fix the bug where the pool chunks from ChunkCreator are deallocated and not returned to pool, because there is no reference to them']\n",
      "['4376233e2a', 'HBASE-18315 Eliminate the findbugs warnings for hbase-rest']\n",
      "['3574757f74', 'HBASE-18308 Eliminate the findbugs warnings for hbase-server']\n",
      "['ea0062fa54', 'HBASE-18376 Add debug logs to hbase-personality.sh to make it possible to debug this issue.']\n",
      "['cf636e50b9', 'HBASE-18365 Eliminate the findbugs warnings for hbase-common']\n",
      "['cc4301ca08', 'HBASE-18268 Eliminate the findbugs warnings for hbase-client']\n",
      "['8b63eb6fc6', 'HBASE-18314 Eliminate the findbugs warnings for hbase-examples']\n",
      "['f2731fc241', 'HBASE-18264 Update pom plugins']\n",
      "['0d4245c99e', 'HBASE-18293 Only add the spotbugs dependency when jdk8 is active']\n",
      "['7cc458e129', 'HBASE-18254 ServerCrashProcedure checks and waits for meta initialized, instead should check and wait for meta loaded']\n",
      "['298454e8a7', 'HBASE-17954 Switched findbugs implementation to spotbugs']\n",
      "['3975bbd008', 'HBASE-14614 Procedure v2 - Core Assignment Manager (Matteo Bertozzi) Move to a new AssignmentManager, one that describes Assignment using a State Machine built on top of ProcedureV2 facility.']\n",
      "['dc1065a85d', 'HBASE-14614 Procedure v2 - Core Assignment Manager (Matteo Bertozzi) Move to a new AssignmentManager, one that describes Assignment using a State Machine built on top of ProcedureV2 facility.']\n",
      "['841bb00655', 'HBASE-18044 Fix bug in report-flakies.py where if counter is set outside for loop, it cannot be overwritten inside loop.']\n",
      "['cb4fac1d18', 'HBASE-17765 Reviving the merge of the compacting pipeline']\n",
      "['046d4e183b', 'Revert \"Reviving the merge of the compacting pipeline: making the limit on the number of the segments in the pipeline configurable, adding merge test, fixing bug in sizes counting\"']\n",
      "['c77e2135db', 'Reviving the merge of the compacting pipeline: making the limit on the number of the segments in the pipeline configurable, adding merge test, fixing bug in sizes counting']\n",
      "['b635414e83', 'HBASE-15484 Correct the semantic of batch and partial - amend to fix bug and revise the JavaDoc for related APIs.']\n",
      "['c725d4d334', \"HBASE-17538 HDFS.setStoragePolicy() logs errors on local fs Policy is set in a number of places each with its own \\\\'implementation\\\\'.\"]\n",
      "['69ce5967fd', 'HBASE-17373: Fixing bug in moving segments from compaction pipeline to snapshot']\n",
      "['a5ee36d937', 'HBASE-17326 Fix findbugs warning in BufferedMutatorParams Fix above and the other hbase-server findbugs complaint about null-check Addendum to fix complaint out of BMParams#clone. Added CN_IDIOM_NO_SUPER_CALL handling.']\n",
      "['c3ce02d592', 'HBASE-17326 Fix findbugs warning in BufferedMutatorParams Fix above and the other hbase-server findbugs complaint about null-check']\n",
      "['bb0fc6b602', 'HBASE-17006 Give name to existing threads. Having thread names in logs and thread dumps greatly improve debugability. This patch is simply adding the names to the threads we spawn.']\n",
      "['281bf9a222', 'HBASE-17014 Added clearly marked log messages for start and shutdown of services HMaster, HRegionServer, ThriftServer, RESTServer. Also changed the log level for RPCServer responder starting log message to debug.']\n",
      "['fe47ec81f9', 'HBASE-16969 RegionCoprocessorServiceExec should override the toString() for debugging (ChiaPing Tsai)']\n",
      "['bbe88d942e', 'HBASE-16944 Fix findbugs warning in hbase-server HRegion UL_UNRELEASED_LOCK']\n",
      "['0d40a52ee8', 'Revert \"Revert \"HBASE-16698 Performance issue: handlers stuck waiting for CountDownLatch inside WALKey#getWriteEntry under high writing workload; ADDENDUM. Fix findbugs\"\"']\n",
      "['f555b5be9c', 'Revert \"HBASE-16698 Performance issue: handlers stuck waiting for CountDownLatch inside WALKey#getWriteEntry under high writing workload; ADDENDUM. Fix findbugs\" Premature commit. Revert while discussion ongoing']\n",
      "['e1923b7c0c', 'HBASE-16698 Performance issue: handlers stuck waiting for CountDownLatch inside WALKey#getWriteEntry under high writing workload; ADDENDUM. Fix findbugs']\n",
      "['8c4b09dfba', 'HBASE-16624 Fix MVCC DeSerialization bug in the HFileScannerImpl']\n",
      "['1da0a48f6b', 'HBASE-16535 Use regex to exclude generated classes for findbugs']\n",
      "['c11923d8aa', 'HBASE-16456 Fix findbugs warnings in hbase-rsgroup module (Guangxu Cheng)']\n",
      "['741d0a4511', \"HBASE-16430 Fix RegionServer Group\\\\'s bug when moving multiple tables (Guangxu Cheng)\"]\n",
      "['ad16676f92', \"Fix RegionServer Group\\\\'s bug when moving multiple tables (Guangxu Cheng)\"]\n",
      "['45bb6180a3', 'REVERT of revert of \"HBASE-16308 Contain protobuf references Gather up the pb references into a few locations only rather than have pb references distributed all about the code base.\" This is a revert of a revert; i.e. we are adding back the change only adding back with fixes for the broken unit test; was a real issue on a test that went in just at same time as this commit; I was getting a new nonce on each retry rather than getting one for the mutation.']\n",
      "['60b79e2daa', 'HBASE-16321 ensure no findbugs-jsr305']\n",
      "['544dc1e558', 'HBASE-16355 Invalid hbase-common test-jar dependency scope']\n",
      "['209b6f74c7', 'HBASE-16317 revert all ESAPI changes']\n",
      "['4421fdf981', 'HBASE-16066 Resolve RpC_REPEATED_CONDITIONAL_TEST findbugs warnings in HMaster, addendum to HBASE-15467']\n",
      "['15c03fd1c9', \"HBASE-15965 - Testing by executing a command will cover the exact path users will trigger, so its better then directly calling library functions in tests. Changing the tests to use @shell.command(:<command>, args) to execute them like it\\\\'s a command coming from shell.\"]\n",
      "['eb64cd9dd1', 'HBASE-15917 Addendum. Fix bug in report-flakies.py where hanging tests are not being added to flaky list. (Apekshit) ADDENDUM #2!']\n",
      "['4abc602e3b', 'HBASE-15912. REST module has 2 extent warnings in findbugs.']\n",
      "['c47511baa7', 'HBASE-15828 fix extant findbug NM_SAME_SIMPLE_NAME_AS_INTERFACE in Future']\n",
      "['ac31ceb835', 'HBASE-15794 Fix Findbugs instanceof always true issue in MultiServerCallable']\n",
      "['e8b37422c3', 'HBASE-15720 Print row locks at the debug dump page']\n",
      "['b3e71d4644', 'HBASE-15434 [findbugs] Exclude scala generated source and protobuf generated code in hbase-spark module']\n",
      "['edc5ab5af9', 'HBASE-15291 Revert due to the bug Haitao discovered']\n",
      "['bab8d1527b', 'HBASE-15181 Addendum fixes findbugs warning (Clara Xiong)']\n",
      "['68b300173f', 'HBASE-15122 Servlets generate XSS_REQUEST_PARAMETER_TO_SERVLET_WRITER findbugs warnings (Samir Ahmic)']\n",
      "['a975408b7c', 'HBASE-15253 Small bug in CellUtil.matchingRow(Cell, byte[]) (Ram)']\n",
      "['b6328eb803', 'HBASE-15238 HFileReaderV2 prefetch overreaches; runs off the end of the data']\n",
      "['d82ae42126', 'Revert \"HBASE-15122 Servlets generate XSS_REQUEST_PARAMETER_TO_SERVLET_WRITER findbugs warnings (Samir Ahmic)\" Revert mistaken commit.']\n",
      "['efc7a0d347', 'HBASE-15122 Servlets generate XSS_REQUEST_PARAMETER_TO_SERVLET_WRITER findbugs warnings (Samir Ahmic)']\n",
      "['f4d9597e1e', 'HBASE-15210 Undo aggressive load balancer logging at tens of lines per millisecond; ADDENDUM changing LOG.debug to LOG.trace -- noticed by matteo']\n",
      "['2cc48e039d', 'HBASE-15158 HBASE-15158 Preamble 1 of 2: fix findbugs, add javadoc, change Region#getReadpoint to #getReadPoint, and some util']\n",
      "['9955118995', \"HBASE-15195 Don\\\\'t run findbugs on hbase-it; it has nothing in src/main/java\"]\n",
      "['f9e69b51e1', 'HBASE-15148 Resolve IS2_INCONSISTENT_SYNC findbugs warning in AuthenticationTokenSecretManager (Yu Li)']\n",
      "['713c6b5b1e', 'HBASE-15106 Procedure v2 - Procedure Queue pass Procedure for better debuggability']\n",
      "['9bf26f46d1', 'HBASE-15118 Fix findbugs complaint in hbase-server']\n",
      "['76bce77326', 'HBASE-15115 Fix findbugs complaints in hbase-client']\n",
      "['cb17c7a97a', 'HBASE-15117 Resolve ICAST findbugs warnings in current codes (Yu Li)']\n",
      "['83c506d9d4', 'HBASE-15087 Fix hbase-common findbugs complaints']\n",
      "['894ce84b83', 'HBASE-15027 - Findbug fix (addendum)']\n",
      "['0d72849581', 'HBASE-14355 Scan different TimeRange for each column family - fixing memstore bug']\n",
      "['6875e6d4d4', 'HBASE-14343 Fix debug message in SimpleRegionNormalizer for small regions (Lars Francke)']\n",
      "['dd955fa417', 'HBASE-14547 Add more debug/trace to zk-procedure']\n",
      "['257df19cc3', 'HBASE-14100 Fix high priority findbugs warnings']\n",
      "['7dbb2e6977', 'HBASE-13930 Exclude Findbugs packages from shaded jars']\n",
      "['84a50393ee', 'HBASE-13888 Fix refill bug from HBASE-13686 (Guanghao Zhang)']\n",
      "['9ee184b673', 'HBASE-13760 Cleanup Findbugs keySet iterator warnings. (Gabor Liptak)']\n",
      "['7f2b33dbbf', 'HBASE-13071 synchronous scanner -- cache size-in-bytes bug fix']\n",
      "['a1c94c0bdf', 'HBASE-13677 changed RecoverableZooKeeper logs about retries from info and warn to debug']\n",
      "['e1cb405adc', 'HBASE-13528 A bug on selecting compaction pool (Shuaifeng Zhou)']\n",
      "['ced0e324a1', 'HBASE-13262 Observe ScanResponse.moreResults in ClientScanner.']\n",
      "['69f6a2e7b4', 'HBASE-13334 FindBugs should create precise report for new bugs introduced (addendum)']\n",
      "['948a6a63e8', 'HBASE-13334 FindBugs should create precise report for new bugs introduced']\n",
      "['6e9ded51fb', 'HBASE-13310 Fix high priority findbugs warnings']\n",
      "['9c83fa7b52', 'HBASE-13167 The check for balancerCutoffTime is buggy (Mikhail Antonov)']\n",
      "['d590f87ef4', 'HBASE-7126 Document how to report security bugs']\n",
      "['5bd27af8b0', 'Fixed bug in publication script']\n",
      "['d66f88134c', 'HBASE-13132 Improve RemoveColumn action debug message']\n",
      "['b9f8616177', 'HBASE-13138 Clean up TestMasterObserver (debug, trying to figure why fails)']\n",
      "['d2e64032c6', 'HBASE-13132 Improve RemoveColumn action debug message']\n",
      "['4fb6f91cba', 'HBASE-13123 - Minor bug in ROW bloom filter (Ram)']\n",
      "['eea9873cef', 'HBASE-12985 Javadoc warning and findbugs fixes to get us green again']\n",
      "['305267b8e2', 'HBASE-12270 A bug in the bucket cache, with cache blocks on write enabled (Liu Shaohui)']\n",
      "['fbdaf62bf8', 'HBASE-12716 A bug in RegionSplitter.UniformSplit algorithm (Weichen Ye)']\n",
      "['d436559378', 'HBASE-12711 Fix new findbugs warnings in hbase-thrift module (Srikanth)']\n",
      "['ca0c1774c9', 'HBASE-12548. Improve debuggability of IntegrationTestTimeBoundedRequestsWithRegionReplicas']\n",
      "['5cc0714840', 'HBASE-12559 Addendum fixes findbugs warnings']\n",
      "['0df5ed2ca6', 'HBASE-12550 Check all storefiles are referenced before splitting']\n",
      "['c5690b1be3', 'HBASE-12541 Add misc debug logging to hanging tests in TestHCM and TestBaseLoadBalancer']\n",
      "['42c03460e4', 'HBASE-12472 Improve debuggability of IntegrationTestBulkLoad']\n",
      "['9ea80f8f11', 'HBASE-12488 Small bug in publish_hbase_website.sh script']\n",
      "['3c1fbd2ddf', 'HBASE-12198 Fix the bug of not updating location cache']\n",
      "['bc4f25ff45', 'HBASE-12104 Some optimization and bugfix for HTableMultiplexer (Yi Deng)']\n",
      "['43301167db', \"HBASE-12145 Fix javadoc and findbugs so new folks aren\\\\'t freaked when they see them\"]\n",
      "['78d532e5f3', 'HBASE-12086 Fix bug of HTableMultipliexer']\n",
      "['41ecb18c20', 'HBASE-11662 shell should properly handle long form --debug.']\n",
      "['aca2462ce3', 'HBASE-4744 enable test that log roll fails after split start.']\n",
      "['9f96d91b2e', 'HBASE-11261 Addendum to remove an unneeded debug message']\n",
      "['96dcd67f56', 'HBASE-11514 Fix findbugs warnings in blockcache']\n",
      "['6da1a485fc', 'HBASE-11463 (findbugs) HE: Class defines equals() and uses Object.hashCode()']\n",
      "['8f6e04c446', 'Add some debug and echo around findbugs generations']\n",
      "['9ff90931dc', 'HBASE-11413 [findbugs] RV: Negating the result of compareTo()/compare() (Mike Drob)']\n",
      "['4053868e72', 'HBASE-11203 Clean up javadoc and findbugs warnings in trunk']\n",
      "['4487333e5e', 'HBASE-10840 Fix findbug warn induced by HBASE-10569.(Anoop)']\n",
      "['a1a5f57bff', \"HBASE-10656 high-scale-lib\\\\'s Counter depends on Oracle (Sun) JRE, and also has some bug\"]\n",
      "['bc9834426a', 'HBASE-10624 Fix 2 new findbugs warnings introduced by HBASE-10598']\n",
      "['f1ad5cb938', 'HBASE-10452 Fix potential bugs in exception handlers (Ding Yuan)']\n",
      "['b3b3d0ddff', 'HBASE-10446 Backup master gives Error 500 for debug dump']\n",
      "['b5d161c513', 'HBASE-10397 Fix findbugs introduced from HBASE-9426.']\n",
      "['5123e92213', 'HBASE-10239. Improve determinism and debugability of TestAccessController']\n",
      "['2124f4054d', 'HBASE-10116 Addendum: fix findbugs warning']\n",
      "['a28881da2d', 'HBASE-10134 Fix findbug warning in VisibilityController']\n",
      "['13e9eda3e7', 'HBASE-9856 Fix some findbugs Performance Warnings']\n",
      "['22f54af029', 'HBASE-10011 Fix some findbugs in the client - addendum: set OK_FINDBUGS_WARNINGS=89']\n",
      "['8c0078d175', 'HBASE-10023 Fix/Suppress all the 10 findbug warnings under hbase-common (Liang Xie)']\n",
      "['35cea57fe5', 'HBASE-10011 Fix some findbugs in the client']\n",
      "['ecb4b1017c', 'HBASE-9921 stripe compaction - findbugs and javadoc issues, some improvements']\n",
      "['45a337446e', 'HBASE-9920 Revert: total findbugs warning is higher than 87, leading to false-positive']\n",
      "['bf2144fe60', 'HBASE-9003 Remove the jamon generated classes from the findbugs analysis']\n",
      "['58ee2bbf24', 'HBASE-9232 Fix javadoc warning and a few findbugs items']\n",
      "['3bc9e2c95c', 'HBASE-9158 Serious bug in cyclic replication']\n",
      "['08235fca23', 'HBASE-9085 Integration Tests fails because of bug in teardown phase where the cluster state is not being restored properly. (gautam)']\n",
      "['d390841912', 'HBASE-8919 TestReplicationQueueFailover (and Compressed) can fail because the recovered queue gets stuck on ClosedByInterruptException (first try, getting more debug)']\n",
      "['9ccf16db51', 'HBASE-8798 Fix a minor bug in shell command with clone_snapshot table error']\n",
      "['5ca140fe2f', 'HBASE-7817: Suggested JDWP debug options in hbase-env.sh are wrong (Vasu Mariyala)']\n",
      "['7181fa35a3', 'HBASE-8062 Replace HBaseFsck.debugLsr() in TestFlushSnapshotFromClient with FSUtils.logFileSystemState()']\n",
      "['0bc9187d46', 'HBASE-8225 [replication] minor code bug when registering ReplicationLogCleaner (Jerry He)']\n",
      "['466902ffde', 'HBASE-8101 Cleanup: findbugs and javadoc warning fixes as well as making it illegal passing null row to Put/Delete, etc.']\n",
      "['95e4f53090', 'HBASE-8067 TestHFileArchiving.testArchiveOnTableDelete sometimes fails -- more debug']\n",
      "['1e414a4413', 'HBASE-7547 Fix findbugs warnings in snapshot classes (Ted Yu)']\n",
      "['c9b3e9b2da', 'HBASE-7354 Snapshot Info/Debug Tool (Matteo Bertozzi)']\n",
      "['1d330c9478', 'HBASE-7699 Replace LOG.info() with LOG.debug() in FSUtils.listStatus()']\n",
      "['a3f0aea354', 'HBASE-7682 Replace HRegion custom File-System debug, with FSUtils.logFileSystemState()']\n",
      "['f60b8246e7', 'HBASE-7588 Fix two findbugs warning in MemStoreFlusher; REAPPLIED']\n",
      "['c3e140cd14', 'HBASE-7588 Fix two findbugs warning in MemStoreFlusher; REVERTED']\n",
      "['3b345cd684', 'HBASE-7588 Fix two findbugs warning in MemStoreFlusher']\n",
      "['b96d60d659', 'HBASE-7601 Fix 8 remaining EQ findbug warnings from hbase-server.']\n",
      "['28b79e1214', 'HBASE-7595 Fix one findbug warning in ReplicationSourceManager']\n",
      "['bda467aeca', 'HBASE-7587. Fix two findbugs warnings in RowResource (Jean-Marc Spaggiari)']\n",
      "['5c8c3d0a8c', 'HBASE-7586 Fix two findbugs warnings to get our count down to the tolerated number again']\n",
      "['6b97306c1e', 'HBASE-7512 Document the findbugs library annotation']\n",
      "['4e0af48fe4', 'HBASE-7508 Fix simple findbugs']\n",
      "['4409ba741c', 'HBASE-7443 More findbugs fixes - addendum - fix compilation error']\n",
      "['92c98a76d1', 'HBASE-7443 More findbugs fixes']\n",
      "['9fac4877d3', 'HBASE-5598 Analyse and fix the findbugs reporting by QA and add invalid bugs into findbugs-excludeFilter file']\n",
      "['094e8d4420', \"HBASE-3925 Make Shell\\\\'s -d and debug cmd behave the same\"]\n",
      "['f4923b98a6', 'HBASE-6846 BitComparator bug - ArrayIndexOutOfBoundsException (Lucian George Iordache)']\n",
      "['1725705a47', 'HBASE-7036 Exclude org.apache.hadoop.hbase.coprocessor.example.generated package from findbugs check (Anoop)']\n",
      "['f065232db0', 'HBASE-7002 Fix all 4 findbug performance warnings (Liang Xie)']\n",
      "['d6cca23ed3', 'HBASE-6918 Debugging to help figure what is different up on jenkins when TestHeapSize runs']\n",
      "['8c393a32a8', 'HBASE-6848 Make hbase-hadoop-compat findbugs clean']\n",
      "['c22888d6d8', 'HBASE-6363 HBaseConfiguration can carry a main method that dumps XML output for debug purposes']\n",
      "['d6ed913ce5', 'HBASE-6368 Upgrade Guava for critical performance bug fix']\n",
      "['621ec576eb', 'HBASE=6164 Correct the bug in block encoding usage in bulkload']\n",
      "['62154f1a1a', 'HBASE-6138 HadoopQA not running findbugs [Trunk] (Anoop Sam John)']\n",
      "['da7ff6c6c4', 'HBASE-6004. Adding more logging to help debugging MR job (Jimmy Xiang)']\n",
      "['c8b61833f7', 'HBASE-5652 [findbugs] Fix lock release on all paths (Gregory Channan)']\n",
      "['b854d1efb1', 'HBASE-5654 [findbugs] Address dodgy bugs (Ashutosh Jindal)']\n",
      "['a2c1c0cd3e', '[jira] [HBASE-5684] Make ProcessBasedLocalHBaseCluster run HDFS and make it more robust']\n",
      "['8575edd908', 'HBASE-5645 [findbugs] Fix correctness warnings (David S Wang and Uma Maheswara Rao G)']\n",
      "['b7844d9dd0', 'HBASE-5653 [findbugs] Fix perf warnings (Uma Maheswara Rao G)']\n",
      "['00316a4a51', '[jira] [HBASE-5744] Thrift server metrics should be long instead of int']\n",
      "['be245101ac', 'HBASE-5644 [findbugs] Fix null pointer warnings (Uma Maheswara Rao G)']\n",
      "['81b15f1907', 'HBASE-5598 [findbugs] Exclude Protobuf warnings from wire compat patches']\n",
      "['4d5ca12a0f', 'HBASE-5642 [findbugs] Exclude Thrift and Protobuf warnings (Uma Maheswara Rao G)']\n",
      "['3fd6997380', 'HBASE-5596 Few minor bugs from HBASE-5209 (David S. Wang)']\n",
      "['86962028dd', '[jira] [HBASE-5469] Add baseline compression efficiency to DataBlockEncodingTool']\n",
      "['5856e90720', 'HBASE-5597 Findbugs check in test-patch.sh always fails']\n",
      "['2314945b8b', 'HBASE-5567 test-patch.sh has logic error in findbugs check']\n",
      "['961455cd9d', '[jira] [HBASE-5074] Support checksums in HBase block cache']\n",
      "['85c90d9274', '[jira] [HBASE-5470] Make DataBlockEncodingTool work correctly with no native compression codecs loaded']\n",
      "['b0d4403059', 'HBASE-5437 HRegionThriftServer does not start because of a bug in HbaseHandlerMetricsProxy (Scott Chen)']\n",
      "['0f708f7370', 'HBASE-5439 Fix some performance findbugs issues (Gregory Chanan)']\n",
      "['9a0eb6f0c2', '[jira] [HBASE-5072] Support Max Value for Per-Store Metrics']\n",
      "['7dbde6f932', 'HBASE-4761 Add Developer Debug Options to HBase Config']\n",
      "['c9d5a838d0', 'HBASE-4799 Catalog Janitor logic bug causes region leackage']\n",
      "['4206b1e860', '[debug] Have NSFRE messages also display the row associated with the region request.']\n",
      "['04afdf9633', 'HBASE-3690 Option to Exclude Bulk Import Files from Minor Compaction']\n",
      "['e896f6d400', 'Upgrade nextKeyValue() error message from debug to info to highlight MR generation failures']\n",
      "['d6601d1d17', 'HBASE-4713 Raise debug level to warn on ExecutionException in HConnectionManager']\n",
      "['3fab67a8b5', 'HBASE-4722 TestGlobalMemStoreSize has started failing; commit some extra logging to help debug whats going on up on jenkins']\n",
      "['2e6de1360a', 'Added debug to figure why this TestRegionServerCoprocessorExceptionWithRemove is failing with ArrayIndexOutOfBoundsException though we just checked the List size is > 0']\n",
      "['b043d60317', 'HBASE-4350 Fix a Bloom filter bug introduced by HFile v2 and TestMultiColumnScanner that caught it']\n",
      "['76b123052e', 'HBASE-4350 Fix a Bloom filter bug introduced by HFile v2 and TestMultiColumnScanner that caught it']\n",
      "['077efb37ef', 'HBASE-4310 SlabCache metrics bugfix (Li Pi)']\n",
      "['5af490cb6b', \"HBASE-4323 Add debug logging when AssignmentManager can\\\\'t make a plan for a region.\"]\n",
      "['6fbc5260af', 'HBASE-4310 SlabCache metrics bugfix (Li Pi)']\n",
      "['b89393caf2', 'HBASE-4276 AssignmentManager debug logs should be at INFO level for META/ROOT regions.']\n",
      "['be00c74833', 'HBASE-4276 AssignmentManager debug logs should be at INFO level for META/ROOT regions.']\n",
      "['954b292bbf', 'HBASE-4292 Add a debugging dump servlet to the master and regionserver']\n",
      "['5cae3a6b66', 'HBASE-4138 Change debug log in ZKUtil.watchAndCheckExists()']\n",
      "['1c5e23f215', 'HBASE-4138 Add debug log in ZooKeeperNodeTracker.start()']\n",
      "['57672b21a8', 'HBASE-4193 Enhance RPC debug logging with details on call contents']\n",
      "['3314b87804', 'HBASE-4075 A bug in TestZKBasedOpenCloseRegion']\n",
      "['f389865787', 'Add debug to failing test']\n",
      "['7e87980347', 'HBASE-4005 close_region bugs']\n",
      "['c80200bded', 'HBASE-3832 Failing TestMasterFailover.testMasterFailoverWithMockedRITOnDeadRS up on jenkins; added debug and cleared out extra regionOnline of -ROOT-']\n",
      "['c38558e545', 'HBASE-3622 Deadlock in HBaseServer (JVM bug?); Add an FAQ about hanging regionservers']\n",
      "['237bc82af2', 'HBASE-3669 Region in PENDING_OPEN keeps being bounced between RS and master -- added some debugging']\n",
      "['856065dee8', 'HBASE-3636 a bug about deciding whether this key is a new key for the ROWCOL bloomfilter']\n",
      "['f84ff410bd', 'HBASE-3290 fix #2. Fixes bugs found with major compaction logic for threshold files & major compaction jitter generation encountered during testing.']\n",
      "['d547429a14', 'HBASE-3315 Add debug output for when balancer makes bad balance']\n",
      "['0f27ee880c', 'HBASE-3114 Test up on hudson are leaking zookeeper ensemble']\n",
      "['ef94177cd9', 'Remove debugging IOE throw']\n",
      "['7c8411d06a', 'Upping pom memory and changing zk default port to help debug; on first, no harm in letting heap grow and on second, there seems to be errant zk cluster running on hudson ... trying to see if tests generate it when run clean']\n",
      "['25ae7a7b20', 'HBASE-3100 stop splitting in TestMergeTable, and add debug']\n",
      "['ff2d19229f', 'HBASE-3074 Zookeeper test failing on hudson']\n",
      "['3745672d94', 'Yet more debug for baffling zk test failure up on hudson']\n",
      "['8ff999cf9a', 'HBASE-3074 Zookeeper test failing on hudson; xtra debugging to help figure whats happening up on hudson']\n",
      "['10a84f3b88', 'HBASE-3039 Stuck in regionsInTransition because rebalance came in at same time as a split']\n",
      "['467a0e726d', 'HBASE-3016 Refactor zk logging in trunk; do less and and identifier to log messages to help debugging']\n",
      "['4321ef5546', 'HBASE-2862 Name DFSClient for Improved Debugging']\n",
      "['97657cccd2', 'HBASE-2763 Cross-port HADOOP-6833 IPC parameter leak bug']\n",
      "['c6b5f4fa0d', '[stargate] Fix infinite recursive loop bug']\n",
      "['013fd99d0d', \"HBASE-2513 hbase-2414 added bug where we\\\\'d tight-loop if no root available\"]\n",
      "['14b68ca4c0', \"HBASE-2513 hbase-2414 added bug where we\\\\'d tight-loop if no root available\"]\n",
      "['9acf2c8d47', \"HBASE-2513 hbase-2414 added bug where we\\\\'d tight-loop if no root available\"]\n",
      "['59b13bfb7a', 'HBASE-2385 Debug Message Received']\n",
      "['83258ba826', 'Changes to findbugs config. to make it work w/ hudson']\n",
      "['0faf605ea1', 'HBASE-2230 SingleColumnValueFilter has an ungaurded debug log message.']\n",
      "['443d61e41a', 'HBASE-2180 Bad random read performance from synchronizing hfile.fddatainputstream -- putting this as improvement in CHANGES because thats what j-d wants though I think it a bug because our perf. was so bad']\n",
      "['7a8f4c08e3', 'HBASE-2139 findbugs task in build.xml']\n",
      "['8bc2888278', 'HBASE-2140 findbugs issues - 2 performance warnings as suggested by findbugs']\n",
      "['9039e79ec2', 'HBASE-2093 [stargate] RowSpec parse bug']\n",
      "['e2f7f90e00', 'HBASE-2090 findbugs issues']\n",
      "['04155cac92', 'HBASE-2044 HBASE-1822 removed not-deprecated APIs HBASE-2041 Change WAL default configuration values changes to the shell and fixing interrupt bug']\n",
      "['f4b8135658', '[HBASE-1961] EC2 scripts; fix master launch bug']\n",
      "['cb026c7c83', 'HBASE 1961; remove debug statement']\n",
      "['47c7c89e49', 'Remove some debug']\n",
      "['93bd67d54c', 'Reverting 1918 but keeping debug']\n",
      "['7b4b398043', 'Adding debug for 1918']\n",
      "['764cd0fa52', 'HBASE-1821 Filtering by SingleColumnValueFilter bug']\n",
      "['b3653a6295', 'HBASE-1743 [debug tool] Add regionsInTransition list to ClusterStatus detailed output']\n",
      "['b015cc7fc1', 'HBASE-1630 Provide sample config options to enable GC debugging']\n",
      "['619a7243d0', 'HBASE-1615 HBASE-1597 introduced a bug when compacting after a split']\n",
      "['b585855217', 'fix addContent bug again']\n",
      "['d6ec5ed8a2', 'HBASE-1504 Remove left-over debug from 1304 commit']\n",
      "['9046fc04c2', 'remove excessive/annoying compressor related debug logging now that the issue warranting it has been resolved']\n",
      "['094a2030f0', 'HBASE-1245 hfile meta block handling bugs']\n",
      "['127491e583', 'HBASE-1098 IllegalStateException: Cannot set a region to be closed it it was not already marked as closing; debugging patch']\n",
      "['ceab5a2722', 'Remove debugging']\n",
      "['838b238999', \"HBASE-927 We don\\\\'t recover if HRS hosting -ROOT-/.META. goes down - (fix bug in createTable which caused tests to fail)\"]\n",
      "['05a11e7fcc', 'HBASE-1013 Add debugging around commit log cleanup']\n",
      "['5418547132', 'HBASE-977 Arcane HStoreKey comparator bug']\n",
      "['16a2c45780', 'HBASE-881 Fixed bug when Master tries to reassign split or offline regions from a dead server']\n",
      "['a1f8ee8ac1', 'HBASE-552 Bloom filter bugs (Andrzej Bialecki via Jim Kellerman)']\n",
      "['fddd62e6c5', 'HBASE-697 thrift idl needs update/edit to match new 0.2 API (and to fix bugs)']\n",
      "['e30ed932bb', 'HBASE-697 thrift idl needs update/edit to match new 0.2 API (and to fix bugs)']\n",
      "['1fb69ec11a', 'HBASE-830 Debugging HCM.locateRegionInMeta is painful']\n",
      "['f328681e00', \"HBASE-649 API polluted with default and protected access data members and methods HBASE-650 Add String versions of get, scanner, put in HTable HBASE-656 Do not retry exceptions such as unknown scanner or illegal argument A src/java/org/apache/hadoop/hbase/ColumnNameParseException.java A src/java/org/apache/hadoop/hbase/LeaseException.java Added. Thrown instead of IllegalArgumentExceptions M src/java/org/apache/hadoop/hbase/Leases.java Use new LeaseException in place of IllegalArgument M src/java/org/apache/hadoop/hbase/HStoreKey.java Use new ColumnNameParse in place of IllegalArgument M src/java/org/apache/hadoop/hbase/master/ServerManager.java Log at debug if LeaseException (Not important if it happens). A src/java/org/apache/hadoop/hbase/DoNotRetryIOException.java An IOE that shouldn\\\\'t be retried. M src/java/org/apache/hadoop/hbase/InvalidColumnNameException.java M src/java/org/apache/hadoop/hbase/UnknownScannerException.java Inherit from DoNotRetryIOException else we keep trying. M src/java/org/apache/hadoop/hbase/util/Bytes.java (toByteArrays): Added one to handle [] String. M src/java/org/apache/hadoop/hbase/client/HTable.java Make String overrides of all methods. Made data members private (turns out a bunch arent\\\\' even used). Stopped it inheriting from HConstants so we don\\\\'t have big dump of all HConstants as first thing in javadoc. M src/java/org/apache/hadoop/hbase/client/HConnectionManager.java If instance of DoNotRetryIOException, let the exception out. M src/java/org/apache/hadoop/hbase/client/HBaseAdmin.java Make String overrides of all methods. Stopped it inheriting from HConstants so we don\\\\'t have big dump of all HConstants as first thing in javadoc.\"]\n",
      "['99fc06705d', \"HBASE-23 Fix bug introduced by my edits of JDC\\\\'s patch\"]\n",
      "['cffa3a254e', 'HBASE-586 HRegion runs HStore memcache snapshotting -- fix it so only HStore knows about workings of memcache']\n",
      "['bc4b9b2c1c', 'Update CHANGES.txt - bug fix was listed in wrong section']\n",
      "['efce1b3d09', 'HBASE-521 Improve client scanner interface']\n",
      "['6e225dd7f1', 'HBASE-469 Streamline HStore startup and compactions']\n",
      "['65d961ae78', \"HBASE-536 Remove MiniDFS startup from MiniHBaseCluster -Changed MiniHBaseCluster to not start up a MiniDFS -Changed HBaseClusterTestCase to do the work of starting up a MiniDFS. -Added pre and post setup method to HBaseClusterTestCase so you can control what happen before MiniHBaseCluster is booted up -Converted AbstractMergeTestCase to be a HBaseClusterTestCase -Converted any test that used a raw MIniDFS or MiniHBaseCluster to use HBaseClusterTestCase instead -Split TestTimestamp into two tests - one for clientside (now in o.a.h.h.client) and one for serverside (o.a.h.h.regionserver) -Merged in Stack\\\\'s changes to make bin/hbase have hadoop jars first on the classpath -Updated PerformanceEvaluation (in --miniCluster mode) to start up a DFS first -Fixed a bug in BaseScanner that would have allowed NPEs to be generated\"]\n",
      "['c1f974bbee', \"HBASE-501 Empty region server address in info:server entry and a startcode of -1 in .META. M conf/hbase-default.xml Add hbase.hbasemaster.maxregionopen property. M src/java/org/apache/hadoop/hbase/HStore.java Change way we log. Do way less. Just emit sums of edits applied and skipped rather than individual edits. M src/java/org/apache/hadoop/hbase/HRegionServer.java Make sleeper instance a local rather than data member. (reportForDuty): Take a sleeper instance. (run): Removed redundant wrap of a \\\\'for\\\\' by a \\\\'while\\\\'. (constructor): If IOE, do not offline the region. Seen to be an overreaction. M src/java/org/apache/hadoop/hbase/HLog.java Don\\\\'t output map of all files being cleaned everytime a new entry is added; instead just log new entry. Remove emission of every 10k edits. M src/java/org/apache/hadoop/hbase/HMaster.java Up default for maxregionopen. Was seeing that playing edits could take a long time (mostly because we used log every edit) but no harm in this being longer. On REPORT_CLOSE, emit region info, not just region so can see the properties (W/o, made it hard to figure who was responsible for offlining). Add logging of attempt # in shutdown processing. Add logging of state flags passed to the close region. Helps debugging. Also in close offline ONLY if we are NOT reassigning the region (jimk find). M src/java/org/apache/hadoop/hbase/util/Sleeper.java Add logging of extraordinary sleeps or calculated periods (suspicion is that we\\\\'re sleeping way longer on loaded machies and the regionserver appears hung).\"]\n",
      "['7d09aec4f8', 'HADOOP-2598 Remove chatty debug logging from 2443 patch']\n",
      "['fed1075104', 'HADOOP-2500 Unreadable region kills region servers HADOOP-2587 Splits blocked by compactions cause region to be offline for duration of compaction. Fix bug in TestCompaction in which two mini dfs clusters were being started for the same test.']\n",
      "['79b3b1c6b2', 'HADOOP-2004 [hbase] webapp hql formatting bugs']\n",
      "['aeceb916fc', 'HADOOP-1884 Remove useless debugging log messages from hbase.mapred']\n",
      "['1d19158ac5', 'HADOOP-1834 Scanners ignore timestamp passed on creation M src/contrib/hbase/src/test/org/apache/hadoop/hbase/HBaseTestCase.java (addContents): Added overrides that allow specifying a timestamp. M src/contrib/hbase/src/test/org/apache/hadoop/hbase/TestTimestamp.java Made it so test inherits from HBaseTestCase instead of from HBaseClusterTestCase so could add in tests that do not use cluster. (testTimestampScanning): Added test for hadoop-1834 bug. (testTimestamp): Refactored to remove duplicated code. M src/contrib/hbase/src/java/org/apache/hadoop/hbase/HStore.java (getNext): Make it respect the timestamp set on construction. M src/contrib/hbase/src/java/org/apache/hadoop/hbase/HMemcache.java Removed eclipse yellow flag warnings around empty parens and auto-boxing longs. (getNext): Make it respect the timestamp set on construction.']\n",
      "['59825ac875', 'HADOOP-1785 TableInputFormat.TableRecordReader.next has a bug']\n",
      "['5e3c5037b4', 'HADOOP-1776 Fix for sporadic compaction failures closing and moving compaction result']\n",
      "['1756a22f03', 'HADOOP-1746 Clean up findbugs warnings']\n",
      "['be33a241ce', 'HADOOP-1644 [hbase] Compactions should not block updates']\n",
      "['790e3d767e', \"HADOOP-1662 Make region splits faster Splits are now near-instantaneous. On split, daughter splits create \\\\'references\\\\' to store files up in the parent region using new \\\\'HalfMapFile\\\\' class to proxy accesses against the top-half or bottom-half of backing MapFile. Parent region is deleted after all references in daughter regions have been let go.\"]\n",
      "['2bbcc5a122', 'HADOOP-1528 HClient for multiple tables (phase 1)']\n",
      "['5f850fcee4', 'HADOOP-1516 HClient fails to readjust when ROOT or META redeployed on new region server']\n",
      "['8c14bab2c4', \"HADOOP-1581 HBASE: Un-openable tablename bug Change format of region names from TABLENAME_STARTROW_ENDROW-RANDOMID to TABLENAME,STARTROW,ENDROW-RANDOMID. Makes it so lone table name will sort before any region of said table. M src/contrib/hbase/src/test/hbase-site.xml (hbase.client.retries.number): Removed. Wasdefault value for this property. (hbase.master.meta.thread.rescanfrequency, hbase.server.thread.wakefrequency, hbase.regionserver.handler.count): Add values that are less than default so unit tests are even more responsive (and finished quicker). M src/contrib/hbase/src/test/org/apache/hadoop/hbase/TestToString.java Change test so it expects region info name that has \\\\',\\\\' delimiters rather than \\\\'_\\\\' delimiters. M src/contrib/hbase/src/test/org/apache/hadoop/hbase/TestTable.java Rename testTable as testCreateTable. (testTableNameClash): Test for this issue. M src/contrib/hbase/src/java/org/apache/hadoop/hbase/HRegionInfo.java Change format of region names so delimiter is \\\\',\\\\' rather than \\\\'_\\\\'.\"]\n",
      "['14dd64dace', \"HADOOP-1574 Concurrent creates of a table named \\\\'X\\\\' all succeed M src/contrib/hbase/src/test/org/apache/hadoop/hbase/TestTable.java (testTable): Add checking of actual exceptions thrown and assertions that we are getting right behavior. Add a test that has ten clients concurrently trying to create same table. M src/contrib/hbase/src/java/org/apache/hadoop/hbase/HClient.java javadoc edit. Fix debug message that could give impression table was found when it wasn\\\\'t. M src/contrib/hbase/src/java/org/apache/hadoop/hbase/HTableDescriptor.java Added comment on table nameing. M src/contrib/hbase/src/java/org/apache/hadoop/hbase/HMaster.java (createTable): Refactored. Bulk moved to a private override. Changed how check for existance is done. M rc/contrib/hbase/src/java/org/apache/hadoop/hbase/HRegionInfo.java (getTableNameFromRegionName): Utility method added. A src/contrib/hbase/src/java/org/apache/hadoop/hbase/TableExistsException.java Added.\"]\n",
      "['19099c98b1', 'HADOOP-1420, HADOOP-1423. Findbugs changes, remove reference to removed class HLocking that broke main build.']\n"
     ]
    }
   ],
   "source": [
    "commit = []\n",
    "for xx in range(0,len(com_log)):\n",
    "    tmp = []\n",
    "    comm = com_log[xx].split()\n",
    "    word = ' '.join(comm[1:])\n",
    "    tmp.extend([comm[0],word])\n",
    "    commit.append(tmp)\n",
    "\n",
    "for item in commit:\n",
    "    print (item)"
   ]
  },
  {
   "cell_type": "code",
   "execution_count": 8,
   "metadata": {},
   "outputs": [],
   "source": [
    "#commitbugs = []\n",
    "bug_links = []\n",
    "\n",
    "for xx in range(0,len(com_log)):\n",
    "    tmp = []\n",
    "    comm = com_log[xx].split()\n",
    "    splitres = (str(comm[int(len(comm)/2):]))\n",
    "    letter = re.findall(r\"[HBASE]+[-][0-9]+\", splitres)\n",
    "    if letter != []:\n",
    "        bug_links.extend(letter)\n",
    "        #word = ' '.join(comm[1:len(comm)])\n",
    "        #tmp.extend([comm[0],word])\n",
    "        #commitbugs.append(tmp)\n",
    "    else:\n",
    "        pass\n",
    "\n",
    "bug_links = sorted(bug_links, reverse=True)"
   ]
  },
  {
   "cell_type": "code",
   "execution_count": 9,
   "metadata": {},
   "outputs": [
    {
     "name": "stdout",
     "output_type": "stream",
     "text": [
      "File bug_links.txt has been created\n"
     ]
    }
   ],
   "source": [
    "with open (\"bug_links.txt\", mode=\"wt\", encoding=\"utf-8\") as myfile:\n",
    "    myfile.write('\\n'.join(bug_links))\n",
    "print (\"File bug_links.txt has been created\")"
   ]
  },
  {
   "cell_type": "markdown",
   "metadata": {},
   "source": [
    "git log --oneline | grep 13686"
   ]
  },
  {
   "cell_type": "code",
   "execution_count": 10,
   "metadata": {},
   "outputs": [
    {
     "name": "stdout",
     "output_type": "stream",
     "text": [
      "['b5d161c513 HBASE-10397 Fix findbugs introduced from HBASE-9426.', 'c079ba4660 HBASE-9426 Make custom distributed barrier procedure pluggable (Richard Ding)']\n",
      "['3fd6997380 HBASE-5596 Few minor bugs from HBASE-5209 (David S. Wang)', '145d25dfc2 HBASE-5209 HConnection/HMasterInterface should allow for way to get hostname of currently active master in multi-master HBase setup']\n",
      "['4421fdf981 HBASE-16066 Resolve RpC_REPEATED_CONDITIONAL_TEST findbugs warnings in HMaster, addendum to HBASE-15467', 'bdb0cc8808 HBASE-15467 Remove 1.x/2.0 TableDescriptor incompatibility']\n",
      "['84a50393ee HBASE-13888 Fix refill bug from HBASE-13686 (Guanghao Zhang)', '9f43a3bea6 HBASE-13686 - Fail to limit rate in RateLimiter (Ashish Singhi)']\n",
      "['bc9834426a HBASE-10624 Fix 2 new findbugs warnings introduced by HBASE-10598', 'c6236a57a5 HBASE-10598 Written data can not be read out because MemStore#timeRangeTracker might be updated concurrently (cuijianwei)']\n",
      "['3b56d2a0bc HBASE-12956 Binding to 0.0.0.0 is broken after HBASE-10569', '4487333e5e HBASE-10840 Fix findbug warn induced by HBASE-10569.(Anoop)', 'd59d9b48f4 HBASE-10569 Co-locate meta and master - ADDENDUM', '7716a3ca94 HBASE-10569 Co-locate meta and master']\n"
     ]
    }
   ],
   "source": [
    "com_log = []\n",
    "for no, bug_link in enumerate(bug_links):\n",
    "    git_cmd = \"git log --grep='\" + bug_link + \"' --oneline\"\n",
    "    temp = (str(execute_command(git_cmd, repository)).replace(\"b'\",'').replace('(','',1).split(\"\\\\n\"))[:-1]\n",
    "\n",
    "    com_log.append(temp)\n",
    "\n",
    "for item in com_log:\n",
    "    print(item)"
   ]
  },
  {
   "cell_type": "code",
   "execution_count": 11,
   "metadata": {},
   "outputs": [
    {
     "data": {
      "text/plain": [
       "[['HBASE-9426', 'b5d161c513', 'c079ba4660'],\n",
       " ['HBASE-5209', '3fd6997380', '145d25dfc2'],\n",
       " ['HBASE-15467', '4421fdf981', 'bdb0cc8808'],\n",
       " ['HBASE-13686', '84a50393ee', '9f43a3bea6'],\n",
       " ['HBASE-10598', 'bc9834426a', 'c6236a57a5'],\n",
       " ['HBASE-10569', '3b56d2a0bc', '4487333e5e', 'd59d9b48f4', '7716a3ca94']]"
      ]
     },
     "execution_count": 11,
     "metadata": {},
     "output_type": "execute_result"
    }
   ],
   "source": [
    "commits = []\n",
    "for x in range(0,len(com_log)):\n",
    "    com = []\n",
    "    com.append(bug_links[x])\n",
    "    for z in range(0,len(com_log[x])):\n",
    "        temp = str(com_log[x][z].split()[0:1]).replace(\"['\",'').replace(\"']\",'')\n",
    "        com.append(temp)\n",
    "    commits.append(com)\n",
    "commits"
   ]
  },
  {
   "cell_type": "markdown",
   "metadata": {},
   "source": [
    "#git log --pretty=%P -n1 145d25dfc2\n",
    "#git diff d69299dfdc44a09c7ac2a6a2c4bfffae4a49a327 145d25dfc2\n",
    "#git diff --name-status d69299dfdc44a09c7ac2a6a2c4bfffae4a49a327 145d25dfc2"
   ]
  },
  {
   "cell_type": "code",
   "execution_count": 12,
   "metadata": {},
   "outputs": [
    {
     "data": {
      "text/plain": [
       "[['c079ba4660'],\n",
       " ['145d25dfc2'],\n",
       " ['bdb0cc8808'],\n",
       " ['9f43a3bea6'],\n",
       " ['c6236a57a5'],\n",
       " ['4487333e5e', 'd59d9b48f4', '7716a3ca94']]"
      ]
     },
     "execution_count": 12,
     "metadata": {},
     "output_type": "execute_result"
    }
   ],
   "source": [
    "commitid = []\n",
    "for x, y in enumerate(commits):\n",
    "    commitid.append(commits[x][2:])\n",
    "    \n",
    "commitid"
   ]
  },
  {
   "cell_type": "markdown",
   "metadata": {},
   "source": [
    "# Finding parenthash"
   ]
  },
  {
   "cell_type": "code",
   "execution_count": 13,
   "metadata": {},
   "outputs": [
    {
     "data": {
      "text/plain": [
       "[['HBASE-9426', 'c079ba4660', 'c7a72479b6f06a1ab6de66d5d95257f87bb44500'],\n",
       " ['HBASE-5209', '145d25dfc2', 'd69299dfdc44a09c7ac2a6a2c4bfffae4a49a327'],\n",
       " ['HBASE-15467', 'bdb0cc8808', '65a8d77433cf72ce67e8b5e2efb35f2c2603c349'],\n",
       " ['HBASE-13686', '9f43a3bea6', '587b0b4f20bdc0415b6541023e611b69c87dba15'],\n",
       " ['HBASE-10598', 'c6236a57a5', 'e09d637d7a61a6e636905fa19495fb145c548d81'],\n",
       " ['HBASE-10569',\n",
       "  '4487333e5e',\n",
       "  'e44d0d8083e5d4087f1c3a32058daa779c1d3fbb',\n",
       "  'd59d9b48f4',\n",
       "  '7716a3ca949670f0a88472cbb07e2c63e5a50c35',\n",
       "  '7716a3ca94',\n",
       "  '0e5d21e96ae24e8c658a1b74843b72bddcb7435b']]"
      ]
     },
     "execution_count": 13,
     "metadata": {},
     "output_type": "execute_result"
    }
   ],
   "source": [
    "parenthash = []\n",
    "for v, w in enumerate(commitid):\n",
    "    bl = []\n",
    "    bl.append(bug_links[v])\n",
    "    for x, y in enumerate(commitid[v]):\n",
    "        bl.append(commitid[v][x])\n",
    "        git_cmd = \"git log --pretty=%P -n1 \" + commitid[v][x]\n",
    "        temp = (str(execute_command(git_cmd, repository)).replace(\"b'\",'').replace('(','',1).split(\"\\\\n\"))[:-1]\n",
    "        bl.append(temp[0])\n",
    "    parenthash.append(bl)\n",
    "    \n",
    "parenthash"
   ]
  },
  {
   "cell_type": "code",
   "execution_count": 14,
   "metadata": {},
   "outputs": [
    {
     "data": {
      "text/plain": [
       "7"
      ]
     },
     "execution_count": 14,
     "metadata": {},
     "output_type": "execute_result"
    }
   ],
   "source": [
    "len(parenthash[5])"
   ]
  },
  {
   "cell_type": "code",
   "execution_count": 15,
   "metadata": {},
   "outputs": [],
   "source": [
    "with open(\"parenthash.csv\", 'w') as parent:\n",
    "    header = ['bug_link','commitID','parenthash']\n",
    "    writers = csv.writer(parent, delimiter=',')\n",
    "    writers.writerow(header)\n",
    "    for k in range(0,len(parenthash)):\n",
    "        if len(parenthash[k]) <= 3:\n",
    "            writers.writerow(parenthash[k])\n",
    "        else:\n",
    "            x = 1\n",
    "            y = 2\n",
    "            while y <= len(parenthash[k]):\n",
    "                temp = []\n",
    "                temp.append(parenthash[k][0])\n",
    "                for col2 in (x,y):\n",
    "                    temp.append(parenthash[k][col2])\n",
    "                writers.writerow(temp)\n",
    "                x = x + 2\n",
    "                y = y + 2"
   ]
  },
  {
   "cell_type": "markdown",
   "metadata": {},
   "source": [
    "# Applying git diff without any algorithms"
   ]
  },
  {
   "cell_type": "code",
   "execution_count": 16,
   "metadata": {},
   "outputs": [],
   "source": [
    "diffs = []\n",
    "for v in range(0,len(parenthash)):\n",
    "    p1 = 2\n",
    "    p2 = 1\n",
    "    diff = []\n",
    "    while p1 < len(parenthash[v]):\n",
    "        diff_cmd = \"git diff \" + parenthash[v][p1] + \" \" + parenthash[v][p2] + \" --stat\"\n",
    "        tmp = (str(execute_shell_command(parenthash[v][0],parenthash[v][p1] , parenthash[v][p2], diff_cmd, repository)).replace(\"(\",'').\n",
    "               replace(\"+\",'').replace(\"-\",'').replace(\"\\\\n\",'').replace(\"b'\",'').replace(\"(+)\",'').replace(\"(-)\",'').\n",
    "               replace(\")\",'').replace(\"|\",'').replace(\" => \",'=>').replace(\"... \",'...').replace(\"...> \",'...>').\n",
    "               replace(\"...=> \",'...=>').replace(\" Code \",\"Code\"))\n",
    "        tmp = re.sub(\"([a-z])\" and \"([ ])\", r\"\\1,\", tmp)\n",
    "        tmp2 = (str(tmp).replace(\"\\'\",'').replace(\", \",'').replace(\",files\",'files').replace(\",changed\",\"changed\").\n",
    "                replace(\",file\",'files').replace(\",insertions\",'insertions').replace(\",insertion\",'insertions').\n",
    "                replace(\",deletions,\",'deletions').replace(\",deletion,\",'deletions').replace(\" \",'').\n",
    "                replace(\"HBASE\",'HBASE-'))\n",
    "        diff.append(str(tmp2))\n",
    "        p1 = p1 + 2\n",
    "        p2 = p2 + 2\n",
    "    diffs.append(diff)\n",
    "    \n",
    "diffresult = []\n",
    "for item in diffs:\n",
    "    if item == ', ':\n",
    "        del item\n",
    "    else:\n",
    "        diffresult.append(item)\n",
    "#diffresult[5]"
   ]
  },
  {
   "cell_type": "code",
   "execution_count": 17,
   "metadata": {},
   "outputs": [],
   "source": [
    "diffres = []\n",
    "for x in range(0,len(diffresult)):\n",
    "    for y in range(0,len(diffresult[x])):\n",
    "        line = diffresult[x][y]\n",
    "        if \"changed\" not in diffresult[x][y]:\n",
    "            pass\n",
    "        else:\n",
    "            if \"deletions\" not in diffresult[x][y]:\n",
    "                diffres.append(line + '0 deletions')\n",
    "            else:\n",
    "                if \"insertions\" not in diffresult[x][y]:\n",
    "                    index = line.find('changed,')\n",
    "                    diffres.append(line[:index+8] + '0 insertions' + line[index+7:])\n",
    "                else:\n",
    "                    diffres.append(diffresult[x][y])\n",
    "#diffres"
   ]
  },
  {
   "cell_type": "code",
   "execution_count": 18,
   "metadata": {},
   "outputs": [],
   "source": [
    "kl = []\n",
    "res = []\n",
    "for v in range(0,len(diffres)):\n",
    "    kl = diffres[v].split(',')\n",
    "    res.append(kl)\n",
    "    del res[v][-3:]\n",
    "#res"
   ]
  },
  {
   "cell_type": "code",
   "execution_count": 19,
   "metadata": {
    "collapsed": true
   },
   "outputs": [],
   "source": [
    "with open('diff-bugs.csv', 'w') as csvfile:\n",
    "    header = ['bug_ref','commitID_1', 'commitID_2', 'filename', '#line_changed']\n",
    "    writers = csv.writer(csvfile, delimiter=',')\n",
    "    writers.writerow(header)\n",
    "    for m in range(0,len(res)):\n",
    "        x = 3\n",
    "        y = 5\n",
    "        if len(res[m])<=5:\n",
    "            writers.writerow(res[m])\n",
    "        else:\n",
    "            s = (len(res[m]))/2\n",
    "            for g in range(1, int(s)):\n",
    "                v = []\n",
    "                for col1 in range(0,3):\n",
    "                    v.append(res[m][col1])\n",
    "                for col2 in range(x,y):\n",
    "                    if re.findall(r'\\d+',res[m][col2]) == True:\n",
    "                        v.append(re.findall(r'\\d+',res[m][col2]))\n",
    "                    else:\n",
    "                        v.append(res[m][col2])\n",
    "                x = x + 2\n",
    "                y = y + 2\n",
    "                writers.writerow(v)"
   ]
  },
  {
   "cell_type": "markdown",
   "metadata": {},
   "source": [
    "# Applying git diff -w"
   ]
  },
  {
   "cell_type": "code",
   "execution_count": 20,
   "metadata": {},
   "outputs": [],
   "source": [
    "diffsw = []\n",
    "for v in range(0,len(parenthash)):\n",
    "    p1 = 2\n",
    "    p2 = 1\n",
    "    diff = []\n",
    "    while p1 < len(parenthash[v]):\n",
    "        diff_cmd = \"git diff -w \" + parenthash[v][p1] + \" \" + parenthash[v][p2] + \" --stat\"\n",
    "        tmp = (str(execute_shell_command(parenthash[v][0],parenthash[v][p1] , parenthash[v][p2], diff_cmd, repository)).replace(\"(\",'').\n",
    "               replace(\"+\",'').replace(\"-\",'').replace(\"\\\\n\",'').replace(\"b'\",'').replace(\"(+)\",'').replace(\"(-)\",'').\n",
    "               replace(\")\",'').replace(\"|\",'').replace(\" => \",'=>').replace(\"... \",'...').replace(\"...> \",'...>').\n",
    "               replace(\"...=> \",'...=>').replace(\" Code \",\"Code\"))\n",
    "        tmp = re.sub(\"([a-z])\" and \"([ ])\", r\"\\1,\", tmp)\n",
    "        tmp2 = (str(tmp).replace(\"\\'\",'').replace(\", \",'').replace(\",files\",'files').replace(\",changed\",\"changed\").\n",
    "                replace(\",file\",'files').replace(\",insertions\",'insertions').replace(\",insertion\",'insertions').\n",
    "                replace(\",deletions,\",'deletions').replace(\",deletion,\",'deletions').replace(\" \",'').\n",
    "                replace(\"HBASE\",'HBASE-'))\n",
    "        diff.append(str(tmp2))\n",
    "        p1 = p1 + 2\n",
    "        p2 = p2 + 2\n",
    "    diffsw.append(diff)\n",
    "    \n",
    "diffwresult = []\n",
    "for item in diffsw:\n",
    "    if item == ', ':\n",
    "        del item\n",
    "    else:\n",
    "        diffwresult.append(item)\n",
    "#diffwresult[0]"
   ]
  },
  {
   "cell_type": "code",
   "execution_count": 21,
   "metadata": {
    "collapsed": true
   },
   "outputs": [],
   "source": [
    "diffwres = []\n",
    "for x in range(0,len(diffwresult)):\n",
    "    for y in range(0,len(diffwresult[x])):\n",
    "        line = diffwresult[x][y]\n",
    "        if \"changed\" not in diffwresult[x][y]:\n",
    "            pass\n",
    "        else:\n",
    "            if \"deletions\" not in diffwresult[x][y]:\n",
    "                diffwres.append(line + '0 deletions')\n",
    "            else:\n",
    "                if \"insertions\" not in diffwresult[x][y]:\n",
    "                    index = line.find('changed,')\n",
    "                    diffwres.append(line[:index+8] + '0 insertions' + line[index+7:])\n",
    "                else:\n",
    "                    diffwres.append(diffwresult[x][y])"
   ]
  },
  {
   "cell_type": "code",
   "execution_count": 22,
   "metadata": {},
   "outputs": [],
   "source": [
    "klw = []\n",
    "resw = []\n",
    "for x in range(0, len(diffwres)):\n",
    "    klw = diffwres[x].split(',')\n",
    "    resw.append(klw)\n",
    "    del resw[x][-3:]\n",
    "#resw"
   ]
  },
  {
   "cell_type": "code",
   "execution_count": 23,
   "metadata": {
    "collapsed": true
   },
   "outputs": [],
   "source": [
    "with open('diffw-bugs.csv', 'w') as csvfile:\n",
    "    header = ['bug_ref','commitID_1', 'commitID_2', 'filename', '#line_changed']\n",
    "    writers = csv.writer(csvfile, delimiter=',')\n",
    "    writers.writerow(header)\n",
    "    for m in range(0,len(resw)):\n",
    "        x = 3\n",
    "        y = 5\n",
    "        if len(resw[m])<=5:\n",
    "            writers.writerow(resw[m])\n",
    "        else:\n",
    "            s = (len(resw[m]))/2\n",
    "            for g in range(1, int(s)):\n",
    "                v = []\n",
    "                for col1 in range(0,3):\n",
    "                    v.append(resw[m][col1])\n",
    "                for col2 in range(x,y):\n",
    "                    if re.findall(r'\\d+',resw[m][col2]) == True:\n",
    "                        v.append(re.findall(r'\\d+',resw[m][col2]))\n",
    "                    else:\n",
    "                        v.append(resw[m][col2])\n",
    "                x = x + 2\n",
    "                y = y + 2\n",
    "                writers.writerow(v)"
   ]
  },
  {
   "cell_type": "markdown",
   "metadata": {},
   "source": [
    "# Applying git diff -w --diff-algorithm=myers"
   ]
  },
  {
   "cell_type": "code",
   "execution_count": 24,
   "metadata": {
    "collapsed": true
   },
   "outputs": [],
   "source": [
    "diffmyers = []\n",
    "for v in range(0,len(parenthash)):\n",
    "    p1 = 2\n",
    "    p2 = 1\n",
    "    diff = []\n",
    "    while p1 < len(parenthash[v]):\n",
    "        diff_cmd = \"git diff -w --diff-algorithm=myers \" + parenthash[v][p1] + \" \" + parenthash[v][p2] + \" --stat\"\n",
    "        tmp = (str(execute_shell_command(parenthash[v][0],parenthash[v][p1] , parenthash[v][p2], diff_cmd, repository)).replace(\"(\",'').\n",
    "               replace(\"+\",'').replace(\"-\",'').replace(\"\\\\n\",'').replace(\"b'\",'').replace(\"(+)\",'').replace(\"(-)\",'').\n",
    "               replace(\")\",'').replace(\"|\",'').replace(\" => \",'=>').replace(\"... \",'...').replace(\"...> \",'...>').\n",
    "               replace(\"...=> \",'...=>').replace(\" Code \",\"Code\"))\n",
    "        tmp = re.sub(\"([a-z])\" and \"([ ])\", r\"\\1,\", tmp)\n",
    "        tmp2 = (str(tmp).replace(\"\\'\",'').replace(\", \",'').replace(\",files\",'files').replace(\",changed\",\"changed\").\n",
    "                replace(\",file\",'files').replace(\",insertions\",'insertions').replace(\",insertion\",'insertions').\n",
    "                replace(\",deletions,\",'deletions').replace(\",deletion,\",'deletions').replace(\" \",'').\n",
    "                replace(\"HBASE\",'HBASE-'))\n",
    "        diff.append(str(tmp2))\n",
    "        p1 = p1 + 2\n",
    "        p2 = p2 + 2\n",
    "    diffmyers.append(diff)\n",
    "    \n",
    "diffmyersresult = []\n",
    "for item in diffmyers:\n",
    "    if item == ', ':\n",
    "        del item\n",
    "    else:\n",
    "        diffmyersresult.append(item)"
   ]
  },
  {
   "cell_type": "code",
   "execution_count": 25,
   "metadata": {
    "collapsed": true
   },
   "outputs": [],
   "source": [
    "diffmyersres = []\n",
    "for x in range(0,len(diffmyersresult)):\n",
    "    for y in range(0,len(diffmyersresult[x])):\n",
    "        line = diffmyersresult[x][y]\n",
    "        if \"changed\" not in diffmyersresult[x][y]:\n",
    "            pass\n",
    "        else:\n",
    "            if \"deletions\" not in diffmyersresult[x][y]:\n",
    "                diffmyersres.append(line + '0 deletions')\n",
    "            else:\n",
    "                if \"insertions\" not in diffmyersresult[x][y]:\n",
    "                    index = line.find('changed,')\n",
    "                    diffmyersres.append(line[:index+8] + '0 insertions' + line[index+7:])\n",
    "                else:\n",
    "                    diffmyersres.append(diffmyersresult[x][y])"
   ]
  },
  {
   "cell_type": "code",
   "execution_count": 26,
   "metadata": {
    "collapsed": true
   },
   "outputs": [],
   "source": [
    "klmyers = []\n",
    "resmyers = []\n",
    "for x in range(0, len(diffmyersres)):\n",
    "    klmyers = diffmyersres[x].split(',')\n",
    "    resmyers.append(klmyers)\n",
    "    del resmyers[x][-3:]"
   ]
  },
  {
   "cell_type": "code",
   "execution_count": 27,
   "metadata": {
    "collapsed": true
   },
   "outputs": [],
   "source": [
    "with open('diffmyers-bugs.csv', 'w') as csvfile:\n",
    "    header = ['bug_ref','commitID_1', 'commitID_2', 'filename', '#line_changed']\n",
    "    writers = csv.writer(csvfile, delimiter=',')\n",
    "    writers.writerow(header)\n",
    "    for m in range(0,len(resmyers)):\n",
    "        x = 3\n",
    "        y = 5\n",
    "        if len(resmyers[m])<=5:\n",
    "            writers.writerow(resmyers[m])\n",
    "        else:\n",
    "            s = (len(resmyers[m]))/2\n",
    "            for g in range(1, int(s)):\n",
    "                v = []\n",
    "                for col1 in range(0,3):\n",
    "                    v.append(resmyers[m][col1])\n",
    "                for col2 in range(x,y):\n",
    "                    if re.findall(r'\\d+',resmyers[m][col2]) == True:\n",
    "                        v.append(re.findall(r'\\d+',resmyers[m][col2]))\n",
    "                    else:\n",
    "                        v.append(resmyers[m][col2])\n",
    "                x = x + 2\n",
    "                y = y + 2\n",
    "                writers.writerow(v)"
   ]
  },
  {
   "cell_type": "markdown",
   "metadata": {},
   "source": [
    "# Applying --diff-algorithm=minimal"
   ]
  },
  {
   "cell_type": "code",
   "execution_count": 28,
   "metadata": {
    "collapsed": true
   },
   "outputs": [],
   "source": [
    "diffmin = []\n",
    "for v in range(0,len(parenthash)):\n",
    "    p1 = 2\n",
    "    p2 = 1\n",
    "    diff = []\n",
    "    while p1 < len(parenthash[v]):\n",
    "        diff_cmd = \"git diff -w --diff-algorithm=minimal \" + parenthash[v][p1] + \" \" + parenthash[v][p2] + \" --stat\"\n",
    "        tmp = (str(execute_shell_command(parenthash[v][0],parenthash[v][p1] , parenthash[v][p2], diff_cmd, repository)).replace(\"(\",'').\n",
    "               replace(\"+\",'').replace(\"-\",'').replace(\"\\\\n\",'').replace(\"b'\",'').replace(\"(+)\",'').replace(\"(-)\",'').\n",
    "               replace(\")\",'').replace(\"|\",'').replace(\" => \",'=>').replace(\"... \",'...').replace(\"...> \",'...>').\n",
    "               replace(\"...=> \",'...=>').replace(\" Code \",\"Code\"))\n",
    "        tmp = re.sub(\"([a-z])\" and \"([ ])\", r\"\\1,\", tmp)\n",
    "        tmp2 = (str(tmp).replace(\"\\'\",'').replace(\", \",'').replace(\",files\",'files').replace(\",changed\",\"changed\").\n",
    "                replace(\",file\",'files').replace(\",insertions\",'insertions').replace(\",insertion\",'insertions').\n",
    "                replace(\",deletions,\",'deletions').replace(\",deletion,\",'deletions').replace(\" \",'').\n",
    "                replace(\"HBASE\",'HBASE-'))\n",
    "        diff.append(str(tmp2))\n",
    "        p1 = p1 + 2\n",
    "        p2 = p2 + 2\n",
    "    diffmin.append(diff)\n",
    "    \n",
    "diffminresult = []\n",
    "for item in diffmin:\n",
    "    if item == ', ':\n",
    "        del item\n",
    "    else:\n",
    "        diffminresult.append(item)"
   ]
  },
  {
   "cell_type": "code",
   "execution_count": 29,
   "metadata": {
    "collapsed": true
   },
   "outputs": [],
   "source": [
    "diffminres = []\n",
    "for x in range(0,len(diffminresult)):\n",
    "    for y in range(0,len(diffminresult[x])):\n",
    "        line = diffminresult[x][y]\n",
    "        if \"changed\" not in diffminresult[x][y]:\n",
    "            pass\n",
    "        else:\n",
    "            if \"deletions\" not in diffminresult[x][y]:\n",
    "                diffminres.append(line + '0 deletions')\n",
    "            else:\n",
    "                if \"insertions\" not in diffminresult[x][y]:\n",
    "                    index = line.find('changed,')\n",
    "                    diffminres.append(line[:index+8] + '0 insertions' + line[index+7:])\n",
    "                else:\n",
    "                    diffminres.append(diffminresult[x][y])"
   ]
  },
  {
   "cell_type": "code",
   "execution_count": 30,
   "metadata": {
    "collapsed": true
   },
   "outputs": [],
   "source": [
    "klmin = []\n",
    "resmin = []\n",
    "for x in range(0, len(diffminres)):\n",
    "    klmin = diffminres[x].split(',')\n",
    "    resmin.append(klmin)\n",
    "    del resmin[x][-3:]"
   ]
  },
  {
   "cell_type": "code",
   "execution_count": 31,
   "metadata": {
    "collapsed": true
   },
   "outputs": [],
   "source": [
    "with open('diffmin-bugs.csv', 'w') as csvfile:\n",
    "    header = ['bug_ref','commitID_1', 'commitID_2', 'filename', '#line_changed']\n",
    "    writers = csv.writer(csvfile, delimiter=',')\n",
    "    writers.writerow(header)\n",
    "    for m in range(0,len(resmin)):\n",
    "        x = 3\n",
    "        y = 5\n",
    "        if len(resmin[m])<=5:\n",
    "            writers.writerow(resmin[m])\n",
    "        else:\n",
    "            s = (len(resmin[m]))/2\n",
    "            for g in range(1, int(s)):\n",
    "                v = []\n",
    "                for col1 in range(0,3):\n",
    "                    v.append(resmin[m][col1])\n",
    "                for col2 in range(x,y):\n",
    "                    if re.findall(r'\\d+',resmin[m][col2]) == True:\n",
    "                        v.append(re.findall(r'\\d+',resmin[m][col2]))\n",
    "                    else:\n",
    "                        v.append(resmin[m][col2])\n",
    "                x = x + 2\n",
    "                y = y + 2\n",
    "                writers.writerow(v)"
   ]
  },
  {
   "cell_type": "markdown",
   "metadata": {},
   "source": [
    "# Applying --diff-algorithm=patience"
   ]
  },
  {
   "cell_type": "code",
   "execution_count": 32,
   "metadata": {
    "collapsed": true
   },
   "outputs": [],
   "source": [
    "diffpat = []\n",
    "for v in range(0,len(parenthash)):\n",
    "    p1 = 2\n",
    "    p2 = 1\n",
    "    diff = []\n",
    "    while p1 < len(parenthash[v]):\n",
    "        diff_cmd = \"git diff -w --diff-algorithm=patience \" + parenthash[v][p1] + \" \" + parenthash[v][p2] + \" --stat\"\n",
    "        tmp = (str(execute_shell_command(parenthash[v][0],parenthash[v][p1] , parenthash[v][p2], diff_cmd, repository)).replace(\"(\",'').\n",
    "               replace(\"+\",'').replace(\"-\",'').replace(\"\\\\n\",'').replace(\"b'\",'').replace(\"(+)\",'').replace(\"(-)\",'').\n",
    "               replace(\")\",'').replace(\"|\",'').replace(\" => \",'=>').replace(\"... \",'...').replace(\"...> \",'...>').\n",
    "               replace(\"...=> \",'...=>').replace(\" Code \",\"Code\"))\n",
    "        tmp = re.sub(\"([a-z])\" and \"([ ])\", r\"\\1,\", tmp)\n",
    "        tmp2 = (str(tmp).replace(\"\\'\",'').replace(\", \",'').replace(\",files\",'files').replace(\",changed\",\"changed\").\n",
    "                replace(\",file\",'files').replace(\",insertions\",'insertions').replace(\",insertion\",'insertions').\n",
    "                replace(\",deletions,\",'deletions').replace(\",deletion,\",'deletions').replace(\" \",'').\n",
    "                replace(\"HBASE\",'HBASE-'))\n",
    "        diff.append(str(tmp2))\n",
    "        p1 = p1 + 2\n",
    "        p2 = p2 + 2\n",
    "    diffpat.append(diff)\n",
    "    \n",
    "diffpatresult = []\n",
    "for item in diffpat:\n",
    "    if item == ', ':\n",
    "        del item\n",
    "    else:\n",
    "        diffpatresult.append(item)"
   ]
  },
  {
   "cell_type": "code",
   "execution_count": 33,
   "metadata": {
    "collapsed": true
   },
   "outputs": [],
   "source": [
    "diffpatres = []\n",
    "for x in range(0,len(diffpatresult)):\n",
    "    for y in range(0,len(diffpatresult[x])):\n",
    "        line = diffpatresult[x][y]\n",
    "        if \"changed\" not in diffpatresult[x][y]:\n",
    "            pass\n",
    "        else:\n",
    "            if \"deletions\" not in diffpatresult[x][y]:\n",
    "                diffpatres.append(line + '0 deletions')\n",
    "            else:\n",
    "                if \"insertions\" not in diffpatresult[x][y]:\n",
    "                    index = line.find('changed,')\n",
    "                    diffpatres.append(line[:index+8] + '0 insertions' + line[index+7:])\n",
    "                else:\n",
    "                    diffpatres.append(diffpatresult[x][y])"
   ]
  },
  {
   "cell_type": "code",
   "execution_count": 34,
   "metadata": {
    "collapsed": true
   },
   "outputs": [],
   "source": [
    "klpat = []\n",
    "respat = []\n",
    "for x in range(0, len(diffpatres)):\n",
    "    klpat = diffpatres[x].split(',')\n",
    "    respat.append(klpat)\n",
    "    del respat[x][-3:]"
   ]
  },
  {
   "cell_type": "code",
   "execution_count": 35,
   "metadata": {
    "collapsed": true
   },
   "outputs": [],
   "source": [
    "with open('diffpat-bugs.csv', 'w') as csvfile:\n",
    "    header = ['bug_ref','commitID_1', 'commitID_2', 'filename', '#line_changed']\n",
    "    writers = csv.writer(csvfile, delimiter=',')\n",
    "    writers.writerow(header)\n",
    "    for m in range(0,len(respat)):\n",
    "        x = 3\n",
    "        y = 5\n",
    "        if len(respat[m])<=5:\n",
    "            writers.writerow(respat[m])\n",
    "        else:\n",
    "            s = (len(respat[m]))/2\n",
    "            for g in range(1, int(s)):\n",
    "                v = []\n",
    "                for col1 in range(0,3):\n",
    "                    v.append(respat[m][col1])\n",
    "                for col2 in range(x,y):\n",
    "                    if re.findall(r'\\d+',respat[m][col2]) == True:\n",
    "                        v.append(re.findall(r'\\d+',respat[m][col2]))\n",
    "                    else:\n",
    "                        v.append(respat[m][col2])\n",
    "                x = x + 2\n",
    "                y = y + 2\n",
    "                writers.writerow(v)"
   ]
  },
  {
   "cell_type": "markdown",
   "metadata": {},
   "source": [
    "# Applying --diff-algorithm=histogram"
   ]
  },
  {
   "cell_type": "code",
   "execution_count": 36,
   "metadata": {
    "collapsed": true
   },
   "outputs": [],
   "source": [
    "diffhist = []\n",
    "for v in range(0,len(parenthash)):\n",
    "    p1 = 2\n",
    "    p2 = 1\n",
    "    diff = []\n",
    "    while p1 < len(parenthash[v]):\n",
    "        diff_cmd = \"git diff -w --diff-algorithm=histogram \" + parenthash[v][p1] + \" \" + parenthash[v][p2] + \" --stat\"\n",
    "        tmp = (str(execute_shell_command(parenthash[v][0],parenthash[v][p1] , parenthash[v][p2], diff_cmd, repository)).replace(\"(\",'').\n",
    "               replace(\"+\",'').replace(\"-\",'').replace(\"\\\\n\",'').replace(\"b'\",'').replace(\"(+)\",'').replace(\"(-)\",'').\n",
    "               replace(\")\",'').replace(\"|\",'').replace(\" => \",'=>').replace(\"... \",'...').replace(\"...> \",'...>').\n",
    "               replace(\"...=> \",'...=>').replace(\" Code \",\"Code\"))\n",
    "        tmp = re.sub(\"([a-z])\" and \"([ ])\", r\"\\1,\", tmp)\n",
    "        tmp2 = (str(tmp).replace(\"\\'\",'').replace(\", \",'').replace(\",files\",'files').replace(\",changed\",\"changed\").\n",
    "                replace(\",file\",'files').replace(\",insertions\",'insertions').replace(\",insertion\",'insertions').\n",
    "                replace(\",deletions,\",'deletions').replace(\",deletion,\",'deletions').replace(\" \",'').\n",
    "                replace(\"HBASE\",'HBASE-'))\n",
    "        diff.append(str(tmp2))\n",
    "        p1 = p1 + 2\n",
    "        p2 = p2 + 2\n",
    "    diffhist.append(diff)\n",
    "    \n",
    "diffhistresult = []\n",
    "for item in diffhist:\n",
    "    if item == ', ':\n",
    "        del item\n",
    "    else:\n",
    "        diffhistresult.append(item)"
   ]
  },
  {
   "cell_type": "code",
   "execution_count": 37,
   "metadata": {
    "collapsed": true
   },
   "outputs": [],
   "source": [
    "diffhistres = []\n",
    "for x in range(0,len(diffhistresult)):\n",
    "    for y in range(0,len(diffhistresult[x])):\n",
    "        line = diffhistresult[x][y]\n",
    "        if \"changed\" not in diffhistresult[x][y]:\n",
    "            pass\n",
    "        else:\n",
    "            if \"deletions\" not in diffhistresult[x][y]:\n",
    "                diffhistres.append(line + '0 deletions')\n",
    "            else:\n",
    "                if \"insertions\" not in diffpatresult[x][y]:\n",
    "                    index = line.find('changed,')\n",
    "                    diffhistres.append(line[:index+8] + '0 insertions' + line[index+7:])\n",
    "                else:\n",
    "                    diffhistres.append(diffhistresult[x][y])"
   ]
  },
  {
   "cell_type": "code",
   "execution_count": 38,
   "metadata": {
    "collapsed": true
   },
   "outputs": [],
   "source": [
    "klhist = []\n",
    "reshist = []\n",
    "for x in range(0, len(diffhistres)):\n",
    "    klhist = diffhistres[x].split(',')\n",
    "    reshist.append(klhist)\n",
    "    del reshist[x][-3:]"
   ]
  },
  {
   "cell_type": "code",
   "execution_count": 39,
   "metadata": {
    "collapsed": true
   },
   "outputs": [],
   "source": [
    "with open('diffhist-bugs.csv', 'w') as csvfile:\n",
    "    header = ['bug_ref','commitID_1', 'commitID_2', 'filename', '#line_changed']\n",
    "    writers = csv.writer(csvfile, delimiter=',')\n",
    "    writers.writerow(header)\n",
    "    for m in range(0,len(reshist)):\n",
    "        x = 3\n",
    "        y = 5\n",
    "        if len(reshist[m])<=5:\n",
    "            writers.writerow(reshist[m])\n",
    "        else:\n",
    "            s = (len(reshist[m]))/2\n",
    "            for g in range(1, int(s)):\n",
    "                v = []\n",
    "                for col1 in range(0,3):\n",
    "                    v.append(reshist[m][col1])\n",
    "                for col2 in range(x,y):\n",
    "                    if re.findall(r'\\d+',reshist[m][col2]) == True:\n",
    "                        v.append(re.findall(r'\\d+',reshist[m][col2]))\n",
    "                    else:\n",
    "                        v.append(reshist[m][col2])\n",
    "                x = x + 2\n",
    "                y = y + 2\n",
    "                writers.writerow(v)"
   ]
  },
  {
   "cell_type": "markdown",
   "metadata": {},
   "source": [
    "# Visualizing the number of changes in different diff using graph"
   ]
  },
  {
   "cell_type": "code",
   "execution_count": 40,
   "metadata": {},
   "outputs": [
    {
     "data": {
      "text/html": [
       "<script>requirejs.config({paths: { 'plotly': ['https://cdn.plot.ly/plotly-latest.min']},});if(!window.Plotly) {{require(['plotly'],function(plotly) {window.Plotly=plotly;});}}</script>"
      ],
      "text/vnd.plotly.v1+html": [
       "<script>requirejs.config({paths: { 'plotly': ['https://cdn.plot.ly/plotly-latest.min']},});if(!window.Plotly) {{require(['plotly'],function(plotly) {window.Plotly=plotly;});}}</script>"
      ]
     },
     "metadata": {},
     "output_type": "display_data"
    },
    {
     "data": {
      "application/vnd.plotly.v1+json": {
       "data": [
        {
         "name": "--diff-algorithm=myers",
         "type": "bar",
         "x": [
          ".../hbase/protobuf/generated/MasterProtos.java",
          ".../hadoop/hbase/regionserver/HRegionServer.java",
          ".../hadoop/hbase/regionserver/RSRpcServices.java",
          ".../org/apache/hadoop/hbase/master/HMaster.java",
          ".../hbase/protobuf/generated/HBaseProtos.java",
          ".../hadoop/hbase/master/MasterRpcServices.java",
          ".../hbase/protobuf/generated/HBaseProtos.java",
          ".../hadoop/hbase/client/ConnectionAdapter.java",
          ".../hbase/procedure/SimpleRSProcedureManager.java",
          ".../hadoop/hbase/util/FSTableDescriptors.java"
         ],
         "y": [
          2669,
          2425,
          1985,
          1977,
          1308,
          1194,
          731,
          409,
          263,
          229
         ]
        },
        {
         "name": "--diff-algorithm=histogram",
         "type": "bar",
         "x": [
          ".../hbase/protobuf/generated/MasterProtos.java",
          ".../hadoop/hbase/regionserver/HRegionServer.java",
          ".../org/apache/hadoop/hbase/master/HMaster.java",
          ".../hadoop/hbase/regionserver/RSRpcServices.java",
          ".../hbase/protobuf/generated/HBaseProtos.java",
          ".../hadoop/hbase/master/MasterRpcServices.java",
          ".../hbase/protobuf/generated/HBaseProtos.java",
          ".../hadoop/hbase/client/ConnectionAdapter.java",
          ".../hbase/procedure/SimpleRSProcedureManager.java",
          ".../hadoop/hbase/util/FSTableDescriptors.java"
         ],
         "y": [
          2669,
          2285,
          1993,
          1985,
          1308,
          1194,
          731,
          409,
          263,
          229
         ]
        },
        {
         "name": "--diff-algorithm=minimal",
         "type": "bar",
         "x": [
          ".../hbase/protobuf/generated/MasterProtos.java",
          ".../hadoop/hbase/regionserver/HRegionServer.java",
          ".../hadoop/hbase/regionserver/RSRpcServices.java",
          ".../org/apache/hadoop/hbase/master/HMaster.java",
          ".../hbase/protobuf/generated/HBaseProtos.java",
          ".../hadoop/hbase/master/MasterRpcServices.java",
          ".../hbase/protobuf/generated/HBaseProtos.java",
          ".../hadoop/hbase/client/ConnectionAdapter.java",
          ".../hbase/procedure/SimpleRSProcedureManager.java",
          ".../hadoop/hbase/util/FSTableDescriptors.java"
         ],
         "y": [
          2669,
          2285,
          1985,
          1969,
          1308,
          1194,
          731,
          409,
          263,
          229
         ]
        },
        {
         "name": "--diff-algorithm=patience",
         "type": "bar",
         "x": [
          ".../hbase/protobuf/generated/MasterProtos.java",
          ".../hadoop/hbase/regionserver/HRegionServer.java",
          ".../org/apache/hadoop/hbase/master/HMaster.java",
          ".../hadoop/hbase/regionserver/RSRpcServices.java",
          ".../hbase/protobuf/generated/HBaseProtos.java",
          ".../hadoop/hbase/master/MasterRpcServices.java",
          ".../hbase/protobuf/generated/HBaseProtos.java",
          ".../hadoop/hbase/client/ConnectionAdapter.java",
          ".../hbase/procedure/SimpleRSProcedureManager.java",
          ".../hadoop/hbase/util/FSTableDescriptors.java"
         ],
         "y": [
          2669,
          2285,
          1985,
          1985,
          1308,
          1194,
          731,
          409,
          263,
          229
         ]
        }
       ],
       "layout": {
        "barmode": "group"
       }
      },
      "text/html": [
       "<div id=\"30ec642c-09ba-41a5-a258-c6510238009d\" style=\"height: 525px; width: 100%;\" class=\"plotly-graph-div\"></div><script type=\"text/javascript\">require([\"plotly\"], function(Plotly) { window.PLOTLYENV=window.PLOTLYENV || {};window.PLOTLYENV.BASE_URL=\"https://plot.ly\";Plotly.newPlot(\"30ec642c-09ba-41a5-a258-c6510238009d\", [{\"type\": \"bar\", \"x\": [\".../hbase/protobuf/generated/MasterProtos.java\", \".../hadoop/hbase/regionserver/HRegionServer.java\", \".../hadoop/hbase/regionserver/RSRpcServices.java\", \".../org/apache/hadoop/hbase/master/HMaster.java\", \".../hbase/protobuf/generated/HBaseProtos.java\", \".../hadoop/hbase/master/MasterRpcServices.java\", \".../hbase/protobuf/generated/HBaseProtos.java\", \".../hadoop/hbase/client/ConnectionAdapter.java\", \".../hbase/procedure/SimpleRSProcedureManager.java\", \".../hadoop/hbase/util/FSTableDescriptors.java\"], \"y\": [2669, 2425, 1985, 1977, 1308, 1194, 731, 409, 263, 229], \"name\": \"--diff-algorithm=myers\"}, {\"type\": \"bar\", \"x\": [\".../hbase/protobuf/generated/MasterProtos.java\", \".../hadoop/hbase/regionserver/HRegionServer.java\", \".../org/apache/hadoop/hbase/master/HMaster.java\", \".../hadoop/hbase/regionserver/RSRpcServices.java\", \".../hbase/protobuf/generated/HBaseProtos.java\", \".../hadoop/hbase/master/MasterRpcServices.java\", \".../hbase/protobuf/generated/HBaseProtos.java\", \".../hadoop/hbase/client/ConnectionAdapter.java\", \".../hbase/procedure/SimpleRSProcedureManager.java\", \".../hadoop/hbase/util/FSTableDescriptors.java\"], \"y\": [2669, 2285, 1993, 1985, 1308, 1194, 731, 409, 263, 229], \"name\": \"--diff-algorithm=histogram\"}, {\"type\": \"bar\", \"x\": [\".../hbase/protobuf/generated/MasterProtos.java\", \".../hadoop/hbase/regionserver/HRegionServer.java\", \".../hadoop/hbase/regionserver/RSRpcServices.java\", \".../org/apache/hadoop/hbase/master/HMaster.java\", \".../hbase/protobuf/generated/HBaseProtos.java\", \".../hadoop/hbase/master/MasterRpcServices.java\", \".../hbase/protobuf/generated/HBaseProtos.java\", \".../hadoop/hbase/client/ConnectionAdapter.java\", \".../hbase/procedure/SimpleRSProcedureManager.java\", \".../hadoop/hbase/util/FSTableDescriptors.java\"], \"y\": [2669, 2285, 1985, 1969, 1308, 1194, 731, 409, 263, 229], \"name\": \"--diff-algorithm=minimal\"}, {\"type\": \"bar\", \"x\": [\".../hbase/protobuf/generated/MasterProtos.java\", \".../hadoop/hbase/regionserver/HRegionServer.java\", \".../org/apache/hadoop/hbase/master/HMaster.java\", \".../hadoop/hbase/regionserver/RSRpcServices.java\", \".../hbase/protobuf/generated/HBaseProtos.java\", \".../hadoop/hbase/master/MasterRpcServices.java\", \".../hbase/protobuf/generated/HBaseProtos.java\", \".../hadoop/hbase/client/ConnectionAdapter.java\", \".../hbase/procedure/SimpleRSProcedureManager.java\", \".../hadoop/hbase/util/FSTableDescriptors.java\"], \"y\": [2669, 2285, 1985, 1985, 1308, 1194, 731, 409, 263, 229], \"name\": \"--diff-algorithm=patience\"}], {\"barmode\": \"group\"}, {\"showLink\": false, \"linkText\": \"Export to plot.ly\"})});</script>"
      ],
      "text/vnd.plotly.v1+html": [
       "<div id=\"30ec642c-09ba-41a5-a258-c6510238009d\" style=\"height: 525px; width: 100%;\" class=\"plotly-graph-div\"></div><script type=\"text/javascript\">require([\"plotly\"], function(Plotly) { window.PLOTLYENV=window.PLOTLYENV || {};window.PLOTLYENV.BASE_URL=\"https://plot.ly\";Plotly.newPlot(\"30ec642c-09ba-41a5-a258-c6510238009d\", [{\"type\": \"bar\", \"x\": [\".../hbase/protobuf/generated/MasterProtos.java\", \".../hadoop/hbase/regionserver/HRegionServer.java\", \".../hadoop/hbase/regionserver/RSRpcServices.java\", \".../org/apache/hadoop/hbase/master/HMaster.java\", \".../hbase/protobuf/generated/HBaseProtos.java\", \".../hadoop/hbase/master/MasterRpcServices.java\", \".../hbase/protobuf/generated/HBaseProtos.java\", \".../hadoop/hbase/client/ConnectionAdapter.java\", \".../hbase/procedure/SimpleRSProcedureManager.java\", \".../hadoop/hbase/util/FSTableDescriptors.java\"], \"y\": [2669, 2425, 1985, 1977, 1308, 1194, 731, 409, 263, 229], \"name\": \"--diff-algorithm=myers\"}, {\"type\": \"bar\", \"x\": [\".../hbase/protobuf/generated/MasterProtos.java\", \".../hadoop/hbase/regionserver/HRegionServer.java\", \".../org/apache/hadoop/hbase/master/HMaster.java\", \".../hadoop/hbase/regionserver/RSRpcServices.java\", \".../hbase/protobuf/generated/HBaseProtos.java\", \".../hadoop/hbase/master/MasterRpcServices.java\", \".../hbase/protobuf/generated/HBaseProtos.java\", \".../hadoop/hbase/client/ConnectionAdapter.java\", \".../hbase/procedure/SimpleRSProcedureManager.java\", \".../hadoop/hbase/util/FSTableDescriptors.java\"], \"y\": [2669, 2285, 1993, 1985, 1308, 1194, 731, 409, 263, 229], \"name\": \"--diff-algorithm=histogram\"}, {\"type\": \"bar\", \"x\": [\".../hbase/protobuf/generated/MasterProtos.java\", \".../hadoop/hbase/regionserver/HRegionServer.java\", \".../hadoop/hbase/regionserver/RSRpcServices.java\", \".../org/apache/hadoop/hbase/master/HMaster.java\", \".../hbase/protobuf/generated/HBaseProtos.java\", \".../hadoop/hbase/master/MasterRpcServices.java\", \".../hbase/protobuf/generated/HBaseProtos.java\", \".../hadoop/hbase/client/ConnectionAdapter.java\", \".../hbase/procedure/SimpleRSProcedureManager.java\", \".../hadoop/hbase/util/FSTableDescriptors.java\"], \"y\": [2669, 2285, 1985, 1969, 1308, 1194, 731, 409, 263, 229], \"name\": \"--diff-algorithm=minimal\"}, {\"type\": \"bar\", \"x\": [\".../hbase/protobuf/generated/MasterProtos.java\", \".../hadoop/hbase/regionserver/HRegionServer.java\", \".../org/apache/hadoop/hbase/master/HMaster.java\", \".../hadoop/hbase/regionserver/RSRpcServices.java\", \".../hbase/protobuf/generated/HBaseProtos.java\", \".../hadoop/hbase/master/MasterRpcServices.java\", \".../hbase/protobuf/generated/HBaseProtos.java\", \".../hadoop/hbase/client/ConnectionAdapter.java\", \".../hbase/procedure/SimpleRSProcedureManager.java\", \".../hadoop/hbase/util/FSTableDescriptors.java\"], \"y\": [2669, 2285, 1985, 1985, 1308, 1194, 731, 409, 263, 229], \"name\": \"--diff-algorithm=patience\"}], {\"barmode\": \"group\"}, {\"showLink\": false, \"linkText\": \"Export to plot.ly\"})});</script>"
      ]
     },
     "metadata": {},
     "output_type": "display_data"
    }
   ],
   "source": [
    "col = ['filename','#line_changed']\n",
    "df = pd.read_csv('diff-bugs.csv')\n",
    "dfw = pd.read_csv('diffw-bugs.csv')\n",
    "dfmyers = pd.read_csv('diffmyers-bugs.csv')\n",
    "dfhist = pd.read_csv('diffhist-bugs.csv')\n",
    "dfmin = pd.read_csv('diffmin-bugs.csv')\n",
    "dfpat = pd.read_csv('diffpat-bugs.csv')\n",
    "\n",
    "df = df.sort_values('#line_changed', ascending=False)\n",
    "dfw = dfw.sort_values('#line_changed', ascending=False)\n",
    "dfmyers = dfmyers.sort_values('#line_changed', ascending=False)\n",
    "dfhist = dfhist.sort_values('#line_changed', ascending=False)\n",
    "dfmin = dfmin.sort_values('#line_changed', ascending=False)\n",
    "dfpat = dfpat.sort_values('#line_changed', ascending=False)\n",
    "\n",
    "trace = go.Bar(\n",
    "    x=df['filename'][:10],\n",
    "    y=df['#line_changed'][:10],\n",
    "    name='no diff-algorithm')\n",
    "\n",
    "tracew = go.Bar(\n",
    "    x=dfw['filename'][:10],\n",
    "    y=dfw['#line_changed'][:10],\n",
    "    name='adding -w in diff')\n",
    "\n",
    "tracemyers = go.Bar(\n",
    "    x=dfmyers['filename'][:10],\n",
    "    y=dfmyers['#line_changed'][:10],\n",
    "    name='--diff-algorithm=myers')\n",
    "\n",
    "tracehist = go.Bar(\n",
    "    x=dfhist['filename'][:10],\n",
    "    y=dfhist['#line_changed'][:10],\n",
    "    name='--diff-algorithm=histogram')\n",
    "\n",
    "tracemin = go.Bar(\n",
    "    x=dfmin['filename'][:10],\n",
    "    y=dfmin['#line_changed'][:10],\n",
    "    name='--diff-algorithm=minimal')\n",
    "\n",
    "tracepat = go.Bar(\n",
    "    x=dfpat['filename'][:10],\n",
    "    y=dfpat['#line_changed'][:10],\n",
    "    name='--diff-algorithm=patience')\n",
    "\n",
    "dt = [tracemyers, tracehist, tracemin, tracepat]\n",
    "layout = go.Layout(\n",
    "    barmode='group'\n",
    ")\n",
    "\n",
    "init_notebook_mode(connected=True)\n",
    "fig = go.Figure(data=dt, layout=layout)\n",
    "iplot(fig, show_link=False)"
   ]
  },
  {
   "cell_type": "code",
   "execution_count": 41,
   "metadata": {},
   "outputs": [],
   "source": [
    "#sorting data based on filename\n",
    "dfhist = dfhist.sort_values('filename')\n",
    "dfmyers = dfmyers.sort_values('filename')\n",
    "dfmin = dfmin.sort_values('filename')\n",
    "dfpat = dfpat.sort_values('filename')"
   ]
  },
  {
   "cell_type": "code",
   "execution_count": 42,
   "metadata": {},
   "outputs": [],
   "source": [
    "#Merge dataframes bug-hist and bug-myers\n",
    "datamerge1 = dfhist.merge(dfmyers, on=['bug_ref','commitID_1', 'commitID_2', 'filename'], how=\"outer\", suffixes=('-hist', '-myers'))\n",
    "#Merge dataframes bug-min and bug-pat\n",
    "datamerge2 = dfmin.merge(dfpat, on=['bug_ref','commitID_1', 'commitID_2', 'filename'], how=\"outer\", suffixes=('-min', '-pat'))\n",
    "#Merge all dataframes\n",
    "datamerge3 = datamerge1.merge(datamerge2, on=['bug_ref','commitID_1', 'commitID_2', 'filename'], how=\"outer\")\n",
    "\n",
    "#Fill NAs with 0 and sort by filename\n",
    "datamerge3.fillna(0, inplace=True)\n",
    "datamerge3 = datamerge3.sort_values(by ='#line_changed-hist').reset_index(drop=True)\n",
    "colnames = ['bug_ref','commitID_1','commitID_2','filename','#line_changed-hist','#line_changed-myers','#line_changed-min','#line_changed-pat']\n",
    "datamerge3 = datamerge3[colnames]\n",
    "\n",
    "#save to csv file\n",
    "datamerge3.to_csv('diffbugs_file.csv')"
   ]
  },
  {
   "cell_type": "code",
   "execution_count": 43,
   "metadata": {
    "collapsed": true
   },
   "outputs": [],
   "source": [
    "#Remove duplicates data\n",
    "datamerge4 = datamerge3[datamerge3.iloc[:,-4:].diff(axis=1).fillna(0).any(1)]\n",
    "datamerge4 = datamerge4.sort_values('#line_changed-hist', ascending=True)\n",
    "\n",
    "#save to csv file\n",
    "datamerge4.to_csv('diffbugs_file_differentvalue.csv')"
   ]
  },
  {
   "cell_type": "code",
   "execution_count": 46,
   "metadata": {},
   "outputs": [
    {
     "data": {
      "text/html": [
       "<div>\n",
       "<style>\n",
       "    .dataframe thead tr:only-child th {\n",
       "        text-align: right;\n",
       "    }\n",
       "\n",
       "    .dataframe thead th {\n",
       "        text-align: left;\n",
       "    }\n",
       "\n",
       "    .dataframe tbody tr th {\n",
       "        vertical-align: top;\n",
       "    }\n",
       "</style>\n",
       "<table border=\"1\" class=\"dataframe\">\n",
       "  <thead>\n",
       "    <tr style=\"text-align: right;\">\n",
       "      <th></th>\n",
       "      <th>bug_ref</th>\n",
       "      <th>commitID_1</th>\n",
       "      <th>commitID_2</th>\n",
       "      <th>filename</th>\n",
       "      <th>#line_changed-hist</th>\n",
       "      <th>#line_changed-myers</th>\n",
       "      <th>#line_changed-min</th>\n",
       "      <th>#line_changed-pat</th>\n",
       "    </tr>\n",
       "  </thead>\n",
       "  <tbody>\n",
       "    <tr>\n",
       "      <th>122</th>\n",
       "      <td>HBASE-10569</td>\n",
       "      <td>0e5d21e96ae24e8c658a1b74843b72bddcb7435</td>\n",
       "      <td>7716a3ca94</td>\n",
       "      <td>.../hadoop/hbase/master/ActiveMasterManager.java</td>\n",
       "      <td>31</td>\n",
       "      <td>29</td>\n",
       "      <td>29</td>\n",
       "      <td>31</td>\n",
       "    </tr>\n",
       "    <tr>\n",
       "      <th>154</th>\n",
       "      <td>HBASE-13686</td>\n",
       "      <td>587b0b4f20bdc0415b6541023e611b69c87dba15</td>\n",
       "      <td>9f43a3bea6</td>\n",
       "      <td>.../apache/hadoop/hbase/quotas/RateLimiter.java</td>\n",
       "      <td>103</td>\n",
       "      <td>97</td>\n",
       "      <td>97</td>\n",
       "      <td>99</td>\n",
       "    </tr>\n",
       "    <tr>\n",
       "      <th>157</th>\n",
       "      <td>HBASE-13686</td>\n",
       "      <td>587b0b4f20bdc0415b6541023e611b69c87dba15</td>\n",
       "      <td>9f43a3bea6</td>\n",
       "      <td>.../hadoop/hbase/quotas/TestRateLimiter.java</td>\n",
       "      <td>114</td>\n",
       "      <td>108</td>\n",
       "      <td>108</td>\n",
       "      <td>108</td>\n",
       "    </tr>\n",
       "    <tr>\n",
       "      <th>172</th>\n",
       "      <td>HBASE-10569</td>\n",
       "      <td>0e5d21e96ae24e8c658a1b74843b72bddcb7435</td>\n",
       "      <td>7716a3ca94</td>\n",
       "      <td>.../org/apache/hadoop/hbase/master/HMaster.java</td>\n",
       "      <td>1993</td>\n",
       "      <td>1977</td>\n",
       "      <td>1969</td>\n",
       "      <td>1985</td>\n",
       "    </tr>\n",
       "    <tr>\n",
       "      <th>173</th>\n",
       "      <td>HBASE-10569</td>\n",
       "      <td>0e5d21e96ae24e8c658a1b74843b72bddcb7435</td>\n",
       "      <td>7716a3ca94</td>\n",
       "      <td>.../hadoop/hbase/regionserver/HRegionServer.java</td>\n",
       "      <td>2285</td>\n",
       "      <td>2425</td>\n",
       "      <td>2285</td>\n",
       "      <td>2285</td>\n",
       "    </tr>\n",
       "  </tbody>\n",
       "</table>\n",
       "</div>"
      ],
      "text/plain": [
       "         bug_ref                                commitID_1  commitID_2  \\\n",
       "122  HBASE-10569   0e5d21e96ae24e8c658a1b74843b72bddcb7435  7716a3ca94   \n",
       "154  HBASE-13686  587b0b4f20bdc0415b6541023e611b69c87dba15  9f43a3bea6   \n",
       "157  HBASE-13686  587b0b4f20bdc0415b6541023e611b69c87dba15  9f43a3bea6   \n",
       "172  HBASE-10569   0e5d21e96ae24e8c658a1b74843b72bddcb7435  7716a3ca94   \n",
       "173  HBASE-10569   0e5d21e96ae24e8c658a1b74843b72bddcb7435  7716a3ca94   \n",
       "\n",
       "                                             filename  #line_changed-hist  \\\n",
       "122  .../hadoop/hbase/master/ActiveMasterManager.java                  31   \n",
       "154   .../apache/hadoop/hbase/quotas/RateLimiter.java                 103   \n",
       "157      .../hadoop/hbase/quotas/TestRateLimiter.java                 114   \n",
       "172   .../org/apache/hadoop/hbase/master/HMaster.java                1993   \n",
       "173  .../hadoop/hbase/regionserver/HRegionServer.java                2285   \n",
       "\n",
       "     #line_changed-myers  #line_changed-min  #line_changed-pat  \n",
       "122                   29                 29                 31  \n",
       "154                   97                 97                 99  \n",
       "157                  108                108                108  \n",
       "172                 1977               1969               1985  \n",
       "173                 2425               2285               2285  "
      ]
     },
     "execution_count": 46,
     "metadata": {},
     "output_type": "execute_result"
    }
   ],
   "source": [
    "#Show the csv file with different value of number of line changed\n",
    "data = pd.read_csv('diffbugs_file_differentvalue.csv')\n",
    "data = datamerge4[colnames]\n",
    "data"
   ]
  },
  {
   "cell_type": "code",
   "execution_count": 47,
   "metadata": {},
   "outputs": [
    {
     "data": {
      "text/html": [
       "<script>requirejs.config({paths: { 'plotly': ['https://cdn.plot.ly/plotly-latest.min']},});if(!window.Plotly) {{require(['plotly'],function(plotly) {window.Plotly=plotly;});}}</script>"
      ],
      "text/vnd.plotly.v1+html": [
       "<script>requirejs.config({paths: { 'plotly': ['https://cdn.plot.ly/plotly-latest.min']},});if(!window.Plotly) {{require(['plotly'],function(plotly) {window.Plotly=plotly;});}}</script>"
      ]
     },
     "metadata": {},
     "output_type": "display_data"
    },
    {
     "data": {
      "application/vnd.plotly.v1+json": {
       "data": [
        {
         "name": "--diff-algorithm=myers",
         "type": "bar",
         "x": [
          ".../hadoop/hbase/master/ActiveMasterManager.java",
          ".../apache/hadoop/hbase/quotas/RateLimiter.java",
          ".../hadoop/hbase/quotas/TestRateLimiter.java",
          ".../org/apache/hadoop/hbase/master/HMaster.java",
          ".../hadoop/hbase/regionserver/HRegionServer.java"
         ],
         "y": [
          29,
          97,
          108,
          1977,
          2425
         ]
        },
        {
         "name": "--diff-algorithm=histogram",
         "type": "bar",
         "x": [
          ".../hadoop/hbase/master/ActiveMasterManager.java",
          ".../apache/hadoop/hbase/quotas/RateLimiter.java",
          ".../hadoop/hbase/quotas/TestRateLimiter.java",
          ".../org/apache/hadoop/hbase/master/HMaster.java",
          ".../hadoop/hbase/regionserver/HRegionServer.java"
         ],
         "y": [
          31,
          103,
          114,
          1993,
          2285
         ]
        },
        {
         "name": "--diff-algorithm=minimal",
         "type": "bar",
         "x": [
          ".../hadoop/hbase/master/ActiveMasterManager.java",
          ".../apache/hadoop/hbase/quotas/RateLimiter.java",
          ".../hadoop/hbase/quotas/TestRateLimiter.java",
          ".../org/apache/hadoop/hbase/master/HMaster.java",
          ".../hadoop/hbase/regionserver/HRegionServer.java"
         ],
         "y": [
          29,
          97,
          108,
          1969,
          2285
         ]
        },
        {
         "name": "--diff-algorithm=patience",
         "type": "bar",
         "x": [
          ".../hadoop/hbase/master/ActiveMasterManager.java",
          ".../apache/hadoop/hbase/quotas/RateLimiter.java",
          ".../hadoop/hbase/quotas/TestRateLimiter.java",
          ".../org/apache/hadoop/hbase/master/HMaster.java",
          ".../hadoop/hbase/regionserver/HRegionServer.java"
         ],
         "y": [
          31,
          99,
          108,
          1985,
          2285
         ]
        }
       ],
       "layout": {
        "barmode": "group"
       }
      },
      "text/html": [
       "<div id=\"11ed6fb5-c5fc-475c-9a52-68ecc983796d\" style=\"height: 525px; width: 100%;\" class=\"plotly-graph-div\"></div><script type=\"text/javascript\">require([\"plotly\"], function(Plotly) { window.PLOTLYENV=window.PLOTLYENV || {};window.PLOTLYENV.BASE_URL=\"https://plot.ly\";Plotly.newPlot(\"11ed6fb5-c5fc-475c-9a52-68ecc983796d\", [{\"type\": \"bar\", \"x\": [\".../hadoop/hbase/master/ActiveMasterManager.java\", \".../apache/hadoop/hbase/quotas/RateLimiter.java\", \".../hadoop/hbase/quotas/TestRateLimiter.java\", \".../org/apache/hadoop/hbase/master/HMaster.java\", \".../hadoop/hbase/regionserver/HRegionServer.java\"], \"y\": [29, 97, 108, 1977, 2425], \"name\": \"--diff-algorithm=myers\"}, {\"type\": \"bar\", \"x\": [\".../hadoop/hbase/master/ActiveMasterManager.java\", \".../apache/hadoop/hbase/quotas/RateLimiter.java\", \".../hadoop/hbase/quotas/TestRateLimiter.java\", \".../org/apache/hadoop/hbase/master/HMaster.java\", \".../hadoop/hbase/regionserver/HRegionServer.java\"], \"y\": [31, 103, 114, 1993, 2285], \"name\": \"--diff-algorithm=histogram\"}, {\"type\": \"bar\", \"x\": [\".../hadoop/hbase/master/ActiveMasterManager.java\", \".../apache/hadoop/hbase/quotas/RateLimiter.java\", \".../hadoop/hbase/quotas/TestRateLimiter.java\", \".../org/apache/hadoop/hbase/master/HMaster.java\", \".../hadoop/hbase/regionserver/HRegionServer.java\"], \"y\": [29, 97, 108, 1969, 2285], \"name\": \"--diff-algorithm=minimal\"}, {\"type\": \"bar\", \"x\": [\".../hadoop/hbase/master/ActiveMasterManager.java\", \".../apache/hadoop/hbase/quotas/RateLimiter.java\", \".../hadoop/hbase/quotas/TestRateLimiter.java\", \".../org/apache/hadoop/hbase/master/HMaster.java\", \".../hadoop/hbase/regionserver/HRegionServer.java\"], \"y\": [31, 99, 108, 1985, 2285], \"name\": \"--diff-algorithm=patience\"}], {\"barmode\": \"group\"}, {\"showLink\": false, \"linkText\": \"Export to plot.ly\"})});</script>"
      ],
      "text/vnd.plotly.v1+html": [
       "<div id=\"11ed6fb5-c5fc-475c-9a52-68ecc983796d\" style=\"height: 525px; width: 100%;\" class=\"plotly-graph-div\"></div><script type=\"text/javascript\">require([\"plotly\"], function(Plotly) { window.PLOTLYENV=window.PLOTLYENV || {};window.PLOTLYENV.BASE_URL=\"https://plot.ly\";Plotly.newPlot(\"11ed6fb5-c5fc-475c-9a52-68ecc983796d\", [{\"type\": \"bar\", \"x\": [\".../hadoop/hbase/master/ActiveMasterManager.java\", \".../apache/hadoop/hbase/quotas/RateLimiter.java\", \".../hadoop/hbase/quotas/TestRateLimiter.java\", \".../org/apache/hadoop/hbase/master/HMaster.java\", \".../hadoop/hbase/regionserver/HRegionServer.java\"], \"y\": [29, 97, 108, 1977, 2425], \"name\": \"--diff-algorithm=myers\"}, {\"type\": \"bar\", \"x\": [\".../hadoop/hbase/master/ActiveMasterManager.java\", \".../apache/hadoop/hbase/quotas/RateLimiter.java\", \".../hadoop/hbase/quotas/TestRateLimiter.java\", \".../org/apache/hadoop/hbase/master/HMaster.java\", \".../hadoop/hbase/regionserver/HRegionServer.java\"], \"y\": [31, 103, 114, 1993, 2285], \"name\": \"--diff-algorithm=histogram\"}, {\"type\": \"bar\", \"x\": [\".../hadoop/hbase/master/ActiveMasterManager.java\", \".../apache/hadoop/hbase/quotas/RateLimiter.java\", \".../hadoop/hbase/quotas/TestRateLimiter.java\", \".../org/apache/hadoop/hbase/master/HMaster.java\", \".../hadoop/hbase/regionserver/HRegionServer.java\"], \"y\": [29, 97, 108, 1969, 2285], \"name\": \"--diff-algorithm=minimal\"}, {\"type\": \"bar\", \"x\": [\".../hadoop/hbase/master/ActiveMasterManager.java\", \".../apache/hadoop/hbase/quotas/RateLimiter.java\", \".../hadoop/hbase/quotas/TestRateLimiter.java\", \".../org/apache/hadoop/hbase/master/HMaster.java\", \".../hadoop/hbase/regionserver/HRegionServer.java\"], \"y\": [31, 99, 108, 1985, 2285], \"name\": \"--diff-algorithm=patience\"}], {\"barmode\": \"group\"}, {\"showLink\": false, \"linkText\": \"Export to plot.ly\"})});</script>"
      ]
     },
     "metadata": {},
     "output_type": "display_data"
    }
   ],
   "source": [
    "tracehist = go.Bar(\n",
    "    x=data['filename'],\n",
    "    y=data['#line_changed-hist'],\n",
    "    name='--diff-algorithm=histogram')\n",
    "\n",
    "tracemyers = go.Bar(\n",
    "    x=data['filename'],\n",
    "    y=data['#line_changed-myers'],\n",
    "    name='--diff-algorithm=myers')\n",
    "\n",
    "tracemin = go.Bar(\n",
    "    x=data['filename'],\n",
    "    y=data['#line_changed-min'],\n",
    "    name='--diff-algorithm=minimal')\n",
    "\n",
    "tracepat = go.Bar(\n",
    "    x=data['filename'],\n",
    "    y=data['#line_changed-pat'],\n",
    "    name='--diff-algorithm=patience')\n",
    "\n",
    "dt = [tracemyers, tracehist, tracemin, tracepat]\n",
    "layout = go.Layout(\n",
    "    barmode='group'\n",
    ")\n",
    "\n",
    "init_notebook_mode(connected=True)\n",
    "fig = go.Figure(data=dt, layout=layout)\n",
    "iplot(fig, show_link=False)"
   ]
  },
  {
   "cell_type": "code",
   "execution_count": null,
   "metadata": {
    "collapsed": true
   },
   "outputs": [],
   "source": []
  }
 ],
 "metadata": {
  "kernelspec": {
   "display_name": "Python 3",
   "language": "python",
   "name": "python3"
  },
  "language_info": {
   "codemirror_mode": {
    "name": "ipython",
    "version": 3
   },
   "file_extension": ".py",
   "mimetype": "text/x-python",
   "name": "python",
   "nbconvert_exporter": "python",
   "pygments_lexer": "ipython3",
   "version": "3.6.3"
  }
 },
 "nbformat": 4,
 "nbformat_minor": 2
}
