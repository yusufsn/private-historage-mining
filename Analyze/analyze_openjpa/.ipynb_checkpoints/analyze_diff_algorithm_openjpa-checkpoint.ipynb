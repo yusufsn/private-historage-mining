{
 "cells": [
  {
   "cell_type": "code",
   "execution_count": null,
   "metadata": {
    "collapsed": true
   },
   "outputs": [],
   "source": [
    "import os, glob, json, csv, subprocess, sys, re\n",
    "from git import *\n",
    "from subprocess import Popen, PIPE\n",
    "from os import path\n",
    "import pandas as pd\n",
    "import matplotlib.pyplot as plt\n",
    "import numpy as np\n",
    "import plotly.graph_objs as go\n",
    "import plotly.plotly as ply\n",
    "import plotly\n",
    "from plotly.offline import plot, init_notebook_mode, iplot\n",
    "\n",
    "%matplotlib inline"
   ]
  },
  {
   "cell_type": "markdown",
   "metadata": {},
   "source": [
    "# Defining repository"
   ]
  },
  {
   "cell_type": "code",
   "execution_count": null,
   "metadata": {
    "collapsed": true
   },
   "outputs": [],
   "source": [
    "userhome = os.path.expanduser('~')\n",
    "repository = os.path.dirname(userhome + r'/historage-mining/historage/openjpa/')"
   ]
  },
  {
   "cell_type": "markdown",
   "metadata": {},
   "source": [
    "# Define function to apply git command"
   ]
  },
  {
   "cell_type": "code",
   "execution_count": null,
   "metadata": {
    "collapsed": true
   },
   "outputs": [],
   "source": [
    "def execute_command(cmd, work_dir):\n",
    "    \"\"\"Executes a shell command in a subprocess, waiting until it has completed.\n",
    " \n",
    "    :param cmd: Command to execute.\n",
    "    :param work_dir: Working directory path.\n",
    "    \"\"\"\n",
    "    pipe = subprocess.Popen(cmd, shell=True, cwd=work_dir, stdout=subprocess.PIPE, stderr=subprocess.PIPE)\n",
    "    (out, error) = pipe.communicate()\n",
    "    return out, error\n",
    "    pipe.wait()"
   ]
  },
  {
   "cell_type": "code",
   "execution_count": null,
   "metadata": {
    "collapsed": true
   },
   "outputs": [],
   "source": [
    "def execute_shell_command(id1, id2, cmd, work_dir):\n",
    "    \"\"\"Executes a shell command in a subprocess, waiting until it has completed.\n",
    " \n",
    "    :param cmd: Command to execute.\n",
    "    :param work_dir: Working directory path.\n",
    "    \"\"\"\n",
    "    pipe = subprocess.Popen(cmd, shell=True, cwd=work_dir, stdout=subprocess.PIPE, stderr=subprocess.PIPE)\n",
    "    (out, error) = pipe.communicate()\n",
    "    return id1, id2, out, error\n",
    "    pipe.wait()"
   ]
  },
  {
   "cell_type": "markdown",
   "metadata": {},
   "source": [
    "# Listing all files in repository and save it in textfile"
   ]
  },
  {
   "cell_type": "code",
   "execution_count": null,
   "metadata": {
    "collapsed": true
   },
   "outputs": [],
   "source": [
    "listfile = []\n",
    "for filename in glob.iglob(userhome + r'/historage-mining/historage/openjpa/**/*.*', recursive=True):\n",
    "    listfile.append(filename)"
   ]
  },
  {
   "cell_type": "code",
   "execution_count": null,
   "metadata": {},
   "outputs": [],
   "source": [
    "with open (\"file_list.txt\", mode=\"wt\", encoding=\"utf-8\") as mytxt:\n",
    "    mytxt.write('\\n'.join(listfile))\n",
    "print (\"File file_list.txt has been created\")\n",
    "print (\"Number of files found: %i\" % (len(listfile)) + \" files\")"
   ]
  },
  {
   "cell_type": "markdown",
   "metadata": {},
   "source": [
    "# Extracting Commit ID"
   ]
  },
  {
   "cell_type": "code",
   "execution_count": null,
   "metadata": {
    "collapsed": true
   },
   "outputs": [],
   "source": [
    "command = \"git log --pretty='%H'\"\n",
    "com_ID = str(execute_command(command, repository)).replace(\"b'\",'').replace(\"'\",'').replace('\\\\n',' ').replace(\"(\",'').replace(\")\",'').replace(\",\",'').split(' ')"
   ]
  },
  {
   "cell_type": "markdown",
   "metadata": {},
   "source": [
    "# Applying git diff -w --diff-algorithm=histogram --stat commitID_1 commitID2 "
   ]
  },
  {
   "cell_type": "code",
   "execution_count": null,
   "metadata": {},
   "outputs": [],
   "source": [
    "diffhist = []\n",
    "for i in range(0, len(com_ID)-3):\n",
    "    sys.stdout.write('\\rApplying diff between commits = %i' % (i+1) + ' out of %i' % (len(com_ID)-3))\n",
    "    sys.stdout.flush()\n",
    "    diff_cmd = \"git diff -w --diff-algorithm=histogram --stat \" + com_ID[i+1] + \" \" + com_ID[i]\n",
    "    tmp = (str(execute_shell_command(com_ID[i+1], com_ID[i], diff_cmd, repository)).replace(\"(\",'').replace(\"+\",'').\n",
    "           replace(\"-\",'').replace(\"\\\\n\",'').replace(\"b'\",'').replace(\"(+)\",'').replace(\"(-)\",'').replace(\")\",'').\n",
    "           replace(\"|\",'').replace(\" => \",'=>').replace(\"... \",'...').replace(\"...> \",'...>').\n",
    "           replace(\"...=> \",'...=>').replace(\" Code \",\"Code\"))\n",
    "    tmp = re.sub(\"([a-z])\" and \"([ ])\", r\"\\1,\", tmp)\n",
    "    tmp2 = (str(tmp).replace(\"\\'\",'').replace(\", \",'').replace(\",files\",'files').replace(\",changed\",\"changed\").\n",
    "                    replace(\",file\",'files').replace(\",insertions\",'insertions').\n",
    "                    replace(\",insertion\",'insertions').replace(\",deletions,\",'deletions').\n",
    "                    replace(\",deletion,\",'deletions').replace(\" \",''))\n",
    "    diffhist.append(str(tmp2))\n",
    "    \n",
    "diffresult = []\n",
    "for item in diffhist:\n",
    "    if item == ', ':\n",
    "        del item\n",
    "    else:\n",
    "        diffresult.append(item)\n",
    "\n",
    "#diffresult"
   ]
  },
  {
   "cell_type": "code",
   "execution_count": null,
   "metadata": {
    "collapsed": true
   },
   "outputs": [],
   "source": [
    "diffres = []\n",
    "for x in range(0,len(diffresult)-1):\n",
    "    line = diffresult[x]\n",
    "    if \"changed\" not in diffresult[x]:\n",
    "        pass\n",
    "    else:\n",
    "        if \"deletions\" not in diffresult[x]:\n",
    "            diffres.append(line + '0 deletions')\n",
    "        else:\n",
    "            if \"insertions\" not in diffresult[x]:\n",
    "                index = line.find('changed,')\n",
    "                diffres.append(line[:index+8] + '0 insertions' + line[index+7:])\n",
    "            else:\n",
    "                diffres.append(diffresult[x])"
   ]
  },
  {
   "cell_type": "code",
   "execution_count": null,
   "metadata": {
    "collapsed": true,
    "scrolled": false
   },
   "outputs": [],
   "source": [
    "kl = []\n",
    "res = []\n",
    "for x in range(0, len(diffres)-1):\n",
    "    kl = diffres[x].split(',')\n",
    "    #del kl[len(kl)-1]\n",
    "    res.append(kl)\n",
    "#for it in res:\n",
    "#    print(it)"
   ]
  },
  {
   "cell_type": "code",
   "execution_count": null,
   "metadata": {
    "collapsed": true
   },
   "outputs": [],
   "source": [
    "temp1hist = []\n",
    "for b in range(0,len(res)-1):\n",
    "    temp2 = []\n",
    "    for c in range(0,len(res[b])-3):\n",
    "        temp2.append(res[b][c])\n",
    "    temp1hist.append(temp2)\n",
    "#temp1hist"
   ]
  },
  {
   "cell_type": "raw",
   "metadata": {},
   "source": [
    "for dd in range(0, len(temp1hist)-1):\n",
    "    indices = [i for i, x in enumerate(temp1hist[dd]) if x == \"=>\"]\n",
    "    for i in indices: #this will add one index upper and one index lower of elem \"=>\" with elem\n",
    "        temp1hist[dd][i-1] = temp1hist[dd][i-1]+ temp1hist[dd][i] + temp1hist[dd][i+1] \n",
    "    for elem in temp1hist[dd]:\n",
    "        if elem == \"=>\":\n",
    "            del temp1hist[dd][temp1hist[dd].index(\"=>\")+1]\n",
    "            del temp1hist[dd][temp1hist[dd].index(\"=>\")]\n",
    "#temp1hist"
   ]
  },
  {
   "cell_type": "code",
   "execution_count": null,
   "metadata": {
    "collapsed": true
   },
   "outputs": [],
   "source": [
    "with open('diffhistogram.csv', 'w') as csvfile:\n",
    "    header = ['commitID_1', 'commitID_2', 'filename', '#line_changed']\n",
    "    writers = csv.writer(csvfile, delimiter=',')\n",
    "    writers.writerow(header)\n",
    "    for cmp in range(0,len(temp1hist)-1):\n",
    "        x = 2\n",
    "        y = 4\n",
    "        if len(temp1hist[cmp])<=4:\n",
    "            writers.writerow(temp1hist[cmp])\n",
    "        else:\n",
    "            s = (len(temp1hist[cmp])-2)/2\n",
    "            for g in range(1, int(s)):\n",
    "                v = []\n",
    "                for col1 in range(0,2):\n",
    "                    v.append(temp1hist[cmp][col1])\n",
    "                for col2 in range(x,y):\n",
    "                    if re.findall(r'\\d+',temp1hist[cmp][col2]) == True:\n",
    "                        v.append(re.findall(r'\\d+',temp1hist[cmp][col2]))\n",
    "                    else:\n",
    "                        v.append(temp1hist[cmp][col2])\n",
    "                x = x + 2\n",
    "                y = y + 2\n",
    "                writers.writerow(v)"
   ]
  },
  {
   "cell_type": "code",
   "execution_count": null,
   "metadata": {},
   "outputs": [],
   "source": [
    "datahist = pd.read_csv(\"diffhistogram.csv\")\n",
    "sc = datahist[header]\n",
    "sc.head()"
   ]
  },
  {
   "cell_type": "code",
   "execution_count": null,
   "metadata": {},
   "outputs": [],
   "source": [
    "dfhist = pd.read_csv('diffhistogram.csv')\n",
    "dfhist = (pd.to_numeric(dfhist['#line_changed'], errors='coerce')\n",
    "       .groupby(dfhist['filename'])\n",
    "       .sum()\n",
    "       .to_frame()\n",
    "       .add_prefix('SUM ')\n",
    "       .reset_index())\n",
    "\n",
    "col = ['filename','SUM #line_changed']\n",
    "dfhist = dfhist.dropna(subset=['SUM #line_changed'])\n",
    "dfhist = dfhist.sort_values('SUM #line_changed', ascending=False)\n",
    "\n",
    "dfhist[col].to_csv('diffhistogramfilechanged.csv')\n",
    "out = pd.read_csv('diffhistogramfilechanged.csv')\n",
    "saved = out[col]\n",
    "saved.head()"
   ]
  },
  {
   "cell_type": "code",
   "execution_count": null,
   "metadata": {},
   "outputs": [],
   "source": [
    "trace1 = go.Bar(\n",
    "    x=dfhist['filename'][:10],\n",
    "    y=dfhist['SUM #line_changed'][:10],\n",
    "    name='--diff-algorithm=histogram'\n",
    ")\n",
    "\n",
    "trace2 = go.Scatter(\n",
    "    x=dfhist['filename'][:10],\n",
    "    y=dfhist['SUM #line_changed'][:10],\n",
    "    name='--diff-algorithm=histogram')\n",
    "\n",
    "dt = [trace1, trace2]\n",
    "layout = go.Layout(\n",
    "    barmode='group'\n",
    ")\n",
    "\n",
    "init_notebook_mode(connected=True)\n",
    "fig = go.Figure(data=dt, layout=layout)\n",
    "iplot(fig, show_link=False)"
   ]
  },
  {
   "cell_type": "markdown",
   "metadata": {},
   "source": [
    "# Applying git diff -w --diff-algorithm=myers --stat commitID_1 commitID2 "
   ]
  },
  {
   "cell_type": "code",
   "execution_count": null,
   "metadata": {},
   "outputs": [],
   "source": [
    "diffmyers = []\n",
    "for i in range(0, len(com_ID)-3):\n",
    "    sys.stdout.write('\\rApplying diff between commits = %i' % (i+1) + ' out of %i' % (len(com_ID)-3))\n",
    "    sys.stdout.flush()\n",
    "    diff_cmd = \"git diff -w --diff-algorithm=myers --stat \" + com_ID[i+1] + \" \" + com_ID[i]\n",
    "    tmp = (str(execute_shell_command(com_ID[i+1], com_ID[i], diff_cmd, repository)).replace(\"(\",'').replace(\"+\",'').\n",
    "           replace(\"-\",'').replace(\"\\\\n\",'').replace(\"b'\",'').replace(\"(+)\",'').replace(\"(-)\",'').replace(\")\",'').\n",
    "           replace(\"|\",'').replace(\" => \",'=>').replace(\"... \",'...').replace(\"...> \",'...>').\n",
    "           replace(\"...=> \",'...=>').replace(\" Code \",\"Code\"))\n",
    "    tmp = re.sub(\"([a-z])\" and \"([ ])\", r\"\\1,\", tmp)\n",
    "    tmp2 = (str(tmp).replace(\"\\'\",'').replace(\", \",'').replace(\",files\",'files').replace(\",changed\",\"changed\").\n",
    "                    replace(\",file\",'files').replace(\",insertions\",'insertions').\n",
    "                    replace(\",insertion\",'insertions').replace(\",deletions,\",'deletions').\n",
    "                    replace(\",deletion,\",'deletions').replace(\" \",''))\n",
    "    diffmyers.append(str(tmp2))\n",
    "    \n",
    "diffmyersresult = []\n",
    "for item in diffmyers:\n",
    "    if item == ', ':\n",
    "        del item\n",
    "    else:\n",
    "        diffmyersresult.append(item)\n",
    "\n",
    "#diffmyersresult"
   ]
  },
  {
   "cell_type": "code",
   "execution_count": null,
   "metadata": {
    "collapsed": true
   },
   "outputs": [],
   "source": [
    "diffmyersres = []\n",
    "for x in range(0,len(diffmyersresult)-1):\n",
    "    line = diffmyersresult[x]\n",
    "    if \"changed\" not in diffmyersresult[x]:\n",
    "        pass\n",
    "    else:\n",
    "        if \"deletions\" not in diffmyersresult[x]:\n",
    "            diffmyersres.append(line + '0 deletions')\n",
    "        else:\n",
    "            if \"insertions\" not in diffmyersresult[x]:\n",
    "                index = line.find('changed,')\n",
    "                diffmyersres.append(line[:index+8] + '0 insertions' + line[index+7:])\n",
    "            else:\n",
    "                diffmyersres.append(diffmyersresult[x])"
   ]
  },
  {
   "cell_type": "code",
   "execution_count": null,
   "metadata": {
    "collapsed": true
   },
   "outputs": [],
   "source": [
    "klmyers = []\n",
    "resmyers = []\n",
    "for x in range(0, len(diffmyersres)-1):\n",
    "    kl = diffmyersres[x].split(',')\n",
    "    resmyers.append(kl)\n",
    "#for it in resmyers:\n",
    "#    print(it)"
   ]
  },
  {
   "cell_type": "code",
   "execution_count": null,
   "metadata": {
    "collapsed": true
   },
   "outputs": [],
   "source": [
    "temp1myers = []\n",
    "for b in range(0,len(resmyers)-1):\n",
    "    temp2myers = []\n",
    "    for c in range(0,len(resmyers[b])-3):\n",
    "        temp2myers.append(resmyers[b][c])\n",
    "    temp1myers.append(temp2myers)\n",
    "#temp1myers"
   ]
  },
  {
   "cell_type": "code",
   "execution_count": null,
   "metadata": {
    "collapsed": true
   },
   "outputs": [],
   "source": [
    "with open('diffmyers.csv', 'w') as csvfile:\n",
    "    header = ['commitID_1', 'commitID_2', 'filename', '#line_changed']\n",
    "    writers = csv.writer(csvfile, delimiter=',')\n",
    "    writers.writerow(header)\n",
    "    for cmp in range(0,len(temp1myers)-1):\n",
    "        x = 2\n",
    "        y = 4\n",
    "        if len(temp1myers[cmp])<=4:\n",
    "            writers.writerow(temp1myers[cmp])\n",
    "        else:\n",
    "            s = (len(temp1myers[cmp])-2)/2\n",
    "            for g in range(1, int(s)):\n",
    "                v = []\n",
    "                for col1 in range(0,2):\n",
    "                    v.append(temp1myers[cmp][col1])\n",
    "                for col2 in range(x,y):\n",
    "                    if re.findall(r'\\d+',temp1myers[cmp][col2]) == True:\n",
    "                        v.append(re.findall(r'\\d+',temp1myers[cmp][col2]))\n",
    "                    else:\n",
    "                        v.append(temp1myers[cmp][col2])\n",
    "                x = x + 2\n",
    "                y = y + 2\n",
    "                writers.writerow(v)"
   ]
  },
  {
   "cell_type": "code",
   "execution_count": null,
   "metadata": {},
   "outputs": [],
   "source": [
    "datamyers = pd.read_csv(\"diffmyers.csv\")\n",
    "sc = datamyers[header]\n",
    "sc.head()"
   ]
  },
  {
   "cell_type": "code",
   "execution_count": null,
   "metadata": {},
   "outputs": [],
   "source": [
    "dfmyers = pd.read_csv('diffmyers.csv')\n",
    "dfmyers = (pd.to_numeric(dfmyers['#line_changed'], errors='coerce')\n",
    "       .groupby(dfmyers['filename'])\n",
    "       .sum()\n",
    "       .to_frame()\n",
    "       .add_prefix('SUM ')\n",
    "       .reset_index())\n",
    "\n",
    "col = ['filename','SUM #line_changed']\n",
    "dfmyers = dfmyers.dropna(subset=['SUM #line_changed'])\n",
    "dfmyers = dfmyers.sort_values('SUM #line_changed', ascending=False)\n",
    "\n",
    "dfmyers[col].to_csv('diffmyersfilechanged.csv')\n",
    "out = pd.read_csv('diffmyersfilechanged.csv')\n",
    "saved = out[col]\n",
    "saved.head()"
   ]
  },
  {
   "cell_type": "code",
   "execution_count": null,
   "metadata": {},
   "outputs": [],
   "source": [
    "trace3 = go.Bar(\n",
    "    x=dfmyers['filename'][:10],\n",
    "    y=dfmyers['SUM #line_changed'][:10],\n",
    "    name='--diff-algorithm=myers'\n",
    ")\n",
    "\n",
    "trace4 = go.Scatter(\n",
    "    x=dfmyers['filename'][:10],\n",
    "    y=dfmyers['SUM #line_changed'][:10],\n",
    "    name='--diff-algorithm=myers')\n",
    "\n",
    "dt = [trace3, trace4]\n",
    "layout = go.Layout(\n",
    "    barmode='group'\n",
    ")\n",
    "\n",
    "init_notebook_mode(connected=True)\n",
    "fig = go.Figure(data=dt, layout=layout)\n",
    "iplot(fig, show_link=False)"
   ]
  },
  {
   "cell_type": "markdown",
   "metadata": {},
   "source": [
    "# Applying git diff -w --diff-algorithm=patience --stat commitID_1 commitID2"
   ]
  },
  {
   "cell_type": "code",
   "execution_count": null,
   "metadata": {},
   "outputs": [],
   "source": [
    "diffpatience = []\n",
    "for i in range(0, len(com_ID)-3):\n",
    "    sys.stdout.write('\\rApplying diff between commits = %i' % (i+1) + ' out of %i' % (len(com_ID)-3))\n",
    "    sys.stdout.flush()\n",
    "    diff_cmd = \"git diff -w --diff-algorithm=patience --stat \" + com_ID[i+1] + \" \" + com_ID[i]\n",
    "    tmp = (str(execute_shell_command(com_ID[i+1], com_ID[i], diff_cmd, repository)).replace(\"(\",'').replace(\"+\",'').\n",
    "           replace(\"-\",'').replace(\"\\\\n\",'').replace(\"b'\",'').replace(\"(+)\",'').replace(\"(-)\",'').replace(\")\",'').\n",
    "           replace(\"|\",'').replace(\" => \",'=>').replace(\"... \",'...').replace(\"...> \",'...>').\n",
    "           replace(\"...=> \",'...=>').replace(\" Code \",\"Code\"))\n",
    "    tmp = re.sub(\"([a-z])\" and \"([ ])\", r\"\\1,\", tmp)\n",
    "    tmp2 = (str(tmp).replace(\"\\'\",'').replace(\", \",'').replace(\",files\",'files').replace(\",changed\",\"changed\").\n",
    "                    replace(\",file\",'files').replace(\",insertions\",'insertions').\n",
    "                    replace(\",insertion\",'insertions').replace(\",deletions,\",'deletions').\n",
    "                    replace(\",deletion,\",'deletions').replace(\" \",''))\n",
    "    diffpatience.append(str(tmp2))\n",
    "    \n",
    "diffpatienceresult = []\n",
    "for item in diffpatience:\n",
    "    if item == ', ':\n",
    "        del item\n",
    "    else:\n",
    "        diffpatienceresult.append(item)"
   ]
  },
  {
   "cell_type": "code",
   "execution_count": null,
   "metadata": {
    "collapsed": true
   },
   "outputs": [],
   "source": [
    "diffpatiencesres = []\n",
    "for x in range(0,len(diffpatienceresult)-1):\n",
    "    line = diffpatienceresult[x]\n",
    "    if \"changed\" not in diffpatienceresult[x]:\n",
    "        pass\n",
    "    else:\n",
    "        if \"deletions\" not in diffpatienceresult[x]:\n",
    "            diffpatiencesres.append(line + '0 deletions')\n",
    "        else:\n",
    "            if \"insertions\" not in diffpatienceresult[x]:\n",
    "                index = line.find('changed,')\n",
    "                diffpatiencesres.append(line[:index+8] + '0 insertions' + line[index+7:])\n",
    "            else:\n",
    "                diffpatiencesres.append(diffpatienceresult[x])"
   ]
  },
  {
   "cell_type": "code",
   "execution_count": null,
   "metadata": {
    "collapsed": true
   },
   "outputs": [],
   "source": [
    "klpatience = []\n",
    "respatience = []\n",
    "for x in range(0, len(diffpatiencesres)-1):\n",
    "    klpatience = diffpatiencesres[x].split(',')\n",
    "    respatience.append(klpatience)"
   ]
  },
  {
   "cell_type": "code",
   "execution_count": null,
   "metadata": {
    "collapsed": true
   },
   "outputs": [],
   "source": [
    "temp1patience = []\n",
    "for b in range(0,len(respatience)-1):\n",
    "    temp2patience = []\n",
    "    for c in range(0,len(respatience[b])-3):\n",
    "        temp2patience.append(respatience[b][c])\n",
    "    temp1patience.append(temp2patience)"
   ]
  },
  {
   "cell_type": "code",
   "execution_count": null,
   "metadata": {
    "collapsed": true
   },
   "outputs": [],
   "source": [
    "with open('diffpatience.csv', 'w') as csvfile:\n",
    "    header = ['commitID_1', 'commitID_2', 'filename', '#line_changed']\n",
    "    writers = csv.writer(csvfile, delimiter=',')\n",
    "    writers.writerow(header)\n",
    "    for cmp in range(0,len(temp1patience)-1):\n",
    "        x = 2\n",
    "        y = 4\n",
    "        if len(temp1patience[cmp])<=4:\n",
    "            writers.writerow(temp1patience[cmp])\n",
    "        else:\n",
    "            s = (len(temp1patience[cmp])-2)/2\n",
    "            for g in range(1, int(s)):\n",
    "                v = []\n",
    "                for col1 in range(0,2):\n",
    "                    v.append(temp1patience[cmp][col1])\n",
    "                for col2 in range(x,y):\n",
    "                    if re.findall(r'\\d+',temp1patience[cmp][col2]) == True:\n",
    "                        v.append(re.findall(r'\\d+',temp1patience[cmp][col2]))\n",
    "                    else:\n",
    "                        v.append(temp1patience[cmp][col2])\n",
    "                x = x + 2\n",
    "                y = y + 2\n",
    "                writers.writerow(v)"
   ]
  },
  {
   "cell_type": "code",
   "execution_count": null,
   "metadata": {},
   "outputs": [],
   "source": [
    "datapatience = pd.read_csv(\"diffpatience.csv\")\n",
    "sc = datapatience[header]\n",
    "sc.head()"
   ]
  },
  {
   "cell_type": "code",
   "execution_count": null,
   "metadata": {},
   "outputs": [],
   "source": [
    "dfpatience = pd.read_csv('diffpatience.csv')\n",
    "dfpatience = (pd.to_numeric(dfpatience['#line_changed'], errors='coerce')\n",
    "       .groupby(dfpatience['filename'])\n",
    "       .sum()\n",
    "       .to_frame()\n",
    "       .add_prefix('SUM ')\n",
    "       .reset_index())\n",
    "\n",
    "col = ['filename','SUM #line_changed']\n",
    "dfpatience = dfpatience.dropna(subset=['SUM #line_changed'])\n",
    "dfpatience = dfpatience.sort_values('SUM #line_changed', ascending=False)\n",
    "\n",
    "dfpatience[col].to_csv('diffpatiencefilechanged.csv')\n",
    "out = pd.read_csv('diffpatiencefilechanged.csv')\n",
    "saved = out[col]\n",
    "saved.head()"
   ]
  },
  {
   "cell_type": "code",
   "execution_count": null,
   "metadata": {},
   "outputs": [],
   "source": [
    "trace5 = go.Bar(\n",
    "    x=dfpatience['filename'][:10],\n",
    "    y=dfpatience['SUM #line_changed'][:10],\n",
    "    name='--diff-algorithm=patience'\n",
    ")\n",
    "\n",
    "trace6 = go.Scatter(\n",
    "    x=dfpatience['filename'][:10],\n",
    "    y=dfpatience['SUM #line_changed'][:10],\n",
    "    name='--diff-algorithm=patience')\n",
    "\n",
    "dt = [trace5, trace6]\n",
    "layout = go.Layout(\n",
    "    barmode='group'\n",
    ")\n",
    "\n",
    "init_notebook_mode(connected=True)\n",
    "fig = go.Figure(data=dt, layout=layout)\n",
    "iplot(fig, show_link=False)"
   ]
  },
  {
   "cell_type": "markdown",
   "metadata": {},
   "source": [
    "# Applying git diff -w --diff-algorithm=minimal --stat commitID_1 commitID2"
   ]
  },
  {
   "cell_type": "code",
   "execution_count": null,
   "metadata": {},
   "outputs": [],
   "source": [
    "diffminimal = []\n",
    "for i in range(0, len(com_ID)-3):\n",
    "    sys.stdout.write('\\rApplying diff between commits = %i' % (i+1) + ' out of %i' % (len(com_ID)-3))\n",
    "    sys.stdout.flush()\n",
    "    diff_cmd = \"git diff -w --diff-algorithm=minimal --stat \" + com_ID[i+1] + \" \" + com_ID[i]\n",
    "    tmp = (str(execute_shell_command(com_ID[i+1], com_ID[i], diff_cmd, repository)).replace(\"(\",'').replace(\"+\",'').\n",
    "           replace(\"-\",'').replace(\"\\\\n\",'').replace(\"b'\",'').replace(\"(+)\",'').replace(\"(-)\",'').replace(\")\",'').\n",
    "           replace(\"|\",'').replace(\" => \",'=>').replace(\"... \",'...').replace(\"...> \",'...>').\n",
    "           replace(\"...=> \",'...=>').replace(\" Code \",\"Code\"))\n",
    "    tmp = re.sub(\"([a-z])\" and \"([ ])\", r\"\\1,\", tmp)\n",
    "    tmp2 = (str(tmp).replace(\"\\'\",'').replace(\", \",'').replace(\",files\",'files').replace(\",changed\",\"changed\").\n",
    "                    replace(\",file\",'files').replace(\",insertions\",'insertions').\n",
    "                    replace(\",insertion\",'insertions').replace(\",deletions,\",'deletions').\n",
    "                    replace(\",deletion,\",'deletions').replace(\" \",''))\n",
    "    diffminimal.append(str(tmp2))\n",
    "    \n",
    "diffminresult = []\n",
    "for item in diffminimal:\n",
    "    if item == ', ':\n",
    "        del item\n",
    "    else:\n",
    "        diffminresult.append(item)"
   ]
  },
  {
   "cell_type": "code",
   "execution_count": null,
   "metadata": {
    "collapsed": true
   },
   "outputs": [],
   "source": [
    "diffminsres = []\n",
    "for x in range(0,len(diffminresult)-1):\n",
    "    line = diffminresult[x]\n",
    "    if \"changed\" not in diffminresult[x]:\n",
    "        pass\n",
    "    else:\n",
    "        if \"deletions\" not in diffminresult[x]:\n",
    "            diffminsres.append(line + '0 deletions')\n",
    "        else:\n",
    "            if \"insertions\" not in diffminresult[x]:\n",
    "                index = line.find('changed,')\n",
    "                diffminsres.append(line[:index+8] + '0 insertions' + line[index+7:])\n",
    "            else:\n",
    "                diffminsres.append(diffminresult[x])"
   ]
  },
  {
   "cell_type": "code",
   "execution_count": null,
   "metadata": {
    "collapsed": true
   },
   "outputs": [],
   "source": [
    "klminimal = []\n",
    "resminimal = []\n",
    "for x in range(0, len(diffminsres)-1):\n",
    "    klminimal = diffminsres[x].split(',')\n",
    "    resminimal.append(klminimal)"
   ]
  },
  {
   "cell_type": "code",
   "execution_count": null,
   "metadata": {
    "collapsed": true
   },
   "outputs": [],
   "source": [
    "temp1min = []\n",
    "for b in range(0,len(resminimal)-1):\n",
    "    temp2min = []\n",
    "    for c in range(0,len(resminimal[b])-3):\n",
    "        temp2min.append(resminimal[b][c])\n",
    "    temp1min.append(temp2min)"
   ]
  },
  {
   "cell_type": "code",
   "execution_count": null,
   "metadata": {
    "collapsed": true
   },
   "outputs": [],
   "source": [
    "with open('diffminimal.csv', 'w') as csvfile:\n",
    "    header = ['commitID_1', 'commitID_2', 'filename', '#line_changed']\n",
    "    writers = csv.writer(csvfile, delimiter=',')\n",
    "    writers.writerow(header)\n",
    "    for cmp in range(0,len(temp1min)-1):\n",
    "        x = 2\n",
    "        y = 4\n",
    "        if len(temp1min[cmp])<=4:\n",
    "            writers.writerow(temp1min[cmp])\n",
    "        else:\n",
    "            s = (len(temp1min[cmp])-2)/2\n",
    "            for g in range(1, int(s)):\n",
    "                v = []\n",
    "                for col1 in range(0,2):\n",
    "                    v.append(temp1min[cmp][col1])\n",
    "                for col2 in range(x,y):\n",
    "                    if re.findall(r'\\d+',temp1min[cmp][col2]) == True:\n",
    "                        v.append(re.findall(r'\\d+',temp1min[cmp][col2]))\n",
    "                    else:\n",
    "                        v.append(temp1min[cmp][col2])\n",
    "                x = x + 2\n",
    "                y = y + 2\n",
    "                writers.writerow(v)"
   ]
  },
  {
   "cell_type": "code",
   "execution_count": null,
   "metadata": {},
   "outputs": [],
   "source": [
    "dataminimal = pd.read_csv(\"diffminimal.csv\")\n",
    "sc = dataminimal[header]\n",
    "sc.head()"
   ]
  },
  {
   "cell_type": "code",
   "execution_count": null,
   "metadata": {},
   "outputs": [],
   "source": [
    "dfminimal = pd.read_csv('diffminimal.csv')\n",
    "dfminimal = (pd.to_numeric(dfminimal['#line_changed'], errors='coerce')\n",
    "       .groupby(dfminimal['filename'])\n",
    "       .sum()\n",
    "       .to_frame()\n",
    "       .add_prefix('SUM ')\n",
    "       .reset_index())\n",
    "\n",
    "col = ['filename','SUM #line_changed']\n",
    "dfminimal = dfminimal.dropna(subset=['SUM #line_changed'])\n",
    "dfminimal = dfminimal.sort_values('SUM #line_changed', ascending=False)\n",
    "\n",
    "dfminimal[col].to_csv('diffminimalfilechanged.csv')\n",
    "out = pd.read_csv('diffminimalfilechanged.csv')\n",
    "saved = out[col]\n",
    "saved.head()"
   ]
  },
  {
   "cell_type": "code",
   "execution_count": null,
   "metadata": {},
   "outputs": [],
   "source": [
    "trace7 = go.Bar(\n",
    "    x=dfminimal['filename'][:10],\n",
    "    y=dfminimal['SUM #line_changed'][:10],\n",
    "    name='--diff-algorithm=minimal'\n",
    ")\n",
    "\n",
    "trace8 = go.Scatter(\n",
    "    x=dfminimal['filename'][:10],\n",
    "    y=dfminimal['SUM #line_changed'][:10],\n",
    "    name='--diff-algorithm=minimal')\n",
    "\n",
    "dt = [trace7, trace8]\n",
    "layout = go.Layout(\n",
    "    barmode='group'\n",
    ")\n",
    "\n",
    "init_notebook_mode(connected=True)\n",
    "fig = go.Figure(data=dt, layout=layout)\n",
    "iplot(fig, show_link=False)"
   ]
  },
  {
   "cell_type": "code",
   "execution_count": null,
   "metadata": {},
   "outputs": [],
   "source": [
    "dtcombine = [trace3, trace1, trace5, trace7]\n",
    "layout = go.Layout(\n",
    "    barmode='group'\n",
    ")\n",
    "\n",
    "init_notebook_mode(connected=True)\n",
    "fig = go.Figure(data=dtcombine, layout=layout)\n",
    "iplot(fig, show_link=False)"
   ]
  },
  {
   "cell_type": "code",
   "execution_count": null,
   "metadata": {
    "collapsed": true
   },
   "outputs": [],
   "source": []
  }
 ],
 "metadata": {
  "kernelspec": {
   "display_name": "Python 3",
   "language": "python",
   "name": "python3"
  },
  "language_info": {
   "codemirror_mode": {
    "name": "ipython",
    "version": 3
   },
   "file_extension": ".py",
   "mimetype": "text/x-python",
   "name": "python",
   "nbconvert_exporter": "python",
   "pygments_lexer": "ipython3",
   "version": "3.6.3"
  }
 },
 "nbformat": 4,
 "nbformat_minor": 2
}
