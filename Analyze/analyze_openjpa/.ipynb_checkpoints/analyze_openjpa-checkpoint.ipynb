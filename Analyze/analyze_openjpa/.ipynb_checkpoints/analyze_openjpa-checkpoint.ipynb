{
 "cells": [
  {
   "cell_type": "code",
   "execution_count": 1,
   "metadata": {
    "collapsed": true
   },
   "outputs": [],
   "source": [
    "import os, glob, json, csv, subprocess, sys, re\n",
    "from git import *\n",
    "from subprocess import Popen, PIPE\n",
    "from os import path\n",
    "import pandas as pd\n",
    "import matplotlib.pyplot as plt\n",
    "import numpy as np\n",
    "import plotly.graph_objs as go\n",
    "import plotly.plotly as ply\n",
    "import plotly\n",
    "from plotly.offline import plot, init_notebook_mode, iplot\n",
    "\n",
    "%matplotlib inline"
   ]
  },
  {
   "cell_type": "code",
   "execution_count": 22,
   "metadata": {
    "collapsed": true
   },
   "outputs": [],
   "source": [
    "userhome = os.path.expanduser('~')\n",
    "repository = userhome + r'/historage-mining/historage/openjpa/'"
   ]
  },
  {
   "cell_type": "markdown",
   "metadata": {},
   "source": [
    "# Create directory list"
   ]
  },
  {
   "cell_type": "code",
   "execution_count": 112,
   "metadata": {},
   "outputs": [
    {
     "name": "stdout",
     "output_type": "stream",
     "text": [
      "File dir_list.txt has been created\n"
     ]
    }
   ],
   "source": [
    "with open (\"dir_list.txt\", mode=\"wt\", encoding=\"utf-8\") as myfile:\n",
    "    writers = csv.writer(myfile)\n",
    "    for dirname, dirpath, filename in os.walk(repository):\n",
    "        writers.writerow([dirname])\n",
    "\n",
    "print (\"File dir_list.txt has been created\")"
   ]
  },
  {
   "cell_type": "markdown",
   "metadata": {},
   "source": [
    "# Load directory list from file "
   ]
  },
  {
   "cell_type": "code",
   "execution_count": 118,
   "metadata": {},
   "outputs": [
    {
     "name": "stdout",
     "output_type": "stream",
     "text": [
      "Found 1068 dirs\n"
     ]
    }
   ],
   "source": [
    "dirs = pd.read_csv('dir_list.txt')\n",
    "print (\"Found \" + str(len(dirs)) + \" dirs\")"
   ]
  },
  {
   "cell_type": "markdown",
   "metadata": {},
   "source": [
    "# Defining function to extract commit log"
   ]
  },
  {
   "cell_type": "code",
   "execution_count": 12,
   "metadata": {
    "collapsed": true
   },
   "outputs": [],
   "source": [
    "def execute_shell_command(cmd, work_dir):\n",
    "    \"\"\"Executes a shell command in a subprocess, waiting until it has completed.\n",
    " \n",
    "    :param cmd: Command to execute.\n",
    "    :param work_dir: Working directory path.\n",
    "    \"\"\"\n",
    "    pipe = subprocess.Popen(cmd, shell=True, cwd=work_dir, stdout=subprocess.PIPE, stderr=subprocess.PIPE)\n",
    "    (out, error) = pipe.communicate()\n",
    "    return out, error\n",
    "    pipe.wait()"
   ]
  },
  {
   "cell_type": "markdown",
   "metadata": {},
   "source": [
    "Defining Repository"
   ]
  },
  {
   "cell_type": "code",
   "execution_count": 13,
   "metadata": {
    "collapsed": true
   },
   "outputs": [],
   "source": [
    "repository  = os.path.dirname(userhome + r'/historage-mining/historage/openjpa/') "
   ]
  },
  {
   "cell_type": "markdown",
   "metadata": {},
   "source": [
    "List of git command"
   ]
  },
  {
   "cell_type": "code",
   "execution_count": 14,
   "metadata": {
    "collapsed": true
   },
   "outputs": [],
   "source": [
    "cmd = ['git log -w --unified=5 | wc -l', 'git log --unified=5 | wc -l', \n",
    "       'git log -U0 -w | wc -l', 'git log -U0 | wc -l', \n",
    "       'git log -w --patch | wc -l', 'git log --patch | wc -l']"
   ]
  },
  {
   "cell_type": "code",
   "execution_count": 15,
   "metadata": {},
   "outputs": [
    {
     "name": "stdout",
     "output_type": "stream",
     "text": [
      "Applying git command = 6\n",
      "\n",
      "git log -w --unified=5 | wc -l \t\t =  2257496\n",
      "git log --unified=5 | wc -l \t\t =  3083854\n",
      "git log -U0 -w | wc -l \t\t =  1693502\n",
      "git log -U0 | wc -l \t\t =  2519493\n",
      "git log -w --patch | wc -l \t\t =  2075153\n",
      "git log --patch | wc -l \t\t =  2901391\n"
     ]
    }
   ],
   "source": [
    "result = []\n",
    "for i in range(0,len(cmd)):\n",
    "    sys.stdout.write(\"\\rApplying git command = %i\" % (i+1))\n",
    "    sys.stdout.flush()\n",
    "    result.append(int(str(execute_shell_command(cmd[i], repository)).replace(\"b\",'').replace(\"'\",'').\n",
    "                      replace(' ','').replace(\"\\\\n,\",'').replace(\"(\",'').replace(\")\",'')))\n",
    "\n",
    "print (\"\\n\")\n",
    "x = len(result)\n",
    "y = x\n",
    "for item in result:\n",
    "    print (cmd[x-y] , \"\\t\\t = \" , item)\n",
    "    y = y-1"
   ]
  },
  {
   "cell_type": "code",
   "execution_count": null,
   "metadata": {},
   "outputs": [],
   "source": [
    "trace = go.Bar(\n",
    "    x=cmd,\n",
    "    y=result,\n",
    "    name='number of line'\n",
    ")\n",
    "\n",
    "data = [trace]\n",
    "layout = go.Layout(\n",
    "    barmode='group'\n",
    ")\n",
    "\n",
    "init_notebook_mode(connected=True)\n",
    "fig = go.Figure(data=data, layout=layout)\n",
    "iplot(fig, show_link=False)"
   ]
  },
  {
   "cell_type": "markdown",
   "metadata": {},
   "source": [
    "# Extracting Commit ID"
   ]
  },
  {
   "cell_type": "code",
   "execution_count": null,
   "metadata": {
    "collapsed": true
   },
   "outputs": [],
   "source": [
    "command = \"git log --pretty='%H'\""
   ]
  },
  {
   "cell_type": "code",
   "execution_count": null,
   "metadata": {
    "collapsed": true
   },
   "outputs": [],
   "source": [
    "com_ID = str(execute_shell_command(command, repository)).replace(\"b'\",'').replace(\"'\",'').replace('\\\\n',' ').replace(\"(\",'').replace(\")\",'').replace(\",\",'').split(' ')"
   ]
  },
  {
   "cell_type": "markdown",
   "metadata": {},
   "source": [
    "# Applying git diff commitID_1 commitID2 --shortstat"
   ]
  },
  {
   "cell_type": "code",
   "execution_count": null,
   "metadata": {},
   "outputs": [],
   "source": [
    "diff = []\n",
    "for i in range(0, len(com_ID)-3):\n",
    "    sys.stdout.write('\\rExtracting diff = %i' % (i+1) + ' out of %i' % (len(com_ID)-3))\n",
    "    sys.stdout.flush()\n",
    "    diff_cmd = \"git diff \" + com_ID[i+1] + \" \" + com_ID[i] + \" --shortstat\"\n",
    "    diff.append(str(execute_shell_command(diff_cmd, repository)).replace(\"b'\",'').replace(\"'\",'').replace(\"\\\\n\",' ').replace(\"( \",'').replace(\" )\",''))\n",
    "\n",
    "print (\"\\n\")\n",
    "for item in diff:   \n",
    "    print (item)"
   ]
  },
  {
   "cell_type": "code",
   "execution_count": null,
   "metadata": {
    "collapsed": true
   },
   "outputs": [],
   "source": [
    "for x in range(0,len(diff)):\n",
    "    line = diff[x]\n",
    "    if \"deletion\" not in diff[x]:\n",
    "        index = line.find('(+)')\n",
    "        diff[x] = line[:index] + ', 0 deletions(-) ,'\n",
    "    if \"insertion\" not in diff[x]:\n",
    "        index = diff[x].find(',')\n",
    "        diff[x] = line[:index] + ', 0 insertions(+)' + line[index:]\n",
    "    else:\n",
    "        diff[x] = diff[x]"
   ]
  },
  {
   "cell_type": "code",
   "execution_count": null,
   "metadata": {
    "collapsed": true
   },
   "outputs": [],
   "source": [
    "diff_metrics = []\n",
    "for j in range(0,len(diff)):\n",
    "    diff_metrics.append(re.findall(r'\\d+', diff[j]))\n",
    "\n",
    "for k in range(0, len(diff_metrics)):\n",
    "    diff_metrics[k] = list(map(int, diff_metrics[k]))"
   ]
  },
  {
   "cell_type": "code",
   "execution_count": null,
   "metadata": {
    "collapsed": true
   },
   "outputs": [],
   "source": [
    "with open('metrics1.csv', 'w') as csvfile:\n",
    "    header = ['files changed', 'insertions(+)', 'deletions(-)']\n",
    "    writer = csv.writer(csvfile, delimiter=',')\n",
    "    writer.writerow(header)\n",
    "    for row in diff_metrics:\n",
    "        writer.writerow(row)"
   ]
  },
  {
   "cell_type": "code",
   "execution_count": null,
   "metadata": {},
   "outputs": [],
   "source": [
    "data1 = pd.read_csv('metrics1.csv')\n",
    "file_sum1 = data1['files changed'].sum()\n",
    "ins_sum1 = data1['insertions(+)'].sum()\n",
    "del_sum1 = data1['deletions(-)'].sum()\n",
    "print (\"Sum of files changed = %i\" % file_sum1)\n",
    "print (\"Sum of insertions(+) = %i\" % ins_sum1)\n",
    "print (\"Sum of deletions(-)  = %i\" % del_sum1)\n",
    "saved_column1 = data1[header]\n",
    "saved_column1.head()"
   ]
  },
  {
   "cell_type": "code",
   "execution_count": null,
   "metadata": {},
   "outputs": [],
   "source": [
    "mygraph = data1.sum().plot(figsize=(15,5), kind='bar', title = 'Number of changed line of code')\n",
    "mygraph.set_xlabel(\"Type of change\")\n",
    "mygraph.set_ylabel(\"Quantity\")"
   ]
  },
  {
   "cell_type": "markdown",
   "metadata": {},
   "source": [
    "# Applying git diff -w commitID_1 commitID2 --shortstat"
   ]
  },
  {
   "cell_type": "code",
   "execution_count": null,
   "metadata": {},
   "outputs": [],
   "source": [
    "diff = []\n",
    "for i in range(0, len(com_ID)-3):\n",
    "    sys.stdout.write('\\rExtracting diff = %i' % (i+1) + ' out of %i' % (len(com_ID)-3))\n",
    "    sys.stdout.flush()\n",
    "    diff_cmd = \"git diff -w \" + com_ID[i+1] + \" \" + com_ID[i] + \" --shortstat\"\n",
    "    diff.append(str(execute_shell_command(diff_cmd, repository)).replace(\"b'\",'').replace(\"'\",'').replace(\"\\\\n\",' ').replace(\"( \",'').replace(\" )\",''))\n",
    "\n",
    "print (\"\\n\")\n",
    "for item in diff:   \n",
    "    print (item)"
   ]
  },
  {
   "cell_type": "code",
   "execution_count": null,
   "metadata": {
    "collapsed": true
   },
   "outputs": [],
   "source": [
    "for x in range(0,len(diff)):\n",
    "    line = diff[x]\n",
    "    if \"deletion\" not in diff[x]:\n",
    "        index = line.find('(+)')\n",
    "        diff[x] = line[:index] + ', 0 deletions(-) ,'\n",
    "    if \"insertion\" not in diff[x]:\n",
    "        index = diff[x].find(',')\n",
    "        diff[x] = line[:index] + ', 0 insertions(+)' + line[index:]\n",
    "    else:\n",
    "        diff[x] = diff[x]"
   ]
  },
  {
   "cell_type": "code",
   "execution_count": null,
   "metadata": {
    "collapsed": true
   },
   "outputs": [],
   "source": [
    "diff_metrics = []\n",
    "for j in range(0,len(diff)):\n",
    "    diff_metrics.append(re.findall(r'\\d+', diff[j]))\n",
    "\n",
    "for k in range(0, len(diff_metrics)):\n",
    "    diff_metrics[k] = list(map(int, diff_metrics[k]))"
   ]
  },
  {
   "cell_type": "code",
   "execution_count": null,
   "metadata": {
    "collapsed": true
   },
   "outputs": [],
   "source": [
    "with open('metrics2.csv', 'w') as csvfile:\n",
    "    header = ['files changed', 'insertions(+)', 'deletions(-)']\n",
    "    writer = csv.writer(csvfile, delimiter=',')\n",
    "    writer.writerow(header)\n",
    "    for row in diff_metrics:\n",
    "        writer.writerow(row)"
   ]
  },
  {
   "cell_type": "code",
   "execution_count": null,
   "metadata": {},
   "outputs": [],
   "source": [
    "data2 = pd.read_csv('metrics2.csv')\n",
    "file_sum2 = data2['files changed'].sum()\n",
    "ins_sum2 = data2['insertions(+)'].sum()\n",
    "del_sum2 = data2['deletions(-)'].sum()\n",
    "print (\"Sum of files changed = %i\" % file_sum2)\n",
    "print (\"Sum of insertions(+) = %i\" % ins_sum2)\n",
    "print (\"Sum of deletions(-)  = %i\" % del_sum2)\n",
    "saved_column2 = data2[header]\n",
    "saved_column2.head()"
   ]
  },
  {
   "cell_type": "code",
   "execution_count": null,
   "metadata": {},
   "outputs": [],
   "source": [
    "mygraph = data2.sum().plot(figsize=(15,5), kind='bar', title = 'Number of changed line of code')\n",
    "mygraph.set_xlabel(\"Type of change\")\n",
    "mygraph.set_ylabel(\"Quantity\")"
   ]
  },
  {
   "cell_type": "code",
   "execution_count": null,
   "metadata": {},
   "outputs": [],
   "source": [
    "data = [data1, data2]\n",
    "table_sum = []\n",
    "for i in range(0, len(data)):\n",
    "    summ = 'command %i' % (i+1), data[i]['files changed'].sum(), data[i]['insertions(+)'].sum(), data[i]['deletions(-)'].sum()\n",
    "    table_sum.append(summ)\n",
    "\n",
    "for item in table_sum:\n",
    "    print (item)"
   ]
  },
  {
   "cell_type": "code",
   "execution_count": null,
   "metadata": {
    "collapsed": true
   },
   "outputs": [],
   "source": [
    "df = pd.DataFrame(table_sum, columns = ['command', 'files changed', 'insertions', 'deletions'])\n",
    "df.to_csv('metrics_sum.csv')"
   ]
  },
  {
   "cell_type": "code",
   "execution_count": null,
   "metadata": {},
   "outputs": [],
   "source": [
    "trace1 = go.Bar(\n",
    "    x=['files changed', 'insertions', 'deletions'],\n",
    "    y=[file_sum1, ins_sum1, del_sum1],\n",
    "    name='git diff commit1 commit2 --shortstat'\n",
    ")\n",
    "trace2 = go.Bar(\n",
    "    x=['files changed', 'insertions', 'deletions'],\n",
    "    y=[file_sum2, ins_sum2, del_sum2],\n",
    "    name='git diff -w commit1 commit2 --shortstat'\n",
    ")\n",
    "\n",
    "data = [trace1, trace2]\n",
    "layout = go.Layout(\n",
    "    barmode='group'\n",
    ")\n",
    "\n",
    "init_notebook_mode(connected=True)\n",
    "fig = go.Figure(data=data, layout=layout)\n",
    "iplot(fig, show_link=False)"
   ]
  },
  {
   "cell_type": "markdown",
   "metadata": {},
   "source": [
    "# git diff -w --diff-algorithm=myers commit1 commit2 --shortstat"
   ]
  },
  {
   "cell_type": "code",
   "execution_count": null,
   "metadata": {},
   "outputs": [],
   "source": [
    "diff = []\n",
    "for i in range(0, len(com_ID)-3):\n",
    "    sys.stdout.write('\\rExtracting diff = %i' % (i+1) + ' out of %i' % (len(com_ID)-3))\n",
    "    sys.stdout.flush()\n",
    "    diff_cmd = \"git diff -w --diff-algorithm=myers \" + com_ID[i+1] + \" \" + com_ID[i] + \" --shortstat\"\n",
    "    diff.append(str(execute_shell_command(diff_cmd, repository)).replace(\"b'\",'').replace(\"'\",'').replace(\"\\\\n\",' ').replace(\"( \",'').replace(\" )\",''))\n",
    "\n",
    "print (\"\\n\")\n",
    "for item in diff:   \n",
    "    print (item)"
   ]
  },
  {
   "cell_type": "code",
   "execution_count": null,
   "metadata": {
    "collapsed": true
   },
   "outputs": [],
   "source": [
    "for x in range(0,len(diff)):\n",
    "    line = diff[x]\n",
    "    if \"deletion\" not in diff[x]:\n",
    "        index = line.find('(+)')\n",
    "        diff[x] = line[:index] + ', 0 deletions(-) ,'\n",
    "    if \"insertion\" not in diff[x]:\n",
    "        index = diff[x].find(',')\n",
    "        diff[x] = line[:index] + ', 0 insertions(+)' + line[index:]\n",
    "    else:\n",
    "        diff[x] = diff[x]"
   ]
  },
  {
   "cell_type": "code",
   "execution_count": null,
   "metadata": {
    "collapsed": true
   },
   "outputs": [],
   "source": [
    "diff_metrics = []\n",
    "for j in range(0,len(diff)):\n",
    "    diff_metrics.append(re.findall(r'\\d+', diff[j]))\n",
    "\n",
    "for k in range(0, len(diff_metrics)):\n",
    "    diff_metrics[k] = list(map(int, diff_metrics[k]))"
   ]
  },
  {
   "cell_type": "code",
   "execution_count": null,
   "metadata": {
    "collapsed": true
   },
   "outputs": [],
   "source": [
    "with open('metrics3.csv', 'w') as csvfile:\n",
    "    header = ['files changed', 'insertions(+)', 'deletions(-)']\n",
    "    writer = csv.writer(csvfile, delimiter=',')\n",
    "    writer.writerow(header)\n",
    "    for row in diff_metrics:\n",
    "        writer.writerow(row)"
   ]
  },
  {
   "cell_type": "code",
   "execution_count": null,
   "metadata": {},
   "outputs": [],
   "source": [
    "data3 = pd.read_csv('metrics3.csv')\n",
    "file_sum3 = data3['files changed'].sum()\n",
    "ins_sum3 = data3['insertions(+)'].sum()\n",
    "del_sum3 = data3['deletions(-)'].sum()\n",
    "print (\"Sum of files changed = %i\" % file_sum3)\n",
    "print (\"Sum of insertions(+) = %i\" % ins_sum3)\n",
    "print (\"Sum of deletions(-)  = %i\" % del_sum3)\n",
    "saved_column3 = data3[header]\n",
    "saved_column3.head()"
   ]
  },
  {
   "cell_type": "markdown",
   "metadata": {},
   "source": [
    "# git diff -w --diff-algorithm=histogram commit1 commit2 --shortstat¶"
   ]
  },
  {
   "cell_type": "code",
   "execution_count": null,
   "metadata": {},
   "outputs": [],
   "source": [
    "diff = []\n",
    "for i in range(0, len(com_ID)-3):\n",
    "    sys.stdout.write('\\rExtracting diff = %i' % (i+1) + ' out of %i' % (len(com_ID)-3))\n",
    "    sys.stdout.flush()\n",
    "    diff_cmd = \"git diff -w --diff-algorithm=histogram \" + com_ID[i+1] + \" \" + com_ID[i] + \" --shortstat\"\n",
    "    diff.append(str(execute_shell_command(diff_cmd, repository)).replace(\"b'\",'').replace(\"'\",'').replace(\"\\\\n\",' ').replace(\"( \",'').replace(\" )\",''))\n",
    "\n",
    "print (\"\\n\")\n",
    "for item in diff:   \n",
    "    print (item)"
   ]
  },
  {
   "cell_type": "code",
   "execution_count": null,
   "metadata": {
    "collapsed": true
   },
   "outputs": [],
   "source": [
    "for x in range(0,len(diff)):\n",
    "    line = diff[x]\n",
    "    if \"deletion\" not in diff[x]:\n",
    "        index = line.find('(+)')\n",
    "        diff[x] = line[:index] + ', 0 deletions(-) ,'\n",
    "    if \"insertion\" not in diff[x]:\n",
    "        index = diff[x].find(',')\n",
    "        diff[x] = line[:index] + ', 0 insertions(+)' + line[index:]\n",
    "    else:\n",
    "        diff[x] = diff[x]"
   ]
  },
  {
   "cell_type": "code",
   "execution_count": null,
   "metadata": {
    "collapsed": true
   },
   "outputs": [],
   "source": [
    "diff_metrics = []\n",
    "for j in range(0,len(diff)):\n",
    "    diff_metrics.append(re.findall(r'\\d+', diff[j]))\n",
    "\n",
    "for k in range(0, len(diff_metrics)):\n",
    "    diff_metrics[k] = list(map(int, diff_metrics[k]))"
   ]
  },
  {
   "cell_type": "code",
   "execution_count": null,
   "metadata": {
    "collapsed": true
   },
   "outputs": [],
   "source": [
    "with open('metrics4.csv', 'w') as csvfile:\n",
    "    header = ['files changed', 'insertions(+)', 'deletions(-)']\n",
    "    writer = csv.writer(csvfile, delimiter=',')\n",
    "    writer.writerow(header)\n",
    "    for row in diff_metrics:\n",
    "        writer.writerow(row)"
   ]
  },
  {
   "cell_type": "code",
   "execution_count": null,
   "metadata": {},
   "outputs": [],
   "source": [
    "data4 = pd.read_csv('metrics4.csv')\n",
    "file_sum4 = data4['files changed'].sum()\n",
    "ins_sum4 = data4['insertions(+)'].sum()\n",
    "del_sum4 = data4['deletions(-)'].sum()\n",
    "print (\"Sum of files changed = %i\" % file_sum4)\n",
    "print (\"Sum of insertions(+) = %i\" % ins_sum4)\n",
    "print (\"Sum of deletions(-)  = %i\" % del_sum4)\n",
    "saved_column4 = data4[header]\n",
    "saved_column4.head()"
   ]
  },
  {
   "cell_type": "code",
   "execution_count": null,
   "metadata": {},
   "outputs": [],
   "source": [
    "trace1 = go.Bar(\n",
    "    x=['files changed', 'insertions', 'deletions'],\n",
    "    y=[file_sum1, ins_sum1, del_sum1],\n",
    "    name='git diff'\n",
    ")\n",
    "trace2 = go.Bar(\n",
    "    x=['files changed', 'insertions', 'deletions'],\n",
    "    y=[file_sum2, ins_sum2, del_sum2],\n",
    "    name='git diff -w'\n",
    ")\n",
    "trace3 = go.Bar(\n",
    "    x=['files changed', 'insertions', 'deletions'],\n",
    "    y=[file_sum3, ins_sum3, del_sum3],\n",
    "    name='git diff -w --diff-algorithm=myers'\n",
    ")\n",
    "trace4 = go.Bar(\n",
    "    x=['files changed', 'insertions', 'deletions'],\n",
    "    y=[file_sum4, ins_sum4, del_sum4],\n",
    "    name='git diff -w --diff-algorithm=histogram'\n",
    ")\n",
    "\n",
    "data = [trace1, trace2, trace3, trace4]\n",
    "layout = go.Layout(\n",
    "    barmode='group'\n",
    ")\n",
    "\n",
    "init_notebook_mode(connected=True)\n",
    "fig = go.Figure(data=data, layout=layout)\n",
    "iplot(fig, show_link=False)"
   ]
  },
  {
   "cell_type": "code",
   "execution_count": null,
   "metadata": {
    "collapsed": true
   },
   "outputs": [],
   "source": []
  }
 ],
 "metadata": {
  "kernelspec": {
   "display_name": "Python 3",
   "language": "python",
   "name": "python3"
  },
  "language_info": {
   "codemirror_mode": {
    "name": "ipython",
    "version": 3
   },
   "file_extension": ".py",
   "mimetype": "text/x-python",
   "name": "python",
   "nbconvert_exporter": "python",
   "pygments_lexer": "ipython3",
   "version": "3.6.3"
  }
 },
 "nbformat": 4,
 "nbformat_minor": 2
}
