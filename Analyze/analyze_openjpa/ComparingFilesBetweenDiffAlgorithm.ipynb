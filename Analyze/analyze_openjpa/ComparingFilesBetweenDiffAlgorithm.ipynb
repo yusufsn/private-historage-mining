{
 "cells": [
  {
   "cell_type": "code",
   "execution_count": 1,
   "metadata": {
    "collapsed": true
   },
   "outputs": [],
   "source": [
    "import os, glob, json, csv, subprocess, sys, re\n",
    "from git import *\n",
    "from subprocess import Popen, PIPE\n",
    "from os import path\n",
    "import pandas as pd\n",
    "import matplotlib.pyplot as plt\n",
    "import numpy as np\n",
    "import plotly.graph_objs as go\n",
    "import plotly.plotly as ply\n",
    "import plotly\n",
    "from plotly.offline import plot, init_notebook_mode, iplot\n",
    "\n",
    "%matplotlib inline"
   ]
  },
  {
   "cell_type": "markdown",
   "metadata": {},
   "source": [
    "# Defining repository"
   ]
  },
  {
   "cell_type": "code",
   "execution_count": 2,
   "metadata": {
    "collapsed": true
   },
   "outputs": [],
   "source": [
    "userhome = os.path.expanduser('~')\n",
    "repository = os.path.dirname(userhome + r'/historage-mining/historage/hbase/')"
   ]
  },
  {
   "cell_type": "markdown",
   "metadata": {},
   "source": [
    "# Comparing files based on the number of line changed"
   ]
  },
  {
   "cell_type": "markdown",
   "metadata": {},
   "source": [
    "Finding files with different number of line changed"
   ]
  },
  {
   "cell_type": "code",
   "execution_count": 23,
   "metadata": {
    "collapsed": true
   },
   "outputs": [],
   "source": [
    "cols = ['filename','SUM #line_changed']\n",
    "datahist = pd.read_csv('diffhistogramfilechanged.csv')\n",
    "datamyers = pd.read_csv('diffmyersfilechanged.csv')\n",
    "datamin = pd.read_csv('diffminimalfilechanged.csv')\n",
    "datapat = pd.read_csv('diffpatiencefilechanged.csv')\n",
    "dfhist = datahist[cols]\n",
    "dfmyers = datamyers[cols]\n",
    "dfmin = datamin[cols]\n",
    "dfpat = datapat[cols]"
   ]
  },
  {
   "cell_type": "code",
   "execution_count": 24,
   "metadata": {
    "collapsed": true
   },
   "outputs": [],
   "source": [
    "lshist = []\n",
    "for x in range(0,len(dfhist)-1):\n",
    "    lshist.append(list(dfhist.iloc[x]))"
   ]
  },
  {
   "cell_type": "code",
   "execution_count": 25,
   "metadata": {
    "collapsed": true
   },
   "outputs": [],
   "source": [
    "lsmyers = []\n",
    "for y in range(0,len(dfmyers)-1):\n",
    "    lsmyers.append(list(dfmyers.iloc[y]))"
   ]
  },
  {
   "cell_type": "code",
   "execution_count": 26,
   "metadata": {
    "collapsed": true
   },
   "outputs": [],
   "source": [
    "lsmin = []\n",
    "for z in range(0,len(dfmin)-1):\n",
    "    lsmin.append(list(dfmin.iloc[z]))"
   ]
  },
  {
   "cell_type": "code",
   "execution_count": 27,
   "metadata": {
    "collapsed": true
   },
   "outputs": [],
   "source": [
    "lspat = []\n",
    "for w in range(0,len(dfpat)-1):\n",
    "    lspat.append(list(dfpat.iloc[w]))"
   ]
  },
  {
   "cell_type": "raw",
   "metadata": {},
   "source": [
    "#We can use this algorithm but takes very long time\n",
    "\n",
    "with open('diff_file.csv', 'w') as csvfile:\n",
    "    header = ['filename', '#linechanged_histogram', '#linechanged_myers']\n",
    "    writers = csv.writer(csvfile, delimiter=',')\n",
    "    writers.writerow(header)\n",
    "    for fn in range(1,len(lshist)-1):\n",
    "        tmp = []\n",
    "        fnhist = lshist[fn][0]\n",
    "        for x in range(0,len(lsmyers)-1):\n",
    "            sys.stdout.write('\\rSearching in myers : %i' % (x+1) + ' out of %i' % (len(lsmyers)-1) + ' in % i'\n",
    "                             % (fn) + ' out of %i' % (len(lshist)-1) + ' in histogram')\n",
    "            sys.stdout.flush()\n",
    "            if fnhist != lsmyers[x][0]:\n",
    "                pass\n",
    "            else:\n",
    "                if lshist[fn][1] == lsmyers[x][1]:\n",
    "                    pass\n",
    "                else:\n",
    "                    tmp = [fnhist,lshist[fn][1],lsmyers[x][1]]\n",
    "        \n",
    "        writers.writerow(tmp)\n",
    "        \n",
    "writers"
   ]
  },
  {
   "cell_type": "code",
   "execution_count": 28,
   "metadata": {},
   "outputs": [
    {
     "data": {
      "text/plain": [
       "16217"
      ]
     },
     "execution_count": 28,
     "metadata": {},
     "output_type": "execute_result"
    }
   ],
   "source": [
    "datahist = datahist.sort_values('filename')\n",
    "datamyers = datamyers.sort_values('filename')\n",
    "datamin = datamin.sort_values('filename')\n",
    "datapat = datapat.sort_values('filename')\n",
    "len(datahist)"
   ]
  },
  {
   "cell_type": "code",
   "execution_count": 37,
   "metadata": {},
   "outputs": [
    {
     "data": {
      "text/html": [
       "<div>\n",
       "<style>\n",
       "    .dataframe thead tr:only-child th {\n",
       "        text-align: right;\n",
       "    }\n",
       "\n",
       "    .dataframe thead th {\n",
       "        text-align: left;\n",
       "    }\n",
       "\n",
       "    .dataframe tbody tr th {\n",
       "        vertical-align: top;\n",
       "    }\n",
       "</style>\n",
       "<table border=\"1\" class=\"dataframe\">\n",
       "  <thead>\n",
       "    <tr style=\"text-align: right;\">\n",
       "      <th></th>\n",
       "      <th>filename</th>\n",
       "      <th>SUM #line_changed-hist</th>\n",
       "      <th>SUM #line_changed-myers</th>\n",
       "      <th>SUM #line_changed-min</th>\n",
       "      <th>SUM #line_changed-pat</th>\n",
       "    </tr>\n",
       "  </thead>\n",
       "  <tbody>\n",
       "    <tr>\n",
       "      <th>0</th>\n",
       "      <td>.../hbase/protobuf/generated/MasterProtos.java</td>\n",
       "      <td>446784.0</td>\n",
       "      <td>582362.0</td>\n",
       "      <td>446760.0</td>\n",
       "      <td>446796.0</td>\n",
       "    </tr>\n",
       "    <tr>\n",
       "      <th>1</th>\n",
       "      <td>.../shaded/protobuf/generated/MasterProtos.java</td>\n",
       "      <td>365418.0</td>\n",
       "      <td>374934.0</td>\n",
       "      <td>365406.0</td>\n",
       "      <td>365442.0</td>\n",
       "    </tr>\n",
       "    <tr>\n",
       "      <th>2</th>\n",
       "      <td>.../hbase/protobuf/generated/ClientProtos.java</td>\n",
       "      <td>317592.0</td>\n",
       "      <td>380722.0</td>\n",
       "      <td>312192.0</td>\n",
       "      <td>313424.0</td>\n",
       "    </tr>\n",
       "    <tr>\n",
       "      <th>3</th>\n",
       "      <td>.../hadoop/hbase/thrift/generated/Hbase.java</td>\n",
       "      <td>275128.0</td>\n",
       "      <td>283020.0</td>\n",
       "      <td>274488.0</td>\n",
       "      <td>274816.0</td>\n",
       "    </tr>\n",
       "    <tr>\n",
       "      <th>4</th>\n",
       "      <td>.../hbase/thrift2/generated/THBaseService.java</td>\n",
       "      <td>252425.0</td>\n",
       "      <td>252811.0</td>\n",
       "      <td>252391.0</td>\n",
       "      <td>252425.0</td>\n",
       "    </tr>\n",
       "  </tbody>\n",
       "</table>\n",
       "</div>"
      ],
      "text/plain": [
       "                                          filename  SUM #line_changed-hist  \\\n",
       "0   .../hbase/protobuf/generated/MasterProtos.java                446784.0   \n",
       "1  .../shaded/protobuf/generated/MasterProtos.java                365418.0   \n",
       "2   .../hbase/protobuf/generated/ClientProtos.java                317592.0   \n",
       "3     .../hadoop/hbase/thrift/generated/Hbase.java                275128.0   \n",
       "4   .../hbase/thrift2/generated/THBaseService.java                252425.0   \n",
       "\n",
       "   SUM #line_changed-myers  SUM #line_changed-min  SUM #line_changed-pat  \n",
       "0                 582362.0               446760.0               446796.0  \n",
       "1                 374934.0               365406.0               365442.0  \n",
       "2                 380722.0               312192.0               313424.0  \n",
       "3                 283020.0               274488.0               274816.0  \n",
       "4                 252811.0               252391.0               252425.0  "
      ]
     },
     "execution_count": 37,
     "metadata": {},
     "output_type": "execute_result"
    }
   ],
   "source": [
    "#Merge dataframes hist and myers\n",
    "datamerge1 = datahist.merge(datamyers, on=\"filename\", how=\"outer\", suffixes=('-hist', '-myers'))\n",
    "#Merge dataframes min and pat\n",
    "datamerge2 = datamin.merge(datapat, on=\"filename\", how=\"outer\", suffixes=('-min', '-pat'))\n",
    "#Merge all dataframes\n",
    "datamerge3 = datamerge1.merge(datamerge2, on=\"filename\", how=\"outer\")\n",
    "\n",
    "#Remove the rows with same number of changes between hist and myers\n",
    "#datamerge3 = datamerge3[datamerge3['SUM #line_changed-hist'] != datamerge3['SUM #line_changed-myers']]\n",
    "\n",
    "#Fill NAs with 0 and sort by filename\n",
    "datamerge3.fillna(0, inplace=True)\n",
    "datamerge3 = datamerge3.sort_values(by ='SUM #line_changed-hist', ascending=False).reset_index(drop=True)\n",
    "colnames = ['filename','SUM #line_changed-hist','SUM #line_changed-myers','SUM #line_changed-min','SUM #line_changed-pat']\n",
    "datamerge3 = datamerge3[colnames]\n",
    "datamerge3.to_csv('diff_file.csv')\n",
    "datamerge3.head()"
   ]
  },
  {
   "cell_type": "code",
   "execution_count": 38,
   "metadata": {},
   "outputs": [
    {
     "data": {
      "text/html": [
       "<script>requirejs.config({paths: { 'plotly': ['https://cdn.plot.ly/plotly-latest.min']},});if(!window.Plotly) {{require(['plotly'],function(plotly) {window.Plotly=plotly;});}}</script>"
      ],
      "text/vnd.plotly.v1+html": [
       "<script>requirejs.config({paths: { 'plotly': ['https://cdn.plot.ly/plotly-latest.min']},});if(!window.Plotly) {{require(['plotly'],function(plotly) {window.Plotly=plotly;});}}</script>"
      ]
     },
     "metadata": {},
     "output_type": "display_data"
    },
    {
     "data": {
      "application/vnd.plotly.v1+json": {
       "data": [
        {
         "name": "--diff-algorithm=myers",
         "type": "scatter",
         "x": [
          ".../hbase/protobuf/generated/MasterProtos.java",
          ".../shaded/protobuf/generated/MasterProtos.java",
          ".../hbase/protobuf/generated/ClientProtos.java",
          ".../hadoop/hbase/thrift/generated/Hbase.java",
          ".../hbase/thrift2/generated/THBaseService.java",
          ".../hbase/protobuf/generated/HBaseProtos.java",
          ".../hbase/protobuf/generated/QuotaProtos.java",
          ".../protobuf/generated/MasterProcedureProtos.java",
          ".../protobuf/generated/ClusterStatusProtos.java",
          ".../hbase/protobuf/generated/AdminProtos.java"
         ],
         "y": [
          582362,
          374934,
          380722,
          283020,
          252811,
          290266,
          241814,
          238036,
          334148,
          179906
         ]
        },
        {
         "name": "--diff-algorithm=histogram",
         "type": "scatter",
         "x": [
          ".../hbase/protobuf/generated/MasterProtos.java",
          ".../shaded/protobuf/generated/MasterProtos.java",
          ".../hbase/protobuf/generated/ClientProtos.java",
          ".../hadoop/hbase/thrift/generated/Hbase.java",
          ".../hbase/thrift2/generated/THBaseService.java",
          ".../hbase/protobuf/generated/HBaseProtos.java",
          ".../hbase/protobuf/generated/QuotaProtos.java",
          ".../protobuf/generated/MasterProcedureProtos.java",
          ".../protobuf/generated/ClusterStatusProtos.java",
          ".../hbase/protobuf/generated/AdminProtos.java"
         ],
         "y": [
          446784,
          365418,
          317592,
          275128,
          252425,
          249506,
          241684,
          225088,
          216928,
          172440
         ]
        },
        {
         "name": "--diff-algorithm=minimal",
         "type": "scatter",
         "x": [
          ".../hbase/protobuf/generated/MasterProtos.java",
          ".../shaded/protobuf/generated/MasterProtos.java",
          ".../hbase/protobuf/generated/ClientProtos.java",
          ".../hadoop/hbase/thrift/generated/Hbase.java",
          ".../hbase/thrift2/generated/THBaseService.java",
          ".../hbase/protobuf/generated/HBaseProtos.java",
          ".../hbase/protobuf/generated/QuotaProtos.java",
          ".../protobuf/generated/MasterProcedureProtos.java",
          ".../protobuf/generated/ClusterStatusProtos.java",
          ".../hbase/protobuf/generated/AdminProtos.java"
         ],
         "y": [
          446760,
          365406,
          312192,
          274488,
          252391,
          249090,
          241684,
          224998,
          216900,
          172168
         ]
        },
        {
         "name": "--diff-algorithm=patience",
         "type": "scatter",
         "x": [
          ".../hbase/protobuf/generated/MasterProtos.java",
          ".../shaded/protobuf/generated/MasterProtos.java",
          ".../hbase/protobuf/generated/ClientProtos.java",
          ".../hadoop/hbase/thrift/generated/Hbase.java",
          ".../hbase/thrift2/generated/THBaseService.java",
          ".../hbase/protobuf/generated/HBaseProtos.java",
          ".../hbase/protobuf/generated/QuotaProtos.java",
          ".../protobuf/generated/MasterProcedureProtos.java",
          ".../protobuf/generated/ClusterStatusProtos.java",
          ".../hbase/protobuf/generated/AdminProtos.java"
         ],
         "y": [
          446796,
          365442,
          313424,
          274816,
          252425,
          249312,
          241684,
          225104,
          216900,
          172162
         ]
        }
       ],
       "layout": {
        "barmode": "group"
       }
      },
      "text/html": [
       "<div id=\"fd468ba8-ff5a-4356-b439-1ba4fc0831ca\" style=\"height: 525px; width: 100%;\" class=\"plotly-graph-div\"></div><script type=\"text/javascript\">require([\"plotly\"], function(Plotly) { window.PLOTLYENV=window.PLOTLYENV || {};window.PLOTLYENV.BASE_URL=\"https://plot.ly\";Plotly.newPlot(\"fd468ba8-ff5a-4356-b439-1ba4fc0831ca\", [{\"type\": \"scatter\", \"x\": [\".../hbase/protobuf/generated/MasterProtos.java\", \".../shaded/protobuf/generated/MasterProtos.java\", \".../hbase/protobuf/generated/ClientProtos.java\", \".../hadoop/hbase/thrift/generated/Hbase.java\", \".../hbase/thrift2/generated/THBaseService.java\", \".../hbase/protobuf/generated/HBaseProtos.java\", \".../hbase/protobuf/generated/QuotaProtos.java\", \".../protobuf/generated/MasterProcedureProtos.java\", \".../protobuf/generated/ClusterStatusProtos.java\", \".../hbase/protobuf/generated/AdminProtos.java\"], \"y\": [582362.0, 374934.0, 380722.0, 283020.0, 252811.0, 290266.0, 241814.0, 238036.0, 334148.0, 179906.0], \"name\": \"--diff-algorithm=myers\"}, {\"type\": \"scatter\", \"x\": [\".../hbase/protobuf/generated/MasterProtos.java\", \".../shaded/protobuf/generated/MasterProtos.java\", \".../hbase/protobuf/generated/ClientProtos.java\", \".../hadoop/hbase/thrift/generated/Hbase.java\", \".../hbase/thrift2/generated/THBaseService.java\", \".../hbase/protobuf/generated/HBaseProtos.java\", \".../hbase/protobuf/generated/QuotaProtos.java\", \".../protobuf/generated/MasterProcedureProtos.java\", \".../protobuf/generated/ClusterStatusProtos.java\", \".../hbase/protobuf/generated/AdminProtos.java\"], \"y\": [446784.0, 365418.0, 317592.0, 275128.0, 252425.0, 249506.0, 241684.0, 225088.0, 216928.0, 172440.0], \"name\": \"--diff-algorithm=histogram\"}, {\"type\": \"scatter\", \"x\": [\".../hbase/protobuf/generated/MasterProtos.java\", \".../shaded/protobuf/generated/MasterProtos.java\", \".../hbase/protobuf/generated/ClientProtos.java\", \".../hadoop/hbase/thrift/generated/Hbase.java\", \".../hbase/thrift2/generated/THBaseService.java\", \".../hbase/protobuf/generated/HBaseProtos.java\", \".../hbase/protobuf/generated/QuotaProtos.java\", \".../protobuf/generated/MasterProcedureProtos.java\", \".../protobuf/generated/ClusterStatusProtos.java\", \".../hbase/protobuf/generated/AdminProtos.java\"], \"y\": [446760.0, 365406.0, 312192.0, 274488.0, 252391.0, 249090.0, 241684.0, 224998.0, 216900.0, 172168.0], \"name\": \"--diff-algorithm=minimal\"}, {\"type\": \"scatter\", \"x\": [\".../hbase/protobuf/generated/MasterProtos.java\", \".../shaded/protobuf/generated/MasterProtos.java\", \".../hbase/protobuf/generated/ClientProtos.java\", \".../hadoop/hbase/thrift/generated/Hbase.java\", \".../hbase/thrift2/generated/THBaseService.java\", \".../hbase/protobuf/generated/HBaseProtos.java\", \".../hbase/protobuf/generated/QuotaProtos.java\", \".../protobuf/generated/MasterProcedureProtos.java\", \".../protobuf/generated/ClusterStatusProtos.java\", \".../hbase/protobuf/generated/AdminProtos.java\"], \"y\": [446796.0, 365442.0, 313424.0, 274816.0, 252425.0, 249312.0, 241684.0, 225104.0, 216900.0, 172162.0], \"name\": \"--diff-algorithm=patience\"}], {\"barmode\": \"group\"}, {\"showLink\": false, \"linkText\": \"Export to plot.ly\"})});</script>"
      ],
      "text/vnd.plotly.v1+html": [
       "<div id=\"fd468ba8-ff5a-4356-b439-1ba4fc0831ca\" style=\"height: 525px; width: 100%;\" class=\"plotly-graph-div\"></div><script type=\"text/javascript\">require([\"plotly\"], function(Plotly) { window.PLOTLYENV=window.PLOTLYENV || {};window.PLOTLYENV.BASE_URL=\"https://plot.ly\";Plotly.newPlot(\"fd468ba8-ff5a-4356-b439-1ba4fc0831ca\", [{\"type\": \"scatter\", \"x\": [\".../hbase/protobuf/generated/MasterProtos.java\", \".../shaded/protobuf/generated/MasterProtos.java\", \".../hbase/protobuf/generated/ClientProtos.java\", \".../hadoop/hbase/thrift/generated/Hbase.java\", \".../hbase/thrift2/generated/THBaseService.java\", \".../hbase/protobuf/generated/HBaseProtos.java\", \".../hbase/protobuf/generated/QuotaProtos.java\", \".../protobuf/generated/MasterProcedureProtos.java\", \".../protobuf/generated/ClusterStatusProtos.java\", \".../hbase/protobuf/generated/AdminProtos.java\"], \"y\": [582362.0, 374934.0, 380722.0, 283020.0, 252811.0, 290266.0, 241814.0, 238036.0, 334148.0, 179906.0], \"name\": \"--diff-algorithm=myers\"}, {\"type\": \"scatter\", \"x\": [\".../hbase/protobuf/generated/MasterProtos.java\", \".../shaded/protobuf/generated/MasterProtos.java\", \".../hbase/protobuf/generated/ClientProtos.java\", \".../hadoop/hbase/thrift/generated/Hbase.java\", \".../hbase/thrift2/generated/THBaseService.java\", \".../hbase/protobuf/generated/HBaseProtos.java\", \".../hbase/protobuf/generated/QuotaProtos.java\", \".../protobuf/generated/MasterProcedureProtos.java\", \".../protobuf/generated/ClusterStatusProtos.java\", \".../hbase/protobuf/generated/AdminProtos.java\"], \"y\": [446784.0, 365418.0, 317592.0, 275128.0, 252425.0, 249506.0, 241684.0, 225088.0, 216928.0, 172440.0], \"name\": \"--diff-algorithm=histogram\"}, {\"type\": \"scatter\", \"x\": [\".../hbase/protobuf/generated/MasterProtos.java\", \".../shaded/protobuf/generated/MasterProtos.java\", \".../hbase/protobuf/generated/ClientProtos.java\", \".../hadoop/hbase/thrift/generated/Hbase.java\", \".../hbase/thrift2/generated/THBaseService.java\", \".../hbase/protobuf/generated/HBaseProtos.java\", \".../hbase/protobuf/generated/QuotaProtos.java\", \".../protobuf/generated/MasterProcedureProtos.java\", \".../protobuf/generated/ClusterStatusProtos.java\", \".../hbase/protobuf/generated/AdminProtos.java\"], \"y\": [446760.0, 365406.0, 312192.0, 274488.0, 252391.0, 249090.0, 241684.0, 224998.0, 216900.0, 172168.0], \"name\": \"--diff-algorithm=minimal\"}, {\"type\": \"scatter\", \"x\": [\".../hbase/protobuf/generated/MasterProtos.java\", \".../shaded/protobuf/generated/MasterProtos.java\", \".../hbase/protobuf/generated/ClientProtos.java\", \".../hadoop/hbase/thrift/generated/Hbase.java\", \".../hbase/thrift2/generated/THBaseService.java\", \".../hbase/protobuf/generated/HBaseProtos.java\", \".../hbase/protobuf/generated/QuotaProtos.java\", \".../protobuf/generated/MasterProcedureProtos.java\", \".../protobuf/generated/ClusterStatusProtos.java\", \".../hbase/protobuf/generated/AdminProtos.java\"], \"y\": [446796.0, 365442.0, 313424.0, 274816.0, 252425.0, 249312.0, 241684.0, 225104.0, 216900.0, 172162.0], \"name\": \"--diff-algorithm=patience\"}], {\"barmode\": \"group\"}, {\"showLink\": false, \"linkText\": \"Export to plot.ly\"})});</script>"
      ]
     },
     "metadata": {},
     "output_type": "display_data"
    }
   ],
   "source": [
    "df = pd.read_csv('diff_file.csv')\n",
    "#df = df.sort_values('SUM #line_changed-hist', ascending=False)\n",
    "\n",
    "trace1 = go.Scatter(\n",
    "    x=df['filename'][:10],\n",
    "    y=df['SUM #line_changed-myers'][:10],\n",
    "    name='--diff-algorithm=myers'\n",
    ")\n",
    "\n",
    "trace2 = go.Scatter(\n",
    "    x=df['filename'][:10],\n",
    "    y=df['SUM #line_changed-hist'][:10],\n",
    "    name='--diff-algorithm=histogram'\n",
    ")\n",
    "\n",
    "trace3 = go.Scatter(\n",
    "    x=df['filename'][:10],\n",
    "    y=df['SUM #line_changed-min'][:10],\n",
    "    name='--diff-algorithm=minimal'\n",
    ")\n",
    "\n",
    "trace4 = go.Scatter(\n",
    "    x=df['filename'][:10],\n",
    "    y=df['SUM #line_changed-pat'][:10],\n",
    "    name='--diff-algorithm=patience'\n",
    ")\n",
    "\n",
    "dt = [trace1, trace2, trace3, trace4]\n",
    "layout = go.Layout(\n",
    "    barmode='group'\n",
    ")\n",
    "\n",
    "init_notebook_mode(connected=True)\n",
    "fig = go.Figure(data=dt, layout=layout)\n",
    "iplot(fig, show_link=False)"
   ]
  },
  {
   "cell_type": "code",
   "execution_count": null,
   "metadata": {
    "collapsed": true
   },
   "outputs": [],
   "source": []
  }
 ],
 "metadata": {
  "kernelspec": {
   "display_name": "Python 3",
   "language": "python",
   "name": "python3"
  },
  "language_info": {
   "codemirror_mode": {
    "name": "ipython",
    "version": 3
   },
   "file_extension": ".py",
   "mimetype": "text/x-python",
   "name": "python",
   "nbconvert_exporter": "python",
   "pygments_lexer": "ipython3",
   "version": "3.6.3"
  }
 },
 "nbformat": 4,
 "nbformat_minor": 2
}
