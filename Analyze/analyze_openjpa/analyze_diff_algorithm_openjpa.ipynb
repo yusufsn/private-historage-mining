{
 "cells": [
  {
   "cell_type": "code",
   "execution_count": 1,
   "metadata": {
    "collapsed": true
   },
   "outputs": [],
   "source": [
    "import os, glob, json, csv, subprocess, sys, re\n",
    "from git import *\n",
    "from subprocess import Popen, PIPE\n",
    "from os import path\n",
    "import pandas as pd\n",
    "import matplotlib.pyplot as plt\n",
    "import numpy as np\n",
    "import plotly.graph_objs as go\n",
    "import plotly.plotly as ply\n",
    "import plotly\n",
    "from plotly.offline import plot, init_notebook_mode, iplot\n",
    "\n",
    "%matplotlib inline"
   ]
  },
  {
   "cell_type": "markdown",
   "metadata": {},
   "source": [
    "# Defining repository"
   ]
  },
  {
   "cell_type": "code",
   "execution_count": 2,
   "metadata": {
    "collapsed": true
   },
   "outputs": [],
   "source": [
    "userhome = os.path.expanduser('~')\n",
    "repository = os.path.dirname(userhome + r'/historage-mining/historage/openjpa/')"
   ]
  },
  {
   "cell_type": "markdown",
   "metadata": {},
   "source": [
    "# Define function to apply git command"
   ]
  },
  {
   "cell_type": "code",
   "execution_count": 3,
   "metadata": {
    "collapsed": true
   },
   "outputs": [],
   "source": [
    "def execute_command(cmd, work_dir):\n",
    "    \"\"\"Executes a shell command in a subprocess, waiting until it has completed.\n",
    " \n",
    "    :param cmd: Command to execute.\n",
    "    :param work_dir: Working directory path.\n",
    "    \"\"\"\n",
    "    pipe = subprocess.Popen(cmd, shell=True, cwd=work_dir, stdout=subprocess.PIPE, stderr=subprocess.PIPE)\n",
    "    (out, error) = pipe.communicate()\n",
    "    return out, error\n",
    "    pipe.wait()"
   ]
  },
  {
   "cell_type": "code",
   "execution_count": 4,
   "metadata": {
    "collapsed": true
   },
   "outputs": [],
   "source": [
    "def execute_shell_command(id1, id2, cmd, work_dir):\n",
    "    \"\"\"Executes a shell command in a subprocess, waiting until it has completed.\n",
    " \n",
    "    :param cmd: Command to execute.\n",
    "    :param work_dir: Working directory path.\n",
    "    \"\"\"\n",
    "    pipe = subprocess.Popen(cmd, shell=True, cwd=work_dir, stdout=subprocess.PIPE, stderr=subprocess.PIPE)\n",
    "    (out, error) = pipe.communicate()\n",
    "    return id1, id2, out, error\n",
    "    pipe.wait()"
   ]
  },
  {
   "cell_type": "markdown",
   "metadata": {},
   "source": [
    "# Listing all files in repository and save it in textfile"
   ]
  },
  {
   "cell_type": "code",
   "execution_count": 5,
   "metadata": {
    "collapsed": true
   },
   "outputs": [],
   "source": [
    "listfile = []\n",
    "for filename in glob.iglob(userhome + r'/historage-mining/historage/openjpa/**/*.*', recursive=True):\n",
    "    listfile.append(filename)"
   ]
  },
  {
   "cell_type": "code",
   "execution_count": 6,
   "metadata": {},
   "outputs": [
    {
     "name": "stdout",
     "output_type": "stream",
     "text": [
      "File file_list.txt has been created\n",
      "Number of files found: 5185 files\n"
     ]
    }
   ],
   "source": [
    "with open (\"file_list.txt\", mode=\"wt\", encoding=\"utf-8\") as mytxt:\n",
    "    mytxt.write('\\n'.join(listfile))\n",
    "print (\"File file_list.txt has been created\")\n",
    "print (\"Number of files found: %i\" % (len(listfile)) + \" files\")"
   ]
  },
  {
   "cell_type": "markdown",
   "metadata": {},
   "source": [
    "# Extracting Commit ID"
   ]
  },
  {
   "cell_type": "code",
   "execution_count": 7,
   "metadata": {
    "collapsed": true
   },
   "outputs": [],
   "source": [
    "command = \"git log --pretty='%H'\"\n",
    "com_ID = str(execute_command(command, repository)).replace(\"b'\",'').replace(\"'\",'').replace('\\\\n',' ').replace(\"(\",'').replace(\")\",'').replace(\",\",'').split(' ')"
   ]
  },
  {
   "cell_type": "markdown",
   "metadata": {},
   "source": [
    "# Applying git diff -w --diff-algorithm=histogram --stat commitID_1 commitID2 "
   ]
  },
  {
   "cell_type": "code",
   "execution_count": 8,
   "metadata": {},
   "outputs": [
    {
     "name": "stdout",
     "output_type": "stream",
     "text": [
      "Applying diff between commits = 4860 out of 4860"
     ]
    }
   ],
   "source": [
    "diffhist = []\n",
    "for i in range(0, len(com_ID)-3):\n",
    "    sys.stdout.write('\\rApplying diff between commits = %i' % (i+1) + ' out of %i' % (len(com_ID)-3))\n",
    "    sys.stdout.flush()\n",
    "    diff_cmd = \"git diff -w --diff-algorithm=histogram --stat \" + com_ID[i+1] + \" \" + com_ID[i]\n",
    "    tmp = (str(execute_shell_command(com_ID[i+1], com_ID[i], diff_cmd, repository)).replace(\"(\",'').replace(\"+\",'').\n",
    "           replace(\"-\",'').replace(\"\\\\n\",'').replace(\"b'\",'').replace(\"(+)\",'').replace(\"(-)\",'').replace(\")\",'').\n",
    "           replace(\"|\",'').replace(\" => \",'=>').replace(\"... \",'...').replace(\"...> \",'...>').\n",
    "           replace(\"...=> \",'...=>').replace(\" Code \",\"Code\"))\n",
    "    tmp = re.sub(\"([a-z])\" and \"([ ])\", r\"\\1,\", tmp)\n",
    "    tmp2 = (str(tmp).replace(\"\\'\",'').replace(\", \",'').replace(\",files\",'files').replace(\",changed\",\"changed\").\n",
    "                    replace(\",file\",'files').replace(\",insertions\",'insertions').\n",
    "                    replace(\",insertion\",'insertions').replace(\",deletions,\",'deletions').\n",
    "                    replace(\",deletion,\",'deletions').replace(\" \",''))\n",
    "    diffhist.append(str(tmp2))\n",
    "    \n",
    "diffresult = []\n",
    "for item in diffhist:\n",
    "    if item == ', ':\n",
    "        del item\n",
    "    else:\n",
    "        diffresult.append(item)\n",
    "\n",
    "#diffresult"
   ]
  },
  {
   "cell_type": "code",
   "execution_count": 9,
   "metadata": {
    "collapsed": true
   },
   "outputs": [],
   "source": [
    "diffres = []\n",
    "for x in range(0,len(diffresult)-1):\n",
    "    line = diffresult[x]\n",
    "    if \"changed\" not in diffresult[x]:\n",
    "        pass\n",
    "    else:\n",
    "        if \"deletions\" not in diffresult[x]:\n",
    "            diffres.append(line + '0 deletions')\n",
    "        else:\n",
    "            if \"insertions\" not in diffresult[x]:\n",
    "                index = line.find('changed,')\n",
    "                diffres.append(line[:index+8] + '0 insertions' + line[index+7:])\n",
    "            else:\n",
    "                diffres.append(diffresult[x])"
   ]
  },
  {
   "cell_type": "code",
   "execution_count": 10,
   "metadata": {
    "collapsed": true,
    "scrolled": false
   },
   "outputs": [],
   "source": [
    "kl = []\n",
    "res = []\n",
    "for x in range(0, len(diffres)-1):\n",
    "    kl = diffres[x].split(',')\n",
    "    #del kl[len(kl)-1]\n",
    "    res.append(kl)\n",
    "#for it in res:\n",
    "#    print(it)"
   ]
  },
  {
   "cell_type": "code",
   "execution_count": 11,
   "metadata": {
    "collapsed": true
   },
   "outputs": [],
   "source": [
    "temp1hist = []\n",
    "for b in range(0,len(res)-1):\n",
    "    temp2 = []\n",
    "    for c in range(0,len(res[b])-3):\n",
    "        temp2.append(res[b][c])\n",
    "    temp1hist.append(temp2)\n",
    "#temp1hist"
   ]
  },
  {
   "cell_type": "raw",
   "metadata": {},
   "source": [
    "for dd in range(0, len(temp1hist)-1):\n",
    "    indices = [i for i, x in enumerate(temp1hist[dd]) if x == \"=>\"]\n",
    "    for i in indices: #this will add one index upper and one index lower of elem \"=>\" with elem\n",
    "        temp1hist[dd][i-1] = temp1hist[dd][i-1]+ temp1hist[dd][i] + temp1hist[dd][i+1] \n",
    "    for elem in temp1hist[dd]:\n",
    "        if elem == \"=>\":\n",
    "            del temp1hist[dd][temp1hist[dd].index(\"=>\")+1]\n",
    "            del temp1hist[dd][temp1hist[dd].index(\"=>\")]\n",
    "#temp1hist"
   ]
  },
  {
   "cell_type": "code",
   "execution_count": 12,
   "metadata": {
    "collapsed": true
   },
   "outputs": [],
   "source": [
    "with open('diffhistogram.csv', 'w') as csvfile:\n",
    "    header = ['commitID_1', 'commitID_2', 'filename', '#line_changed']\n",
    "    writers = csv.writer(csvfile, delimiter=',')\n",
    "    writers.writerow(header)\n",
    "    for cmp in range(0,len(temp1hist)-1):\n",
    "        x = 2\n",
    "        y = 4\n",
    "        if len(temp1hist[cmp])<=4:\n",
    "            writers.writerow(temp1hist[cmp])\n",
    "        else:\n",
    "            s = (len(temp1hist[cmp])-2)/2\n",
    "            for g in range(1, int(s)):\n",
    "                v = []\n",
    "                for col1 in range(0,2):\n",
    "                    v.append(temp1hist[cmp][col1])\n",
    "                for col2 in range(x,y):\n",
    "                    if re.findall(r'\\d+',temp1hist[cmp][col2]) == True:\n",
    "                        v.append(re.findall(r'\\d+',temp1hist[cmp][col2]))\n",
    "                    else:\n",
    "                        v.append(temp1hist[cmp][col2])\n",
    "                x = x + 2\n",
    "                y = y + 2\n",
    "                writers.writerow(v)"
   ]
  },
  {
   "cell_type": "code",
   "execution_count": 13,
   "metadata": {},
   "outputs": [
    {
     "data": {
      "text/html": [
       "<div>\n",
       "<style>\n",
       "    .dataframe thead tr:only-child th {\n",
       "        text-align: right;\n",
       "    }\n",
       "\n",
       "    .dataframe thead th {\n",
       "        text-align: left;\n",
       "    }\n",
       "\n",
       "    .dataframe tbody tr th {\n",
       "        vertical-align: top;\n",
       "    }\n",
       "</style>\n",
       "<table border=\"1\" class=\"dataframe\">\n",
       "  <thead>\n",
       "    <tr style=\"text-align: right;\">\n",
       "      <th></th>\n",
       "      <th>commitID_1</th>\n",
       "      <th>commitID_2</th>\n",
       "      <th>filename</th>\n",
       "      <th>#line_changed</th>\n",
       "    </tr>\n",
       "  </thead>\n",
       "  <tbody>\n",
       "    <tr>\n",
       "      <th>0</th>\n",
       "      <td>b4c13fc0ed80fbfe59df1ce960454c21a0504b56</td>\n",
       "      <td>14d4b8007cddcbd6197404f7ad435b9b514b2859</td>\n",
       "      <td>.../src/main/java/org/apache/openjpa/kernel/Br...</td>\n",
       "      <td>10</td>\n",
       "    </tr>\n",
       "    <tr>\n",
       "      <th>1</th>\n",
       "      <td>778e8e9449210bda0f3fad71081ae3dc954e8a64</td>\n",
       "      <td>b4c13fc0ed80fbfe59df1ce960454c21a0504b56</td>\n",
       "      <td>pom.xml</td>\n",
       "      <td>6</td>\n",
       "    </tr>\n",
       "    <tr>\n",
       "      <th>2</th>\n",
       "      <td>2898b4e342591dc98848663caa74a9bb7fee35b4</td>\n",
       "      <td>778e8e9449210bda0f3fad71081ae3dc954e8a64</td>\n",
       "      <td>.../openjpa/jdbc/sql/SQLServerDictionary.java</td>\n",
       "      <td>23</td>\n",
       "    </tr>\n",
       "    <tr>\n",
       "      <th>3</th>\n",
       "      <td>5c94a7ff67ad38f6fdcaa7a950eeb9622ff960aa</td>\n",
       "      <td>2898b4e342591dc98848663caa74a9bb7fee35b4</td>\n",
       "      <td>.../org/apache/openjpa/persistence/criteria/Cr...</td>\n",
       "      <td>2</td>\n",
       "    </tr>\n",
       "    <tr>\n",
       "      <th>4</th>\n",
       "      <td>ed28ddca1a1ff1026cc068a0a85540eb756f655e</td>\n",
       "      <td>5c94a7ff67ad38f6fdcaa7a950eeb9622ff960aa</td>\n",
       "      <td>.../org/apache/openjpa/jdbc/meta/ClassMapping....</td>\n",
       "      <td>2</td>\n",
       "    </tr>\n",
       "  </tbody>\n",
       "</table>\n",
       "</div>"
      ],
      "text/plain": [
       "                                 commitID_1  \\\n",
       "0  b4c13fc0ed80fbfe59df1ce960454c21a0504b56   \n",
       "1  778e8e9449210bda0f3fad71081ae3dc954e8a64   \n",
       "2  2898b4e342591dc98848663caa74a9bb7fee35b4   \n",
       "3  5c94a7ff67ad38f6fdcaa7a950eeb9622ff960aa   \n",
       "4  ed28ddca1a1ff1026cc068a0a85540eb756f655e   \n",
       "\n",
       "                                 commitID_2  \\\n",
       "0  14d4b8007cddcbd6197404f7ad435b9b514b2859   \n",
       "1  b4c13fc0ed80fbfe59df1ce960454c21a0504b56   \n",
       "2  778e8e9449210bda0f3fad71081ae3dc954e8a64   \n",
       "3  2898b4e342591dc98848663caa74a9bb7fee35b4   \n",
       "4  5c94a7ff67ad38f6fdcaa7a950eeb9622ff960aa   \n",
       "\n",
       "                                            filename #line_changed  \n",
       "0  .../src/main/java/org/apache/openjpa/kernel/Br...            10  \n",
       "1                                            pom.xml             6  \n",
       "2      .../openjpa/jdbc/sql/SQLServerDictionary.java            23  \n",
       "3  .../org/apache/openjpa/persistence/criteria/Cr...             2  \n",
       "4  .../org/apache/openjpa/jdbc/meta/ClassMapping....             2  "
      ]
     },
     "execution_count": 13,
     "metadata": {},
     "output_type": "execute_result"
    }
   ],
   "source": [
    "datahist = pd.read_csv(\"diffhistogram.csv\")\n",
    "sc = datahist[header]\n",
    "sc.head()"
   ]
  },
  {
   "cell_type": "code",
   "execution_count": 14,
   "metadata": {},
   "outputs": [
    {
     "data": {
      "text/html": [
       "<div>\n",
       "<style>\n",
       "    .dataframe thead tr:only-child th {\n",
       "        text-align: right;\n",
       "    }\n",
       "\n",
       "    .dataframe thead th {\n",
       "        text-align: left;\n",
       "    }\n",
       "\n",
       "    .dataframe tbody tr th {\n",
       "        vertical-align: top;\n",
       "    }\n",
       "</style>\n",
       "<table border=\"1\" class=\"dataframe\">\n",
       "  <thead>\n",
       "    <tr style=\"text-align: right;\">\n",
       "      <th></th>\n",
       "      <th>filename</th>\n",
       "      <th>SUM #line_changed</th>\n",
       "    </tr>\n",
       "  </thead>\n",
       "  <tbody>\n",
       "    <tr>\n",
       "      <th>0</th>\n",
       "      <td>openjpaproject/src/doc/manual/manual.xml</td>\n",
       "      <td>67857.0</td>\n",
       "    </tr>\n",
       "    <tr>\n",
       "      <th>1</th>\n",
       "      <td>.../java/openbook/tools/parser/JavaParser.java</td>\n",
       "      <td>20088.0</td>\n",
       "    </tr>\n",
       "    <tr>\n",
       "      <th>2</th>\n",
       "      <td>.../src/doc/manual/ref_guide_dbsetup.xml</td>\n",
       "      <td>12746.0</td>\n",
       "    </tr>\n",
       "    <tr>\n",
       "      <th>3</th>\n",
       "      <td>Bin</td>\n",
       "      <td>9705.0</td>\n",
       "    </tr>\n",
       "    <tr>\n",
       "      <th>4</th>\n",
       "      <td>.../src/doc/manual/jpa_overview_query.xml</td>\n",
       "      <td>9547.0</td>\n",
       "    </tr>\n",
       "  </tbody>\n",
       "</table>\n",
       "</div>"
      ],
      "text/plain": [
       "                                         filename  SUM #line_changed\n",
       "0        openjpaproject/src/doc/manual/manual.xml            67857.0\n",
       "1  .../java/openbook/tools/parser/JavaParser.java            20088.0\n",
       "2        .../src/doc/manual/ref_guide_dbsetup.xml            12746.0\n",
       "3                                             Bin             9705.0\n",
       "4       .../src/doc/manual/jpa_overview_query.xml             9547.0"
      ]
     },
     "execution_count": 14,
     "metadata": {},
     "output_type": "execute_result"
    }
   ],
   "source": [
    "dfhist = pd.read_csv('diffhistogram.csv')\n",
    "dfhist = (pd.to_numeric(dfhist['#line_changed'], errors='coerce')\n",
    "       .groupby(dfhist['filename'])\n",
    "       .sum()\n",
    "       .to_frame()\n",
    "       .add_prefix('SUM ')\n",
    "       .reset_index())\n",
    "\n",
    "col = ['filename','SUM #line_changed']\n",
    "dfhist = dfhist.dropna(subset=['SUM #line_changed'])\n",
    "dfhist = dfhist.sort_values('SUM #line_changed', ascending=False)\n",
    "\n",
    "dfhist[col].to_csv('diffhistogramfilechanged.csv')\n",
    "out = pd.read_csv('diffhistogramfilechanged.csv')\n",
    "saved = out[col]\n",
    "saved.head()"
   ]
  },
  {
   "cell_type": "code",
   "execution_count": 15,
   "metadata": {},
   "outputs": [
    {
     "data": {
      "text/html": [
       "<script>requirejs.config({paths: { 'plotly': ['https://cdn.plot.ly/plotly-latest.min']},});if(!window.Plotly) {{require(['plotly'],function(plotly) {window.Plotly=plotly;});}}</script>"
      ],
      "text/vnd.plotly.v1+html": [
       "<script>requirejs.config({paths: { 'plotly': ['https://cdn.plot.ly/plotly-latest.min']},});if(!window.Plotly) {{require(['plotly'],function(plotly) {window.Plotly=plotly;});}}</script>"
      ]
     },
     "metadata": {},
     "output_type": "display_data"
    },
    {
     "data": {
      "application/vnd.plotly.v1+json": {
       "data": [
        {
         "name": "--diff-algorithm=histogram",
         "type": "bar",
         "x": [
          "openjpaproject/src/doc/manual/manual.xml",
          ".../java/openbook/tools/parser/JavaParser.java",
          ".../src/doc/manual/ref_guide_dbsetup.xml",
          "Bin",
          ".../src/doc/manual/jpa_overview_query.xml",
          ".../java/org/apache/openjpa/kernel/BrokerImpl.java",
          ".../src/doc/manual/jpa_overview_meta.xml",
          ".../src/doc/manual/ref_guide_mapping.xml",
          "openjpaproject/src/doc/manual/ref_guide_conf.xml",
          ".../org/apache/openjpa/jdbc/sql/DBDictionary.java"
         ],
         "y": [
          67857,
          20088,
          12746,
          9705,
          9547,
          9542,
          9413,
          8684,
          8300,
          7811
         ]
        },
        {
         "name": "--diff-algorithm=histogram",
         "type": "scatter",
         "x": [
          "openjpaproject/src/doc/manual/manual.xml",
          ".../java/openbook/tools/parser/JavaParser.java",
          ".../src/doc/manual/ref_guide_dbsetup.xml",
          "Bin",
          ".../src/doc/manual/jpa_overview_query.xml",
          ".../java/org/apache/openjpa/kernel/BrokerImpl.java",
          ".../src/doc/manual/jpa_overview_meta.xml",
          ".../src/doc/manual/ref_guide_mapping.xml",
          "openjpaproject/src/doc/manual/ref_guide_conf.xml",
          ".../org/apache/openjpa/jdbc/sql/DBDictionary.java"
         ],
         "y": [
          67857,
          20088,
          12746,
          9705,
          9547,
          9542,
          9413,
          8684,
          8300,
          7811
         ]
        }
       ],
       "layout": {
        "barmode": "group"
       }
      },
      "text/html": [
       "<div id=\"f5b47296-5180-4d28-8002-77af4efc1d9d\" style=\"height: 525px; width: 100%;\" class=\"plotly-graph-div\"></div><script type=\"text/javascript\">require([\"plotly\"], function(Plotly) { window.PLOTLYENV=window.PLOTLYENV || {};window.PLOTLYENV.BASE_URL=\"https://plot.ly\";Plotly.newPlot(\"f5b47296-5180-4d28-8002-77af4efc1d9d\", [{\"type\": \"bar\", \"x\": [\"openjpaproject/src/doc/manual/manual.xml\", \".../java/openbook/tools/parser/JavaParser.java\", \".../src/doc/manual/ref_guide_dbsetup.xml\", \"Bin\", \".../src/doc/manual/jpa_overview_query.xml\", \".../java/org/apache/openjpa/kernel/BrokerImpl.java\", \".../src/doc/manual/jpa_overview_meta.xml\", \".../src/doc/manual/ref_guide_mapping.xml\", \"openjpaproject/src/doc/manual/ref_guide_conf.xml\", \".../org/apache/openjpa/jdbc/sql/DBDictionary.java\"], \"y\": [67857.0, 20088.0, 12746.0, 9705.0, 9547.0, 9542.0, 9413.0, 8684.0, 8300.0, 7811.0], \"name\": \"--diff-algorithm=histogram\"}, {\"type\": \"scatter\", \"x\": [\"openjpaproject/src/doc/manual/manual.xml\", \".../java/openbook/tools/parser/JavaParser.java\", \".../src/doc/manual/ref_guide_dbsetup.xml\", \"Bin\", \".../src/doc/manual/jpa_overview_query.xml\", \".../java/org/apache/openjpa/kernel/BrokerImpl.java\", \".../src/doc/manual/jpa_overview_meta.xml\", \".../src/doc/manual/ref_guide_mapping.xml\", \"openjpaproject/src/doc/manual/ref_guide_conf.xml\", \".../org/apache/openjpa/jdbc/sql/DBDictionary.java\"], \"y\": [67857.0, 20088.0, 12746.0, 9705.0, 9547.0, 9542.0, 9413.0, 8684.0, 8300.0, 7811.0], \"name\": \"--diff-algorithm=histogram\"}], {\"barmode\": \"group\"}, {\"showLink\": false, \"linkText\": \"Export to plot.ly\"})});</script>"
      ],
      "text/vnd.plotly.v1+html": [
       "<div id=\"f5b47296-5180-4d28-8002-77af4efc1d9d\" style=\"height: 525px; width: 100%;\" class=\"plotly-graph-div\"></div><script type=\"text/javascript\">require([\"plotly\"], function(Plotly) { window.PLOTLYENV=window.PLOTLYENV || {};window.PLOTLYENV.BASE_URL=\"https://plot.ly\";Plotly.newPlot(\"f5b47296-5180-4d28-8002-77af4efc1d9d\", [{\"type\": \"bar\", \"x\": [\"openjpaproject/src/doc/manual/manual.xml\", \".../java/openbook/tools/parser/JavaParser.java\", \".../src/doc/manual/ref_guide_dbsetup.xml\", \"Bin\", \".../src/doc/manual/jpa_overview_query.xml\", \".../java/org/apache/openjpa/kernel/BrokerImpl.java\", \".../src/doc/manual/jpa_overview_meta.xml\", \".../src/doc/manual/ref_guide_mapping.xml\", \"openjpaproject/src/doc/manual/ref_guide_conf.xml\", \".../org/apache/openjpa/jdbc/sql/DBDictionary.java\"], \"y\": [67857.0, 20088.0, 12746.0, 9705.0, 9547.0, 9542.0, 9413.0, 8684.0, 8300.0, 7811.0], \"name\": \"--diff-algorithm=histogram\"}, {\"type\": \"scatter\", \"x\": [\"openjpaproject/src/doc/manual/manual.xml\", \".../java/openbook/tools/parser/JavaParser.java\", \".../src/doc/manual/ref_guide_dbsetup.xml\", \"Bin\", \".../src/doc/manual/jpa_overview_query.xml\", \".../java/org/apache/openjpa/kernel/BrokerImpl.java\", \".../src/doc/manual/jpa_overview_meta.xml\", \".../src/doc/manual/ref_guide_mapping.xml\", \"openjpaproject/src/doc/manual/ref_guide_conf.xml\", \".../org/apache/openjpa/jdbc/sql/DBDictionary.java\"], \"y\": [67857.0, 20088.0, 12746.0, 9705.0, 9547.0, 9542.0, 9413.0, 8684.0, 8300.0, 7811.0], \"name\": \"--diff-algorithm=histogram\"}], {\"barmode\": \"group\"}, {\"showLink\": false, \"linkText\": \"Export to plot.ly\"})});</script>"
      ]
     },
     "metadata": {},
     "output_type": "display_data"
    }
   ],
   "source": [
    "trace1 = go.Bar(\n",
    "    x=dfhist['filename'][:10],\n",
    "    y=dfhist['SUM #line_changed'][:10],\n",
    "    name='--diff-algorithm=histogram'\n",
    ")\n",
    "\n",
    "trace2 = go.Scatter(\n",
    "    x=dfhist['filename'][:10],\n",
    "    y=dfhist['SUM #line_changed'][:10],\n",
    "    name='--diff-algorithm=histogram')\n",
    "\n",
    "dt = [trace1, trace2]\n",
    "layout = go.Layout(\n",
    "    barmode='group'\n",
    ")\n",
    "\n",
    "init_notebook_mode(connected=True)\n",
    "fig = go.Figure(data=dt, layout=layout)\n",
    "iplot(fig, show_link=False)"
   ]
  },
  {
   "cell_type": "markdown",
   "metadata": {},
   "source": [
    "# Applying git diff -w --diff-algorithm=myers --stat commitID_1 commitID2 "
   ]
  },
  {
   "cell_type": "code",
   "execution_count": 16,
   "metadata": {},
   "outputs": [
    {
     "name": "stdout",
     "output_type": "stream",
     "text": [
      "Applying diff between commits = 4860 out of 4860"
     ]
    }
   ],
   "source": [
    "diffmyers = []\n",
    "for i in range(0, len(com_ID)-3):\n",
    "    sys.stdout.write('\\rApplying diff between commits = %i' % (i+1) + ' out of %i' % (len(com_ID)-3))\n",
    "    sys.stdout.flush()\n",
    "    diff_cmd = \"git diff -w --diff-algorithm=myers --stat \" + com_ID[i+1] + \" \" + com_ID[i]\n",
    "    tmp = (str(execute_shell_command(com_ID[i+1], com_ID[i], diff_cmd, repository)).replace(\"(\",'').replace(\"+\",'').\n",
    "           replace(\"-\",'').replace(\"\\\\n\",'').replace(\"b'\",'').replace(\"(+)\",'').replace(\"(-)\",'').replace(\")\",'').\n",
    "           replace(\"|\",'').replace(\" => \",'=>').replace(\"... \",'...').replace(\"...> \",'...>').\n",
    "           replace(\"...=> \",'...=>').replace(\" Code \",\"Code\"))\n",
    "    tmp = re.sub(\"([a-z])\" and \"([ ])\", r\"\\1,\", tmp)\n",
    "    tmp2 = (str(tmp).replace(\"\\'\",'').replace(\", \",'').replace(\",files\",'files').replace(\",changed\",\"changed\").\n",
    "                    replace(\",file\",'files').replace(\",insertions\",'insertions').\n",
    "                    replace(\",insertion\",'insertions').replace(\",deletions,\",'deletions').\n",
    "                    replace(\",deletion,\",'deletions').replace(\" \",''))\n",
    "    diffmyers.append(str(tmp2))\n",
    "    \n",
    "diffmyersresult = []\n",
    "for item in diffmyers:\n",
    "    if item == ', ':\n",
    "        del item\n",
    "    else:\n",
    "        diffmyersresult.append(item)\n",
    "\n",
    "#diffmyersresult"
   ]
  },
  {
   "cell_type": "code",
   "execution_count": 17,
   "metadata": {
    "collapsed": true
   },
   "outputs": [],
   "source": [
    "diffmyersres = []\n",
    "for x in range(0,len(diffmyersresult)-1):\n",
    "    line = diffmyersresult[x]\n",
    "    if \"changed\" not in diffmyersresult[x]:\n",
    "        pass\n",
    "    else:\n",
    "        if \"deletions\" not in diffmyersresult[x]:\n",
    "            diffmyersres.append(line + '0 deletions')\n",
    "        else:\n",
    "            if \"insertions\" not in diffmyersresult[x]:\n",
    "                index = line.find('changed,')\n",
    "                diffmyersres.append(line[:index+8] + '0 insertions' + line[index+7:])\n",
    "            else:\n",
    "                diffmyersres.append(diffmyersresult[x])"
   ]
  },
  {
   "cell_type": "code",
   "execution_count": 18,
   "metadata": {
    "collapsed": true
   },
   "outputs": [],
   "source": [
    "klmyers = []\n",
    "resmyers = []\n",
    "for x in range(0, len(diffmyersres)-1):\n",
    "    kl = diffmyersres[x].split(',')\n",
    "    resmyers.append(kl)\n",
    "#for it in resmyers:\n",
    "#    print(it)"
   ]
  },
  {
   "cell_type": "code",
   "execution_count": 19,
   "metadata": {
    "collapsed": true
   },
   "outputs": [],
   "source": [
    "temp1myers = []\n",
    "for b in range(0,len(resmyers)-1):\n",
    "    temp2myers = []\n",
    "    for c in range(0,len(resmyers[b])-3):\n",
    "        temp2myers.append(resmyers[b][c])\n",
    "    temp1myers.append(temp2myers)\n",
    "#temp1myers"
   ]
  },
  {
   "cell_type": "code",
   "execution_count": 20,
   "metadata": {
    "collapsed": true
   },
   "outputs": [],
   "source": [
    "with open('diffmyers.csv', 'w') as csvfile:\n",
    "    header = ['commitID_1', 'commitID_2', 'filename', '#line_changed']\n",
    "    writers = csv.writer(csvfile, delimiter=',')\n",
    "    writers.writerow(header)\n",
    "    for cmp in range(0,len(temp1myers)-1):\n",
    "        x = 2\n",
    "        y = 4\n",
    "        if len(temp1myers[cmp])<=4:\n",
    "            writers.writerow(temp1myers[cmp])\n",
    "        else:\n",
    "            s = (len(temp1myers[cmp])-2)/2\n",
    "            for g in range(1, int(s)):\n",
    "                v = []\n",
    "                for col1 in range(0,2):\n",
    "                    v.append(temp1myers[cmp][col1])\n",
    "                for col2 in range(x,y):\n",
    "                    if re.findall(r'\\d+',temp1myers[cmp][col2]) == True:\n",
    "                        v.append(re.findall(r'\\d+',temp1myers[cmp][col2]))\n",
    "                    else:\n",
    "                        v.append(temp1myers[cmp][col2])\n",
    "                x = x + 2\n",
    "                y = y + 2\n",
    "                writers.writerow(v)"
   ]
  },
  {
   "cell_type": "code",
   "execution_count": 21,
   "metadata": {},
   "outputs": [
    {
     "data": {
      "text/html": [
       "<div>\n",
       "<style>\n",
       "    .dataframe thead tr:only-child th {\n",
       "        text-align: right;\n",
       "    }\n",
       "\n",
       "    .dataframe thead th {\n",
       "        text-align: left;\n",
       "    }\n",
       "\n",
       "    .dataframe tbody tr th {\n",
       "        vertical-align: top;\n",
       "    }\n",
       "</style>\n",
       "<table border=\"1\" class=\"dataframe\">\n",
       "  <thead>\n",
       "    <tr style=\"text-align: right;\">\n",
       "      <th></th>\n",
       "      <th>commitID_1</th>\n",
       "      <th>commitID_2</th>\n",
       "      <th>filename</th>\n",
       "      <th>#line_changed</th>\n",
       "    </tr>\n",
       "  </thead>\n",
       "  <tbody>\n",
       "    <tr>\n",
       "      <th>0</th>\n",
       "      <td>b4c13fc0ed80fbfe59df1ce960454c21a0504b56</td>\n",
       "      <td>14d4b8007cddcbd6197404f7ad435b9b514b2859</td>\n",
       "      <td>.../src/main/java/org/apache/openjpa/kernel/Br...</td>\n",
       "      <td>10</td>\n",
       "    </tr>\n",
       "    <tr>\n",
       "      <th>1</th>\n",
       "      <td>778e8e9449210bda0f3fad71081ae3dc954e8a64</td>\n",
       "      <td>b4c13fc0ed80fbfe59df1ce960454c21a0504b56</td>\n",
       "      <td>pom.xml</td>\n",
       "      <td>6</td>\n",
       "    </tr>\n",
       "    <tr>\n",
       "      <th>2</th>\n",
       "      <td>2898b4e342591dc98848663caa74a9bb7fee35b4</td>\n",
       "      <td>778e8e9449210bda0f3fad71081ae3dc954e8a64</td>\n",
       "      <td>.../openjpa/jdbc/sql/SQLServerDictionary.java</td>\n",
       "      <td>23</td>\n",
       "    </tr>\n",
       "    <tr>\n",
       "      <th>3</th>\n",
       "      <td>5c94a7ff67ad38f6fdcaa7a950eeb9622ff960aa</td>\n",
       "      <td>2898b4e342591dc98848663caa74a9bb7fee35b4</td>\n",
       "      <td>.../org/apache/openjpa/persistence/criteria/Cr...</td>\n",
       "      <td>2</td>\n",
       "    </tr>\n",
       "    <tr>\n",
       "      <th>4</th>\n",
       "      <td>ed28ddca1a1ff1026cc068a0a85540eb756f655e</td>\n",
       "      <td>5c94a7ff67ad38f6fdcaa7a950eeb9622ff960aa</td>\n",
       "      <td>.../org/apache/openjpa/jdbc/meta/ClassMapping....</td>\n",
       "      <td>2</td>\n",
       "    </tr>\n",
       "  </tbody>\n",
       "</table>\n",
       "</div>"
      ],
      "text/plain": [
       "                                 commitID_1  \\\n",
       "0  b4c13fc0ed80fbfe59df1ce960454c21a0504b56   \n",
       "1  778e8e9449210bda0f3fad71081ae3dc954e8a64   \n",
       "2  2898b4e342591dc98848663caa74a9bb7fee35b4   \n",
       "3  5c94a7ff67ad38f6fdcaa7a950eeb9622ff960aa   \n",
       "4  ed28ddca1a1ff1026cc068a0a85540eb756f655e   \n",
       "\n",
       "                                 commitID_2  \\\n",
       "0  14d4b8007cddcbd6197404f7ad435b9b514b2859   \n",
       "1  b4c13fc0ed80fbfe59df1ce960454c21a0504b56   \n",
       "2  778e8e9449210bda0f3fad71081ae3dc954e8a64   \n",
       "3  2898b4e342591dc98848663caa74a9bb7fee35b4   \n",
       "4  5c94a7ff67ad38f6fdcaa7a950eeb9622ff960aa   \n",
       "\n",
       "                                            filename #line_changed  \n",
       "0  .../src/main/java/org/apache/openjpa/kernel/Br...            10  \n",
       "1                                            pom.xml             6  \n",
       "2      .../openjpa/jdbc/sql/SQLServerDictionary.java            23  \n",
       "3  .../org/apache/openjpa/persistence/criteria/Cr...             2  \n",
       "4  .../org/apache/openjpa/jdbc/meta/ClassMapping....             2  "
      ]
     },
     "execution_count": 21,
     "metadata": {},
     "output_type": "execute_result"
    }
   ],
   "source": [
    "datamyers = pd.read_csv(\"diffmyers.csv\")\n",
    "sc = datamyers[header]\n",
    "sc.head()"
   ]
  },
  {
   "cell_type": "code",
   "execution_count": 22,
   "metadata": {},
   "outputs": [
    {
     "data": {
      "text/html": [
       "<div>\n",
       "<style>\n",
       "    .dataframe thead tr:only-child th {\n",
       "        text-align: right;\n",
       "    }\n",
       "\n",
       "    .dataframe thead th {\n",
       "        text-align: left;\n",
       "    }\n",
       "\n",
       "    .dataframe tbody tr th {\n",
       "        vertical-align: top;\n",
       "    }\n",
       "</style>\n",
       "<table border=\"1\" class=\"dataframe\">\n",
       "  <thead>\n",
       "    <tr style=\"text-align: right;\">\n",
       "      <th></th>\n",
       "      <th>filename</th>\n",
       "      <th>SUM #line_changed</th>\n",
       "    </tr>\n",
       "  </thead>\n",
       "  <tbody>\n",
       "    <tr>\n",
       "      <th>0</th>\n",
       "      <td>openjpaproject/src/doc/manual/manual.xml</td>\n",
       "      <td>67869.0</td>\n",
       "    </tr>\n",
       "    <tr>\n",
       "      <th>1</th>\n",
       "      <td>.../java/openbook/tools/parser/JavaParser.java</td>\n",
       "      <td>20088.0</td>\n",
       "    </tr>\n",
       "    <tr>\n",
       "      <th>2</th>\n",
       "      <td>.../src/doc/manual/ref_guide_dbsetup.xml</td>\n",
       "      <td>11552.0</td>\n",
       "    </tr>\n",
       "    <tr>\n",
       "      <th>3</th>\n",
       "      <td>Bin</td>\n",
       "      <td>9705.0</td>\n",
       "    </tr>\n",
       "    <tr>\n",
       "      <th>4</th>\n",
       "      <td>.../java/org/apache/openjpa/kernel/BrokerImpl....</td>\n",
       "      <td>9522.0</td>\n",
       "    </tr>\n",
       "  </tbody>\n",
       "</table>\n",
       "</div>"
      ],
      "text/plain": [
       "                                            filename  SUM #line_changed\n",
       "0           openjpaproject/src/doc/manual/manual.xml            67869.0\n",
       "1     .../java/openbook/tools/parser/JavaParser.java            20088.0\n",
       "2           .../src/doc/manual/ref_guide_dbsetup.xml            11552.0\n",
       "3                                                Bin             9705.0\n",
       "4  .../java/org/apache/openjpa/kernel/BrokerImpl....             9522.0"
      ]
     },
     "execution_count": 22,
     "metadata": {},
     "output_type": "execute_result"
    }
   ],
   "source": [
    "dfmyers = pd.read_csv('diffmyers.csv')\n",
    "dfmyers = (pd.to_numeric(dfmyers['#line_changed'], errors='coerce')\n",
    "       .groupby(dfmyers['filename'])\n",
    "       .sum()\n",
    "       .to_frame()\n",
    "       .add_prefix('SUM ')\n",
    "       .reset_index())\n",
    "\n",
    "col = ['filename','SUM #line_changed']\n",
    "dfmyers = dfmyers.dropna(subset=['SUM #line_changed'])\n",
    "dfmyers = dfmyers.sort_values('SUM #line_changed', ascending=False)\n",
    "\n",
    "dfmyers[col].to_csv('diffmyersfilechanged.csv')\n",
    "out = pd.read_csv('diffmyersfilechanged.csv')\n",
    "saved = out[col]\n",
    "saved.head()"
   ]
  },
  {
   "cell_type": "code",
   "execution_count": 23,
   "metadata": {},
   "outputs": [
    {
     "data": {
      "text/html": [
       "<script>requirejs.config({paths: { 'plotly': ['https://cdn.plot.ly/plotly-latest.min']},});if(!window.Plotly) {{require(['plotly'],function(plotly) {window.Plotly=plotly;});}}</script>"
      ],
      "text/vnd.plotly.v1+html": [
       "<script>requirejs.config({paths: { 'plotly': ['https://cdn.plot.ly/plotly-latest.min']},});if(!window.Plotly) {{require(['plotly'],function(plotly) {window.Plotly=plotly;});}}</script>"
      ]
     },
     "metadata": {},
     "output_type": "display_data"
    },
    {
     "data": {
      "application/vnd.plotly.v1+json": {
       "data": [
        {
         "name": "--diff-algorithm=myers",
         "type": "bar",
         "x": [
          "openjpaproject/src/doc/manual/manual.xml",
          ".../java/openbook/tools/parser/JavaParser.java",
          ".../src/doc/manual/ref_guide_dbsetup.xml",
          "Bin",
          ".../java/org/apache/openjpa/kernel/BrokerImpl.java",
          ".../src/doc/manual/jpa_overview_query.xml",
          ".../src/doc/manual/jpa_overview_meta.xml",
          ".../src/doc/manual/ref_guide_mapping.xml",
          "openjpaproject/src/doc/manual/ref_guide_conf.xml",
          ".../org/apache/openjpa/jdbc/sql/DBDictionary.java"
         ],
         "y": [
          67869,
          20088,
          11552,
          9705,
          9522,
          9337,
          8995,
          8826,
          8298,
          7789
         ]
        },
        {
         "name": "--diff-algorithm=myers",
         "type": "scatter",
         "x": [
          "openjpaproject/src/doc/manual/manual.xml",
          ".../java/openbook/tools/parser/JavaParser.java",
          ".../src/doc/manual/ref_guide_dbsetup.xml",
          "Bin",
          ".../java/org/apache/openjpa/kernel/BrokerImpl.java",
          ".../src/doc/manual/jpa_overview_query.xml",
          ".../src/doc/manual/jpa_overview_meta.xml",
          ".../src/doc/manual/ref_guide_mapping.xml",
          "openjpaproject/src/doc/manual/ref_guide_conf.xml",
          ".../org/apache/openjpa/jdbc/sql/DBDictionary.java"
         ],
         "y": [
          67869,
          20088,
          11552,
          9705,
          9522,
          9337,
          8995,
          8826,
          8298,
          7789
         ]
        }
       ],
       "layout": {
        "barmode": "group"
       }
      },
      "text/html": [
       "<div id=\"8c9c4498-3ac3-452d-8e8e-06ddf8b1216c\" style=\"height: 525px; width: 100%;\" class=\"plotly-graph-div\"></div><script type=\"text/javascript\">require([\"plotly\"], function(Plotly) { window.PLOTLYENV=window.PLOTLYENV || {};window.PLOTLYENV.BASE_URL=\"https://plot.ly\";Plotly.newPlot(\"8c9c4498-3ac3-452d-8e8e-06ddf8b1216c\", [{\"type\": \"bar\", \"x\": [\"openjpaproject/src/doc/manual/manual.xml\", \".../java/openbook/tools/parser/JavaParser.java\", \".../src/doc/manual/ref_guide_dbsetup.xml\", \"Bin\", \".../java/org/apache/openjpa/kernel/BrokerImpl.java\", \".../src/doc/manual/jpa_overview_query.xml\", \".../src/doc/manual/jpa_overview_meta.xml\", \".../src/doc/manual/ref_guide_mapping.xml\", \"openjpaproject/src/doc/manual/ref_guide_conf.xml\", \".../org/apache/openjpa/jdbc/sql/DBDictionary.java\"], \"y\": [67869.0, 20088.0, 11552.0, 9705.0, 9522.0, 9337.0, 8995.0, 8826.0, 8298.0, 7789.0], \"name\": \"--diff-algorithm=myers\"}, {\"type\": \"scatter\", \"x\": [\"openjpaproject/src/doc/manual/manual.xml\", \".../java/openbook/tools/parser/JavaParser.java\", \".../src/doc/manual/ref_guide_dbsetup.xml\", \"Bin\", \".../java/org/apache/openjpa/kernel/BrokerImpl.java\", \".../src/doc/manual/jpa_overview_query.xml\", \".../src/doc/manual/jpa_overview_meta.xml\", \".../src/doc/manual/ref_guide_mapping.xml\", \"openjpaproject/src/doc/manual/ref_guide_conf.xml\", \".../org/apache/openjpa/jdbc/sql/DBDictionary.java\"], \"y\": [67869.0, 20088.0, 11552.0, 9705.0, 9522.0, 9337.0, 8995.0, 8826.0, 8298.0, 7789.0], \"name\": \"--diff-algorithm=myers\"}], {\"barmode\": \"group\"}, {\"showLink\": false, \"linkText\": \"Export to plot.ly\"})});</script>"
      ],
      "text/vnd.plotly.v1+html": [
       "<div id=\"8c9c4498-3ac3-452d-8e8e-06ddf8b1216c\" style=\"height: 525px; width: 100%;\" class=\"plotly-graph-div\"></div><script type=\"text/javascript\">require([\"plotly\"], function(Plotly) { window.PLOTLYENV=window.PLOTLYENV || {};window.PLOTLYENV.BASE_URL=\"https://plot.ly\";Plotly.newPlot(\"8c9c4498-3ac3-452d-8e8e-06ddf8b1216c\", [{\"type\": \"bar\", \"x\": [\"openjpaproject/src/doc/manual/manual.xml\", \".../java/openbook/tools/parser/JavaParser.java\", \".../src/doc/manual/ref_guide_dbsetup.xml\", \"Bin\", \".../java/org/apache/openjpa/kernel/BrokerImpl.java\", \".../src/doc/manual/jpa_overview_query.xml\", \".../src/doc/manual/jpa_overview_meta.xml\", \".../src/doc/manual/ref_guide_mapping.xml\", \"openjpaproject/src/doc/manual/ref_guide_conf.xml\", \".../org/apache/openjpa/jdbc/sql/DBDictionary.java\"], \"y\": [67869.0, 20088.0, 11552.0, 9705.0, 9522.0, 9337.0, 8995.0, 8826.0, 8298.0, 7789.0], \"name\": \"--diff-algorithm=myers\"}, {\"type\": \"scatter\", \"x\": [\"openjpaproject/src/doc/manual/manual.xml\", \".../java/openbook/tools/parser/JavaParser.java\", \".../src/doc/manual/ref_guide_dbsetup.xml\", \"Bin\", \".../java/org/apache/openjpa/kernel/BrokerImpl.java\", \".../src/doc/manual/jpa_overview_query.xml\", \".../src/doc/manual/jpa_overview_meta.xml\", \".../src/doc/manual/ref_guide_mapping.xml\", \"openjpaproject/src/doc/manual/ref_guide_conf.xml\", \".../org/apache/openjpa/jdbc/sql/DBDictionary.java\"], \"y\": [67869.0, 20088.0, 11552.0, 9705.0, 9522.0, 9337.0, 8995.0, 8826.0, 8298.0, 7789.0], \"name\": \"--diff-algorithm=myers\"}], {\"barmode\": \"group\"}, {\"showLink\": false, \"linkText\": \"Export to plot.ly\"})});</script>"
      ]
     },
     "metadata": {},
     "output_type": "display_data"
    }
   ],
   "source": [
    "trace3 = go.Bar(\n",
    "    x=dfmyers['filename'][:10],\n",
    "    y=dfmyers['SUM #line_changed'][:10],\n",
    "    name='--diff-algorithm=myers'\n",
    ")\n",
    "\n",
    "trace4 = go.Scatter(\n",
    "    x=dfmyers['filename'][:10],\n",
    "    y=dfmyers['SUM #line_changed'][:10],\n",
    "    name='--diff-algorithm=myers')\n",
    "\n",
    "dt = [trace3, trace4]\n",
    "layout = go.Layout(\n",
    "    barmode='group'\n",
    ")\n",
    "\n",
    "init_notebook_mode(connected=True)\n",
    "fig = go.Figure(data=dt, layout=layout)\n",
    "iplot(fig, show_link=False)"
   ]
  },
  {
   "cell_type": "markdown",
   "metadata": {},
   "source": [
    "# Applying git diff -w --diff-algorithm=patience --stat commitID_1 commitID2"
   ]
  },
  {
   "cell_type": "code",
   "execution_count": 24,
   "metadata": {},
   "outputs": [
    {
     "name": "stdout",
     "output_type": "stream",
     "text": [
      "Applying diff between commits = 4860 out of 4860"
     ]
    }
   ],
   "source": [
    "diffpatience = []\n",
    "for i in range(0, len(com_ID)-3):\n",
    "    sys.stdout.write('\\rApplying diff between commits = %i' % (i+1) + ' out of %i' % (len(com_ID)-3))\n",
    "    sys.stdout.flush()\n",
    "    diff_cmd = \"git diff -w --diff-algorithm=patience --stat \" + com_ID[i+1] + \" \" + com_ID[i]\n",
    "    tmp = (str(execute_shell_command(com_ID[i+1], com_ID[i], diff_cmd, repository)).replace(\"(\",'').replace(\"+\",'').\n",
    "           replace(\"-\",'').replace(\"\\\\n\",'').replace(\"b'\",'').replace(\"(+)\",'').replace(\"(-)\",'').replace(\")\",'').\n",
    "           replace(\"|\",'').replace(\" => \",'=>').replace(\"... \",'...').replace(\"...> \",'...>').\n",
    "           replace(\"...=> \",'...=>').replace(\" Code \",\"Code\"))\n",
    "    tmp = re.sub(\"([a-z])\" and \"([ ])\", r\"\\1,\", tmp)\n",
    "    tmp2 = (str(tmp).replace(\"\\'\",'').replace(\", \",'').replace(\",files\",'files').replace(\",changed\",\"changed\").\n",
    "                    replace(\",file\",'files').replace(\",insertions\",'insertions').\n",
    "                    replace(\",insertion\",'insertions').replace(\",deletions,\",'deletions').\n",
    "                    replace(\",deletion,\",'deletions').replace(\" \",''))\n",
    "    diffpatience.append(str(tmp2))\n",
    "    \n",
    "diffpatienceresult = []\n",
    "for item in diffpatience:\n",
    "    if item == ', ':\n",
    "        del item\n",
    "    else:\n",
    "        diffpatienceresult.append(item)"
   ]
  },
  {
   "cell_type": "code",
   "execution_count": 25,
   "metadata": {
    "collapsed": true
   },
   "outputs": [],
   "source": [
    "diffpatiencesres = []\n",
    "for x in range(0,len(diffpatienceresult)-1):\n",
    "    line = diffpatienceresult[x]\n",
    "    if \"changed\" not in diffpatienceresult[x]:\n",
    "        pass\n",
    "    else:\n",
    "        if \"deletions\" not in diffpatienceresult[x]:\n",
    "            diffpatiencesres.append(line + '0 deletions')\n",
    "        else:\n",
    "            if \"insertions\" not in diffpatienceresult[x]:\n",
    "                index = line.find('changed,')\n",
    "                diffpatiencesres.append(line[:index+8] + '0 insertions' + line[index+7:])\n",
    "            else:\n",
    "                diffpatiencesres.append(diffpatienceresult[x])"
   ]
  },
  {
   "cell_type": "code",
   "execution_count": 26,
   "metadata": {
    "collapsed": true
   },
   "outputs": [],
   "source": [
    "klpatience = []\n",
    "respatience = []\n",
    "for x in range(0, len(diffpatiencesres)-1):\n",
    "    klpatience = diffpatiencesres[x].split(',')\n",
    "    respatience.append(klpatience)"
   ]
  },
  {
   "cell_type": "code",
   "execution_count": 27,
   "metadata": {
    "collapsed": true
   },
   "outputs": [],
   "source": [
    "temp1patience = []\n",
    "for b in range(0,len(respatience)-1):\n",
    "    temp2patience = []\n",
    "    for c in range(0,len(respatience[b])-3):\n",
    "        temp2patience.append(respatience[b][c])\n",
    "    temp1patience.append(temp2patience)"
   ]
  },
  {
   "cell_type": "code",
   "execution_count": 28,
   "metadata": {
    "collapsed": true
   },
   "outputs": [],
   "source": [
    "with open('diffpatience.csv', 'w') as csvfile:\n",
    "    header = ['commitID_1', 'commitID_2', 'filename', '#line_changed']\n",
    "    writers = csv.writer(csvfile, delimiter=',')\n",
    "    writers.writerow(header)\n",
    "    for cmp in range(0,len(temp1patience)-1):\n",
    "        x = 2\n",
    "        y = 4\n",
    "        if len(temp1patience[cmp])<=4:\n",
    "            writers.writerow(temp1patience[cmp])\n",
    "        else:\n",
    "            s = (len(temp1patience[cmp])-2)/2\n",
    "            for g in range(1, int(s)):\n",
    "                v = []\n",
    "                for col1 in range(0,2):\n",
    "                    v.append(temp1patience[cmp][col1])\n",
    "                for col2 in range(x,y):\n",
    "                    if re.findall(r'\\d+',temp1patience[cmp][col2]) == True:\n",
    "                        v.append(re.findall(r'\\d+',temp1patience[cmp][col2]))\n",
    "                    else:\n",
    "                        v.append(temp1patience[cmp][col2])\n",
    "                x = x + 2\n",
    "                y = y + 2\n",
    "                writers.writerow(v)"
   ]
  },
  {
   "cell_type": "code",
   "execution_count": 29,
   "metadata": {},
   "outputs": [
    {
     "data": {
      "text/html": [
       "<div>\n",
       "<style>\n",
       "    .dataframe thead tr:only-child th {\n",
       "        text-align: right;\n",
       "    }\n",
       "\n",
       "    .dataframe thead th {\n",
       "        text-align: left;\n",
       "    }\n",
       "\n",
       "    .dataframe tbody tr th {\n",
       "        vertical-align: top;\n",
       "    }\n",
       "</style>\n",
       "<table border=\"1\" class=\"dataframe\">\n",
       "  <thead>\n",
       "    <tr style=\"text-align: right;\">\n",
       "      <th></th>\n",
       "      <th>commitID_1</th>\n",
       "      <th>commitID_2</th>\n",
       "      <th>filename</th>\n",
       "      <th>#line_changed</th>\n",
       "    </tr>\n",
       "  </thead>\n",
       "  <tbody>\n",
       "    <tr>\n",
       "      <th>0</th>\n",
       "      <td>b4c13fc0ed80fbfe59df1ce960454c21a0504b56</td>\n",
       "      <td>14d4b8007cddcbd6197404f7ad435b9b514b2859</td>\n",
       "      <td>.../src/main/java/org/apache/openjpa/kernel/Br...</td>\n",
       "      <td>10</td>\n",
       "    </tr>\n",
       "    <tr>\n",
       "      <th>1</th>\n",
       "      <td>778e8e9449210bda0f3fad71081ae3dc954e8a64</td>\n",
       "      <td>b4c13fc0ed80fbfe59df1ce960454c21a0504b56</td>\n",
       "      <td>pom.xml</td>\n",
       "      <td>6</td>\n",
       "    </tr>\n",
       "    <tr>\n",
       "      <th>2</th>\n",
       "      <td>2898b4e342591dc98848663caa74a9bb7fee35b4</td>\n",
       "      <td>778e8e9449210bda0f3fad71081ae3dc954e8a64</td>\n",
       "      <td>.../openjpa/jdbc/sql/SQLServerDictionary.java</td>\n",
       "      <td>23</td>\n",
       "    </tr>\n",
       "    <tr>\n",
       "      <th>3</th>\n",
       "      <td>5c94a7ff67ad38f6fdcaa7a950eeb9622ff960aa</td>\n",
       "      <td>2898b4e342591dc98848663caa74a9bb7fee35b4</td>\n",
       "      <td>.../org/apache/openjpa/persistence/criteria/Cr...</td>\n",
       "      <td>2</td>\n",
       "    </tr>\n",
       "    <tr>\n",
       "      <th>4</th>\n",
       "      <td>ed28ddca1a1ff1026cc068a0a85540eb756f655e</td>\n",
       "      <td>5c94a7ff67ad38f6fdcaa7a950eeb9622ff960aa</td>\n",
       "      <td>.../org/apache/openjpa/jdbc/meta/ClassMapping....</td>\n",
       "      <td>2</td>\n",
       "    </tr>\n",
       "  </tbody>\n",
       "</table>\n",
       "</div>"
      ],
      "text/plain": [
       "                                 commitID_1  \\\n",
       "0  b4c13fc0ed80fbfe59df1ce960454c21a0504b56   \n",
       "1  778e8e9449210bda0f3fad71081ae3dc954e8a64   \n",
       "2  2898b4e342591dc98848663caa74a9bb7fee35b4   \n",
       "3  5c94a7ff67ad38f6fdcaa7a950eeb9622ff960aa   \n",
       "4  ed28ddca1a1ff1026cc068a0a85540eb756f655e   \n",
       "\n",
       "                                 commitID_2  \\\n",
       "0  14d4b8007cddcbd6197404f7ad435b9b514b2859   \n",
       "1  b4c13fc0ed80fbfe59df1ce960454c21a0504b56   \n",
       "2  778e8e9449210bda0f3fad71081ae3dc954e8a64   \n",
       "3  2898b4e342591dc98848663caa74a9bb7fee35b4   \n",
       "4  5c94a7ff67ad38f6fdcaa7a950eeb9622ff960aa   \n",
       "\n",
       "                                            filename #line_changed  \n",
       "0  .../src/main/java/org/apache/openjpa/kernel/Br...            10  \n",
       "1                                            pom.xml             6  \n",
       "2      .../openjpa/jdbc/sql/SQLServerDictionary.java            23  \n",
       "3  .../org/apache/openjpa/persistence/criteria/Cr...             2  \n",
       "4  .../org/apache/openjpa/jdbc/meta/ClassMapping....             2  "
      ]
     },
     "execution_count": 29,
     "metadata": {},
     "output_type": "execute_result"
    }
   ],
   "source": [
    "datapatience = pd.read_csv(\"diffpatience.csv\")\n",
    "sc = datapatience[header]\n",
    "sc.head()"
   ]
  },
  {
   "cell_type": "code",
   "execution_count": 30,
   "metadata": {},
   "outputs": [
    {
     "data": {
      "text/html": [
       "<div>\n",
       "<style>\n",
       "    .dataframe thead tr:only-child th {\n",
       "        text-align: right;\n",
       "    }\n",
       "\n",
       "    .dataframe thead th {\n",
       "        text-align: left;\n",
       "    }\n",
       "\n",
       "    .dataframe tbody tr th {\n",
       "        vertical-align: top;\n",
       "    }\n",
       "</style>\n",
       "<table border=\"1\" class=\"dataframe\">\n",
       "  <thead>\n",
       "    <tr style=\"text-align: right;\">\n",
       "      <th></th>\n",
       "      <th>filename</th>\n",
       "      <th>SUM #line_changed</th>\n",
       "    </tr>\n",
       "  </thead>\n",
       "  <tbody>\n",
       "    <tr>\n",
       "      <th>0</th>\n",
       "      <td>openjpaproject/src/doc/manual/manual.xml</td>\n",
       "      <td>67857.0</td>\n",
       "    </tr>\n",
       "    <tr>\n",
       "      <th>1</th>\n",
       "      <td>.../java/openbook/tools/parser/JavaParser.java</td>\n",
       "      <td>20088.0</td>\n",
       "    </tr>\n",
       "    <tr>\n",
       "      <th>2</th>\n",
       "      <td>.../src/doc/manual/ref_guide_dbsetup.xml</td>\n",
       "      <td>12120.0</td>\n",
       "    </tr>\n",
       "    <tr>\n",
       "      <th>3</th>\n",
       "      <td>Bin</td>\n",
       "      <td>9705.0</td>\n",
       "    </tr>\n",
       "    <tr>\n",
       "      <th>4</th>\n",
       "      <td>.../java/org/apache/openjpa/kernel/BrokerImpl....</td>\n",
       "      <td>9524.0</td>\n",
       "    </tr>\n",
       "  </tbody>\n",
       "</table>\n",
       "</div>"
      ],
      "text/plain": [
       "                                            filename  SUM #line_changed\n",
       "0           openjpaproject/src/doc/manual/manual.xml            67857.0\n",
       "1     .../java/openbook/tools/parser/JavaParser.java            20088.0\n",
       "2           .../src/doc/manual/ref_guide_dbsetup.xml            12120.0\n",
       "3                                                Bin             9705.0\n",
       "4  .../java/org/apache/openjpa/kernel/BrokerImpl....             9524.0"
      ]
     },
     "execution_count": 30,
     "metadata": {},
     "output_type": "execute_result"
    }
   ],
   "source": [
    "dfpatience = pd.read_csv('diffpatience.csv')\n",
    "dfpatience = (pd.to_numeric(dfpatience['#line_changed'], errors='coerce')\n",
    "       .groupby(dfpatience['filename'])\n",
    "       .sum()\n",
    "       .to_frame()\n",
    "       .add_prefix('SUM ')\n",
    "       .reset_index())\n",
    "\n",
    "col = ['filename','SUM #line_changed']\n",
    "dfpatience = dfpatience.dropna(subset=['SUM #line_changed'])\n",
    "dfpatience = dfpatience.sort_values('SUM #line_changed', ascending=False)\n",
    "\n",
    "dfpatience[col].to_csv('diffpatiencefilechanged.csv')\n",
    "out = pd.read_csv('diffpatiencefilechanged.csv')\n",
    "saved = out[col]\n",
    "saved.head()"
   ]
  },
  {
   "cell_type": "code",
   "execution_count": 31,
   "metadata": {},
   "outputs": [
    {
     "data": {
      "text/html": [
       "<script>requirejs.config({paths: { 'plotly': ['https://cdn.plot.ly/plotly-latest.min']},});if(!window.Plotly) {{require(['plotly'],function(plotly) {window.Plotly=plotly;});}}</script>"
      ],
      "text/vnd.plotly.v1+html": [
       "<script>requirejs.config({paths: { 'plotly': ['https://cdn.plot.ly/plotly-latest.min']},});if(!window.Plotly) {{require(['plotly'],function(plotly) {window.Plotly=plotly;});}}</script>"
      ]
     },
     "metadata": {},
     "output_type": "display_data"
    },
    {
     "data": {
      "application/vnd.plotly.v1+json": {
       "data": [
        {
         "name": "--diff-algorithm=patience",
         "type": "bar",
         "x": [
          "openjpaproject/src/doc/manual/manual.xml",
          ".../java/openbook/tools/parser/JavaParser.java",
          ".../src/doc/manual/ref_guide_dbsetup.xml",
          "Bin",
          ".../java/org/apache/openjpa/kernel/BrokerImpl.java",
          ".../src/doc/manual/jpa_overview_query.xml",
          ".../src/doc/manual/jpa_overview_meta.xml",
          ".../src/doc/manual/ref_guide_mapping.xml",
          "openjpaproject/src/doc/manual/ref_guide_conf.xml",
          ".../org/apache/openjpa/jdbc/sql/DBDictionary.java"
         ],
         "y": [
          67857,
          20088,
          12120,
          9705,
          9524,
          9423,
          9351,
          8678,
          8300,
          7797
         ]
        },
        {
         "name": "--diff-algorithm=patience",
         "type": "scatter",
         "x": [
          "openjpaproject/src/doc/manual/manual.xml",
          ".../java/openbook/tools/parser/JavaParser.java",
          ".../src/doc/manual/ref_guide_dbsetup.xml",
          "Bin",
          ".../java/org/apache/openjpa/kernel/BrokerImpl.java",
          ".../src/doc/manual/jpa_overview_query.xml",
          ".../src/doc/manual/jpa_overview_meta.xml",
          ".../src/doc/manual/ref_guide_mapping.xml",
          "openjpaproject/src/doc/manual/ref_guide_conf.xml",
          ".../org/apache/openjpa/jdbc/sql/DBDictionary.java"
         ],
         "y": [
          67857,
          20088,
          12120,
          9705,
          9524,
          9423,
          9351,
          8678,
          8300,
          7797
         ]
        }
       ],
       "layout": {
        "barmode": "group"
       }
      },
      "text/html": [
       "<div id=\"2ebbea39-dfa1-4322-809e-6326cfec1705\" style=\"height: 525px; width: 100%;\" class=\"plotly-graph-div\"></div><script type=\"text/javascript\">require([\"plotly\"], function(Plotly) { window.PLOTLYENV=window.PLOTLYENV || {};window.PLOTLYENV.BASE_URL=\"https://plot.ly\";Plotly.newPlot(\"2ebbea39-dfa1-4322-809e-6326cfec1705\", [{\"type\": \"bar\", \"x\": [\"openjpaproject/src/doc/manual/manual.xml\", \".../java/openbook/tools/parser/JavaParser.java\", \".../src/doc/manual/ref_guide_dbsetup.xml\", \"Bin\", \".../java/org/apache/openjpa/kernel/BrokerImpl.java\", \".../src/doc/manual/jpa_overview_query.xml\", \".../src/doc/manual/jpa_overview_meta.xml\", \".../src/doc/manual/ref_guide_mapping.xml\", \"openjpaproject/src/doc/manual/ref_guide_conf.xml\", \".../org/apache/openjpa/jdbc/sql/DBDictionary.java\"], \"y\": [67857.0, 20088.0, 12120.0, 9705.0, 9524.0, 9423.0, 9351.0, 8678.0, 8300.0, 7797.0], \"name\": \"--diff-algorithm=patience\"}, {\"type\": \"scatter\", \"x\": [\"openjpaproject/src/doc/manual/manual.xml\", \".../java/openbook/tools/parser/JavaParser.java\", \".../src/doc/manual/ref_guide_dbsetup.xml\", \"Bin\", \".../java/org/apache/openjpa/kernel/BrokerImpl.java\", \".../src/doc/manual/jpa_overview_query.xml\", \".../src/doc/manual/jpa_overview_meta.xml\", \".../src/doc/manual/ref_guide_mapping.xml\", \"openjpaproject/src/doc/manual/ref_guide_conf.xml\", \".../org/apache/openjpa/jdbc/sql/DBDictionary.java\"], \"y\": [67857.0, 20088.0, 12120.0, 9705.0, 9524.0, 9423.0, 9351.0, 8678.0, 8300.0, 7797.0], \"name\": \"--diff-algorithm=patience\"}], {\"barmode\": \"group\"}, {\"showLink\": false, \"linkText\": \"Export to plot.ly\"})});</script>"
      ],
      "text/vnd.plotly.v1+html": [
       "<div id=\"2ebbea39-dfa1-4322-809e-6326cfec1705\" style=\"height: 525px; width: 100%;\" class=\"plotly-graph-div\"></div><script type=\"text/javascript\">require([\"plotly\"], function(Plotly) { window.PLOTLYENV=window.PLOTLYENV || {};window.PLOTLYENV.BASE_URL=\"https://plot.ly\";Plotly.newPlot(\"2ebbea39-dfa1-4322-809e-6326cfec1705\", [{\"type\": \"bar\", \"x\": [\"openjpaproject/src/doc/manual/manual.xml\", \".../java/openbook/tools/parser/JavaParser.java\", \".../src/doc/manual/ref_guide_dbsetup.xml\", \"Bin\", \".../java/org/apache/openjpa/kernel/BrokerImpl.java\", \".../src/doc/manual/jpa_overview_query.xml\", \".../src/doc/manual/jpa_overview_meta.xml\", \".../src/doc/manual/ref_guide_mapping.xml\", \"openjpaproject/src/doc/manual/ref_guide_conf.xml\", \".../org/apache/openjpa/jdbc/sql/DBDictionary.java\"], \"y\": [67857.0, 20088.0, 12120.0, 9705.0, 9524.0, 9423.0, 9351.0, 8678.0, 8300.0, 7797.0], \"name\": \"--diff-algorithm=patience\"}, {\"type\": \"scatter\", \"x\": [\"openjpaproject/src/doc/manual/manual.xml\", \".../java/openbook/tools/parser/JavaParser.java\", \".../src/doc/manual/ref_guide_dbsetup.xml\", \"Bin\", \".../java/org/apache/openjpa/kernel/BrokerImpl.java\", \".../src/doc/manual/jpa_overview_query.xml\", \".../src/doc/manual/jpa_overview_meta.xml\", \".../src/doc/manual/ref_guide_mapping.xml\", \"openjpaproject/src/doc/manual/ref_guide_conf.xml\", \".../org/apache/openjpa/jdbc/sql/DBDictionary.java\"], \"y\": [67857.0, 20088.0, 12120.0, 9705.0, 9524.0, 9423.0, 9351.0, 8678.0, 8300.0, 7797.0], \"name\": \"--diff-algorithm=patience\"}], {\"barmode\": \"group\"}, {\"showLink\": false, \"linkText\": \"Export to plot.ly\"})});</script>"
      ]
     },
     "metadata": {},
     "output_type": "display_data"
    }
   ],
   "source": [
    "trace5 = go.Bar(\n",
    "    x=dfpatience['filename'][:10],\n",
    "    y=dfpatience['SUM #line_changed'][:10],\n",
    "    name='--diff-algorithm=patience'\n",
    ")\n",
    "\n",
    "trace6 = go.Scatter(\n",
    "    x=dfpatience['filename'][:10],\n",
    "    y=dfpatience['SUM #line_changed'][:10],\n",
    "    name='--diff-algorithm=patience')\n",
    "\n",
    "dt = [trace5, trace6]\n",
    "layout = go.Layout(\n",
    "    barmode='group'\n",
    ")\n",
    "\n",
    "init_notebook_mode(connected=True)\n",
    "fig = go.Figure(data=dt, layout=layout)\n",
    "iplot(fig, show_link=False)"
   ]
  },
  {
   "cell_type": "markdown",
   "metadata": {},
   "source": [
    "# Applying git diff -w --diff-algorithm=minimal --stat commitID_1 commitID2"
   ]
  },
  {
   "cell_type": "code",
   "execution_count": 32,
   "metadata": {},
   "outputs": [
    {
     "name": "stdout",
     "output_type": "stream",
     "text": [
      "Applying diff between commits = 4860 out of 4860"
     ]
    }
   ],
   "source": [
    "diffminimal = []\n",
    "for i in range(0, len(com_ID)-3):\n",
    "    sys.stdout.write('\\rApplying diff between commits = %i' % (i+1) + ' out of %i' % (len(com_ID)-3))\n",
    "    sys.stdout.flush()\n",
    "    diff_cmd = \"git diff -w --diff-algorithm=minimal --stat \" + com_ID[i+1] + \" \" + com_ID[i]\n",
    "    tmp = (str(execute_shell_command(com_ID[i+1], com_ID[i], diff_cmd, repository)).replace(\"(\",'').replace(\"+\",'').\n",
    "           replace(\"-\",'').replace(\"\\\\n\",'').replace(\"b'\",'').replace(\"(+)\",'').replace(\"(-)\",'').replace(\")\",'').\n",
    "           replace(\"|\",'').replace(\" => \",'=>').replace(\"... \",'...').replace(\"...> \",'...>').\n",
    "           replace(\"...=> \",'...=>').replace(\" Code \",\"Code\"))\n",
    "    tmp = re.sub(\"([a-z])\" and \"([ ])\", r\"\\1,\", tmp)\n",
    "    tmp2 = (str(tmp).replace(\"\\'\",'').replace(\", \",'').replace(\",files\",'files').replace(\",changed\",\"changed\").\n",
    "                    replace(\",file\",'files').replace(\",insertions\",'insertions').\n",
    "                    replace(\",insertion\",'insertions').replace(\",deletions,\",'deletions').\n",
    "                    replace(\",deletion,\",'deletions').replace(\" \",''))\n",
    "    diffminimal.append(str(tmp2))\n",
    "    \n",
    "diffminresult = []\n",
    "for item in diffminimal:\n",
    "    if item == ', ':\n",
    "        del item\n",
    "    else:\n",
    "        diffminresult.append(item)"
   ]
  },
  {
   "cell_type": "code",
   "execution_count": 33,
   "metadata": {
    "collapsed": true
   },
   "outputs": [],
   "source": [
    "diffminsres = []\n",
    "for x in range(0,len(diffminresult)-1):\n",
    "    line = diffminresult[x]\n",
    "    if \"changed\" not in diffminresult[x]:\n",
    "        pass\n",
    "    else:\n",
    "        if \"deletions\" not in diffminresult[x]:\n",
    "            diffminsres.append(line + '0 deletions')\n",
    "        else:\n",
    "            if \"insertions\" not in diffminresult[x]:\n",
    "                index = line.find('changed,')\n",
    "                diffminsres.append(line[:index+8] + '0 insertions' + line[index+7:])\n",
    "            else:\n",
    "                diffminsres.append(diffminresult[x])"
   ]
  },
  {
   "cell_type": "code",
   "execution_count": 34,
   "metadata": {
    "collapsed": true
   },
   "outputs": [],
   "source": [
    "klminimal = []\n",
    "resminimal = []\n",
    "for x in range(0, len(diffminsres)-1):\n",
    "    klminimal = diffminsres[x].split(',')\n",
    "    resminimal.append(klminimal)"
   ]
  },
  {
   "cell_type": "code",
   "execution_count": 35,
   "metadata": {
    "collapsed": true
   },
   "outputs": [],
   "source": [
    "temp1min = []\n",
    "for b in range(0,len(resminimal)-1):\n",
    "    temp2min = []\n",
    "    for c in range(0,len(resminimal[b])-3):\n",
    "        temp2min.append(resminimal[b][c])\n",
    "    temp1min.append(temp2min)"
   ]
  },
  {
   "cell_type": "code",
   "execution_count": 36,
   "metadata": {
    "collapsed": true
   },
   "outputs": [],
   "source": [
    "with open('diffminimal.csv', 'w') as csvfile:\n",
    "    header = ['commitID_1', 'commitID_2', 'filename', '#line_changed']\n",
    "    writers = csv.writer(csvfile, delimiter=',')\n",
    "    writers.writerow(header)\n",
    "    for cmp in range(0,len(temp1min)-1):\n",
    "        x = 2\n",
    "        y = 4\n",
    "        if len(temp1min[cmp])<=4:\n",
    "            writers.writerow(temp1min[cmp])\n",
    "        else:\n",
    "            s = (len(temp1min[cmp])-2)/2\n",
    "            for g in range(1, int(s)):\n",
    "                v = []\n",
    "                for col1 in range(0,2):\n",
    "                    v.append(temp1min[cmp][col1])\n",
    "                for col2 in range(x,y):\n",
    "                    if re.findall(r'\\d+',temp1min[cmp][col2]) == True:\n",
    "                        v.append(re.findall(r'\\d+',temp1min[cmp][col2]))\n",
    "                    else:\n",
    "                        v.append(temp1min[cmp][col2])\n",
    "                x = x + 2\n",
    "                y = y + 2\n",
    "                writers.writerow(v)"
   ]
  },
  {
   "cell_type": "code",
   "execution_count": 37,
   "metadata": {},
   "outputs": [
    {
     "data": {
      "text/html": [
       "<div>\n",
       "<style>\n",
       "    .dataframe thead tr:only-child th {\n",
       "        text-align: right;\n",
       "    }\n",
       "\n",
       "    .dataframe thead th {\n",
       "        text-align: left;\n",
       "    }\n",
       "\n",
       "    .dataframe tbody tr th {\n",
       "        vertical-align: top;\n",
       "    }\n",
       "</style>\n",
       "<table border=\"1\" class=\"dataframe\">\n",
       "  <thead>\n",
       "    <tr style=\"text-align: right;\">\n",
       "      <th></th>\n",
       "      <th>commitID_1</th>\n",
       "      <th>commitID_2</th>\n",
       "      <th>filename</th>\n",
       "      <th>#line_changed</th>\n",
       "    </tr>\n",
       "  </thead>\n",
       "  <tbody>\n",
       "    <tr>\n",
       "      <th>0</th>\n",
       "      <td>b4c13fc0ed80fbfe59df1ce960454c21a0504b56</td>\n",
       "      <td>14d4b8007cddcbd6197404f7ad435b9b514b2859</td>\n",
       "      <td>.../src/main/java/org/apache/openjpa/kernel/Br...</td>\n",
       "      <td>10</td>\n",
       "    </tr>\n",
       "    <tr>\n",
       "      <th>1</th>\n",
       "      <td>778e8e9449210bda0f3fad71081ae3dc954e8a64</td>\n",
       "      <td>b4c13fc0ed80fbfe59df1ce960454c21a0504b56</td>\n",
       "      <td>pom.xml</td>\n",
       "      <td>6</td>\n",
       "    </tr>\n",
       "    <tr>\n",
       "      <th>2</th>\n",
       "      <td>2898b4e342591dc98848663caa74a9bb7fee35b4</td>\n",
       "      <td>778e8e9449210bda0f3fad71081ae3dc954e8a64</td>\n",
       "      <td>.../openjpa/jdbc/sql/SQLServerDictionary.java</td>\n",
       "      <td>23</td>\n",
       "    </tr>\n",
       "    <tr>\n",
       "      <th>3</th>\n",
       "      <td>5c94a7ff67ad38f6fdcaa7a950eeb9622ff960aa</td>\n",
       "      <td>2898b4e342591dc98848663caa74a9bb7fee35b4</td>\n",
       "      <td>.../org/apache/openjpa/persistence/criteria/Cr...</td>\n",
       "      <td>2</td>\n",
       "    </tr>\n",
       "    <tr>\n",
       "      <th>4</th>\n",
       "      <td>ed28ddca1a1ff1026cc068a0a85540eb756f655e</td>\n",
       "      <td>5c94a7ff67ad38f6fdcaa7a950eeb9622ff960aa</td>\n",
       "      <td>.../org/apache/openjpa/jdbc/meta/ClassMapping....</td>\n",
       "      <td>2</td>\n",
       "    </tr>\n",
       "  </tbody>\n",
       "</table>\n",
       "</div>"
      ],
      "text/plain": [
       "                                 commitID_1  \\\n",
       "0  b4c13fc0ed80fbfe59df1ce960454c21a0504b56   \n",
       "1  778e8e9449210bda0f3fad71081ae3dc954e8a64   \n",
       "2  2898b4e342591dc98848663caa74a9bb7fee35b4   \n",
       "3  5c94a7ff67ad38f6fdcaa7a950eeb9622ff960aa   \n",
       "4  ed28ddca1a1ff1026cc068a0a85540eb756f655e   \n",
       "\n",
       "                                 commitID_2  \\\n",
       "0  14d4b8007cddcbd6197404f7ad435b9b514b2859   \n",
       "1  b4c13fc0ed80fbfe59df1ce960454c21a0504b56   \n",
       "2  778e8e9449210bda0f3fad71081ae3dc954e8a64   \n",
       "3  2898b4e342591dc98848663caa74a9bb7fee35b4   \n",
       "4  5c94a7ff67ad38f6fdcaa7a950eeb9622ff960aa   \n",
       "\n",
       "                                            filename #line_changed  \n",
       "0  .../src/main/java/org/apache/openjpa/kernel/Br...            10  \n",
       "1                                            pom.xml             6  \n",
       "2      .../openjpa/jdbc/sql/SQLServerDictionary.java            23  \n",
       "3  .../org/apache/openjpa/persistence/criteria/Cr...             2  \n",
       "4  .../org/apache/openjpa/jdbc/meta/ClassMapping....             2  "
      ]
     },
     "execution_count": 37,
     "metadata": {},
     "output_type": "execute_result"
    }
   ],
   "source": [
    "dataminimal = pd.read_csv(\"diffminimal.csv\")\n",
    "sc = dataminimal[header]\n",
    "sc.head()"
   ]
  },
  {
   "cell_type": "code",
   "execution_count": 38,
   "metadata": {},
   "outputs": [
    {
     "data": {
      "text/html": [
       "<div>\n",
       "<style>\n",
       "    .dataframe thead tr:only-child th {\n",
       "        text-align: right;\n",
       "    }\n",
       "\n",
       "    .dataframe thead th {\n",
       "        text-align: left;\n",
       "    }\n",
       "\n",
       "    .dataframe tbody tr th {\n",
       "        vertical-align: top;\n",
       "    }\n",
       "</style>\n",
       "<table border=\"1\" class=\"dataframe\">\n",
       "  <thead>\n",
       "    <tr style=\"text-align: right;\">\n",
       "      <th></th>\n",
       "      <th>filename</th>\n",
       "      <th>SUM #line_changed</th>\n",
       "    </tr>\n",
       "  </thead>\n",
       "  <tbody>\n",
       "    <tr>\n",
       "      <th>0</th>\n",
       "      <td>openjpaproject/src/doc/manual/manual.xml</td>\n",
       "      <td>67857.0</td>\n",
       "    </tr>\n",
       "    <tr>\n",
       "      <th>1</th>\n",
       "      <td>.../java/openbook/tools/parser/JavaParser.java</td>\n",
       "      <td>20088.0</td>\n",
       "    </tr>\n",
       "    <tr>\n",
       "      <th>2</th>\n",
       "      <td>.../src/doc/manual/ref_guide_dbsetup.xml</td>\n",
       "      <td>11378.0</td>\n",
       "    </tr>\n",
       "    <tr>\n",
       "      <th>3</th>\n",
       "      <td>Bin</td>\n",
       "      <td>9705.0</td>\n",
       "    </tr>\n",
       "    <tr>\n",
       "      <th>4</th>\n",
       "      <td>.../java/org/apache/openjpa/kernel/BrokerImpl....</td>\n",
       "      <td>9522.0</td>\n",
       "    </tr>\n",
       "  </tbody>\n",
       "</table>\n",
       "</div>"
      ],
      "text/plain": [
       "                                            filename  SUM #line_changed\n",
       "0           openjpaproject/src/doc/manual/manual.xml            67857.0\n",
       "1     .../java/openbook/tools/parser/JavaParser.java            20088.0\n",
       "2           .../src/doc/manual/ref_guide_dbsetup.xml            11378.0\n",
       "3                                                Bin             9705.0\n",
       "4  .../java/org/apache/openjpa/kernel/BrokerImpl....             9522.0"
      ]
     },
     "execution_count": 38,
     "metadata": {},
     "output_type": "execute_result"
    }
   ],
   "source": [
    "dfminimal = pd.read_csv('diffminimal.csv')\n",
    "dfminimal = (pd.to_numeric(dfminimal['#line_changed'], errors='coerce')\n",
    "       .groupby(dfminimal['filename'])\n",
    "       .sum()\n",
    "       .to_frame()\n",
    "       .add_prefix('SUM ')\n",
    "       .reset_index())\n",
    "\n",
    "col = ['filename','SUM #line_changed']\n",
    "dfminimal = dfminimal.dropna(subset=['SUM #line_changed'])\n",
    "dfminimal = dfminimal.sort_values('SUM #line_changed', ascending=False)\n",
    "\n",
    "dfminimal[col].to_csv('diffminimalfilechanged.csv')\n",
    "out = pd.read_csv('diffminimalfilechanged.csv')\n",
    "saved = out[col]\n",
    "saved.head()"
   ]
  },
  {
   "cell_type": "code",
   "execution_count": 39,
   "metadata": {},
   "outputs": [
    {
     "data": {
      "text/html": [
       "<script>requirejs.config({paths: { 'plotly': ['https://cdn.plot.ly/plotly-latest.min']},});if(!window.Plotly) {{require(['plotly'],function(plotly) {window.Plotly=plotly;});}}</script>"
      ],
      "text/vnd.plotly.v1+html": [
       "<script>requirejs.config({paths: { 'plotly': ['https://cdn.plot.ly/plotly-latest.min']},});if(!window.Plotly) {{require(['plotly'],function(plotly) {window.Plotly=plotly;});}}</script>"
      ]
     },
     "metadata": {},
     "output_type": "display_data"
    },
    {
     "data": {
      "application/vnd.plotly.v1+json": {
       "data": [
        {
         "name": "--diff-algorithm=minimal",
         "type": "bar",
         "x": [
          "openjpaproject/src/doc/manual/manual.xml",
          ".../java/openbook/tools/parser/JavaParser.java",
          ".../src/doc/manual/ref_guide_dbsetup.xml",
          "Bin",
          ".../java/org/apache/openjpa/kernel/BrokerImpl.java",
          ".../src/doc/manual/jpa_overview_query.xml",
          ".../src/doc/manual/jpa_overview_meta.xml",
          ".../src/doc/manual/ref_guide_mapping.xml",
          "openjpaproject/src/doc/manual/ref_guide_conf.xml",
          ".../org/apache/openjpa/jdbc/sql/DBDictionary.java"
         ],
         "y": [
          67857,
          20088,
          11378,
          9705,
          9522,
          9295,
          8975,
          8826,
          8298,
          7789
         ]
        },
        {
         "name": "--diff-algorithm=minimal",
         "type": "scatter",
         "x": [
          "openjpaproject/src/doc/manual/manual.xml",
          ".../java/openbook/tools/parser/JavaParser.java",
          ".../src/doc/manual/ref_guide_dbsetup.xml",
          "Bin",
          ".../java/org/apache/openjpa/kernel/BrokerImpl.java",
          ".../src/doc/manual/jpa_overview_query.xml",
          ".../src/doc/manual/jpa_overview_meta.xml",
          ".../src/doc/manual/ref_guide_mapping.xml",
          "openjpaproject/src/doc/manual/ref_guide_conf.xml",
          ".../org/apache/openjpa/jdbc/sql/DBDictionary.java"
         ],
         "y": [
          67857,
          20088,
          11378,
          9705,
          9522,
          9295,
          8975,
          8826,
          8298,
          7789
         ]
        }
       ],
       "layout": {
        "barmode": "group"
       }
      },
      "text/html": [
       "<div id=\"e0303d7a-2358-4b2c-8429-20b3ee8ebdc9\" style=\"height: 525px; width: 100%;\" class=\"plotly-graph-div\"></div><script type=\"text/javascript\">require([\"plotly\"], function(Plotly) { window.PLOTLYENV=window.PLOTLYENV || {};window.PLOTLYENV.BASE_URL=\"https://plot.ly\";Plotly.newPlot(\"e0303d7a-2358-4b2c-8429-20b3ee8ebdc9\", [{\"type\": \"bar\", \"x\": [\"openjpaproject/src/doc/manual/manual.xml\", \".../java/openbook/tools/parser/JavaParser.java\", \".../src/doc/manual/ref_guide_dbsetup.xml\", \"Bin\", \".../java/org/apache/openjpa/kernel/BrokerImpl.java\", \".../src/doc/manual/jpa_overview_query.xml\", \".../src/doc/manual/jpa_overview_meta.xml\", \".../src/doc/manual/ref_guide_mapping.xml\", \"openjpaproject/src/doc/manual/ref_guide_conf.xml\", \".../org/apache/openjpa/jdbc/sql/DBDictionary.java\"], \"y\": [67857.0, 20088.0, 11378.0, 9705.0, 9522.0, 9295.0, 8975.0, 8826.0, 8298.0, 7789.0], \"name\": \"--diff-algorithm=minimal\"}, {\"type\": \"scatter\", \"x\": [\"openjpaproject/src/doc/manual/manual.xml\", \".../java/openbook/tools/parser/JavaParser.java\", \".../src/doc/manual/ref_guide_dbsetup.xml\", \"Bin\", \".../java/org/apache/openjpa/kernel/BrokerImpl.java\", \".../src/doc/manual/jpa_overview_query.xml\", \".../src/doc/manual/jpa_overview_meta.xml\", \".../src/doc/manual/ref_guide_mapping.xml\", \"openjpaproject/src/doc/manual/ref_guide_conf.xml\", \".../org/apache/openjpa/jdbc/sql/DBDictionary.java\"], \"y\": [67857.0, 20088.0, 11378.0, 9705.0, 9522.0, 9295.0, 8975.0, 8826.0, 8298.0, 7789.0], \"name\": \"--diff-algorithm=minimal\"}], {\"barmode\": \"group\"}, {\"showLink\": false, \"linkText\": \"Export to plot.ly\"})});</script>"
      ],
      "text/vnd.plotly.v1+html": [
       "<div id=\"e0303d7a-2358-4b2c-8429-20b3ee8ebdc9\" style=\"height: 525px; width: 100%;\" class=\"plotly-graph-div\"></div><script type=\"text/javascript\">require([\"plotly\"], function(Plotly) { window.PLOTLYENV=window.PLOTLYENV || {};window.PLOTLYENV.BASE_URL=\"https://plot.ly\";Plotly.newPlot(\"e0303d7a-2358-4b2c-8429-20b3ee8ebdc9\", [{\"type\": \"bar\", \"x\": [\"openjpaproject/src/doc/manual/manual.xml\", \".../java/openbook/tools/parser/JavaParser.java\", \".../src/doc/manual/ref_guide_dbsetup.xml\", \"Bin\", \".../java/org/apache/openjpa/kernel/BrokerImpl.java\", \".../src/doc/manual/jpa_overview_query.xml\", \".../src/doc/manual/jpa_overview_meta.xml\", \".../src/doc/manual/ref_guide_mapping.xml\", \"openjpaproject/src/doc/manual/ref_guide_conf.xml\", \".../org/apache/openjpa/jdbc/sql/DBDictionary.java\"], \"y\": [67857.0, 20088.0, 11378.0, 9705.0, 9522.0, 9295.0, 8975.0, 8826.0, 8298.0, 7789.0], \"name\": \"--diff-algorithm=minimal\"}, {\"type\": \"scatter\", \"x\": [\"openjpaproject/src/doc/manual/manual.xml\", \".../java/openbook/tools/parser/JavaParser.java\", \".../src/doc/manual/ref_guide_dbsetup.xml\", \"Bin\", \".../java/org/apache/openjpa/kernel/BrokerImpl.java\", \".../src/doc/manual/jpa_overview_query.xml\", \".../src/doc/manual/jpa_overview_meta.xml\", \".../src/doc/manual/ref_guide_mapping.xml\", \"openjpaproject/src/doc/manual/ref_guide_conf.xml\", \".../org/apache/openjpa/jdbc/sql/DBDictionary.java\"], \"y\": [67857.0, 20088.0, 11378.0, 9705.0, 9522.0, 9295.0, 8975.0, 8826.0, 8298.0, 7789.0], \"name\": \"--diff-algorithm=minimal\"}], {\"barmode\": \"group\"}, {\"showLink\": false, \"linkText\": \"Export to plot.ly\"})});</script>"
      ]
     },
     "metadata": {},
     "output_type": "display_data"
    }
   ],
   "source": [
    "trace7 = go.Bar(\n",
    "    x=dfminimal['filename'][:10],\n",
    "    y=dfminimal['SUM #line_changed'][:10],\n",
    "    name='--diff-algorithm=minimal'\n",
    ")\n",
    "\n",
    "trace8 = go.Scatter(\n",
    "    x=dfminimal['filename'][:10],\n",
    "    y=dfminimal['SUM #line_changed'][:10],\n",
    "    name='--diff-algorithm=minimal')\n",
    "\n",
    "dt = [trace7, trace8]\n",
    "layout = go.Layout(\n",
    "    barmode='group'\n",
    ")\n",
    "\n",
    "init_notebook_mode(connected=True)\n",
    "fig = go.Figure(data=dt, layout=layout)\n",
    "iplot(fig, show_link=False)"
   ]
  },
  {
   "cell_type": "code",
   "execution_count": 40,
   "metadata": {},
   "outputs": [
    {
     "data": {
      "text/html": [
       "<script>requirejs.config({paths: { 'plotly': ['https://cdn.plot.ly/plotly-latest.min']},});if(!window.Plotly) {{require(['plotly'],function(plotly) {window.Plotly=plotly;});}}</script>"
      ],
      "text/vnd.plotly.v1+html": [
       "<script>requirejs.config({paths: { 'plotly': ['https://cdn.plot.ly/plotly-latest.min']},});if(!window.Plotly) {{require(['plotly'],function(plotly) {window.Plotly=plotly;});}}</script>"
      ]
     },
     "metadata": {},
     "output_type": "display_data"
    },
    {
     "data": {
      "application/vnd.plotly.v1+json": {
       "data": [
        {
         "name": "--diff-algorithm=myers",
         "type": "bar",
         "x": [
          "openjpaproject/src/doc/manual/manual.xml",
          ".../java/openbook/tools/parser/JavaParser.java",
          ".../src/doc/manual/ref_guide_dbsetup.xml",
          "Bin",
          ".../java/org/apache/openjpa/kernel/BrokerImpl.java",
          ".../src/doc/manual/jpa_overview_query.xml",
          ".../src/doc/manual/jpa_overview_meta.xml",
          ".../src/doc/manual/ref_guide_mapping.xml",
          "openjpaproject/src/doc/manual/ref_guide_conf.xml",
          ".../org/apache/openjpa/jdbc/sql/DBDictionary.java"
         ],
         "y": [
          67869,
          20088,
          11552,
          9705,
          9522,
          9337,
          8995,
          8826,
          8298,
          7789
         ]
        },
        {
         "name": "--diff-algorithm=histogram",
         "type": "bar",
         "x": [
          "openjpaproject/src/doc/manual/manual.xml",
          ".../java/openbook/tools/parser/JavaParser.java",
          ".../src/doc/manual/ref_guide_dbsetup.xml",
          "Bin",
          ".../src/doc/manual/jpa_overview_query.xml",
          ".../java/org/apache/openjpa/kernel/BrokerImpl.java",
          ".../src/doc/manual/jpa_overview_meta.xml",
          ".../src/doc/manual/ref_guide_mapping.xml",
          "openjpaproject/src/doc/manual/ref_guide_conf.xml",
          ".../org/apache/openjpa/jdbc/sql/DBDictionary.java"
         ],
         "y": [
          67857,
          20088,
          12746,
          9705,
          9547,
          9542,
          9413,
          8684,
          8300,
          7811
         ]
        },
        {
         "name": "--diff-algorithm=patience",
         "type": "bar",
         "x": [
          "openjpaproject/src/doc/manual/manual.xml",
          ".../java/openbook/tools/parser/JavaParser.java",
          ".../src/doc/manual/ref_guide_dbsetup.xml",
          "Bin",
          ".../java/org/apache/openjpa/kernel/BrokerImpl.java",
          ".../src/doc/manual/jpa_overview_query.xml",
          ".../src/doc/manual/jpa_overview_meta.xml",
          ".../src/doc/manual/ref_guide_mapping.xml",
          "openjpaproject/src/doc/manual/ref_guide_conf.xml",
          ".../org/apache/openjpa/jdbc/sql/DBDictionary.java"
         ],
         "y": [
          67857,
          20088,
          12120,
          9705,
          9524,
          9423,
          9351,
          8678,
          8300,
          7797
         ]
        },
        {
         "name": "--diff-algorithm=minimal",
         "type": "bar",
         "x": [
          "openjpaproject/src/doc/manual/manual.xml",
          ".../java/openbook/tools/parser/JavaParser.java",
          ".../src/doc/manual/ref_guide_dbsetup.xml",
          "Bin",
          ".../java/org/apache/openjpa/kernel/BrokerImpl.java",
          ".../src/doc/manual/jpa_overview_query.xml",
          ".../src/doc/manual/jpa_overview_meta.xml",
          ".../src/doc/manual/ref_guide_mapping.xml",
          "openjpaproject/src/doc/manual/ref_guide_conf.xml",
          ".../org/apache/openjpa/jdbc/sql/DBDictionary.java"
         ],
         "y": [
          67857,
          20088,
          11378,
          9705,
          9522,
          9295,
          8975,
          8826,
          8298,
          7789
         ]
        }
       ],
       "layout": {
        "barmode": "group"
       }
      },
      "text/html": [
       "<div id=\"24e5baba-7b5f-4fdf-8a53-0cd1fb3e2792\" style=\"height: 525px; width: 100%;\" class=\"plotly-graph-div\"></div><script type=\"text/javascript\">require([\"plotly\"], function(Plotly) { window.PLOTLYENV=window.PLOTLYENV || {};window.PLOTLYENV.BASE_URL=\"https://plot.ly\";Plotly.newPlot(\"24e5baba-7b5f-4fdf-8a53-0cd1fb3e2792\", [{\"type\": \"bar\", \"x\": [\"openjpaproject/src/doc/manual/manual.xml\", \".../java/openbook/tools/parser/JavaParser.java\", \".../src/doc/manual/ref_guide_dbsetup.xml\", \"Bin\", \".../java/org/apache/openjpa/kernel/BrokerImpl.java\", \".../src/doc/manual/jpa_overview_query.xml\", \".../src/doc/manual/jpa_overview_meta.xml\", \".../src/doc/manual/ref_guide_mapping.xml\", \"openjpaproject/src/doc/manual/ref_guide_conf.xml\", \".../org/apache/openjpa/jdbc/sql/DBDictionary.java\"], \"y\": [67869.0, 20088.0, 11552.0, 9705.0, 9522.0, 9337.0, 8995.0, 8826.0, 8298.0, 7789.0], \"name\": \"--diff-algorithm=myers\"}, {\"type\": \"bar\", \"x\": [\"openjpaproject/src/doc/manual/manual.xml\", \".../java/openbook/tools/parser/JavaParser.java\", \".../src/doc/manual/ref_guide_dbsetup.xml\", \"Bin\", \".../src/doc/manual/jpa_overview_query.xml\", \".../java/org/apache/openjpa/kernel/BrokerImpl.java\", \".../src/doc/manual/jpa_overview_meta.xml\", \".../src/doc/manual/ref_guide_mapping.xml\", \"openjpaproject/src/doc/manual/ref_guide_conf.xml\", \".../org/apache/openjpa/jdbc/sql/DBDictionary.java\"], \"y\": [67857.0, 20088.0, 12746.0, 9705.0, 9547.0, 9542.0, 9413.0, 8684.0, 8300.0, 7811.0], \"name\": \"--diff-algorithm=histogram\"}, {\"type\": \"bar\", \"x\": [\"openjpaproject/src/doc/manual/manual.xml\", \".../java/openbook/tools/parser/JavaParser.java\", \".../src/doc/manual/ref_guide_dbsetup.xml\", \"Bin\", \".../java/org/apache/openjpa/kernel/BrokerImpl.java\", \".../src/doc/manual/jpa_overview_query.xml\", \".../src/doc/manual/jpa_overview_meta.xml\", \".../src/doc/manual/ref_guide_mapping.xml\", \"openjpaproject/src/doc/manual/ref_guide_conf.xml\", \".../org/apache/openjpa/jdbc/sql/DBDictionary.java\"], \"y\": [67857.0, 20088.0, 12120.0, 9705.0, 9524.0, 9423.0, 9351.0, 8678.0, 8300.0, 7797.0], \"name\": \"--diff-algorithm=patience\"}, {\"type\": \"bar\", \"x\": [\"openjpaproject/src/doc/manual/manual.xml\", \".../java/openbook/tools/parser/JavaParser.java\", \".../src/doc/manual/ref_guide_dbsetup.xml\", \"Bin\", \".../java/org/apache/openjpa/kernel/BrokerImpl.java\", \".../src/doc/manual/jpa_overview_query.xml\", \".../src/doc/manual/jpa_overview_meta.xml\", \".../src/doc/manual/ref_guide_mapping.xml\", \"openjpaproject/src/doc/manual/ref_guide_conf.xml\", \".../org/apache/openjpa/jdbc/sql/DBDictionary.java\"], \"y\": [67857.0, 20088.0, 11378.0, 9705.0, 9522.0, 9295.0, 8975.0, 8826.0, 8298.0, 7789.0], \"name\": \"--diff-algorithm=minimal\"}], {\"barmode\": \"group\"}, {\"showLink\": false, \"linkText\": \"Export to plot.ly\"})});</script>"
      ],
      "text/vnd.plotly.v1+html": [
       "<div id=\"24e5baba-7b5f-4fdf-8a53-0cd1fb3e2792\" style=\"height: 525px; width: 100%;\" class=\"plotly-graph-div\"></div><script type=\"text/javascript\">require([\"plotly\"], function(Plotly) { window.PLOTLYENV=window.PLOTLYENV || {};window.PLOTLYENV.BASE_URL=\"https://plot.ly\";Plotly.newPlot(\"24e5baba-7b5f-4fdf-8a53-0cd1fb3e2792\", [{\"type\": \"bar\", \"x\": [\"openjpaproject/src/doc/manual/manual.xml\", \".../java/openbook/tools/parser/JavaParser.java\", \".../src/doc/manual/ref_guide_dbsetup.xml\", \"Bin\", \".../java/org/apache/openjpa/kernel/BrokerImpl.java\", \".../src/doc/manual/jpa_overview_query.xml\", \".../src/doc/manual/jpa_overview_meta.xml\", \".../src/doc/manual/ref_guide_mapping.xml\", \"openjpaproject/src/doc/manual/ref_guide_conf.xml\", \".../org/apache/openjpa/jdbc/sql/DBDictionary.java\"], \"y\": [67869.0, 20088.0, 11552.0, 9705.0, 9522.0, 9337.0, 8995.0, 8826.0, 8298.0, 7789.0], \"name\": \"--diff-algorithm=myers\"}, {\"type\": \"bar\", \"x\": [\"openjpaproject/src/doc/manual/manual.xml\", \".../java/openbook/tools/parser/JavaParser.java\", \".../src/doc/manual/ref_guide_dbsetup.xml\", \"Bin\", \".../src/doc/manual/jpa_overview_query.xml\", \".../java/org/apache/openjpa/kernel/BrokerImpl.java\", \".../src/doc/manual/jpa_overview_meta.xml\", \".../src/doc/manual/ref_guide_mapping.xml\", \"openjpaproject/src/doc/manual/ref_guide_conf.xml\", \".../org/apache/openjpa/jdbc/sql/DBDictionary.java\"], \"y\": [67857.0, 20088.0, 12746.0, 9705.0, 9547.0, 9542.0, 9413.0, 8684.0, 8300.0, 7811.0], \"name\": \"--diff-algorithm=histogram\"}, {\"type\": \"bar\", \"x\": [\"openjpaproject/src/doc/manual/manual.xml\", \".../java/openbook/tools/parser/JavaParser.java\", \".../src/doc/manual/ref_guide_dbsetup.xml\", \"Bin\", \".../java/org/apache/openjpa/kernel/BrokerImpl.java\", \".../src/doc/manual/jpa_overview_query.xml\", \".../src/doc/manual/jpa_overview_meta.xml\", \".../src/doc/manual/ref_guide_mapping.xml\", \"openjpaproject/src/doc/manual/ref_guide_conf.xml\", \".../org/apache/openjpa/jdbc/sql/DBDictionary.java\"], \"y\": [67857.0, 20088.0, 12120.0, 9705.0, 9524.0, 9423.0, 9351.0, 8678.0, 8300.0, 7797.0], \"name\": \"--diff-algorithm=patience\"}, {\"type\": \"bar\", \"x\": [\"openjpaproject/src/doc/manual/manual.xml\", \".../java/openbook/tools/parser/JavaParser.java\", \".../src/doc/manual/ref_guide_dbsetup.xml\", \"Bin\", \".../java/org/apache/openjpa/kernel/BrokerImpl.java\", \".../src/doc/manual/jpa_overview_query.xml\", \".../src/doc/manual/jpa_overview_meta.xml\", \".../src/doc/manual/ref_guide_mapping.xml\", \"openjpaproject/src/doc/manual/ref_guide_conf.xml\", \".../org/apache/openjpa/jdbc/sql/DBDictionary.java\"], \"y\": [67857.0, 20088.0, 11378.0, 9705.0, 9522.0, 9295.0, 8975.0, 8826.0, 8298.0, 7789.0], \"name\": \"--diff-algorithm=minimal\"}], {\"barmode\": \"group\"}, {\"showLink\": false, \"linkText\": \"Export to plot.ly\"})});</script>"
      ]
     },
     "metadata": {},
     "output_type": "display_data"
    }
   ],
   "source": [
    "dtcombine = [trace3, trace1, trace5, trace7]\n",
    "layout = go.Layout(\n",
    "    barmode='group'\n",
    ")\n",
    "\n",
    "init_notebook_mode(connected=True)\n",
    "fig = go.Figure(data=dtcombine, layout=layout)\n",
    "iplot(fig, show_link=False)"
   ]
  },
  {
   "cell_type": "code",
   "execution_count": null,
   "metadata": {
    "collapsed": true
   },
   "outputs": [],
   "source": []
  }
 ],
 "metadata": {
  "kernelspec": {
   "display_name": "Python 3",
   "language": "python",
   "name": "python3"
  },
  "language_info": {
   "codemirror_mode": {
    "name": "ipython",
    "version": 3
   },
   "file_extension": ".py",
   "mimetype": "text/x-python",
   "name": "python",
   "nbconvert_exporter": "python",
   "pygments_lexer": "ipython3",
   "version": "3.6.3"
  }
 },
 "nbformat": 4,
 "nbformat_minor": 2
}
