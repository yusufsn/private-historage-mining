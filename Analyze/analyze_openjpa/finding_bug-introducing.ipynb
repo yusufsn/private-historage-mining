{
 "cells": [
  {
   "cell_type": "code",
   "execution_count": 1,
   "metadata": {
    "collapsed": true
   },
   "outputs": [],
   "source": [
    "import os, glob, json, csv, subprocess, sys, re\n",
    "from git import *\n",
    "from subprocess import Popen, PIPE\n",
    "from os import path\n",
    "import pandas as pd"
   ]
  },
  {
   "cell_type": "markdown",
   "metadata": {},
   "source": [
    "# Defining repository"
   ]
  },
  {
   "cell_type": "code",
   "execution_count": 3,
   "metadata": {},
   "outputs": [],
   "source": [
    "userhome = os.path.expanduser('~')"
   ]
  },
  {
   "cell_type": "code",
   "execution_count": 4,
   "metadata": {
    "collapsed": true
   },
   "outputs": [],
   "source": [
    "repository = userhome + r'/historage-mining/historage/hbase/'"
   ]
  },
  {
   "cell_type": "markdown",
   "metadata": {},
   "source": [
    "# Defining git command function"
   ]
  },
  {
   "cell_type": "code",
   "execution_count": 5,
   "metadata": {
    "collapsed": true
   },
   "outputs": [],
   "source": [
    "def execute_command(cmd, work_dir):\n",
    "    \"\"\"Executes a shell command in a subprocess, waiting until it has completed.\n",
    " \n",
    "    :param cmd: Command to execute.\n",
    "    :param work_dir: Working directory path.\n",
    "    \"\"\"\n",
    "    pipe = subprocess.Popen(cmd, shell=True, cwd=work_dir, stdout=subprocess.PIPE, stderr=subprocess.PIPE)\n",
    "    (out, error) = pipe.communicate()\n",
    "    return out, error\n",
    "    pipe.wait()"
   ]
  },
  {
   "cell_type": "markdown",
   "metadata": {},
   "source": [
    "# Finding log messages containing bug link"
   ]
  },
  {
   "cell_type": "code",
   "execution_count": 218,
   "metadata": {},
   "outputs": [
    {
     "data": {
      "text/plain": [
       "['34c6c99041 HBASE-19811 Fix findbugs and error-prone warnings in hbase-server (branch-2) - addendum',\n",
       " 'aeffca497b HBASE-19846 Fix findbugs and error-prone warnings in hbase-rest (branch-2)',\n",
       " 'b20b45e4e8 HBASE-19845 Fix findbugs and error-prone warnings in hbase-rsgroup',\n",
       " 'd589b72382 HBASE-19847 Fix findbugs and error-prone warnings in hbase-thrift (branch-2)',\n",
       " '93a182f286 HBASE-19811 Fix findbugs and error-prone warnings in hbase-server (branch-2)',\n",
       " 'c1a8dc09d6 HBASE-19810 Fix findbugs and error-prone warnings in hbase-metrics (branch-2)',\n",
       " 'c269e63a07 HBASE-19809 Fix findbugs and error-prone warnings in hbase-procedure (branch-2)',\n",
       " 'dc5ec061b5 HBASE-19491 Improvements to Nighly runs: Fixes findbugs tests, Exclude flaky tests from master.',\n",
       " 'f9f869f60a HBASE-19497 Fix findbugs and error-prone warnings in hbase-common (branch-2) Signed-off-by: Apekshit Sharma <appy@apache.org>',\n",
       " '59529a78f0 HBASE-19498 Fix findbugs and error-prone warnings in hbase-client (branch-2)',\n",
       " \"91e1f834bf Amend HBASE-18830 TestCanaryTool does not check Canary monitor\\\\'s error code\",\n",
       " 'fb537fe736 HBASE-18723 [pom cleanup] Do a pass with dependency:analyze; remove unused and explicity list the dependencies we exploit',\n",
       " '4376233e2a HBASE-18315 Eliminate the findbugs warnings for hbase-rest',\n",
       " '3574757f74 HBASE-18308 Eliminate the findbugs warnings for hbase-server',\n",
       " 'cf636e50b9 HBASE-18365 Eliminate the findbugs warnings for hbase-common',\n",
       " 'cc4301ca08 HBASE-18268 Eliminate the findbugs warnings for hbase-client',\n",
       " '8b63eb6fc6 HBASE-18314 Eliminate the findbugs warnings for hbase-examples',\n",
       " 'f2731fc241 HBASE-18264 Update pom plugins',\n",
       " '0d4245c99e HBASE-18293 Only add the spotbugs dependency when jdk8 is active',\n",
       " '298454e8a7 HBASE-17954 Switched findbugs implementation to spotbugs',\n",
       " '3975bbd008 HBASE-14614 Procedure v2 - Core Assignment Manager (Matteo Bertozzi) Move to a new AssignmentManager, one that describes Assignment using a State Machine built on top of ProcedureV2 facility.',\n",
       " 'dc1065a85d HBASE-14614 Procedure v2 - Core Assignment Manager (Matteo Bertozzi) Move to a new AssignmentManager, one that describes Assignment using a State Machine built on top of ProcedureV2 facility.',\n",
       " 'a5ee36d937 HBASE-17326 Fix findbugs warning in BufferedMutatorParams Fix above and the other hbase-server findbugs complaint about null-check Addendum to fix complaint out of BMParams#clone. Added CN_IDIOM_NO_SUPER_CALL handling.',\n",
       " 'c3ce02d592 HBASE-17326 Fix findbugs warning in BufferedMutatorParams Fix above and the other hbase-server findbugs complaint about null-check',\n",
       " 'bbe88d942e HBASE-16944 Fix findbugs warning in hbase-server HRegion UL_UNRELEASED_LOCK',\n",
       " '0d40a52ee8 Revert \"Revert \"HBASE-16698 Performance issue: handlers stuck waiting for CountDownLatch inside WALKey#getWriteEntry under high writing workload; ADDENDUM. Fix findbugs\"\"',\n",
       " 'f555b5be9c Revert \"HBASE-16698 Performance issue: handlers stuck waiting for CountDownLatch inside WALKey#getWriteEntry under high writing workload; ADDENDUM. Fix findbugs\" Premature commit. Revert while discussion ongoing',\n",
       " 'e1923b7c0c HBASE-16698 Performance issue: handlers stuck waiting for CountDownLatch inside WALKey#getWriteEntry under high writing workload; ADDENDUM. Fix findbugs',\n",
       " '1da0a48f6b HBASE-16535 Use regex to exclude generated classes for findbugs',\n",
       " 'c11923d8aa HBASE-16456 Fix findbugs warnings in hbase-rsgroup module (Guangxu Cheng)',\n",
       " '45bb6180a3 REVERT of revert of \"HBASE-16308 Contain protobuf references Gather up the pb references into a few locations only rather than have pb references distributed all about the code base.\" This is a revert of a revert; i.e. we are adding back the change only adding back with fixes for the broken unit test; was a real issue on a test that went in just at same time as this commit; I was getting a new nonce on each retry rather than getting one for the mutation.',\n",
       " '60b79e2daa HBASE-16321 ensure no findbugs-jsr305',\n",
       " '209b6f74c7 HBASE-16317 revert all ESAPI changes',\n",
       " '4421fdf981 HBASE-16066 Resolve RpC_REPEATED_CONDITIONAL_TEST findbugs warnings in HMaster, addendum to HBASE-15467',\n",
       " '4abc602e3b HBASE-15912. REST module has 2 extent warnings in findbugs.',\n",
       " 'ac31ceb835 HBASE-15794 Fix Findbugs instanceof always true issue in MultiServerCallable',\n",
       " 'b3e71d4644 HBASE-15434 [findbugs] Exclude scala generated source and protobuf generated code in hbase-spark module',\n",
       " 'bab8d1527b HBASE-15181 Addendum fixes findbugs warning (Clara Xiong)',\n",
       " '68b300173f HBASE-15122 Servlets generate XSS_REQUEST_PARAMETER_TO_SERVLET_WRITER findbugs warnings (Samir Ahmic)',\n",
       " 'd82ae42126 Revert \"HBASE-15122 Servlets generate XSS_REQUEST_PARAMETER_TO_SERVLET_WRITER findbugs warnings (Samir Ahmic)\" Revert mistaken commit.',\n",
       " 'efc7a0d347 HBASE-15122 Servlets generate XSS_REQUEST_PARAMETER_TO_SERVLET_WRITER findbugs warnings (Samir Ahmic)',\n",
       " '2cc48e039d HBASE-15158 HBASE-15158 Preamble 1 of 2: fix findbugs, add javadoc, change Region#getReadpoint to #getReadPoint, and some util',\n",
       " \"9955118995 HBASE-15195 Don\\\\'t run findbugs on hbase-it; it has nothing in src/main/java\",\n",
       " 'f9e69b51e1 HBASE-15148 Resolve IS2_INCONSISTENT_SYNC findbugs warning in AuthenticationTokenSecretManager (Yu Li)',\n",
       " '9bf26f46d1 HBASE-15118 Fix findbugs complaint in hbase-server',\n",
       " '76bce77326 HBASE-15115 Fix findbugs complaints in hbase-client',\n",
       " 'cb17c7a97a HBASE-15117 Resolve ICAST findbugs warnings in current codes (Yu Li)',\n",
       " '83c506d9d4 HBASE-15087 Fix hbase-common findbugs complaints',\n",
       " '257df19cc3 HBASE-14100 Fix high priority findbugs warnings',\n",
       " '7dbb2e6977 HBASE-13930 Exclude Findbugs packages from shaded jars',\n",
       " '9ee184b673 HBASE-13760 Cleanup Findbugs keySet iterator warnings. (Gabor Liptak)',\n",
       " 'ced0e324a1 HBASE-13262 Observe ScanResponse.moreResults in ClientScanner.',\n",
       " '69f6a2e7b4 HBASE-13334 FindBugs should create precise report for new bugs introduced (addendum)',\n",
       " '948a6a63e8 HBASE-13334 FindBugs should create precise report for new bugs introduced',\n",
       " '6e9ded51fb HBASE-13310 Fix high priority findbugs warnings',\n",
       " 'd590f87ef4 HBASE-7126 Document how to report security bugs',\n",
       " 'eea9873cef HBASE-12985 Javadoc warning and findbugs fixes to get us green again',\n",
       " 'd436559378 HBASE-12711 Fix new findbugs warnings in hbase-thrift module (Srikanth)',\n",
       " '5cc0714840 HBASE-12559 Addendum fixes findbugs warnings',\n",
       " '0df5ed2ca6 HBASE-12550 Check all storefiles are referenced before splitting',\n",
       " \"43301167db HBASE-12145 Fix javadoc and findbugs so new folks aren\\\\'t freaked when they see them\",\n",
       " '96dcd67f56 HBASE-11514 Fix findbugs warnings in blockcache',\n",
       " '6da1a485fc HBASE-11463 (findbugs) HE: Class defines equals() and uses Object.hashCode()',\n",
       " '8f6e04c446 Add some debug and echo around findbugs generations',\n",
       " '9ff90931dc HBASE-11413 [findbugs] RV: Negating the result of compareTo()/compare() (Mike Drob)',\n",
       " '4053868e72 HBASE-11203 Clean up javadoc and findbugs warnings in trunk',\n",
       " 'bc9834426a HBASE-10624 Fix 2 new findbugs warnings introduced by HBASE-10598',\n",
       " 'f1ad5cb938 HBASE-10452 Fix potential bugs in exception handlers (Ding Yuan)',\n",
       " 'b5d161c513 HBASE-10397 Fix findbugs introduced from HBASE-9426.',\n",
       " '2124f4054d HBASE-10116 Addendum: fix findbugs warning',\n",
       " '13e9eda3e7 HBASE-9856 Fix some findbugs Performance Warnings',\n",
       " '22f54af029 HBASE-10011 Fix some findbugs in the client - addendum: set OK_FINDBUGS_WARNINGS=89',\n",
       " '35cea57fe5 HBASE-10011 Fix some findbugs in the client',\n",
       " 'ecb4b1017c HBASE-9921 stripe compaction - findbugs and javadoc issues, some improvements',\n",
       " '45a337446e HBASE-9920 Revert: total findbugs warning is higher than 87, leading to false-positive',\n",
       " 'bf2144fe60 HBASE-9003 Remove the jamon generated classes from the findbugs analysis',\n",
       " '58ee2bbf24 HBASE-9232 Fix javadoc warning and a few findbugs items',\n",
       " '466902ffde HBASE-8101 Cleanup: findbugs and javadoc warning fixes as well as making it illegal passing null row to Put/Delete, etc.',\n",
       " '1e414a4413 HBASE-7547 Fix findbugs warnings in snapshot classes (Ted Yu)',\n",
       " 'f60b8246e7 HBASE-7588 Fix two findbugs warning in MemStoreFlusher; REAPPLIED',\n",
       " 'c3e140cd14 HBASE-7588 Fix two findbugs warning in MemStoreFlusher; REVERTED',\n",
       " '3b345cd684 HBASE-7588 Fix two findbugs warning in MemStoreFlusher',\n",
       " 'bda467aeca HBASE-7587. Fix two findbugs warnings in RowResource (Jean-Marc Spaggiari)',\n",
       " '5c8c3d0a8c HBASE-7586 Fix two findbugs warnings to get our count down to the tolerated number again',\n",
       " '6b97306c1e HBASE-7512 Document the findbugs library annotation',\n",
       " '4e0af48fe4 HBASE-7508 Fix simple findbugs',\n",
       " '4409ba741c HBASE-7443 More findbugs fixes - addendum - fix compilation error',\n",
       " '92c98a76d1 HBASE-7443 More findbugs fixes',\n",
       " '9fac4877d3 HBASE-5598 Analyse and fix the findbugs reporting by QA and add invalid bugs into findbugs-excludeFilter file',\n",
       " '1725705a47 HBASE-7036 Exclude org.apache.hadoop.hbase.coprocessor.example.generated package from findbugs check (Anoop)',\n",
       " '8c393a32a8 HBASE-6848 Make hbase-hadoop-compat findbugs clean',\n",
       " '62154f1a1a HBASE-6138 HadoopQA not running findbugs [Trunk] (Anoop Sam John)',\n",
       " 'c8b61833f7 HBASE-5652 [findbugs] Fix lock release on all paths (Gregory Channan)',\n",
       " 'b854d1efb1 HBASE-5654 [findbugs] Address dodgy bugs (Ashutosh Jindal)',\n",
       " '8575edd908 HBASE-5645 [findbugs] Fix correctness warnings (David S Wang and Uma Maheswara Rao G)',\n",
       " 'b7844d9dd0 HBASE-5653 [findbugs] Fix perf warnings (Uma Maheswara Rao G)',\n",
       " 'be245101ac HBASE-5644 [findbugs] Fix null pointer warnings (Uma Maheswara Rao G)',\n",
       " '81b15f1907 HBASE-5598 [findbugs] Exclude Protobuf warnings from wire compat patches',\n",
       " '4d5ca12a0f HBASE-5642 [findbugs] Exclude Thrift and Protobuf warnings (Uma Maheswara Rao G)',\n",
       " '3fd6997380 HBASE-5596 Few minor bugs from HBASE-5209 (David S. Wang)',\n",
       " '5856e90720 HBASE-5597 Findbugs check in test-patch.sh always fails',\n",
       " '2314945b8b HBASE-5567 test-patch.sh has logic error in findbugs check',\n",
       " '0f708f7370 HBASE-5439 Fix some performance findbugs issues (Gregory Chanan)',\n",
       " '7e87980347 HBASE-4005 close_region bugs',\n",
       " 'f84ff410bd HBASE-3290 fix #2. Fixes bugs found with major compaction logic for threshold files & major compaction jitter generation encountered during testing.',\n",
       " '83258ba826 Changes to findbugs config. to make it work w/ hudson',\n",
       " '7a8f4c08e3 HBASE-2139 findbugs task in build.xml',\n",
       " '8bc2888278 HBASE-2140 findbugs issues - 2 performance warnings as suggested by findbugs',\n",
       " 'e2f7f90e00 HBASE-2090 findbugs issues',\n",
       " '094a2030f0 HBASE-1245 hfile meta block handling bugs',\n",
       " 'a1f8ee8ac1 HBASE-552   Bloom filter bugs (Andrzej Bialecki via Jim Kellerman)',\n",
       " 'fddd62e6c5 HBASE-697 thrift idl needs update/edit to match new 0.2 API (and to fix bugs)',\n",
       " 'e30ed932bb HBASE-697 thrift idl needs update/edit to match new 0.2 API (and to fix bugs)',\n",
       " '79b3b1c6b2 HADOOP-2004 [hbase] webapp hql formatting bugs',\n",
       " '1756a22f03 HADOOP-1746 Clean up findbugs warnings',\n",
       " '19099c98b1 HADOOP-1420, HADOOP-1423. Findbugs changes, remove reference to removed class HLocking that broke main build.']"
      ]
     },
     "execution_count": 218,
     "metadata": {},
     "output_type": "execute_result"
    }
   ],
   "source": [
    "git_cmd = \"git log --grep='bugs' --oneline\"\n",
    "com_log = (str(execute_command(git_cmd, repository)).replace(\"b'\",'').replace('(','',1).split(\"\\\\n\"))[:-1]\n",
    "\n",
    "com_log"
   ]
  },
  {
   "cell_type": "code",
   "execution_count": 219,
   "metadata": {},
   "outputs": [
    {
     "name": "stdout",
     "output_type": "stream",
     "text": [
      "['34c6c99041', 'HBASE-19811 Fix findbugs and error-prone warnings in hbase-server (branch-2) - addendum']\n",
      "['aeffca497b', 'HBASE-19846 Fix findbugs and error-prone warnings in hbase-rest (branch-2)']\n",
      "['b20b45e4e8', 'HBASE-19845 Fix findbugs and error-prone warnings in hbase-rsgroup']\n",
      "['d589b72382', 'HBASE-19847 Fix findbugs and error-prone warnings in hbase-thrift (branch-2)']\n",
      "['93a182f286', 'HBASE-19811 Fix findbugs and error-prone warnings in hbase-server (branch-2)']\n",
      "['c1a8dc09d6', 'HBASE-19810 Fix findbugs and error-prone warnings in hbase-metrics (branch-2)']\n",
      "['c269e63a07', 'HBASE-19809 Fix findbugs and error-prone warnings in hbase-procedure (branch-2)']\n",
      "['dc5ec061b5', 'HBASE-19491 Improvements to Nighly runs: Fixes findbugs tests, Exclude flaky tests from master.']\n",
      "['f9f869f60a', 'HBASE-19497 Fix findbugs and error-prone warnings in hbase-common (branch-2) Signed-off-by: Apekshit Sharma <appy@apache.org>']\n",
      "['59529a78f0', 'HBASE-19498 Fix findbugs and error-prone warnings in hbase-client (branch-2)']\n",
      "['91e1f834bf', \"Amend HBASE-18830 TestCanaryTool does not check Canary monitor\\\\'s error code\"]\n",
      "['fb537fe736', 'HBASE-18723 [pom cleanup] Do a pass with dependency:analyze; remove unused and explicity list the dependencies we exploit']\n",
      "['4376233e2a', 'HBASE-18315 Eliminate the findbugs warnings for hbase-rest']\n",
      "['3574757f74', 'HBASE-18308 Eliminate the findbugs warnings for hbase-server']\n",
      "['cf636e50b9', 'HBASE-18365 Eliminate the findbugs warnings for hbase-common']\n",
      "['cc4301ca08', 'HBASE-18268 Eliminate the findbugs warnings for hbase-client']\n",
      "['8b63eb6fc6', 'HBASE-18314 Eliminate the findbugs warnings for hbase-examples']\n",
      "['f2731fc241', 'HBASE-18264 Update pom plugins']\n",
      "['0d4245c99e', 'HBASE-18293 Only add the spotbugs dependency when jdk8 is active']\n",
      "['298454e8a7', 'HBASE-17954 Switched findbugs implementation to spotbugs']\n",
      "['3975bbd008', 'HBASE-14614 Procedure v2 - Core Assignment Manager (Matteo Bertozzi) Move to a new AssignmentManager, one that describes Assignment using a State Machine built on top of ProcedureV2 facility.']\n",
      "['dc1065a85d', 'HBASE-14614 Procedure v2 - Core Assignment Manager (Matteo Bertozzi) Move to a new AssignmentManager, one that describes Assignment using a State Machine built on top of ProcedureV2 facility.']\n",
      "['a5ee36d937', 'HBASE-17326 Fix findbugs warning in BufferedMutatorParams Fix above and the other hbase-server findbugs complaint about null-check Addendum to fix complaint out of BMParams#clone. Added CN_IDIOM_NO_SUPER_CALL handling.']\n",
      "['c3ce02d592', 'HBASE-17326 Fix findbugs warning in BufferedMutatorParams Fix above and the other hbase-server findbugs complaint about null-check']\n",
      "['bbe88d942e', 'HBASE-16944 Fix findbugs warning in hbase-server HRegion UL_UNRELEASED_LOCK']\n",
      "['0d40a52ee8', 'Revert \"Revert \"HBASE-16698 Performance issue: handlers stuck waiting for CountDownLatch inside WALKey#getWriteEntry under high writing workload; ADDENDUM. Fix findbugs\"\"']\n",
      "['f555b5be9c', 'Revert \"HBASE-16698 Performance issue: handlers stuck waiting for CountDownLatch inside WALKey#getWriteEntry under high writing workload; ADDENDUM. Fix findbugs\" Premature commit. Revert while discussion ongoing']\n",
      "['e1923b7c0c', 'HBASE-16698 Performance issue: handlers stuck waiting for CountDownLatch inside WALKey#getWriteEntry under high writing workload; ADDENDUM. Fix findbugs']\n",
      "['1da0a48f6b', 'HBASE-16535 Use regex to exclude generated classes for findbugs']\n",
      "['c11923d8aa', 'HBASE-16456 Fix findbugs warnings in hbase-rsgroup module (Guangxu Cheng)']\n",
      "['45bb6180a3', 'REVERT of revert of \"HBASE-16308 Contain protobuf references Gather up the pb references into a few locations only rather than have pb references distributed all about the code base.\" This is a revert of a revert; i.e. we are adding back the change only adding back with fixes for the broken unit test; was a real issue on a test that went in just at same time as this commit; I was getting a new nonce on each retry rather than getting one for the mutation.']\n",
      "['60b79e2daa', 'HBASE-16321 ensure no findbugs-jsr305']\n",
      "['209b6f74c7', 'HBASE-16317 revert all ESAPI changes']\n",
      "['4421fdf981', 'HBASE-16066 Resolve RpC_REPEATED_CONDITIONAL_TEST findbugs warnings in HMaster, addendum to HBASE-15467']\n",
      "['4abc602e3b', 'HBASE-15912. REST module has 2 extent warnings in findbugs.']\n",
      "['ac31ceb835', 'HBASE-15794 Fix Findbugs instanceof always true issue in MultiServerCallable']\n",
      "['b3e71d4644', 'HBASE-15434 [findbugs] Exclude scala generated source and protobuf generated code in hbase-spark module']\n",
      "['bab8d1527b', 'HBASE-15181 Addendum fixes findbugs warning (Clara Xiong)']\n",
      "['68b300173f', 'HBASE-15122 Servlets generate XSS_REQUEST_PARAMETER_TO_SERVLET_WRITER findbugs warnings (Samir Ahmic)']\n",
      "['d82ae42126', 'Revert \"HBASE-15122 Servlets generate XSS_REQUEST_PARAMETER_TO_SERVLET_WRITER findbugs warnings (Samir Ahmic)\" Revert mistaken commit.']\n",
      "['efc7a0d347', 'HBASE-15122 Servlets generate XSS_REQUEST_PARAMETER_TO_SERVLET_WRITER findbugs warnings (Samir Ahmic)']\n",
      "['2cc48e039d', 'HBASE-15158 HBASE-15158 Preamble 1 of 2: fix findbugs, add javadoc, change Region#getReadpoint to #getReadPoint, and some util']\n",
      "['9955118995', \"HBASE-15195 Don\\\\'t run findbugs on hbase-it; it has nothing in src/main/java\"]\n",
      "['f9e69b51e1', 'HBASE-15148 Resolve IS2_INCONSISTENT_SYNC findbugs warning in AuthenticationTokenSecretManager (Yu Li)']\n",
      "['9bf26f46d1', 'HBASE-15118 Fix findbugs complaint in hbase-server']\n",
      "['76bce77326', 'HBASE-15115 Fix findbugs complaints in hbase-client']\n",
      "['cb17c7a97a', 'HBASE-15117 Resolve ICAST findbugs warnings in current codes (Yu Li)']\n",
      "['83c506d9d4', 'HBASE-15087 Fix hbase-common findbugs complaints']\n",
      "['257df19cc3', 'HBASE-14100 Fix high priority findbugs warnings']\n",
      "['7dbb2e6977', 'HBASE-13930 Exclude Findbugs packages from shaded jars']\n",
      "['9ee184b673', 'HBASE-13760 Cleanup Findbugs keySet iterator warnings. (Gabor Liptak)']\n",
      "['ced0e324a1', 'HBASE-13262 Observe ScanResponse.moreResults in ClientScanner.']\n",
      "['69f6a2e7b4', 'HBASE-13334 FindBugs should create precise report for new bugs introduced (addendum)']\n",
      "['948a6a63e8', 'HBASE-13334 FindBugs should create precise report for new bugs introduced']\n",
      "['6e9ded51fb', 'HBASE-13310 Fix high priority findbugs warnings']\n",
      "['d590f87ef4', 'HBASE-7126 Document how to report security bugs']\n",
      "['eea9873cef', 'HBASE-12985 Javadoc warning and findbugs fixes to get us green again']\n",
      "['d436559378', 'HBASE-12711 Fix new findbugs warnings in hbase-thrift module (Srikanth)']\n",
      "['5cc0714840', 'HBASE-12559 Addendum fixes findbugs warnings']\n",
      "['0df5ed2ca6', 'HBASE-12550 Check all storefiles are referenced before splitting']\n",
      "['43301167db', \"HBASE-12145 Fix javadoc and findbugs so new folks aren\\\\'t freaked when they see them\"]\n",
      "['96dcd67f56', 'HBASE-11514 Fix findbugs warnings in blockcache']\n",
      "['6da1a485fc', 'HBASE-11463 (findbugs) HE: Class defines equals() and uses Object.hashCode()']\n",
      "['8f6e04c446', 'Add some debug and echo around findbugs generations']\n",
      "['9ff90931dc', 'HBASE-11413 [findbugs] RV: Negating the result of compareTo()/compare() (Mike Drob)']\n",
      "['4053868e72', 'HBASE-11203 Clean up javadoc and findbugs warnings in trunk']\n",
      "['bc9834426a', 'HBASE-10624 Fix 2 new findbugs warnings introduced by HBASE-10598']\n",
      "['f1ad5cb938', 'HBASE-10452 Fix potential bugs in exception handlers (Ding Yuan)']\n",
      "['b5d161c513', 'HBASE-10397 Fix findbugs introduced from HBASE-9426.']\n",
      "['2124f4054d', 'HBASE-10116 Addendum: fix findbugs warning']\n",
      "['13e9eda3e7', 'HBASE-9856 Fix some findbugs Performance Warnings']\n",
      "['22f54af029', 'HBASE-10011 Fix some findbugs in the client - addendum: set OK_FINDBUGS_WARNINGS=89']\n",
      "['35cea57fe5', 'HBASE-10011 Fix some findbugs in the client']\n",
      "['ecb4b1017c', 'HBASE-9921 stripe compaction - findbugs and javadoc issues, some improvements']\n",
      "['45a337446e', 'HBASE-9920 Revert: total findbugs warning is higher than 87, leading to false-positive']\n",
      "['bf2144fe60', 'HBASE-9003 Remove the jamon generated classes from the findbugs analysis']\n",
      "['58ee2bbf24', 'HBASE-9232 Fix javadoc warning and a few findbugs items']\n",
      "['466902ffde', 'HBASE-8101 Cleanup: findbugs and javadoc warning fixes as well as making it illegal passing null row to Put/Delete, etc.']\n",
      "['1e414a4413', 'HBASE-7547 Fix findbugs warnings in snapshot classes (Ted Yu)']\n",
      "['f60b8246e7', 'HBASE-7588 Fix two findbugs warning in MemStoreFlusher; REAPPLIED']\n",
      "['c3e140cd14', 'HBASE-7588 Fix two findbugs warning in MemStoreFlusher; REVERTED']\n",
      "['3b345cd684', 'HBASE-7588 Fix two findbugs warning in MemStoreFlusher']\n",
      "['bda467aeca', 'HBASE-7587. Fix two findbugs warnings in RowResource (Jean-Marc Spaggiari)']\n",
      "['5c8c3d0a8c', 'HBASE-7586 Fix two findbugs warnings to get our count down to the tolerated number again']\n",
      "['6b97306c1e', 'HBASE-7512 Document the findbugs library annotation']\n",
      "['4e0af48fe4', 'HBASE-7508 Fix simple findbugs']\n",
      "['4409ba741c', 'HBASE-7443 More findbugs fixes - addendum - fix compilation error']\n",
      "['92c98a76d1', 'HBASE-7443 More findbugs fixes']\n",
      "['9fac4877d3', 'HBASE-5598 Analyse and fix the findbugs reporting by QA and add invalid bugs into findbugs-excludeFilter file']\n",
      "['1725705a47', 'HBASE-7036 Exclude org.apache.hadoop.hbase.coprocessor.example.generated package from findbugs check (Anoop)']\n",
      "['8c393a32a8', 'HBASE-6848 Make hbase-hadoop-compat findbugs clean']\n",
      "['62154f1a1a', 'HBASE-6138 HadoopQA not running findbugs [Trunk] (Anoop Sam John)']\n",
      "['c8b61833f7', 'HBASE-5652 [findbugs] Fix lock release on all paths (Gregory Channan)']\n",
      "['b854d1efb1', 'HBASE-5654 [findbugs] Address dodgy bugs (Ashutosh Jindal)']\n",
      "['8575edd908', 'HBASE-5645 [findbugs] Fix correctness warnings (David S Wang and Uma Maheswara Rao G)']\n",
      "['b7844d9dd0', 'HBASE-5653 [findbugs] Fix perf warnings (Uma Maheswara Rao G)']\n",
      "['be245101ac', 'HBASE-5644 [findbugs] Fix null pointer warnings (Uma Maheswara Rao G)']\n",
      "['81b15f1907', 'HBASE-5598 [findbugs] Exclude Protobuf warnings from wire compat patches']\n",
      "['4d5ca12a0f', 'HBASE-5642 [findbugs] Exclude Thrift and Protobuf warnings (Uma Maheswara Rao G)']\n",
      "['3fd6997380', 'HBASE-5596 Few minor bugs from HBASE-5209 (David S. Wang)']\n",
      "['5856e90720', 'HBASE-5597 Findbugs check in test-patch.sh always fails']\n",
      "['2314945b8b', 'HBASE-5567 test-patch.sh has logic error in findbugs check']\n",
      "['0f708f7370', 'HBASE-5439 Fix some performance findbugs issues (Gregory Chanan)']\n",
      "['7e87980347', 'HBASE-4005 close_region bugs']\n",
      "['f84ff410bd', 'HBASE-3290 fix #2. Fixes bugs found with major compaction logic for threshold files & major compaction jitter generation encountered during testing.']\n",
      "['83258ba826', 'Changes to findbugs config. to make it work w/ hudson']\n",
      "['7a8f4c08e3', 'HBASE-2139 findbugs task in build.xml']\n",
      "['8bc2888278', 'HBASE-2140 findbugs issues - 2 performance warnings as suggested by findbugs']\n",
      "['e2f7f90e00', 'HBASE-2090 findbugs issues']\n",
      "['094a2030f0', 'HBASE-1245 hfile meta block handling bugs']\n",
      "['a1f8ee8ac1', 'HBASE-552 Bloom filter bugs (Andrzej Bialecki via Jim Kellerman)']\n",
      "['fddd62e6c5', 'HBASE-697 thrift idl needs update/edit to match new 0.2 API (and to fix bugs)']\n",
      "['e30ed932bb', 'HBASE-697 thrift idl needs update/edit to match new 0.2 API (and to fix bugs)']\n",
      "['79b3b1c6b2', 'HADOOP-2004 [hbase] webapp hql formatting bugs']\n",
      "['1756a22f03', 'HADOOP-1746 Clean up findbugs warnings']\n",
      "['19099c98b1', 'HADOOP-1420, HADOOP-1423. Findbugs changes, remove reference to removed class HLocking that broke main build.']\n"
     ]
    }
   ],
   "source": [
    "commit = []\n",
    "for xx in range(0,len(com_log)):\n",
    "    tmp = []\n",
    "    comm = com_log[xx].split()\n",
    "    word = ' '.join(comm[1:len(comm)])\n",
    "    tmp.extend([comm[0],word])\n",
    "    commit.append(tmp)\n",
    "\n",
    "for item in commit:\n",
    "    print (item)"
   ]
  },
  {
   "cell_type": "code",
   "execution_count": 221,
   "metadata": {},
   "outputs": [
    {
     "data": {
      "text/plain": [
       "['bc9834426a HBASE-10624 Fix 2 new findbugs warnings introduced by HBASE-10598',\n",
       " 'c6236a57a5 HBASE-10598 Written data can not be read out because MemStore#timeRangeTracker might be updated concurrently (cuijianwei)']"
      ]
     },
     "execution_count": 221,
     "metadata": {},
     "output_type": "execute_result"
    }
   ],
   "source": [
    "git_cmd = \"git log --grep='HBASE-10598' --oneline\"\n",
    "com_log = (str(execute_command(git_cmd, repository)).replace(\"b'\",'').replace('(','',1).split(\"\\\\n\"))[:-1]\n",
    "\n",
    "com_log"
   ]
  },
  {
   "cell_type": "code",
   "execution_count": 214,
   "metadata": {},
   "outputs": [
    {
     "name": "stdout",
     "output_type": "stream",
     "text": [
      "bc9834426a HBASE-10624 Fix 2 new findbugs warnings introduced by HBASE-10598\n"
     ]
    }
   ],
   "source": [
    "for x in range(0,len(com_log)-1):\n",
    "    if \"HBASE-10598\" in (str(com_log[x]).split()[-1:]):\n",
    "        print(com_log[x])"
   ]
  },
  {
   "cell_type": "code",
   "execution_count": 223,
   "metadata": {},
   "outputs": [
    {
     "data": {
      "text/plain": [
       "['HBASE-10624']"
      ]
     },
     "execution_count": 223,
     "metadata": {},
     "output_type": "execute_result"
    }
   ],
   "source": [
    "str(com_log[0]).split()[1:2]"
   ]
  },
  {
   "cell_type": "code",
   "execution_count": 227,
   "metadata": {},
   "outputs": [
    {
     "data": {
      "text/plain": [
       "['HBASE-10598']"
      ]
     },
     "execution_count": 227,
     "metadata": {},
     "output_type": "execute_result"
    }
   ],
   "source": [
    "(str(com_log[0]).split())[-1:]"
   ]
  },
  {
   "cell_type": "code",
   "execution_count": null,
   "metadata": {
    "collapsed": true
   },
   "outputs": [],
   "source": []
  }
 ],
 "metadata": {
  "kernelspec": {
   "display_name": "Python 3",
   "language": "python",
   "name": "python3"
  },
  "language_info": {
   "codemirror_mode": {
    "name": "ipython",
    "version": 3
   },
   "file_extension": ".py",
   "mimetype": "text/x-python",
   "name": "python",
   "nbconvert_exporter": "python",
   "pygments_lexer": "ipython3",
   "version": "3.6.3"
  }
 },
 "nbformat": 4,
 "nbformat_minor": 2
}
