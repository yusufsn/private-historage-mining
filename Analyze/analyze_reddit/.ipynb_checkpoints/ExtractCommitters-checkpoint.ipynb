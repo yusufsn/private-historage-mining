{
 "cells": [
  {
   "cell_type": "markdown",
   "metadata": {},
   "source": [
    "# Import Libraries"
   ]
  },
  {
   "cell_type": "code",
   "execution_count": null,
   "metadata": {},
   "outputs": [],
   "source": [
    "import os, glob, json, sys, subprocess"
   ]
  },
  {
   "cell_type": "markdown",
   "metadata": {},
   "source": [
    "# Create Directory List to Text File"
   ]
  },
  {
   "cell_type": "code",
   "execution_count": null,
   "metadata": {},
   "outputs": [],
   "source": [
    "userhome = os.path.expanduser('~')\n",
    "dir_list = glob.glob(userhome + r'/historage-mining/historage/reddit/*')\n",
    "print(\"Found \"+str(len(dir_list))+\" dir\")"
   ]
  },
  {
   "cell_type": "code",
   "execution_count": null,
   "metadata": {},
   "outputs": [],
   "source": [
    "with open(\"dir_list.txt\", mode=\"wt\", encoding=\"utf-8\") as myfile:\n",
    "    myfile.write('\\n'.join(dir_list))\n",
    "print(\"File dir_list.txt has been created\")"
   ]
  },
  {
   "cell_type": "markdown",
   "metadata": {},
   "source": [
    "# Load Directory List from Text File"
   ]
  },
  {
   "cell_type": "code",
   "execution_count": null,
   "metadata": {},
   "outputs": [],
   "source": [
    "#load all file names in directory\n",
    "text_file = open(\"dir_list.txt\", \"r\")\n",
    "dir_list = text_file.read().split('\\n')\n",
    "print(\"Found \"+str(len(dir_list))+\" dir\")"
   ]
  },
  {
   "cell_type": "code",
   "execution_count": null,
   "metadata": {},
   "outputs": [],
   "source": [
    "proj = {}"
   ]
  },
  {
   "cell_type": "code",
   "execution_count": null,
   "metadata": {},
   "outputs": [],
   "source": [
    "for i in range(0, len(dir_list)):\n",
    "    try:\n",
    "        dirs = dir_list[i]\n",
    "        os.chdir(dirs)\n",
    "        p = subprocess.Popen('git log --pretty=%cE --until=\"2017-01-31\" | sort | uniq -c | sort',\n",
    "                            shell=True, stdout=subprocess.PIPE, stderr=subprocess.STDOUT)\n",
    "        dir_name = str(dir_list[i]).replace(userhome + r\"/historage-mining/historage/reddit/\",\"\")\n",
    "        proj[dir_name] = []\n",
    "        out = p.stdout.readlines()\n",
    "        sys.stdout.write(\"\\rExtracting features from files : %i\" % (i+1))\n",
    "        sys.stdout.flush()\n",
    "        if out != []:\n",
    "            for line in out:\n",
    "                temp = line\n",
    "                temp2 = str(temp).replace(\"b'\",\"\").replace(\"\\\\n'\",\"\").replace(\"  \",\"\").split(' ')\n",
    "                if '' == temp2[0]:\n",
    "                    temp2.remove(temp2[0])\n",
    "                proj[dir_name].append({\n",
    "                    'com_num': temp2[0],\n",
    "                    'email': str(temp2[1])\n",
    "                })\n",
    "            retval = p.wait()\n",
    "        else:\n",
    "            proj[dir_name].append({\n",
    "                'com_num': 0,\n",
    "                'email': \"-\"\n",
    "            })\n",
    "    except Exception as e:\n",
    "        print(\" --> Found error on \" + str(dir_list[i]).replace(userhome + r\"/historage-mining/historage/reddit/\",\"\"))"
   ]
  },
  {
   "cell_type": "code",
   "execution_count": null,
   "metadata": {},
   "outputs": [],
   "source": [
    "with open(userhome + r'/historage-mining/result/reddit/committer_allyear.json', 'w') as fp:\n",
    "    json.dump(proj, fp)\n",
    "print(\"File committer.json has been created\")"
   ]
  },
  {
   "cell_type": "code",
   "execution_count": null,
   "metadata": {},
   "outputs": [],
   "source": [
    "temp"
   ]
  }
 ],
 "metadata": {
  "kernelspec": {
   "display_name": "Python 3",
   "language": "python",
   "name": "python3"
  },
  "language_info": {
   "codemirror_mode": {
    "name": "ipython",
    "version": 3
   },
   "file_extension": ".py",
   "mimetype": "text/x-python",
   "name": "python",
   "nbconvert_exporter": "python",
   "pygments_lexer": "ipython3",
   "version": "3.6.3"
  }
 },
 "nbformat": 4,
 "nbformat_minor": 2
}
